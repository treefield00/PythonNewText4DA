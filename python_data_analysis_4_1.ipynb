{
  "nbformat": 4,
  "nbformat_minor": 0,
  "metadata": {
    "colab": {
      "provenance": [],
      "toc_visible": true,
      "authorship_tag": "ABX9TyPP/1p3uKkewu4Fr05hG3YH",
      "include_colab_link": true
    },
    "kernelspec": {
      "name": "python3",
      "display_name": "Python 3"
    }
  },
  "cells": [
    {
      "cell_type": "markdown",
      "metadata": {
        "id": "view-in-github",
        "colab_type": "text"
      },
      "source": [
        "<a href=\"https://colab.research.google.com/github/treefield00/PythonNewText4DA/blob/main/python_data_analysis_4_1.ipynb\" target=\"_parent\"><img src=\"https://colab.research.google.com/assets/colab-badge.svg\" alt=\"Open In Colab\"/></a>"
      ]
    },
    {
      "cell_type": "markdown",
      "metadata": {
        "id": "8LO9MSfQvq_x"
      },
      "source": [
        "# ■Chapter4 ライブラリによる分析の実践"
      ]
    },
    {
      "cell_type": "markdown",
      "metadata": {
        "id": "j_RHUxUVurlF"
      },
      "source": [
        "---"
      ]
    },
    {
      "cell_type": "markdown",
      "metadata": {
        "id": "GHupxqFcuYZv"
      },
      "source": [
        "# ▶︎4.1 NumPy"
      ]
    },
    {
      "cell_type": "markdown",
      "metadata": {
        "id": "sXXfzly-wTye"
      },
      "source": [
        "## ▶︎4.1.2　NumPyでデータを扱う"
      ]
    },
    {
      "cell_type": "markdown",
      "metadata": {
        "id": "PN-u9v50vXQt"
      },
      "source": [
        "### ●1次元配列"
      ]
    },
    {
      "cell_type": "code",
      "metadata": {
        "id": "0WdyMTwjuftx"
      },
      "source": [
        "import numpy as np"
      ],
      "execution_count": null,
      "outputs": []
    },
    {
      "cell_type": "code",
      "metadata": {
        "colab": {
          "base_uri": "https://localhost:8080/"
        },
        "id": "3_q6c6MUvcOB",
        "outputId": "828d2bc4-e15a-441f-eeac-3c8e80409ecc"
      },
      "source": [
        "a = np.array([1, 2, 3])\n",
        "a"
      ],
      "execution_count": null,
      "outputs": [
        {
          "output_type": "execute_result",
          "data": {
            "text/plain": [
              "array([1, 2, 3])"
            ]
          },
          "metadata": {
            "tags": []
          },
          "execution_count": 25
        }
      ]
    },
    {
      "cell_type": "code",
      "metadata": {
        "colab": {
          "base_uri": "https://localhost:8080/"
        },
        "id": "qWvFXfAawwIG",
        "outputId": "293cb18f-1d23-4f69-b4d7-c5e7cc688913"
      },
      "source": [
        "print(a)\n",
        "print(type(a))\n",
        "print(a.shape)"
      ],
      "execution_count": null,
      "outputs": [
        {
          "output_type": "stream",
          "text": [
            "[1 2 3]\n",
            "<class 'numpy.ndarray'>\n",
            "(3,)\n"
          ],
          "name": "stdout"
        }
      ]
    },
    {
      "cell_type": "markdown",
      "metadata": {
        "id": "RqEIrSma9fmP"
      },
      "source": [
        "### ●2次元配列"
      ]
    },
    {
      "cell_type": "code",
      "metadata": {
        "colab": {
          "base_uri": "https://localhost:8080/"
        },
        "id": "InHWFwNp886C",
        "outputId": "9e9dad9e-4a71-449b-c516-79b2a9d300f9"
      },
      "source": [
        "b = np.array([[1,2,3],[4,5,6]])\n",
        "b"
      ],
      "execution_count": null,
      "outputs": [
        {
          "output_type": "execute_result",
          "data": {
            "text/plain": [
              "array([[1, 2, 3],\n",
              "       [4, 5, 6]])"
            ]
          },
          "metadata": {
            "tags": []
          },
          "execution_count": 26
        }
      ]
    },
    {
      "cell_type": "code",
      "metadata": {
        "colab": {
          "base_uri": "https://localhost:8080/"
        },
        "id": "wlZPZ7Rv9tfk",
        "outputId": "b1da38eb-513f-45ec-b271-52ed29087440"
      },
      "source": [
        "b.shape"
      ],
      "execution_count": null,
      "outputs": [
        {
          "output_type": "execute_result",
          "data": {
            "text/plain": [
              "(2, 3)"
            ]
          },
          "metadata": {
            "tags": []
          },
          "execution_count": 33
        }
      ]
    },
    {
      "cell_type": "markdown",
      "metadata": {
        "id": "onv6sBir97LF"
      },
      "source": [
        "### ●変形　reshape"
      ]
    },
    {
      "cell_type": "code",
      "metadata": {
        "colab": {
          "base_uri": "https://localhost:8080/"
        },
        "id": "4HUqm6zo93Xn",
        "outputId": "8105e571-d2bc-4774-90dc-8b49aa89a3a7"
      },
      "source": [
        "c1 = np.array([0,1,2,3,4,5])\n",
        "c1"
      ],
      "execution_count": null,
      "outputs": [
        {
          "output_type": "execute_result",
          "data": {
            "text/plain": [
              "array([0, 1, 2, 3, 4, 5])"
            ]
          },
          "metadata": {
            "tags": []
          },
          "execution_count": 34
        }
      ]
    },
    {
      "cell_type": "code",
      "metadata": {
        "colab": {
          "base_uri": "https://localhost:8080/"
        },
        "id": "_BAkEXCC-Ja_",
        "outputId": "da5390e9-9462-4d6b-a7b5-dd1395788098"
      },
      "source": [
        "c2 = c1.reshape((2,3))\n",
        "c2"
      ],
      "execution_count": null,
      "outputs": [
        {
          "output_type": "execute_result",
          "data": {
            "text/plain": [
              "array([[0, 1, 2],\n",
              "       [3, 4, 5]])"
            ]
          },
          "metadata": {
            "tags": []
          },
          "execution_count": 36
        }
      ]
    },
    {
      "cell_type": "code",
      "metadata": {
        "colab": {
          "base_uri": "https://localhost:8080/"
        },
        "id": "mVa1ov8o-TP_",
        "outputId": "980a90fa-1e46-405f-f10a-8d82828eeb88"
      },
      "source": [
        "# ravelは参照を返す\n",
        "\n",
        "c3 = c2.ravel()\n",
        "c3"
      ],
      "execution_count": null,
      "outputs": [
        {
          "output_type": "execute_result",
          "data": {
            "text/plain": [
              "array([0, 1, 2, 3, 4, 5])"
            ]
          },
          "metadata": {
            "tags": []
          },
          "execution_count": 37
        }
      ]
    },
    {
      "cell_type": "code",
      "metadata": {
        "colab": {
          "base_uri": "https://localhost:8080/"
        },
        "id": "uyjw5jty-fGD",
        "outputId": "080ed234-8ce6-4781-92c3-248e737499b7"
      },
      "source": [
        "# flattenはコピーを返す\n",
        "\n",
        "c4 = c2.flatten()\n",
        "c4"
      ],
      "execution_count": null,
      "outputs": [
        {
          "output_type": "execute_result",
          "data": {
            "text/plain": [
              "array([0, 1, 2, 3, 4, 5])"
            ]
          },
          "metadata": {
            "tags": []
          },
          "execution_count": 38
        }
      ]
    },
    {
      "cell_type": "markdown",
      "metadata": {
        "id": "Idm4WylL_M_3"
      },
      "source": [
        "### ●データ型　dtype  \n",
        "NumPy配列の要素のデータ型"
      ]
    },
    {
      "cell_type": "code",
      "metadata": {
        "colab": {
          "base_uri": "https://localhost:8080/"
        },
        "id": "CXGaVzrU-oXQ",
        "outputId": "1162e17c-bbd9-43bc-f79c-7b12803c43ae"
      },
      "source": [
        "a.dtype"
      ],
      "execution_count": null,
      "outputs": [
        {
          "output_type": "execute_result",
          "data": {
            "text/plain": [
              "dtype('int64')"
            ]
          },
          "metadata": {
            "tags": []
          },
          "execution_count": 41
        }
      ]
    },
    {
      "cell_type": "code",
      "metadata": {
        "colab": {
          "base_uri": "https://localhost:8080/"
        },
        "id": "MmhLQWKe_j37",
        "outputId": "58722bb6-519a-4d7f-f1cd-9aec146f61f5"
      },
      "source": [
        "d = np.array([1,2], dtype=np.int16)\n",
        "d"
      ],
      "execution_count": null,
      "outputs": [
        {
          "output_type": "execute_result",
          "data": {
            "text/plain": [
              "array([1, 2], dtype=int16)"
            ]
          },
          "metadata": {
            "tags": []
          },
          "execution_count": 42
        }
      ]
    },
    {
      "cell_type": "code",
      "metadata": {
        "colab": {
          "base_uri": "https://localhost:8080/"
        },
        "id": "QK9Fk7IABJ2Z",
        "outputId": "14873427-35e7-4c6a-97cf-4b090bd2158e"
      },
      "source": [
        "d.dtype"
      ],
      "execution_count": null,
      "outputs": [
        {
          "output_type": "execute_result",
          "data": {
            "text/plain": [
              "dtype('int16')"
            ]
          },
          "metadata": {
            "tags": []
          },
          "execution_count": 43
        }
      ]
    },
    {
      "cell_type": "code",
      "metadata": {
        "colab": {
          "base_uri": "https://localhost:8080/"
        },
        "id": "2TQ5y2jVBNTG",
        "outputId": "b826f632-e371-4dd8-b343-edfe050e836d"
      },
      "source": [
        "d.astype(np.float16)"
      ],
      "execution_count": null,
      "outputs": [
        {
          "output_type": "execute_result",
          "data": {
            "text/plain": [
              "array([1., 2.], dtype=float16)"
            ]
          },
          "metadata": {
            "tags": []
          },
          "execution_count": 44
        }
      ]
    },
    {
      "cell_type": "markdown",
      "metadata": {
        "id": "XAC85fjABdes"
      },
      "source": [
        "### ●インデックスとスライス"
      ]
    },
    {
      "cell_type": "code",
      "metadata": {
        "colab": {
          "base_uri": "https://localhost:8080/"
        },
        "id": "Z7GG7jVIBa3K",
        "outputId": "2195d911-6f67-4136-b5dd-2f0b2af66c28"
      },
      "source": [
        "a"
      ],
      "execution_count": null,
      "outputs": [
        {
          "output_type": "execute_result",
          "data": {
            "text/plain": [
              "array([1, 2, 3])"
            ]
          },
          "metadata": {
            "tags": []
          },
          "execution_count": 45
        }
      ]
    },
    {
      "cell_type": "code",
      "metadata": {
        "colab": {
          "base_uri": "https://localhost:8080/"
        },
        "id": "clTAXqhHCLco",
        "outputId": "f0c925da-eaa6-4273-bcf8-370943743123"
      },
      "source": [
        "a[0]"
      ],
      "execution_count": null,
      "outputs": [
        {
          "output_type": "execute_result",
          "data": {
            "text/plain": [
              "1"
            ]
          },
          "metadata": {
            "tags": []
          },
          "execution_count": 46
        }
      ]
    },
    {
      "cell_type": "code",
      "metadata": {
        "colab": {
          "base_uri": "https://localhost:8080/"
        },
        "id": "ldkffZIFCO56",
        "outputId": "975bfef5-12a4-4d89-da36-d373e8ea27ec"
      },
      "source": [
        "a[1:]"
      ],
      "execution_count": null,
      "outputs": [
        {
          "output_type": "execute_result",
          "data": {
            "text/plain": [
              "array([2, 3])"
            ]
          },
          "metadata": {
            "tags": []
          },
          "execution_count": 47
        }
      ]
    },
    {
      "cell_type": "code",
      "metadata": {
        "colab": {
          "base_uri": "https://localhost:8080/"
        },
        "id": "otFtQPHvCYo7",
        "outputId": "bcb27ed4-0b16-4bdb-c67f-8cd1afbd7a53"
      },
      "source": [
        "a[-1]"
      ],
      "execution_count": null,
      "outputs": [
        {
          "output_type": "execute_result",
          "data": {
            "text/plain": [
              "3"
            ]
          },
          "metadata": {
            "tags": []
          },
          "execution_count": 48
        }
      ]
    },
    {
      "cell_type": "code",
      "metadata": {
        "colab": {
          "base_uri": "https://localhost:8080/"
        },
        "id": "uazR7a8uCq_C",
        "outputId": "77ce67ee-8523-440d-c950-e3119dbfe8c6"
      },
      "source": [
        "b"
      ],
      "execution_count": null,
      "outputs": [
        {
          "output_type": "execute_result",
          "data": {
            "text/plain": [
              "array([[1, 2, 3],\n",
              "       [4, 5, 6]])"
            ]
          },
          "metadata": {
            "tags": []
          },
          "execution_count": 49
        }
      ]
    },
    {
      "cell_type": "code",
      "metadata": {
        "colab": {
          "base_uri": "https://localhost:8080/"
        },
        "id": "9PmW0NnECuk1",
        "outputId": "99c164db-edd9-470a-8c9b-721f073b1517"
      },
      "source": [
        "b[0]"
      ],
      "execution_count": null,
      "outputs": [
        {
          "output_type": "execute_result",
          "data": {
            "text/plain": [
              "array([1, 2, 3])"
            ]
          },
          "metadata": {
            "tags": []
          },
          "execution_count": 50
        }
      ]
    },
    {
      "cell_type": "code",
      "metadata": {
        "colab": {
          "base_uri": "https://localhost:8080/"
        },
        "id": "PJFzHkDlCzaz",
        "outputId": "6d2d70a5-fb13-4f68-8b2c-acdd764cda82"
      },
      "source": [
        "b[1,0]"
      ],
      "execution_count": null,
      "outputs": [
        {
          "output_type": "execute_result",
          "data": {
            "text/plain": [
              "4"
            ]
          },
          "metadata": {
            "tags": []
          },
          "execution_count": 51
        }
      ]
    },
    {
      "cell_type": "code",
      "metadata": {
        "colab": {
          "base_uri": "https://localhost:8080/"
        },
        "id": "cANdQwEJC9Kx",
        "outputId": "5450212f-181c-496d-b254-88df2ee516f3"
      },
      "source": [
        "b[:,2]"
      ],
      "execution_count": null,
      "outputs": [
        {
          "output_type": "execute_result",
          "data": {
            "text/plain": [
              "array([3, 6])"
            ]
          },
          "metadata": {
            "tags": []
          },
          "execution_count": 52
        }
      ]
    },
    {
      "cell_type": "code",
      "metadata": {
        "colab": {
          "base_uri": "https://localhost:8080/"
        },
        "id": "sjvGOPAaDIwW",
        "outputId": "b4546537-c0b6-4f34-a053-f21012d23536"
      },
      "source": [
        "b[1,:]"
      ],
      "execution_count": null,
      "outputs": [
        {
          "output_type": "execute_result",
          "data": {
            "text/plain": [
              "array([4, 5, 6])"
            ]
          },
          "metadata": {
            "tags": []
          },
          "execution_count": 53
        }
      ]
    },
    {
      "cell_type": "code",
      "metadata": {
        "colab": {
          "base_uri": "https://localhost:8080/"
        },
        "id": "QVdKH6PnD20A",
        "outputId": "d1a4778a-7db2-4267-96eb-d5d339d90ade"
      },
      "source": [
        "b[0,1:]"
      ],
      "execution_count": null,
      "outputs": [
        {
          "output_type": "execute_result",
          "data": {
            "text/plain": [
              "array([2, 3])"
            ]
          },
          "metadata": {
            "tags": []
          },
          "execution_count": 54
        }
      ]
    },
    {
      "cell_type": "code",
      "metadata": {
        "colab": {
          "base_uri": "https://localhost:8080/"
        },
        "id": "Y3-LgzU7D-bB",
        "outputId": "07a2b5d2-9fa6-44f9-b21b-3150cb8587fe"
      },
      "source": [
        "b[:,[0,2]]"
      ],
      "execution_count": null,
      "outputs": [
        {
          "output_type": "execute_result",
          "data": {
            "text/plain": [
              "array([[1, 3],\n",
              "       [4, 6]])"
            ]
          },
          "metadata": {
            "tags": []
          },
          "execution_count": 58
        }
      ]
    },
    {
      "cell_type": "code",
      "metadata": {
        "colab": {
          "base_uri": "https://localhost:8080/"
        },
        "id": "5_Qy8jHtEKZb",
        "outputId": "66fa01d1-e53d-442f-cba9-9a4bcbd7d12e"
      },
      "source": [
        "b[:,[2,1]]"
      ],
      "execution_count": null,
      "outputs": [
        {
          "output_type": "execute_result",
          "data": {
            "text/plain": [
              "array([[3, 2],\n",
              "       [6, 5]])"
            ]
          },
          "metadata": {
            "tags": []
          },
          "execution_count": 59
        }
      ]
    },
    {
      "cell_type": "markdown",
      "metadata": {
        "id": "IlHUvFFEEcRO"
      },
      "source": [
        "### ●データ再代入"
      ]
    },
    {
      "cell_type": "code",
      "metadata": {
        "colab": {
          "base_uri": "https://localhost:8080/"
        },
        "id": "eOHCqKMFEY_R",
        "outputId": "be8b2dcc-9bfb-47db-c5c2-1708217e3f5f"
      },
      "source": [
        "a"
      ],
      "execution_count": null,
      "outputs": [
        {
          "output_type": "execute_result",
          "data": {
            "text/plain": [
              "array([1, 2, 3])"
            ]
          },
          "metadata": {
            "tags": []
          },
          "execution_count": 60
        }
      ]
    },
    {
      "cell_type": "code",
      "metadata": {
        "colab": {
          "base_uri": "https://localhost:8080/"
        },
        "id": "1nn_LE2kEjEk",
        "outputId": "5bda9577-546d-4a35-e034-15f3715104b4"
      },
      "source": [
        "a[2] = 4\n",
        "a"
      ],
      "execution_count": null,
      "outputs": [
        {
          "output_type": "execute_result",
          "data": {
            "text/plain": [
              "array([1, 2, 4])"
            ]
          },
          "metadata": {
            "tags": []
          },
          "execution_count": 61
        }
      ]
    },
    {
      "cell_type": "code",
      "metadata": {
        "colab": {
          "base_uri": "https://localhost:8080/"
        },
        "id": "5CF3wbk7EpFZ",
        "outputId": "acb10ac0-74e7-4607-8c9f-e3ba563c13c8"
      },
      "source": [
        "b"
      ],
      "execution_count": null,
      "outputs": [
        {
          "output_type": "execute_result",
          "data": {
            "text/plain": [
              "array([[1, 2, 3],\n",
              "       [4, 5, 6]])"
            ]
          },
          "metadata": {
            "tags": []
          },
          "execution_count": 62
        }
      ]
    },
    {
      "cell_type": "code",
      "metadata": {
        "colab": {
          "base_uri": "https://localhost:8080/"
        },
        "id": "b9k7vwlyErTa",
        "outputId": "cd0daf00-768f-4d31-9845-bc4572eea229"
      },
      "source": [
        "b[1,2] = 7\n",
        "b"
      ],
      "execution_count": null,
      "outputs": [
        {
          "output_type": "execute_result",
          "data": {
            "text/plain": [
              "array([[1, 2, 3],\n",
              "       [4, 5, 7]])"
            ]
          },
          "metadata": {
            "tags": []
          },
          "execution_count": 63
        }
      ]
    },
    {
      "cell_type": "code",
      "metadata": {
        "colab": {
          "base_uri": "https://localhost:8080/"
        },
        "id": "8sGEZwsuE1wh",
        "outputId": "41424097-ff91-46d2-8319-b77524834aab"
      },
      "source": [
        "b[:,2] = 8\n",
        "b"
      ],
      "execution_count": null,
      "outputs": [
        {
          "output_type": "execute_result",
          "data": {
            "text/plain": [
              "array([[1, 2, 8],\n",
              "       [4, 5, 8]])"
            ]
          },
          "metadata": {
            "tags": []
          },
          "execution_count": 65
        }
      ]
    },
    {
      "cell_type": "markdown",
      "metadata": {
        "id": "n90zj1q9FHZP"
      },
      "source": [
        "### ●深いコピー　copy"
      ]
    },
    {
      "cell_type": "code",
      "metadata": {
        "colab": {
          "base_uri": "https://localhost:8080/"
        },
        "id": "OsoGQkdGFBa1",
        "outputId": "27366e4f-47a0-44ae-b7ae-449615874b16"
      },
      "source": [
        "# 参照\n",
        "a1 = a\n",
        "a1"
      ],
      "execution_count": null,
      "outputs": [
        {
          "output_type": "execute_result",
          "data": {
            "text/plain": [
              "array([1, 2, 4])"
            ]
          },
          "metadata": {
            "tags": []
          },
          "execution_count": 66
        }
      ]
    },
    {
      "cell_type": "code",
      "metadata": {
        "colab": {
          "base_uri": "https://localhost:8080/"
        },
        "id": "Kv-IwdvRFZwQ",
        "outputId": "628474df-0f02-487f-c6a2-ef0cf41ca347"
      },
      "source": [
        "a1[1] = 5\n",
        "a1"
      ],
      "execution_count": null,
      "outputs": [
        {
          "output_type": "execute_result",
          "data": {
            "text/plain": [
              "array([1, 5, 4])"
            ]
          },
          "metadata": {
            "tags": []
          },
          "execution_count": 67
        }
      ]
    },
    {
      "cell_type": "code",
      "metadata": {
        "colab": {
          "base_uri": "https://localhost:8080/"
        },
        "id": "j0OLuJ8iFgE9",
        "outputId": "f32fe727-b17c-49e2-9b51-2b8595f4b0e0"
      },
      "source": [
        "a"
      ],
      "execution_count": null,
      "outputs": [
        {
          "output_type": "execute_result",
          "data": {
            "text/plain": [
              "array([1, 5, 4])"
            ]
          },
          "metadata": {
            "tags": []
          },
          "execution_count": 68
        }
      ]
    },
    {
      "cell_type": "code",
      "metadata": {
        "colab": {
          "base_uri": "https://localhost:8080/"
        },
        "id": "Q6ziKSyOFiTg",
        "outputId": "2db97beb-13fd-4495-bf35-ac0a42ba59c3"
      },
      "source": [
        "# コピー\n",
        "\n",
        "a2 = a.copy()\n",
        "a2"
      ],
      "execution_count": null,
      "outputs": [
        {
          "output_type": "execute_result",
          "data": {
            "text/plain": [
              "array([1, 5, 4])"
            ]
          },
          "metadata": {
            "tags": []
          },
          "execution_count": 69
        }
      ]
    },
    {
      "cell_type": "code",
      "metadata": {
        "colab": {
          "base_uri": "https://localhost:8080/"
        },
        "id": "TmOPYy4zF5LG",
        "outputId": "c20d5f77-bfb2-4db0-fad8-aa2b98b6e02e"
      },
      "source": [
        "a2[0] = 6\n",
        "a2"
      ],
      "execution_count": null,
      "outputs": [
        {
          "output_type": "execute_result",
          "data": {
            "text/plain": [
              "array([6, 5, 4])"
            ]
          },
          "metadata": {
            "tags": []
          },
          "execution_count": 70
        }
      ]
    },
    {
      "cell_type": "code",
      "metadata": {
        "colab": {
          "base_uri": "https://localhost:8080/"
        },
        "id": "y6FBzR9sGBWn",
        "outputId": "2b5b0b3f-2004-4e7c-f73f-e1b77492975d"
      },
      "source": [
        "a"
      ],
      "execution_count": null,
      "outputs": [
        {
          "output_type": "execute_result",
          "data": {
            "text/plain": [
              "array([1, 5, 4])"
            ]
          },
          "metadata": {
            "tags": []
          },
          "execution_count": 71
        }
      ]
    },
    {
      "cell_type": "code",
      "metadata": {
        "colab": {
          "base_uri": "https://localhost:8080/"
        },
        "id": "ZXrPGnvUGCrN",
        "outputId": "7ae8236d-0f27-443a-d569-66fe100c65c2"
      },
      "source": [
        "c2"
      ],
      "execution_count": null,
      "outputs": [
        {
          "output_type": "execute_result",
          "data": {
            "text/plain": [
              "array([[0, 1, 2],\n",
              "       [3, 4, 5]])"
            ]
          },
          "metadata": {
            "tags": []
          },
          "execution_count": 72
        }
      ]
    },
    {
      "cell_type": "code",
      "metadata": {
        "id": "e0pXoJW6Gmm1"
      },
      "source": [
        "c3 = c2.ravel()\n",
        "c4 = c2.flatten()\n",
        "c3[0] = 6\n",
        "c4[1] = 7"
      ],
      "execution_count": null,
      "outputs": []
    },
    {
      "cell_type": "code",
      "metadata": {
        "colab": {
          "base_uri": "https://localhost:8080/"
        },
        "id": "W56P1Qu9HAJl",
        "outputId": "d882a5bc-70b8-4125-9efa-0067ff51acaa"
      },
      "source": [
        "c3"
      ],
      "execution_count": null,
      "outputs": [
        {
          "output_type": "execute_result",
          "data": {
            "text/plain": [
              "array([6, 1, 2, 3, 4, 5])"
            ]
          },
          "metadata": {
            "tags": []
          },
          "execution_count": 74
        }
      ]
    },
    {
      "cell_type": "code",
      "metadata": {
        "colab": {
          "base_uri": "https://localhost:8080/"
        },
        "id": "gejuUUpRHBQm",
        "outputId": "353380a9-3b6e-4ebe-9577-cd9ced406f16"
      },
      "source": [
        "c4"
      ],
      "execution_count": null,
      "outputs": [
        {
          "output_type": "execute_result",
          "data": {
            "text/plain": [
              "array([0, 7, 2, 3, 4, 5])"
            ]
          },
          "metadata": {
            "tags": []
          },
          "execution_count": 75
        }
      ]
    },
    {
      "cell_type": "code",
      "metadata": {
        "colab": {
          "base_uri": "https://localhost:8080/"
        },
        "id": "DtIXHDsnHDQ1",
        "outputId": "f64b8263-6af7-4c09-a164-fe33473316e7"
      },
      "source": [
        "# C3の影響\n",
        "# ravel　参照　flatten コピー\n",
        "\n",
        "c2"
      ],
      "execution_count": null,
      "outputs": [
        {
          "output_type": "execute_result",
          "data": {
            "text/plain": [
              "array([[6, 1, 2],\n",
              "       [3, 4, 5]])"
            ]
          },
          "metadata": {
            "tags": []
          },
          "execution_count": 76
        }
      ]
    },
    {
      "cell_type": "code",
      "metadata": {
        "colab": {
          "base_uri": "https://localhost:8080/"
        },
        "id": "TsxkXzG5HIIm",
        "outputId": "bcaef8c2-af51-4a6c-ae19-6be499b87db9"
      },
      "source": [
        "# Python標準のlistでは、スライスした結果はコピーが渡される\n",
        "# NumPyではスライスに結果は、参照が渡される\n",
        "\n",
        "py_list1 = [0,1]\n",
        "py_list2 = py_list1[:]\n",
        "py_list2[0] = 2\n",
        "print(py_list1)\n",
        "print(py_list2)"
      ],
      "execution_count": null,
      "outputs": [
        {
          "output_type": "stream",
          "text": [
            "[0, 1]\n",
            "[2, 1]\n"
          ],
          "name": "stdout"
        }
      ]
    },
    {
      "cell_type": "code",
      "metadata": {
        "colab": {
          "base_uri": "https://localhost:8080/"
        },
        "id": "beUF_QrOIykO",
        "outputId": "8b7c6ea9-53d8-46cd-85a2-46a583420fcb"
      },
      "source": [
        "np_array1 = np.array([0,1])\n",
        "np_array2 = np_array1[:]\n",
        "np_array2[0] = 2\n",
        "print(np_array1)\n",
        "print(np_array2)"
      ],
      "execution_count": null,
      "outputs": [
        {
          "output_type": "stream",
          "text": [
            "[2 1]\n",
            "[2 1]\n"
          ],
          "name": "stdout"
        }
      ]
    },
    {
      "cell_type": "markdown",
      "metadata": {
        "id": "vemGX7dzJZ16"
      },
      "source": [
        "### ●数列を返す　arange"
      ]
    },
    {
      "cell_type": "code",
      "metadata": {
        "colab": {
          "base_uri": "https://localhost:8080/"
        },
        "id": "pshN-5ogJTMB",
        "outputId": "e718add6-a598-4454-ca15-2a46dc305d1b"
      },
      "source": [
        "import numpy as np\n",
        "np.arange(10)"
      ],
      "execution_count": null,
      "outputs": [
        {
          "output_type": "execute_result",
          "data": {
            "text/plain": [
              "array([0, 1, 2, 3, 4, 5, 6, 7, 8, 9])"
            ]
          },
          "metadata": {
            "tags": []
          },
          "execution_count": 1
        }
      ]
    },
    {
      "cell_type": "code",
      "metadata": {
        "colab": {
          "base_uri": "https://localhost:8080/"
        },
        "id": "wub_z6TzJmCn",
        "outputId": "79e36738-e3a2-4746-d155-54678f4350e8"
      },
      "source": [
        "np.arange(1,11)"
      ],
      "execution_count": null,
      "outputs": [
        {
          "output_type": "execute_result",
          "data": {
            "text/plain": [
              "array([ 1,  2,  3,  4,  5,  6,  7,  8,  9, 10])"
            ]
          },
          "metadata": {
            "tags": []
          },
          "execution_count": 2
        }
      ]
    },
    {
      "cell_type": "code",
      "metadata": {
        "colab": {
          "base_uri": "https://localhost:8080/"
        },
        "id": "a_KDhi3lKae2",
        "outputId": "30ab61fa-3b17-45ec-b1f9-b62528bd6026"
      },
      "source": [
        "np.arange(1,11,2)"
      ],
      "execution_count": null,
      "outputs": [
        {
          "output_type": "execute_result",
          "data": {
            "text/plain": [
              "array([1, 3, 5, 7, 9])"
            ]
          },
          "metadata": {
            "tags": []
          },
          "execution_count": 3
        }
      ]
    },
    {
      "cell_type": "code",
      "metadata": {
        "colab": {
          "base_uri": "https://localhost:8080/"
        },
        "id": "U6O_SctFQiiZ",
        "outputId": "9154e6f1-0bdb-45f6-e05a-2bf80606e1aa"
      },
      "source": [
        "np.arange(11, 1, -2)"
      ],
      "execution_count": null,
      "outputs": [
        {
          "output_type": "execute_result",
          "data": {
            "text/plain": [
              "array([11,  9,  7,  5,  3])"
            ]
          },
          "metadata": {
            "tags": []
          },
          "execution_count": 6
        }
      ]
    },
    {
      "cell_type": "code",
      "metadata": {
        "colab": {
          "base_uri": "https://localhost:8080/"
        },
        "id": "8Fqpu0JNQ_Jj",
        "outputId": "b8106e2e-ba03-48be-b56d-155c615f3988"
      },
      "source": [
        "list(range(11,1,-2))"
      ],
      "execution_count": null,
      "outputs": [
        {
          "output_type": "execute_result",
          "data": {
            "text/plain": [
              "[11, 9, 7, 5, 3]"
            ]
          },
          "metadata": {
            "tags": []
          },
          "execution_count": 9
        }
      ]
    },
    {
      "cell_type": "markdown",
      "metadata": {
        "id": "LT0cCYloK7re"
      },
      "source": [
        "### ●乱数"
      ]
    },
    {
      "cell_type": "code",
      "metadata": {
        "colab": {
          "base_uri": "https://localhost:8080/"
        },
        "id": "avvGaLDWK5TN",
        "outputId": "66683ba7-6351-4cc3-da8d-8b509322827a"
      },
      "source": [
        "# 一様分布\n",
        "# random関数　ranf = random = sample = random_sample\n",
        "# 引数　行と列のタプル\n",
        "# [0,1)の乱数\n",
        "import numpy as np\n",
        "\n",
        "f = np.random.random((3,2))\n",
        "f"
      ],
      "execution_count": null,
      "outputs": [
        {
          "output_type": "execute_result",
          "data": {
            "text/plain": [
              "array([[0.06586048, 0.1168417 ],\n",
              "       [0.64328504, 0.41929615],\n",
              "       [0.47519446, 0.62351682]])"
            ]
          },
          "metadata": {
            "tags": []
          },
          "execution_count": 1
        }
      ]
    },
    {
      "cell_type": "code",
      "metadata": {
        "colab": {
          "base_uri": "https://localhost:8080/"
        },
        "id": "2KkNk2Q3Ewgc",
        "outputId": "8c76aaf8-1327-4691-eba5-3907af2ea790"
      },
      "source": [
        "np.random.random(1)"
      ],
      "execution_count": null,
      "outputs": [
        {
          "output_type": "execute_result",
          "data": {
            "text/plain": [
              "array([0.73679638])"
            ]
          },
          "metadata": {
            "tags": []
          },
          "execution_count": 2
        }
      ]
    },
    {
      "cell_type": "code",
      "metadata": {
        "colab": {
          "base_uri": "https://localhost:8080/"
        },
        "id": "3LW9_1wwFKwL",
        "outputId": "de6bfd6c-0cb1-42b2-e470-7cd4270910ff"
      },
      "source": [
        "np.random.random((1))"
      ],
      "execution_count": null,
      "outputs": [
        {
          "output_type": "execute_result",
          "data": {
            "text/plain": [
              "array([0.48981029])"
            ]
          },
          "metadata": {
            "tags": []
          },
          "execution_count": 3
        }
      ]
    },
    {
      "cell_type": "code",
      "metadata": {
        "colab": {
          "base_uri": "https://localhost:8080/"
        },
        "id": "qCf3kTGPFSeg",
        "outputId": "27f3cfbf-cb76-4c5d-d9cc-49c0eba4bc60"
      },
      "source": [
        "np.random.random((1,))"
      ],
      "execution_count": null,
      "outputs": [
        {
          "output_type": "execute_result",
          "data": {
            "text/plain": [
              "array([0.05127517])"
            ]
          },
          "metadata": {
            "tags": []
          },
          "execution_count": 4
        }
      ]
    },
    {
      "cell_type": "code",
      "metadata": {
        "colab": {
          "base_uri": "https://localhost:8080/"
        },
        "id": "DJyY7FVYP0O2",
        "outputId": "0288101d-e79f-4e1b-bac9-d63b87f37321"
      },
      "source": [
        "# 一様分布\n",
        "# 乱数のシード\n",
        "\n",
        "np.random.seed(123)\n",
        "np.random.random((3,2))"
      ],
      "execution_count": null,
      "outputs": [
        {
          "output_type": "execute_result",
          "data": {
            "text/plain": [
              "array([[0.69646919, 0.28613933],\n",
              "       [0.22685145, 0.55131477],\n",
              "       [0.71946897, 0.42310646]])"
            ]
          },
          "metadata": {
            "tags": []
          },
          "execution_count": 88
        }
      ]
    },
    {
      "cell_type": "code",
      "metadata": {
        "colab": {
          "base_uri": "https://localhost:8080/"
        },
        "id": "b98-9HTdQoKU",
        "outputId": "5a49737d-bc95-4f87-b8b4-18f671ada770"
      },
      "source": [
        "# 一様分布\n",
        "# rand関数\n",
        "# 引数　２つ\n",
        "# [0,1)の乱数\n",
        "\n",
        "np.random.seed(123)\n",
        "np.random.rand(4,2)"
      ],
      "execution_count": null,
      "outputs": [
        {
          "output_type": "execute_result",
          "data": {
            "text/plain": [
              "array([[0.69646919, 0.28613933],\n",
              "       [0.22685145, 0.55131477],\n",
              "       [0.71946897, 0.42310646],\n",
              "       [0.9807642 , 0.68482974]])"
            ]
          },
          "metadata": {
            "tags": []
          },
          "execution_count": 89
        }
      ]
    },
    {
      "cell_type": "code",
      "metadata": {
        "colab": {
          "base_uri": "https://localhost:8080/"
        },
        "id": "afkx-UXiFj3Y",
        "outputId": "1109bf49-ebe5-40da-d1ca-4f335708bfb4"
      },
      "source": [
        "np.random.rand(4)"
      ],
      "execution_count": null,
      "outputs": [
        {
          "output_type": "execute_result",
          "data": {
            "text/plain": [
              "array([0.03778406, 0.67944405, 0.60977544, 0.83135851])"
            ]
          },
          "metadata": {
            "tags": []
          },
          "execution_count": 5
        }
      ]
    },
    {
      "cell_type": "code",
      "metadata": {
        "colab": {
          "base_uri": "https://localhost:8080/"
        },
        "id": "Fc0RsYqVFpzN",
        "outputId": "d1ccf072-4aca-4a59-8e1b-deeb2f00f762"
      },
      "source": [
        "np.random.rand(4,2,3)"
      ],
      "execution_count": null,
      "outputs": [
        {
          "output_type": "execute_result",
          "data": {
            "text/plain": [
              "array([[[0.73547691, 0.70547709, 0.58549241],\n",
              "        [0.30825284, 0.32759523, 0.87272205]],\n",
              "\n",
              "       [[0.21113446, 0.12931197, 0.39722243],\n",
              "        [0.08717575, 0.88532229, 0.14982142]],\n",
              "\n",
              "       [[0.07483647, 0.82484169, 0.63847477],\n",
              "        [0.83372957, 0.9325541 , 0.59640435]],\n",
              "\n",
              "       [[0.20976708, 0.47535353, 0.80818366],\n",
              "        [0.56188439, 0.12782389, 0.45753145]]])"
            ]
          },
          "metadata": {
            "tags": []
          },
          "execution_count": 6
        }
      ]
    },
    {
      "cell_type": "code",
      "metadata": {
        "colab": {
          "base_uri": "https://localhost:8080/"
        },
        "id": "mhVyh9T1ROWe",
        "outputId": "4273a7de-f583-4f5d-be55-48a5a4b4beaf"
      },
      "source": [
        "# 一様分布\n",
        "# randint関数\n",
        "# ある範囲内の任意の整数を生成　low < high\n",
        "\n",
        "np.random.seed(123)\n",
        "np.random.randint(1,10)"
      ],
      "execution_count": null,
      "outputs": [
        {
          "output_type": "execute_result",
          "data": {
            "text/plain": [
              "3"
            ]
          },
          "metadata": {
            "tags": []
          },
          "execution_count": 92
        }
      ]
    },
    {
      "cell_type": "code",
      "metadata": {
        "colab": {
          "base_uri": "https://localhost:8080/",
          "height": 232
        },
        "id": "m2CEDJMzF0e-",
        "outputId": "658ee758-366f-4cc9-a89f-367f5be0edad"
      },
      "source": [
        "# error 引数大小が逆\n",
        "np.random.randint(10,1)"
      ],
      "execution_count": null,
      "outputs": [
        {
          "output_type": "error",
          "ename": "ValueError",
          "evalue": "ignored",
          "traceback": [
            "\u001b[0;31m---------------------------------------------------------------------------\u001b[0m",
            "\u001b[0;31mValueError\u001b[0m                                Traceback (most recent call last)",
            "\u001b[0;32m<ipython-input-7-a78a2e585fa3>\u001b[0m in \u001b[0;36m<module>\u001b[0;34m()\u001b[0m\n\u001b[0;32m----> 1\u001b[0;31m \u001b[0mnp\u001b[0m\u001b[0;34m.\u001b[0m\u001b[0mrandom\u001b[0m\u001b[0;34m.\u001b[0m\u001b[0mrandint\u001b[0m\u001b[0;34m(\u001b[0m\u001b[0;36m10\u001b[0m\u001b[0;34m,\u001b[0m\u001b[0;36m1\u001b[0m\u001b[0;34m)\u001b[0m\u001b[0;34m\u001b[0m\u001b[0;34m\u001b[0m\u001b[0m\n\u001b[0m",
            "\u001b[0;32mmtrand.pyx\u001b[0m in \u001b[0;36mnumpy.random.mtrand.RandomState.randint\u001b[0;34m()\u001b[0m\n",
            "\u001b[0;32m_bounded_integers.pyx\u001b[0m in \u001b[0;36mnumpy.random._bounded_integers._rand_int64\u001b[0;34m()\u001b[0m\n",
            "\u001b[0;31mValueError\u001b[0m: low >= high"
          ]
        }
      ]
    },
    {
      "cell_type": "code",
      "metadata": {
        "colab": {
          "base_uri": "https://localhost:8080/"
        },
        "id": "UBt_rmLzRmQj",
        "outputId": "6503fdcb-2eff-47fb-dc0c-80d30f696832"
      },
      "source": [
        "# 一様分布\n",
        "# 第３引数　タプル\n",
        "# 多次元配列\n",
        "\n",
        "np.random.seed(123)\n",
        "np.random.randint(1,10,(3,3))"
      ],
      "execution_count": null,
      "outputs": [
        {
          "output_type": "execute_result",
          "data": {
            "text/plain": [
              "array([[3, 3, 7],\n",
              "       [2, 4, 7],\n",
              "       [2, 1, 2]])"
            ]
          },
          "metadata": {
            "tags": []
          },
          "execution_count": 22
        }
      ]
    },
    {
      "cell_type": "code",
      "metadata": {
        "colab": {
          "base_uri": "https://localhost:8080/"
        },
        "id": "qNE1LOOhMb-s",
        "outputId": "c8a2a664-c69d-4d93-b52f-3fa56513e5d6"
      },
      "source": [
        "np.random.seed(123)\n",
        "np.random.randint(10, size =(3,3))"
      ],
      "execution_count": null,
      "outputs": [
        {
          "output_type": "execute_result",
          "data": {
            "text/plain": [
              "array([[2, 2, 6],\n",
              "       [1, 3, 9],\n",
              "       [6, 1, 0]])"
            ]
          },
          "metadata": {
            "tags": []
          },
          "execution_count": 23
        }
      ]
    },
    {
      "cell_type": "code",
      "metadata": {
        "colab": {
          "base_uri": "https://localhost:8080/"
        },
        "id": "13qm4gnESB78",
        "outputId": "2a58a448-0973-4544-e8c8-fb79b6da2421"
      },
      "source": [
        "# 一様分布\n",
        "# uniform関数　ランダムな少数値\n",
        "# [第一引数, 第二引数)\n",
        "\n",
        "np.random.seed(123)\n",
        "np.random.uniform(0.0,5.0,size=(2,3))"
      ],
      "execution_count": null,
      "outputs": [
        {
          "output_type": "execute_result",
          "data": {
            "text/plain": [
              "array([[3.48234593, 1.43069667, 1.13425727],\n",
              "       [2.75657385, 3.59734485, 2.1155323 ]])"
            ]
          },
          "metadata": {
            "tags": []
          },
          "execution_count": 99
        }
      ]
    },
    {
      "cell_type": "code",
      "metadata": {
        "colab": {
          "base_uri": "https://localhost:8080/"
        },
        "id": "gj_xBlK-TWh9",
        "outputId": "fcc475dd-b164-4a49-e3bb-5b0df8719530"
      },
      "source": [
        "# 一様分布\n",
        "# 第１引数と第２引数を省略すると\n",
        "# デフォルト[0.0,1.0)\n",
        "\n",
        "np.random.seed(123)\n",
        "np.random.uniform(size=(4,3))"
      ],
      "execution_count": null,
      "outputs": [
        {
          "output_type": "execute_result",
          "data": {
            "text/plain": [
              "array([[0.69646919, 0.28613933, 0.22685145],\n",
              "       [0.55131477, 0.71946897, 0.42310646],\n",
              "       [0.9807642 , 0.68482974, 0.4809319 ],\n",
              "       [0.39211752, 0.34317802, 0.72904971]])"
            ]
          },
          "metadata": {
            "tags": []
          },
          "execution_count": 100
        }
      ]
    },
    {
      "cell_type": "markdown",
      "metadata": {
        "id": "ES9oQ10PUJTP"
      },
      "source": [
        "上記は一様乱数  \n",
        "下記は正規分布に従った乱数"
      ]
    },
    {
      "cell_type": "code",
      "metadata": {
        "colab": {
          "base_uri": "https://localhost:8080/"
        },
        "id": "A1egMNaQT_UZ",
        "outputId": "72a4ca4d-914b-48c0-b4ab-d9d7aad1d0ed"
      },
      "source": [
        "# randn関数\n",
        "# 標準正規分布\n",
        "# 平均０　分散１\n",
        "\n",
        "np.random.seed(123)\n",
        "np.random.randn(4,2)"
      ],
      "execution_count": null,
      "outputs": [
        {
          "output_type": "execute_result",
          "data": {
            "text/plain": [
              "array([[-1.0856306 ,  0.99734545],\n",
              "       [ 0.2829785 , -1.50629471],\n",
              "       [-0.57860025,  1.65143654],\n",
              "       [-2.42667924, -0.42891263]])"
            ]
          },
          "metadata": {
            "tags": []
          },
          "execution_count": 101
        }
      ]
    },
    {
      "cell_type": "code",
      "metadata": {
        "colab": {
          "base_uri": "https://localhost:8080/"
        },
        "id": "61DAyychU5LK",
        "outputId": "a2a4f4ef-6588-4271-b58a-dfa6a5515f9d"
      },
      "source": [
        "\n",
        "# np.random.seed(123)\n",
        "np.random.randn(1,1)"
      ],
      "execution_count": null,
      "outputs": [
        {
          "output_type": "execute_result",
          "data": {
            "text/plain": [
              "array([[0.99734545]])"
            ]
          },
          "metadata": {
            "tags": []
          },
          "execution_count": 12
        }
      ]
    },
    {
      "cell_type": "code",
      "metadata": {
        "colab": {
          "base_uri": "https://localhost:8080/"
        },
        "id": "Q2VBy0OwIxLR",
        "outputId": "4195a273-1803-46ca-ee41-b6b15bdd9d7b"
      },
      "source": [
        "np.random.randn(1)"
      ],
      "execution_count": null,
      "outputs": [
        {
          "output_type": "execute_result",
          "data": {
            "text/plain": [
              "array([0.30239323])"
            ]
          },
          "metadata": {
            "tags": []
          },
          "execution_count": 9
        }
      ]
    },
    {
      "cell_type": "code",
      "metadata": {
        "colab": {
          "base_uri": "https://localhost:8080/"
        },
        "id": "iAROT4qEVED2",
        "outputId": "87a90411-3b46-42ee-ced2-909a175fef15"
      },
      "source": [
        "# normal関数\n",
        "# 正規分布乱数を取得\n",
        "# 引数　平均、標準偏差、size(形状)\n",
        "\n",
        "np.random.seed(123)\n",
        "np.random.normal(5,9,(4,2))"
      ],
      "execution_count": null,
      "outputs": [
        {
          "output_type": "execute_result",
          "data": {
            "text/plain": [
              "array([[ -4.77067543,  13.97610902],\n",
              "       [  7.54680648,  -8.55665243],\n",
              "       [ -0.20740227,  19.86292883],\n",
              "       [-16.84011319,   1.13978634]])"
            ]
          },
          "metadata": {
            "tags": []
          },
          "execution_count": 103
        }
      ]
    },
    {
      "cell_type": "markdown",
      "metadata": {
        "id": "s7xQD-NLWKxi"
      },
      "source": [
        "### ●同じ要素の数列を作る"
      ]
    },
    {
      "cell_type": "code",
      "metadata": {
        "colab": {
          "base_uri": "https://localhost:8080/"
        },
        "id": "pyNA26cCVdAb",
        "outputId": "21e76fd4-fa02-46c5-e932-55c54aede9bc"
      },
      "source": [
        "np.zeros(3)"
      ],
      "execution_count": null,
      "outputs": [
        {
          "output_type": "execute_result",
          "data": {
            "text/plain": [
              "array([0., 0., 0.])"
            ]
          },
          "metadata": {
            "tags": []
          },
          "execution_count": 104
        }
      ]
    },
    {
      "cell_type": "code",
      "metadata": {
        "colab": {
          "base_uri": "https://localhost:8080/"
        },
        "id": "MoP-kzdRWawP",
        "outputId": "c8215523-6519-4e3d-cf72-2f47cf5b80d0"
      },
      "source": [
        "np.zeros((2,3))"
      ],
      "execution_count": null,
      "outputs": [
        {
          "output_type": "execute_result",
          "data": {
            "text/plain": [
              "array([[0., 0., 0.],\n",
              "       [0., 0., 0.]])"
            ]
          },
          "metadata": {
            "tags": []
          },
          "execution_count": 105
        }
      ]
    },
    {
      "cell_type": "code",
      "metadata": {
        "colab": {
          "base_uri": "https://localhost:8080/"
        },
        "id": "rKBBPTRkWe1d",
        "outputId": "c0168f80-3b6c-4502-af16-1eaf63afc2c7"
      },
      "source": [
        "np.ones(2)"
      ],
      "execution_count": null,
      "outputs": [
        {
          "output_type": "execute_result",
          "data": {
            "text/plain": [
              "array([1., 1.])"
            ]
          },
          "metadata": {
            "tags": []
          },
          "execution_count": 106
        }
      ]
    },
    {
      "cell_type": "code",
      "metadata": {
        "colab": {
          "base_uri": "https://localhost:8080/"
        },
        "id": "p8Znxby1Wmz1",
        "outputId": "98c8fb47-7652-4da3-fe66-723d82a1c2cf"
      },
      "source": [
        "np.ones((3,4))"
      ],
      "execution_count": null,
      "outputs": [
        {
          "output_type": "execute_result",
          "data": {
            "text/plain": [
              "array([[1., 1., 1., 1.],\n",
              "       [1., 1., 1., 1.],\n",
              "       [1., 1., 1., 1.]])"
            ]
          },
          "metadata": {
            "tags": []
          },
          "execution_count": 107
        }
      ]
    },
    {
      "cell_type": "markdown",
      "metadata": {
        "id": "gD4MalNvWuWf"
      },
      "source": [
        "### ●単位行列"
      ]
    },
    {
      "cell_type": "code",
      "metadata": {
        "colab": {
          "base_uri": "https://localhost:8080/"
        },
        "id": "zdXByHnFWr4J",
        "outputId": "2ecd8d6c-d5a8-45aa-b974-7aefad5fd1e2"
      },
      "source": [
        "np.eye(3)"
      ],
      "execution_count": null,
      "outputs": [
        {
          "output_type": "execute_result",
          "data": {
            "text/plain": [
              "array([[1., 0., 0.],\n",
              "       [0., 1., 0.],\n",
              "       [0., 0., 1.]])"
            ]
          },
          "metadata": {
            "tags": []
          },
          "execution_count": 108
        }
      ]
    },
    {
      "cell_type": "markdown",
      "metadata": {
        "id": "bl_CZFbqW4HH"
      },
      "source": [
        "### ●指定値で埋める"
      ]
    },
    {
      "cell_type": "code",
      "metadata": {
        "colab": {
          "base_uri": "https://localhost:8080/"
        },
        "id": "JGLSd1nOW14k",
        "outputId": "2fd0ab40-4376-4ae0-f26a-98862f46d703"
      },
      "source": [
        "np.full(3, 3.14)"
      ],
      "execution_count": null,
      "outputs": [
        {
          "output_type": "execute_result",
          "data": {
            "text/plain": [
              "array([3.14, 3.14, 3.14])"
            ]
          },
          "metadata": {
            "tags": []
          },
          "execution_count": 109
        }
      ]
    },
    {
      "cell_type": "code",
      "metadata": {
        "colab": {
          "base_uri": "https://localhost:8080/"
        },
        "id": "Hg8UrmF0Xqyh",
        "outputId": "56860016-c158-4080-8226-ada85a03add3"
      },
      "source": [
        "np.full((2,4), np.pi)"
      ],
      "execution_count": null,
      "outputs": [
        {
          "output_type": "execute_result",
          "data": {
            "text/plain": [
              "array([[3.14159265, 3.14159265, 3.14159265, 3.14159265],\n",
              "       [3.14159265, 3.14159265, 3.14159265, 3.14159265]])"
            ]
          },
          "metadata": {
            "tags": []
          },
          "execution_count": 110
        }
      ]
    },
    {
      "cell_type": "code",
      "metadata": {
        "colab": {
          "base_uri": "https://localhost:8080/"
        },
        "id": "5y79Ui5dX2hq",
        "outputId": "4075703f-39df-44e8-f9af-6f2b426db629"
      },
      "source": [
        "# np.nan\n",
        "# float型 \n",
        "# ndarrayは同じデータ型のみが格納できる\n",
        "# nanが入っても計算できるようにfloat型\n",
        "\n",
        "np.nan"
      ],
      "execution_count": null,
      "outputs": [
        {
          "output_type": "execute_result",
          "data": {
            "text/plain": [
              "nan"
            ]
          },
          "metadata": {
            "tags": []
          },
          "execution_count": 15
        }
      ]
    },
    {
      "cell_type": "code",
      "metadata": {
        "colab": {
          "base_uri": "https://localhost:8080/"
        },
        "id": "rDVyVOAWKHMc",
        "outputId": "84093f0d-c71f-4e19-d139-2e593e360f88"
      },
      "source": [
        "type(np.nan)"
      ],
      "execution_count": null,
      "outputs": [
        {
          "output_type": "execute_result",
          "data": {
            "text/plain": [
              "float"
            ]
          },
          "metadata": {
            "tags": []
          },
          "execution_count": 16
        }
      ]
    },
    {
      "cell_type": "code",
      "metadata": {
        "colab": {
          "base_uri": "https://localhost:8080/"
        },
        "id": "7E3hEJRZYgZq",
        "outputId": "e4af11d2-6909-4a8b-b983-750b0b4a8f77"
      },
      "source": [
        "np.array([1,2,np.nan])"
      ],
      "execution_count": null,
      "outputs": [
        {
          "output_type": "execute_result",
          "data": {
            "text/plain": [
              "array([ 1.,  2., nan])"
            ]
          },
          "metadata": {
            "tags": []
          },
          "execution_count": 113
        }
      ]
    },
    {
      "cell_type": "markdown",
      "metadata": {
        "id": "EakiNDCRYtzL"
      },
      "source": [
        "### ●範囲指定で均等割りデータを作る"
      ]
    },
    {
      "cell_type": "code",
      "metadata": {
        "colab": {
          "base_uri": "https://localhost:8080/"
        },
        "id": "cC926kz5YnoC",
        "outputId": "80b46428-7032-4650-da32-4d59b1be40d8"
      },
      "source": [
        "# 0から1までを等間隔に区切った５要素の配列\n",
        "\n",
        "np.linspace(0,1,5)"
      ],
      "execution_count": null,
      "outputs": [
        {
          "output_type": "execute_result",
          "data": {
            "text/plain": [
              "array([0.  , 0.25, 0.5 , 0.75, 1.  ])"
            ]
          },
          "metadata": {
            "tags": []
          },
          "execution_count": 114
        }
      ]
    },
    {
      "cell_type": "code",
      "metadata": {
        "colab": {
          "base_uri": "https://localhost:8080/"
        },
        "id": "pmcYfiFYaI72",
        "outputId": "58c124c5-2859-4a0b-844b-bfce9414d31f"
      },
      "source": [
        "# 0からπまでを２０等分\n",
        "\n",
        "np.linspace(0,np.pi,21)"
      ],
      "execution_count": null,
      "outputs": [
        {
          "output_type": "execute_result",
          "data": {
            "text/plain": [
              "array([0.        , 0.15707963, 0.31415927, 0.4712389 , 0.62831853,\n",
              "       0.78539816, 0.9424778 , 1.09955743, 1.25663706, 1.41371669,\n",
              "       1.57079633, 1.72787596, 1.88495559, 2.04203522, 2.19911486,\n",
              "       2.35619449, 2.51327412, 2.67035376, 2.82743339, 2.98451302,\n",
              "       3.14159265])"
            ]
          },
          "metadata": {
            "tags": []
          },
          "execution_count": 116
        }
      ]
    },
    {
      "cell_type": "markdown",
      "metadata": {
        "id": "dcIZ56abbedp"
      },
      "source": [
        "### ●要素間の差分"
      ]
    },
    {
      "cell_type": "code",
      "metadata": {
        "colab": {
          "base_uri": "https://localhost:8080/"
        },
        "id": "Xv7j2-ema3-p",
        "outputId": "21672225-7605-4b4d-a6c6-e28aca72440b"
      },
      "source": [
        "l = np.array([2,2,6,1,3])\n",
        "np.diff(l)"
      ],
      "execution_count": null,
      "outputs": [
        {
          "output_type": "execute_result",
          "data": {
            "text/plain": [
              "array([ 0,  4, -5,  2])"
            ]
          },
          "metadata": {
            "tags": []
          },
          "execution_count": 118
        }
      ]
    },
    {
      "cell_type": "code",
      "metadata": {
        "colab": {
          "base_uri": "https://localhost:8080/"
        },
        "id": "bJStr5i0WqEt",
        "outputId": "32af535e-22d0-45cf-e577-7da4cfa3267f"
      },
      "source": [
        "m = np.array(\n",
        "    [[1,2,3],\n",
        "    [4,5,6]]\n",
        ")\n",
        "np.diff(m)"
      ],
      "execution_count": null,
      "outputs": [
        {
          "output_type": "execute_result",
          "data": {
            "text/plain": [
              "array([[1, 1],\n",
              "       [1, 1]])"
            ]
          },
          "metadata": {
            "tags": []
          },
          "execution_count": 17
        }
      ]
    },
    {
      "cell_type": "code",
      "metadata": {
        "colab": {
          "base_uri": "https://localhost:8080/"
        },
        "id": "dtQotpQ-XNnx",
        "outputId": "89807c81-2039-40d9-d282-56c08fc644d8"
      },
      "source": [
        "np.diff(m, axis=0)"
      ],
      "execution_count": null,
      "outputs": [
        {
          "output_type": "execute_result",
          "data": {
            "text/plain": [
              "array([[3, 3, 3]])"
            ]
          },
          "metadata": {
            "tags": []
          },
          "execution_count": 15
        }
      ]
    },
    {
      "cell_type": "code",
      "metadata": {
        "colab": {
          "base_uri": "https://localhost:8080/"
        },
        "id": "wv0RoUmyXXeh",
        "outputId": "5464912b-f992-4f44-dd78-805113ad32b0"
      },
      "source": [
        "np.diff(m, axis=1)"
      ],
      "execution_count": null,
      "outputs": [
        {
          "output_type": "execute_result",
          "data": {
            "text/plain": [
              "array([[1, 1],\n",
              "       [1, 1]])"
            ]
          },
          "metadata": {
            "tags": []
          },
          "execution_count": 18
        }
      ]
    },
    {
      "cell_type": "code",
      "metadata": {
        "colab": {
          "base_uri": "https://localhost:8080/"
        },
        "id": "r-sqb7WkMEb1",
        "outputId": "3097c3b0-49d0-4a39-d31f-452bd6c8e619"
      },
      "source": [
        "np.diff(m, axis=-1)"
      ],
      "execution_count": null,
      "outputs": [
        {
          "output_type": "execute_result",
          "data": {
            "text/plain": [
              "array([[1, 1],\n",
              "       [1, 1]])"
            ]
          },
          "metadata": {
            "tags": []
          },
          "execution_count": 19
        }
      ]
    },
    {
      "cell_type": "code",
      "metadata": {
        "colab": {
          "base_uri": "https://localhost:8080/",
          "height": 351
        },
        "id": "u2jWG7eHXhzE",
        "outputId": "447f5472-1291-4df8-84cb-d7eb112af14d"
      },
      "source": [
        "np.diff(m, axis=2)"
      ],
      "execution_count": null,
      "outputs": [
        {
          "output_type": "error",
          "ename": "AxisError",
          "evalue": "ignored",
          "traceback": [
            "\u001b[0;31m---------------------------------------------------------------------------\u001b[0m",
            "\u001b[0;31mAxisError\u001b[0m                                 Traceback (most recent call last)",
            "\u001b[0;32m<ipython-input-18-a4906d9933fe>\u001b[0m in \u001b[0;36m<module>\u001b[0;34m()\u001b[0m\n\u001b[0;32m----> 1\u001b[0;31m \u001b[0mnp\u001b[0m\u001b[0;34m.\u001b[0m\u001b[0mdiff\u001b[0m\u001b[0;34m(\u001b[0m\u001b[0mm\u001b[0m\u001b[0;34m,\u001b[0m \u001b[0maxis\u001b[0m\u001b[0;34m=\u001b[0m\u001b[0;36m2\u001b[0m\u001b[0;34m)\u001b[0m\u001b[0;34m\u001b[0m\u001b[0;34m\u001b[0m\u001b[0m\n\u001b[0m",
            "\u001b[0;32m<__array_function__ internals>\u001b[0m in \u001b[0;36mdiff\u001b[0;34m(*args, **kwargs)\u001b[0m\n",
            "\u001b[0;32m/usr/local/lib/python3.6/dist-packages/numpy/lib/function_base.py\u001b[0m in \u001b[0;36mdiff\u001b[0;34m(a, n, axis, prepend, append)\u001b[0m\n\u001b[1;32m   1245\u001b[0m     \u001b[0;32mif\u001b[0m \u001b[0mnd\u001b[0m \u001b[0;34m==\u001b[0m \u001b[0;36m0\u001b[0m\u001b[0;34m:\u001b[0m\u001b[0;34m\u001b[0m\u001b[0;34m\u001b[0m\u001b[0m\n\u001b[1;32m   1246\u001b[0m         \u001b[0;32mraise\u001b[0m \u001b[0mValueError\u001b[0m\u001b[0;34m(\u001b[0m\u001b[0;34m\"diff requires input that is at least one dimensional\"\u001b[0m\u001b[0;34m)\u001b[0m\u001b[0;34m\u001b[0m\u001b[0;34m\u001b[0m\u001b[0m\n\u001b[0;32m-> 1247\u001b[0;31m     \u001b[0maxis\u001b[0m \u001b[0;34m=\u001b[0m \u001b[0mnormalize_axis_index\u001b[0m\u001b[0;34m(\u001b[0m\u001b[0maxis\u001b[0m\u001b[0;34m,\u001b[0m \u001b[0mnd\u001b[0m\u001b[0;34m)\u001b[0m\u001b[0;34m\u001b[0m\u001b[0;34m\u001b[0m\u001b[0m\n\u001b[0m\u001b[1;32m   1248\u001b[0m \u001b[0;34m\u001b[0m\u001b[0m\n\u001b[1;32m   1249\u001b[0m     \u001b[0mcombined\u001b[0m \u001b[0;34m=\u001b[0m \u001b[0;34m[\u001b[0m\u001b[0;34m]\u001b[0m\u001b[0;34m\u001b[0m\u001b[0;34m\u001b[0m\u001b[0m\n",
            "\u001b[0;31mAxisError\u001b[0m: axis 2 is out of bounds for array of dimension 2"
          ]
        }
      ]
    },
    {
      "cell_type": "code",
      "metadata": {
        "colab": {
          "base_uri": "https://localhost:8080/"
        },
        "id": "_ZovrMbIX4l-",
        "outputId": "0c453edf-97c8-4d5e-d723-c1bc6adbe932"
      },
      "source": [
        "n = np.array(\n",
        "    [[1,2,3],\n",
        "    [4,5,6],\n",
        "     [7,8,9]]\n",
        ")\n",
        "np.diff(n)"
      ],
      "execution_count": null,
      "outputs": [
        {
          "output_type": "execute_result",
          "data": {
            "text/plain": [
              "array([[1, 1],\n",
              "       [1, 1],\n",
              "       [1, 1]])"
            ]
          },
          "metadata": {
            "tags": []
          },
          "execution_count": 20
        }
      ]
    },
    {
      "cell_type": "code",
      "metadata": {
        "colab": {
          "base_uri": "https://localhost:8080/"
        },
        "id": "DM4HwWg_YMBU",
        "outputId": "6eb47a80-1212-46d7-f0c5-064d9b080410"
      },
      "source": [
        "np.diff(n, axis=0)"
      ],
      "execution_count": null,
      "outputs": [
        {
          "output_type": "execute_result",
          "data": {
            "text/plain": [
              "array([[3, 3, 3],\n",
              "       [3, 3, 3]])"
            ]
          },
          "metadata": {
            "tags": []
          },
          "execution_count": 21
        }
      ]
    },
    {
      "cell_type": "markdown",
      "metadata": {
        "id": "QdVK7ioQb93e"
      },
      "source": [
        "### ●連結"
      ]
    },
    {
      "cell_type": "code",
      "metadata": {
        "colab": {
          "base_uri": "https://localhost:8080/"
        },
        "id": "8xNUt2uCb19G",
        "outputId": "42a50410-72fc-4cb2-fc5f-96d11307a94e"
      },
      "source": [
        "print(a)\n",
        "print(a1)"
      ],
      "execution_count": null,
      "outputs": [
        {
          "output_type": "stream",
          "text": [
            "[1 5 4]\n",
            "[1 5 4]\n"
          ],
          "name": "stdout"
        }
      ]
    },
    {
      "cell_type": "code",
      "metadata": {
        "colab": {
          "base_uri": "https://localhost:8080/"
        },
        "id": "FOMHaaIOcGSl",
        "outputId": "ee88e0bf-c731-4b83-ca97-5e38b4822a06"
      },
      "source": [
        "# 引数　リスト形式\n",
        "\n",
        "np.concatenate([a,a1])"
      ],
      "execution_count": null,
      "outputs": [
        {
          "output_type": "execute_result",
          "data": {
            "text/plain": [
              "array([1, 5, 4, 1, 5, 4])"
            ]
          },
          "metadata": {
            "tags": []
          },
          "execution_count": 121
        }
      ]
    },
    {
      "cell_type": "code",
      "metadata": {
        "colab": {
          "base_uri": "https://localhost:8080/"
        },
        "id": "A94GPoaOcMPo",
        "outputId": "4e83e560-59a1-4533-a7c5-a5885f7081a1"
      },
      "source": [
        "b"
      ],
      "execution_count": null,
      "outputs": [
        {
          "output_type": "execute_result",
          "data": {
            "text/plain": [
              "array([[1, 2, 3],\n",
              "       [4, 5, 6]])"
            ]
          },
          "metadata": {
            "tags": []
          },
          "execution_count": 27
        }
      ]
    },
    {
      "cell_type": "code",
      "metadata": {
        "colab": {
          "base_uri": "https://localhost:8080/"
        },
        "id": "_Iyx7T80cjph",
        "outputId": "9e1fdc8c-af6d-4726-aa15-bcaf04df8df2"
      },
      "source": [
        "b1 = np.array([[10],[20]])\n",
        "b1"
      ],
      "execution_count": null,
      "outputs": [
        {
          "output_type": "execute_result",
          "data": {
            "text/plain": [
              "array([[10],\n",
              "       [20]])"
            ]
          },
          "metadata": {
            "tags": []
          },
          "execution_count": 29
        }
      ]
    },
    {
      "cell_type": "code",
      "metadata": {
        "colab": {
          "base_uri": "https://localhost:8080/"
        },
        "id": "3w3diLspcv9B",
        "outputId": "dbcbe84a-88f5-4103-94f0-ddb3eedd04ae"
      },
      "source": [
        "# concatenate関数\n",
        "# 列方向を増やす\n",
        "# 引数　リスト形式\n",
        "\n",
        "np.concatenate([b,b1], axis=1)"
      ],
      "execution_count": null,
      "outputs": [
        {
          "output_type": "execute_result",
          "data": {
            "text/plain": [
              "array([[ 1,  2,  3, 10],\n",
              "       [ 4,  5,  6, 20]])"
            ]
          },
          "metadata": {
            "tags": []
          },
          "execution_count": 30
        }
      ]
    },
    {
      "cell_type": "code",
      "metadata": {
        "colab": {
          "base_uri": "https://localhost:8080/"
        },
        "id": "sbtUzNkedSvH",
        "outputId": "1aa0d22e-1f22-41dc-b173-36db5fd379f6"
      },
      "source": [
        "# hstack関数\n",
        "# 引数　リスト形式\n",
        "\n",
        "np.hstack([b,b1])"
      ],
      "execution_count": null,
      "outputs": [
        {
          "output_type": "execute_result",
          "data": {
            "text/plain": [
              "array([[ 1,  2,  3, 10],\n",
              "       [ 4,  5,  6, 20]])"
            ]
          },
          "metadata": {
            "tags": []
          },
          "execution_count": 31
        }
      ]
    },
    {
      "cell_type": "code",
      "metadata": {
        "colab": {
          "base_uri": "https://localhost:8080/"
        },
        "id": "S5vXTODYdo0W",
        "outputId": "bc58ec54-90cb-49b5-c113-edfbdded7638"
      },
      "source": [
        "b2 = np.array([30,60,45])\n",
        "b2"
      ],
      "execution_count": null,
      "outputs": [
        {
          "output_type": "execute_result",
          "data": {
            "text/plain": [
              "array([30, 60, 45])"
            ]
          },
          "metadata": {
            "tags": []
          },
          "execution_count": 28
        }
      ]
    },
    {
      "cell_type": "code",
      "metadata": {
        "colab": {
          "base_uri": "https://localhost:8080/"
        },
        "id": "vt3ucgvbd86D",
        "outputId": "b3075839-8512-4134-9733-2a72fc02261a"
      },
      "source": [
        "# vstack関数\n",
        "\n",
        "b3 = np.vstack([b,b2])\n",
        "b3"
      ],
      "execution_count": null,
      "outputs": [
        {
          "output_type": "execute_result",
          "data": {
            "text/plain": [
              "array([[ 1,  2,  3],\n",
              "       [ 4,  5,  6],\n",
              "       [30, 60, 45]])"
            ]
          },
          "metadata": {
            "tags": []
          },
          "execution_count": 33
        }
      ]
    },
    {
      "cell_type": "code",
      "metadata": {
        "colab": {
          "base_uri": "https://localhost:8080/"
        },
        "id": "U7jI05I-ZK3z",
        "outputId": "9110da9d-4265-4351-e979-ebf7e4c2c4c4"
      },
      "source": [
        "b2_2 = np.array([[30,40,50],[60,70,80]])\n",
        "\n",
        "b4 = np.concatenate([b,b2_2], axis=0)\n",
        "b4"
      ],
      "execution_count": null,
      "outputs": [
        {
          "output_type": "execute_result",
          "data": {
            "text/plain": [
              "array([[ 1,  2,  3],\n",
              "       [ 4,  5,  6],\n",
              "       [30, 40, 50],\n",
              "       [60, 70, 80]])"
            ]
          },
          "metadata": {
            "tags": []
          },
          "execution_count": 35
        }
      ]
    },
    {
      "cell_type": "code",
      "metadata": {
        "colab": {
          "base_uri": "https://localhost:8080/",
          "height": 232
        },
        "id": "v2FRO5uXONR2",
        "outputId": "572a9779-4eee-4c95-da1b-03733eb1f11d"
      },
      "source": [
        "b5 = np.concatenate([b,b2], axis=0)\n",
        "b5"
      ],
      "execution_count": null,
      "outputs": [
        {
          "output_type": "error",
          "ename": "ValueError",
          "evalue": "ignored",
          "traceback": [
            "\u001b[0;31m---------------------------------------------------------------------------\u001b[0m",
            "\u001b[0;31mValueError\u001b[0m                                Traceback (most recent call last)",
            "\u001b[0;32m<ipython-input-29-fcecd290a498>\u001b[0m in \u001b[0;36m<module>\u001b[0;34m()\u001b[0m\n\u001b[0;32m----> 1\u001b[0;31m \u001b[0mb5\u001b[0m \u001b[0;34m=\u001b[0m \u001b[0mnp\u001b[0m\u001b[0;34m.\u001b[0m\u001b[0mconcatenate\u001b[0m\u001b[0;34m(\u001b[0m\u001b[0;34m[\u001b[0m\u001b[0mb\u001b[0m\u001b[0;34m,\u001b[0m\u001b[0mb2\u001b[0m\u001b[0;34m]\u001b[0m\u001b[0;34m,\u001b[0m \u001b[0maxis\u001b[0m\u001b[0;34m=\u001b[0m\u001b[0;36m0\u001b[0m\u001b[0;34m)\u001b[0m\u001b[0;34m\u001b[0m\u001b[0;34m\u001b[0m\u001b[0m\n\u001b[0m\u001b[1;32m      2\u001b[0m \u001b[0mb5\u001b[0m\u001b[0;34m\u001b[0m\u001b[0;34m\u001b[0m\u001b[0m\n",
            "\u001b[0;32m<__array_function__ internals>\u001b[0m in \u001b[0;36mconcatenate\u001b[0;34m(*args, **kwargs)\u001b[0m\n",
            "\u001b[0;31mValueError\u001b[0m: all the input arrays must have same number of dimensions, but the array at index 0 has 2 dimension(s) and the array at index 1 has 1 dimension(s)"
          ]
        }
      ]
    },
    {
      "cell_type": "markdown",
      "metadata": {
        "id": "LW51KhR9eR3d"
      },
      "source": [
        "### ●分割"
      ]
    },
    {
      "cell_type": "code",
      "metadata": {
        "id": "kvCp6Z4PeIwG"
      },
      "source": [
        "# hsplit関数\n",
        "# 列を分割\n",
        "# 第２引数　１つ目の配列が２列\n",
        "\n",
        "first, second = np.hsplit(b3,[2])"
      ],
      "execution_count": null,
      "outputs": []
    },
    {
      "cell_type": "code",
      "metadata": {
        "colab": {
          "base_uri": "https://localhost:8080/"
        },
        "id": "cndjcYgBfQzf",
        "outputId": "b81f1bec-2f1d-4c52-97d0-a4799568b5f2"
      },
      "source": [
        "first"
      ],
      "execution_count": null,
      "outputs": [
        {
          "output_type": "execute_result",
          "data": {
            "text/plain": [
              "array([[ 1,  2],\n",
              "       [ 4,  5],\n",
              "       [30, 60]])"
            ]
          },
          "metadata": {
            "tags": []
          },
          "execution_count": 132
        }
      ]
    },
    {
      "cell_type": "code",
      "metadata": {
        "colab": {
          "base_uri": "https://localhost:8080/"
        },
        "id": "F10acs4jfSQk",
        "outputId": "42facd9d-730b-4a6c-c999-42449ea77852"
      },
      "source": [
        "second"
      ],
      "execution_count": null,
      "outputs": [
        {
          "output_type": "execute_result",
          "data": {
            "text/plain": [
              "array([[ 8],\n",
              "       [ 8],\n",
              "       [45]])"
            ]
          },
          "metadata": {
            "tags": []
          },
          "execution_count": 133
        }
      ]
    },
    {
      "cell_type": "code",
      "metadata": {
        "id": "WK6bgJgUgAqe"
      },
      "source": [
        "# vsplit関数\n",
        "# 行方向に分割\n",
        "# １つ目の配列が２行\n",
        "\n",
        "first1, second1 = np.vsplit(b3, [2])"
      ],
      "execution_count": null,
      "outputs": []
    },
    {
      "cell_type": "code",
      "metadata": {
        "colab": {
          "base_uri": "https://localhost:8080/"
        },
        "id": "VIcvFepah1Q1",
        "outputId": "179a9087-fd59-4b5d-f4dd-d2a21d94454e"
      },
      "source": [
        "first1"
      ],
      "execution_count": null,
      "outputs": [
        {
          "output_type": "execute_result",
          "data": {
            "text/plain": [
              "array([[1, 2, 8],\n",
              "       [4, 5, 8]])"
            ]
          },
          "metadata": {
            "tags": []
          },
          "execution_count": 140
        }
      ]
    },
    {
      "cell_type": "code",
      "metadata": {
        "colab": {
          "base_uri": "https://localhost:8080/"
        },
        "id": "BtFp6FZ8h3C9",
        "outputId": "3b962b75-0f8c-4a0e-aa5b-0d6d1efbe271"
      },
      "source": [
        "second1"
      ],
      "execution_count": null,
      "outputs": [
        {
          "output_type": "execute_result",
          "data": {
            "text/plain": [
              "array([[30, 60, 45]])"
            ]
          },
          "metadata": {
            "tags": []
          },
          "execution_count": 141
        }
      ]
    },
    {
      "cell_type": "markdown",
      "metadata": {
        "id": "6vaHPUoQh8BV"
      },
      "source": [
        "### ●転置"
      ]
    },
    {
      "cell_type": "code",
      "metadata": {
        "colab": {
          "base_uri": "https://localhost:8080/"
        },
        "id": "94SwuDaIh4uZ",
        "outputId": "cca5c09f-e7f7-4685-e1d6-8c6bbf75683d"
      },
      "source": [
        "b"
      ],
      "execution_count": null,
      "outputs": [
        {
          "output_type": "execute_result",
          "data": {
            "text/plain": [
              "array([[1, 2, 8],\n",
              "       [4, 5, 8]])"
            ]
          },
          "metadata": {
            "tags": []
          },
          "execution_count": 142
        }
      ]
    },
    {
      "cell_type": "code",
      "metadata": {
        "colab": {
          "base_uri": "https://localhost:8080/"
        },
        "id": "ZcLysxh3iDVE",
        "outputId": "feaea519-a7e8-4947-8c8c-097e1795ed16"
      },
      "source": [
        "b.T"
      ],
      "execution_count": null,
      "outputs": [
        {
          "output_type": "execute_result",
          "data": {
            "text/plain": [
              "array([[1, 4],\n",
              "       [2, 5],\n",
              "       [8, 8]])"
            ]
          },
          "metadata": {
            "tags": []
          },
          "execution_count": 143
        }
      ]
    },
    {
      "cell_type": "markdown",
      "metadata": {
        "id": "O0gpkNFkiJuh"
      },
      "source": [
        "### ●次元追加"
      ]
    },
    {
      "cell_type": "markdown",
      "metadata": {
        "id": "h_gnOjY8k_PK"
      },
      "source": [
        "reshapeでも次元変更・追加できるが、要素数を指定する必要がある  \n",
        "np.newaxisの場合は、要素数を指定する必要がない"
      ]
    },
    {
      "cell_type": "code",
      "metadata": {
        "colab": {
          "base_uri": "https://localhost:8080/"
        },
        "id": "iTAwsyhdiHo_",
        "outputId": "1ab99dec-e9e9-4cef-ec8b-bdacb4a31d34"
      },
      "source": [
        "a"
      ],
      "execution_count": null,
      "outputs": [
        {
          "output_type": "execute_result",
          "data": {
            "text/plain": [
              "array([1, 5, 4])"
            ]
          },
          "metadata": {
            "tags": []
          },
          "execution_count": 159
        }
      ]
    },
    {
      "cell_type": "code",
      "metadata": {
        "colab": {
          "base_uri": "https://localhost:8080/"
        },
        "id": "uzOLPUtaiOIH",
        "outputId": "9307a8a2-3458-47ee-b292-a3d508885cd9"
      },
      "source": [
        "# 行方向に次元追加\n",
        "\n",
        "a[np.newaxis,:]"
      ],
      "execution_count": null,
      "outputs": [
        {
          "output_type": "execute_result",
          "data": {
            "text/plain": [
              "array([[1, 5, 4]])"
            ]
          },
          "metadata": {
            "tags": []
          },
          "execution_count": 160
        }
      ]
    },
    {
      "cell_type": "code",
      "metadata": {
        "colab": {
          "base_uri": "https://localhost:8080/"
        },
        "id": "5F6YGAz-igxO",
        "outputId": "4f3d9435-e287-42da-e3e1-31c8a96f08cb"
      },
      "source": [
        "# 列方向に次元追加\n",
        "\n",
        "a[:,np.newaxis]"
      ],
      "execution_count": null,
      "outputs": [
        {
          "output_type": "execute_result",
          "data": {
            "text/plain": [
              "array([[1],\n",
              "       [5],\n",
              "       [4]])"
            ]
          },
          "metadata": {
            "tags": []
          },
          "execution_count": 161
        }
      ]
    },
    {
      "cell_type": "markdown",
      "metadata": {
        "id": "L4INV9zgoLN0"
      },
      "source": [
        "### ●グリッドデータ作成"
      ]
    },
    {
      "cell_type": "code",
      "metadata": {
        "colab": {
          "base_uri": "https://localhost:8080/"
        },
        "id": "kubknDduk03d",
        "outputId": "4595899a-750f-4d9b-d282-250bde43f7a4"
      },
      "source": [
        "m = np.arange(0,4)\n",
        "m"
      ],
      "execution_count": null,
      "outputs": [
        {
          "output_type": "execute_result",
          "data": {
            "text/plain": [
              "array([0, 1, 2, 3])"
            ]
          },
          "metadata": {
            "tags": []
          },
          "execution_count": 162
        }
      ]
    },
    {
      "cell_type": "code",
      "metadata": {
        "colab": {
          "base_uri": "https://localhost:8080/"
        },
        "id": "nXuWCoMVo773",
        "outputId": "46a263be-f4c1-44d3-d452-585bd92e87cc"
      },
      "source": [
        "n = np.arange(4,7)\n",
        "n"
      ],
      "execution_count": null,
      "outputs": [
        {
          "output_type": "execute_result",
          "data": {
            "text/plain": [
              "array([4, 5, 6])"
            ]
          },
          "metadata": {
            "tags": []
          },
          "execution_count": 164
        }
      ]
    },
    {
      "cell_type": "code",
      "metadata": {
        "id": "BkwlgBSUpBVs"
      },
      "source": [
        "xx, yy = np.meshgrid(m, n)"
      ],
      "execution_count": null,
      "outputs": []
    },
    {
      "cell_type": "code",
      "metadata": {
        "colab": {
          "base_uri": "https://localhost:8080/"
        },
        "id": "k0pYKiN6pNg9",
        "outputId": "c92344d4-6bc0-4fad-f847-fb62f56eef66"
      },
      "source": [
        "# mを行方向にnの長さ分コピー\n",
        "xx"
      ],
      "execution_count": null,
      "outputs": [
        {
          "output_type": "execute_result",
          "data": {
            "text/plain": [
              "array([[0, 1, 2, 3],\n",
              "       [0, 1, 2, 3],\n",
              "       [0, 1, 2, 3]])"
            ]
          },
          "metadata": {
            "tags": []
          },
          "execution_count": 166
        }
      ]
    },
    {
      "cell_type": "code",
      "metadata": {
        "colab": {
          "base_uri": "https://localhost:8080/"
        },
        "id": "MkhpPPg2pPo2",
        "outputId": "3d2b51a8-103c-4633-b0a3-83094862bcb7"
      },
      "source": [
        "# nを列方向にmの長さ分コピー\n",
        "yy"
      ],
      "execution_count": null,
      "outputs": [
        {
          "output_type": "execute_result",
          "data": {
            "text/plain": [
              "array([[4, 4, 4, 4],\n",
              "       [5, 5, 5, 5],\n",
              "       [6, 6, 6, 6]])"
            ]
          },
          "metadata": {
            "tags": []
          },
          "execution_count": 167
        }
      ]
    },
    {
      "cell_type": "markdown",
      "metadata": {
        "id": "a2gWHlo3p3Sg"
      },
      "source": [
        "## ▶︎4.1.3 NumPyの各機能"
      ]
    },
    {
      "cell_type": "code",
      "metadata": {
        "colab": {
          "base_uri": "https://localhost:8080/"
        },
        "id": "7g5UXSiopQp9",
        "outputId": "638d5eaa-191c-4382-d156-ec41881be10c"
      },
      "source": [
        "import numpy as np\n",
        "\n",
        "a = np.arange(3)\n",
        "b = np.arange(-3,3).reshape((2,3))\n",
        "c = np.arange(1,7).reshape((2,3))\n",
        "d = np.arange(6).reshape((3,2))\n",
        "e = np.linspace(-1,1,10)\n",
        "print(\"a:\",a)\n",
        "print(\"b:\",b)\n",
        "print(\"c:\",c)\n",
        "print(\"d:\",d)\n",
        "print(\"e:\",e)\n"
      ],
      "execution_count": null,
      "outputs": [
        {
          "output_type": "stream",
          "text": [
            "a: [0 1 2]\n",
            "b: [[-3 -2 -1]\n",
            " [ 0  1  2]]\n",
            "c: [[1 2 3]\n",
            " [4 5 6]]\n",
            "d: [[0 1]\n",
            " [2 3]\n",
            " [4 5]]\n",
            "e: [-1.         -0.77777778 -0.55555556 -0.33333333 -0.11111111  0.11111111\n",
            "  0.33333333  0.55555556  0.77777778  1.        ]\n"
          ],
          "name": "stdout"
        }
      ]
    },
    {
      "cell_type": "code",
      "metadata": {
        "colab": {
          "base_uri": "https://localhost:8080/"
        },
        "id": "6hNRmMdBsmaN",
        "outputId": "5d39477c-e391-4a8c-d8ed-f1d94b56bb7a"
      },
      "source": [
        "print(\"a:\",a.shape)\n",
        "print(\"b:\",b.shape)\n",
        "print(\"c:\",c.shape)\n",
        "print(\"d:\",d.shape)\n",
        "print(\"e:\",e.shape)"
      ],
      "execution_count": null,
      "outputs": [
        {
          "output_type": "stream",
          "text": [
            "a: (3,)\n",
            "b: (2, 3)\n",
            "c: (2, 3)\n",
            "d: (3, 2)\n",
            "e: (10,)\n"
          ],
          "name": "stdout"
        }
      ]
    },
    {
      "cell_type": "markdown",
      "metadata": {
        "id": "5PbFFRgHtSvY"
      },
      "source": [
        "### ●ユニバーサルファンクション"
      ]
    },
    {
      "cell_type": "code",
      "metadata": {
        "colab": {
          "base_uri": "https://localhost:8080/"
        },
        "id": "3dBfFkNztPdd",
        "outputId": "6d014518-db1f-4da3-d231-264482044000"
      },
      "source": [
        "# 絶対値\n",
        "print(b)\n",
        "np.abs(b)"
      ],
      "execution_count": null,
      "outputs": [
        {
          "output_type": "stream",
          "text": [
            "[[-3 -2 -1]\n",
            " [ 0  1  2]]\n"
          ],
          "name": "stdout"
        },
        {
          "output_type": "execute_result",
          "data": {
            "text/plain": [
              "array([[3, 2, 1],\n",
              "       [0, 1, 2]])"
            ]
          },
          "metadata": {
            "tags": []
          },
          "execution_count": 172
        }
      ]
    },
    {
      "cell_type": "code",
      "metadata": {
        "colab": {
          "base_uri": "https://localhost:8080/"
        },
        "id": "UJzZROCltrBh",
        "outputId": "8e4f65c0-4b17-4d6a-dc64-e8046d594cc2"
      },
      "source": [
        "# sin\n",
        "print(e)\n",
        "np.sin(e)"
      ],
      "execution_count": null,
      "outputs": [
        {
          "output_type": "stream",
          "text": [
            "[-1.         -0.77777778 -0.55555556 -0.33333333 -0.11111111  0.11111111\n",
            "  0.33333333  0.55555556  0.77777778  1.        ]\n"
          ],
          "name": "stdout"
        },
        {
          "output_type": "execute_result",
          "data": {
            "text/plain": [
              "array([-0.84147098, -0.70169788, -0.52741539, -0.3271947 , -0.11088263,\n",
              "        0.11088263,  0.3271947 ,  0.52741539,  0.70169788,  0.84147098])"
            ]
          },
          "metadata": {
            "tags": []
          },
          "execution_count": 173
        }
      ]
    },
    {
      "cell_type": "code",
      "metadata": {
        "colab": {
          "base_uri": "https://localhost:8080/"
        },
        "id": "TpH3OWs2t6sE",
        "outputId": "d82df381-eeca-41cf-e2f4-245168876fc9"
      },
      "source": [
        "# cos\n",
        "np.cos(e)"
      ],
      "execution_count": null,
      "outputs": [
        {
          "output_type": "execute_result",
          "data": {
            "text/plain": [
              "array([0.54030231, 0.71247462, 0.84960756, 0.94495695, 0.99383351,\n",
              "       0.99383351, 0.94495695, 0.84960756, 0.71247462, 0.54030231])"
            ]
          },
          "metadata": {
            "tags": []
          },
          "execution_count": 174
        }
      ]
    },
    {
      "cell_type": "code",
      "metadata": {
        "colab": {
          "base_uri": "https://localhost:8080/"
        },
        "id": "FD9GY9_2uDNy",
        "outputId": "44bf9148-7ca2-4c29-875b-e58b9cc683a9"
      },
      "source": [
        "# log 自然対数\n",
        "np.log(a)"
      ],
      "execution_count": null,
      "outputs": [
        {
          "output_type": "stream",
          "text": [
            "/usr/local/lib/python3.6/dist-packages/ipykernel_launcher.py:2: RuntimeWarning: divide by zero encountered in log\n",
            "  \n"
          ],
          "name": "stderr"
        },
        {
          "output_type": "execute_result",
          "data": {
            "text/plain": [
              "array([      -inf, 0.        , 0.69314718])"
            ]
          },
          "metadata": {
            "tags": []
          },
          "execution_count": 175
        }
      ]
    },
    {
      "cell_type": "code",
      "metadata": {
        "colab": {
          "base_uri": "https://localhost:8080/"
        },
        "id": "7MoqLylVua5C",
        "outputId": "fb2c3f30-53df-4b9c-d109-65c450fe754b"
      },
      "source": [
        "# 常用対数\n",
        "np.log10(c)"
      ],
      "execution_count": null,
      "outputs": [
        {
          "output_type": "execute_result",
          "data": {
            "text/plain": [
              "array([[0.        , 0.30103   , 0.47712125],\n",
              "       [0.60205999, 0.69897   , 0.77815125]])"
            ]
          },
          "metadata": {
            "tags": []
          },
          "execution_count": 176
        }
      ]
    },
    {
      "cell_type": "code",
      "metadata": {
        "colab": {
          "base_uri": "https://localhost:8080/"
        },
        "id": "BjND67Nlu49u",
        "outputId": "2e41890a-5e25-4bc1-eb35-b7371578e6a7"
      },
      "source": [
        "# exp関数\n",
        "# 自然対数の底eのe^x(e**x)\n",
        "np.exp(a)"
      ],
      "execution_count": null,
      "outputs": [
        {
          "output_type": "execute_result",
          "data": {
            "text/plain": [
              "array([1.        , 2.71828183, 7.3890561 ])"
            ]
          },
          "metadata": {
            "tags": []
          },
          "execution_count": 177
        }
      ]
    },
    {
      "cell_type": "markdown",
      "metadata": {
        "id": "IjbislhGv1Ky"
      },
      "source": [
        "### ●ブロードキャスト"
      ]
    },
    {
      "cell_type": "code",
      "metadata": {
        "colab": {
          "base_uri": "https://localhost:8080/"
        },
        "id": "SHlM-v7ovdMw",
        "outputId": "ec448c19-45b9-4a47-cc21-047fa40562c0"
      },
      "source": [
        "# スカラーの加算\n",
        "a"
      ],
      "execution_count": null,
      "outputs": [
        {
          "output_type": "execute_result",
          "data": {
            "text/plain": [
              "array([0, 1, 2])"
            ]
          },
          "metadata": {
            "tags": []
          },
          "execution_count": 178
        }
      ]
    },
    {
      "cell_type": "code",
      "metadata": {
        "colab": {
          "base_uri": "https://localhost:8080/"
        },
        "id": "X5sujIFvwB31",
        "outputId": "501fcd5b-c527-4f6a-a763-2019c7f3fa17"
      },
      "source": [
        "a + 10"
      ],
      "execution_count": null,
      "outputs": [
        {
          "output_type": "execute_result",
          "data": {
            "text/plain": [
              "array([10, 11, 12])"
            ]
          },
          "metadata": {
            "tags": []
          },
          "execution_count": 179
        }
      ]
    },
    {
      "cell_type": "code",
      "metadata": {
        "colab": {
          "base_uri": "https://localhost:8080/"
        },
        "id": "rHbeNIpowIiG",
        "outputId": "66e77226-ed52-47c3-d136-999ee8524acc"
      },
      "source": [
        "b"
      ],
      "execution_count": null,
      "outputs": [
        {
          "output_type": "execute_result",
          "data": {
            "text/plain": [
              "array([[-3, -2, -1],\n",
              "       [ 0,  1,  2]])"
            ]
          },
          "metadata": {
            "tags": []
          },
          "execution_count": 180
        }
      ]
    },
    {
      "cell_type": "code",
      "metadata": {
        "colab": {
          "base_uri": "https://localhost:8080/"
        },
        "id": "wHH-omI2wMra",
        "outputId": "a5630ca4-c42f-4fb9-b8c0-40c2c25cc221"
      },
      "source": [
        "# 1次元配列aと２次元配列bの加算\n",
        "# aが２行になったような形でbに加算される\n",
        "\n",
        "a + b"
      ],
      "execution_count": null,
      "outputs": [
        {
          "output_type": "execute_result",
          "data": {
            "text/plain": [
              "array([[-3, -1,  1],\n",
              "       [ 0,  2,  4]])"
            ]
          },
          "metadata": {
            "tags": []
          },
          "execution_count": 181
        }
      ]
    },
    {
      "cell_type": "code",
      "metadata": {
        "colab": {
          "base_uri": "https://localhost:8080/"
        },
        "id": "lfXnn27JwaGp",
        "outputId": "bc9a1076-f5fa-4b1f-f9da-2a6d2cd4f624"
      },
      "source": [
        "a1 = a[:,np.newaxis]\n",
        "a1"
      ],
      "execution_count": null,
      "outputs": [
        {
          "output_type": "execute_result",
          "data": {
            "text/plain": [
              "array([[0],\n",
              "       [1],\n",
              "       [2]])"
            ]
          },
          "metadata": {
            "tags": []
          },
          "execution_count": 182
        }
      ]
    },
    {
      "cell_type": "code",
      "metadata": {
        "colab": {
          "base_uri": "https://localhost:8080/"
        },
        "id": "zjIp7ljVw6hU",
        "outputId": "890bde30-c841-4ea0-e57b-eb3737ee5f35"
      },
      "source": [
        "# aもa1も３×３に拡張されて加算される\n",
        "\n",
        "a + a1"
      ],
      "execution_count": null,
      "outputs": [
        {
          "output_type": "execute_result",
          "data": {
            "text/plain": [
              "array([[0, 1, 2],\n",
              "       [1, 2, 3],\n",
              "       [2, 3, 4]])"
            ]
          },
          "metadata": {
            "tags": []
          },
          "execution_count": 183
        }
      ]
    },
    {
      "cell_type": "code",
      "metadata": {
        "colab": {
          "base_uri": "https://localhost:8080/"
        },
        "id": "j_HayDZZw9bj",
        "outputId": "18f009f8-9497-4016-c540-7e163033003b"
      },
      "source": [
        "c"
      ],
      "execution_count": null,
      "outputs": [
        {
          "output_type": "execute_result",
          "data": {
            "text/plain": [
              "array([[1, 2, 3],\n",
              "       [4, 5, 6]])"
            ]
          },
          "metadata": {
            "tags": []
          },
          "execution_count": 184
        }
      ]
    },
    {
      "cell_type": "code",
      "metadata": {
        "colab": {
          "base_uri": "https://localhost:8080/"
        },
        "id": "gRqHbcEvyM_I",
        "outputId": "d1d0a77c-c6db-4c89-ef83-a5a845e62133"
      },
      "source": [
        "# 平均を引く\n",
        "c - np.mean(c)"
      ],
      "execution_count": null,
      "outputs": [
        {
          "output_type": "execute_result",
          "data": {
            "text/plain": [
              "array([[-2.5, -1.5, -0.5],\n",
              "       [ 0.5,  1.5,  2.5]])"
            ]
          },
          "metadata": {
            "tags": []
          },
          "execution_count": 185
        }
      ]
    },
    {
      "cell_type": "code",
      "metadata": {
        "colab": {
          "base_uri": "https://localhost:8080/"
        },
        "id": "wXGgJtOzyUyS",
        "outputId": "04b2dcab-4c99-43db-c8d3-349a4bb9d454"
      },
      "source": [
        "b"
      ],
      "execution_count": null,
      "outputs": [
        {
          "output_type": "execute_result",
          "data": {
            "text/plain": [
              "array([[-3, -2, -1],\n",
              "       [ 0,  1,  2]])"
            ]
          },
          "metadata": {
            "tags": []
          },
          "execution_count": 186
        }
      ]
    },
    {
      "cell_type": "code",
      "metadata": {
        "colab": {
          "base_uri": "https://localhost:8080/"
        },
        "id": "weTyoGU5yhTg",
        "outputId": "7f42e69c-83cf-4905-d3e8-72e41a620fa6"
      },
      "source": [
        "# 掛け算\n",
        "b*2"
      ],
      "execution_count": null,
      "outputs": [
        {
          "output_type": "execute_result",
          "data": {
            "text/plain": [
              "array([[-6, -4, -2],\n",
              "       [ 0,  2,  4]])"
            ]
          },
          "metadata": {
            "tags": []
          },
          "execution_count": 187
        }
      ]
    },
    {
      "cell_type": "code",
      "metadata": {
        "colab": {
          "base_uri": "https://localhost:8080/"
        },
        "id": "ktw2YyuMyjBb",
        "outputId": "28b48229-55cc-4bca-ea9e-9059d693ff6e"
      },
      "source": [
        "# 冪乗\n",
        "b**3"
      ],
      "execution_count": null,
      "outputs": [
        {
          "output_type": "execute_result",
          "data": {
            "text/plain": [
              "array([[-27,  -8,  -1],\n",
              "       [  0,   1,   8]])"
            ]
          },
          "metadata": {
            "tags": []
          },
          "execution_count": 189
        }
      ]
    },
    {
      "cell_type": "code",
      "metadata": {
        "colab": {
          "base_uri": "https://localhost:8080/"
        },
        "id": "6pNEtVp7yl_9",
        "outputId": "01264f22-3549-4afd-c2d6-d40e6f751325"
      },
      "source": [
        "a"
      ],
      "execution_count": null,
      "outputs": [
        {
          "output_type": "execute_result",
          "data": {
            "text/plain": [
              "array([0, 1, 2])"
            ]
          },
          "metadata": {
            "tags": []
          },
          "execution_count": 190
        }
      ]
    },
    {
      "cell_type": "code",
      "metadata": {
        "colab": {
          "base_uri": "https://localhost:8080/"
        },
        "id": "zVTzzt9fzDNe",
        "outputId": "75ab94b0-20ce-4727-e1f5-ea3f9fa9e069"
      },
      "source": [
        "b"
      ],
      "execution_count": null,
      "outputs": [
        {
          "output_type": "execute_result",
          "data": {
            "text/plain": [
              "array([[-3, -2, -1],\n",
              "       [ 0,  1,  2]])"
            ]
          },
          "metadata": {
            "tags": []
          },
          "execution_count": 191
        }
      ]
    },
    {
      "cell_type": "code",
      "metadata": {
        "colab": {
          "base_uri": "https://localhost:8080/"
        },
        "id": "gCsnklmZzFW0",
        "outputId": "715d3088-826d-482c-9e85-02df56d52586"
      },
      "source": [
        "b - a"
      ],
      "execution_count": null,
      "outputs": [
        {
          "output_type": "execute_result",
          "data": {
            "text/plain": [
              "array([[-3, -3, -3],\n",
              "       [ 0,  0,  0]])"
            ]
          },
          "metadata": {
            "tags": []
          },
          "execution_count": 192
        }
      ]
    },
    {
      "cell_type": "code",
      "metadata": {
        "colab": {
          "base_uri": "https://localhost:8080/"
        },
        "id": "3t1vs1OXzJJO",
        "outputId": "891fd61c-51a9-436f-ca08-1930605bf9ec"
      },
      "source": [
        "a * b"
      ],
      "execution_count": null,
      "outputs": [
        {
          "output_type": "execute_result",
          "data": {
            "text/plain": [
              "array([[ 0, -2, -2],\n",
              "       [ 0,  1,  4]])"
            ]
          },
          "metadata": {
            "tags": []
          },
          "execution_count": 193
        }
      ]
    },
    {
      "cell_type": "code",
      "metadata": {
        "colab": {
          "base_uri": "https://localhost:8080/"
        },
        "id": "L7-dxh5LzbEI",
        "outputId": "5e1d6499-36c5-49cf-dc28-6873db27b371"
      },
      "source": [
        "c"
      ],
      "execution_count": null,
      "outputs": [
        {
          "output_type": "execute_result",
          "data": {
            "text/plain": [
              "array([[1, 2, 3],\n",
              "       [4, 5, 6]])"
            ]
          },
          "metadata": {
            "tags": []
          },
          "execution_count": 194
        }
      ]
    },
    {
      "cell_type": "code",
      "metadata": {
        "colab": {
          "base_uri": "https://localhost:8080/"
        },
        "id": "fxkUD0-szkoY",
        "outputId": "30a7282d-e7be-4eec-baec-70821f94ded3"
      },
      "source": [
        "c / a"
      ],
      "execution_count": null,
      "outputs": [
        {
          "output_type": "stream",
          "text": [
            "/usr/local/lib/python3.6/dist-packages/ipykernel_launcher.py:1: RuntimeWarning: divide by zero encountered in true_divide\n",
            "  \"\"\"Entry point for launching an IPython kernel.\n"
          ],
          "name": "stderr"
        },
        {
          "output_type": "execute_result",
          "data": {
            "text/plain": [
              "array([[inf, 2. , 1.5],\n",
              "       [inf, 5. , 3. ]])"
            ]
          },
          "metadata": {
            "tags": []
          },
          "execution_count": 196
        }
      ]
    },
    {
      "cell_type": "code",
      "metadata": {
        "colab": {
          "base_uri": "https://localhost:8080/"
        },
        "id": "lWLhR_aOzpxC",
        "outputId": "ddc09e45-7ea5-4388-bb96-45abcd3caec3"
      },
      "source": [
        "# infが出ないように、割る配列に微小値を足してから割る\n",
        "\n",
        "c / (a + 1e-6)"
      ],
      "execution_count": null,
      "outputs": [
        {
          "output_type": "execute_result",
          "data": {
            "text/plain": [
              "array([[1.00000000e+06, 1.99999800e+00, 1.49999925e+00],\n",
              "       [4.00000000e+06, 4.99999500e+00, 2.99999850e+00]])"
            ]
          },
          "metadata": {
            "tags": []
          },
          "execution_count": 197
        }
      ]
    },
    {
      "cell_type": "markdown",
      "metadata": {
        "id": "fysa9uK10Zb3"
      },
      "source": [
        "### ●ドット積"
      ]
    },
    {
      "cell_type": "code",
      "metadata": {
        "colab": {
          "base_uri": "https://localhost:8080/"
        },
        "id": "alDNBs8m0RPE",
        "outputId": "8c91b3fe-d2ff-4349-ca4f-ba85c58adb55"
      },
      "source": [
        "a"
      ],
      "execution_count": null,
      "outputs": [
        {
          "output_type": "execute_result",
          "data": {
            "text/plain": [
              "array([0, 1, 2])"
            ]
          },
          "metadata": {
            "tags": []
          },
          "execution_count": 198
        }
      ]
    },
    {
      "cell_type": "code",
      "metadata": {
        "colab": {
          "base_uri": "https://localhost:8080/"
        },
        "id": "XL88ZNGE0hZo",
        "outputId": "31fcb777-ed56-40a4-a27a-97648223ef6b"
      },
      "source": [
        "b"
      ],
      "execution_count": null,
      "outputs": [
        {
          "output_type": "execute_result",
          "data": {
            "text/plain": [
              "array([[-3, -2, -1],\n",
              "       [ 0,  1,  2]])"
            ]
          },
          "metadata": {
            "tags": []
          },
          "execution_count": 199
        }
      ]
    },
    {
      "cell_type": "code",
      "metadata": {
        "colab": {
          "base_uri": "https://localhost:8080/"
        },
        "id": "1j4SBmmf0iNz",
        "outputId": "78348162-b060-4ece-b483-e656d6160452"
      },
      "source": [
        "np.dot(b,a)"
      ],
      "execution_count": null,
      "outputs": [
        {
          "output_type": "execute_result",
          "data": {
            "text/plain": [
              "array([-4,  5])"
            ]
          },
          "metadata": {
            "tags": []
          },
          "execution_count": 200
        }
      ]
    },
    {
      "cell_type": "code",
      "metadata": {
        "colab": {
          "base_uri": "https://localhost:8080/"
        },
        "id": "DLWL_f1R0mYv",
        "outputId": "c5a68709-f1d1-4c5a-e0af-18ea15fb57f0"
      },
      "source": [
        "b @ a"
      ],
      "execution_count": null,
      "outputs": [
        {
          "output_type": "execute_result",
          "data": {
            "text/plain": [
              "array([-4,  5])"
            ]
          },
          "metadata": {
            "tags": []
          },
          "execution_count": 201
        }
      ]
    },
    {
      "cell_type": "code",
      "metadata": {
        "colab": {
          "base_uri": "https://localhost:8080/"
        },
        "id": "Pe-VcNlx0sWd",
        "outputId": "8192a8cb-0701-4b8d-c1f0-e23c2cdc7c3f"
      },
      "source": [
        "b"
      ],
      "execution_count": null,
      "outputs": [
        {
          "output_type": "execute_result",
          "data": {
            "text/plain": [
              "array([[-3, -2, -1],\n",
              "       [ 0,  1,  2]])"
            ]
          },
          "metadata": {
            "tags": []
          },
          "execution_count": 202
        }
      ]
    },
    {
      "cell_type": "code",
      "metadata": {
        "colab": {
          "base_uri": "https://localhost:8080/"
        },
        "id": "_U5mGpQN04E1",
        "outputId": "9b5f356b-0728-4c14-ea9b-ae98eec46c66"
      },
      "source": [
        "d"
      ],
      "execution_count": null,
      "outputs": [
        {
          "output_type": "execute_result",
          "data": {
            "text/plain": [
              "array([[0, 1],\n",
              "       [2, 3],\n",
              "       [4, 5]])"
            ]
          },
          "metadata": {
            "tags": []
          },
          "execution_count": 203
        }
      ]
    },
    {
      "cell_type": "code",
      "metadata": {
        "colab": {
          "base_uri": "https://localhost:8080/"
        },
        "id": "wKpRWdnC05NB",
        "outputId": "519609ff-5487-4224-97b0-baa09be71122"
      },
      "source": [
        "b @ d"
      ],
      "execution_count": null,
      "outputs": [
        {
          "output_type": "execute_result",
          "data": {
            "text/plain": [
              "array([[ -8, -14],\n",
              "       [ 10,  13]])"
            ]
          },
          "metadata": {
            "tags": []
          },
          "execution_count": 204
        }
      ]
    },
    {
      "cell_type": "code",
      "metadata": {
        "colab": {
          "base_uri": "https://localhost:8080/"
        },
        "id": "deEeEITu08EY",
        "outputId": "c911f516-5f35-40b1-bb96-cd050a786d4f"
      },
      "source": [
        "d @ b"
      ],
      "execution_count": null,
      "outputs": [
        {
          "output_type": "execute_result",
          "data": {
            "text/plain": [
              "array([[  0,   1,   2],\n",
              "       [ -6,  -1,   4],\n",
              "       [-12,  -3,   6]])"
            ]
          },
          "metadata": {
            "tags": []
          },
          "execution_count": 205
        }
      ]
    },
    {
      "cell_type": "markdown",
      "metadata": {
        "id": "kd-IIy1R1DQW"
      },
      "source": [
        "### ●判定・論理値"
      ]
    },
    {
      "cell_type": "code",
      "metadata": {
        "colab": {
          "base_uri": "https://localhost:8080/"
        },
        "id": "cUMSF1BG1A8f",
        "outputId": "e7005a30-9e9a-481f-964d-e74952ca9cbd"
      },
      "source": [
        "# 配列とスカラーを演算子で比較\n",
        "\n",
        "a > 1"
      ],
      "execution_count": null,
      "outputs": [
        {
          "output_type": "execute_result",
          "data": {
            "text/plain": [
              "array([False, False,  True])"
            ]
          },
          "metadata": {
            "tags": []
          },
          "execution_count": 206
        }
      ]
    },
    {
      "cell_type": "code",
      "metadata": {
        "colab": {
          "base_uri": "https://localhost:8080/"
        },
        "id": "CYfrvboq2IhE",
        "outputId": "f6cff363-2a68-410d-8174-3267295a415c"
      },
      "source": [
        "b > 0"
      ],
      "execution_count": null,
      "outputs": [
        {
          "output_type": "execute_result",
          "data": {
            "text/plain": [
              "array([[False, False, False],\n",
              "       [False,  True,  True]])"
            ]
          },
          "metadata": {
            "tags": []
          },
          "execution_count": 207
        }
      ]
    },
    {
      "cell_type": "code",
      "metadata": {
        "colab": {
          "base_uri": "https://localhost:8080/"
        },
        "id": "KEFNoIRU2Oav",
        "outputId": "48db78be-01ff-4923-d83e-567134bc7a32"
      },
      "source": [
        "# Trueの数をカウント\n",
        "# 0でない要素数を出力\n",
        "# Falseは０\n",
        "\n",
        "np.count_nonzero(b > 0)\n"
      ],
      "execution_count": null,
      "outputs": [
        {
          "output_type": "execute_result",
          "data": {
            "text/plain": [
              "2"
            ]
          },
          "metadata": {
            "tags": []
          },
          "execution_count": 208
        }
      ]
    },
    {
      "cell_type": "code",
      "metadata": {
        "colab": {
          "base_uri": "https://localhost:8080/"
        },
        "id": "miMi0SQS2_O0",
        "outputId": "4a7d3b97-4b46-4fa3-cb39-f9ede5af0652"
      },
      "source": [
        "# np.sumは要素の値を全て足す\n",
        "# Trueは１として計算\n",
        "\n",
        "np.sum(b > 0)"
      ],
      "execution_count": null,
      "outputs": [
        {
          "output_type": "execute_result",
          "data": {
            "text/plain": [
              "2"
            ]
          },
          "metadata": {
            "tags": []
          },
          "execution_count": 209
        }
      ]
    },
    {
      "cell_type": "code",
      "metadata": {
        "colab": {
          "base_uri": "https://localhost:8080/"
        },
        "id": "aeoRFVI13WKP",
        "outputId": "5783a0d6-cb31-4f7f-f58e-77d21aa1bc39"
      },
      "source": [
        "# 要素の中にTrueが含まれているかどうか\n",
        "\n",
        "np.any(b > 0)"
      ],
      "execution_count": null,
      "outputs": [
        {
          "output_type": "execute_result",
          "data": {
            "text/plain": [
              "True"
            ]
          },
          "metadata": {
            "tags": []
          },
          "execution_count": 210
        }
      ]
    },
    {
      "cell_type": "code",
      "metadata": {
        "colab": {
          "base_uri": "https://localhost:8080/"
        },
        "id": "m5SQufWz3vPP",
        "outputId": "5cc4117d-27ae-452b-9b9e-8b6377d305b8"
      },
      "source": [
        "# 全てがTrueかどうか\n",
        "\n",
        "np.all(b > 0)"
      ],
      "execution_count": null,
      "outputs": [
        {
          "output_type": "execute_result",
          "data": {
            "text/plain": [
              "False"
            ]
          },
          "metadata": {
            "tags": []
          },
          "execution_count": 211
        }
      ]
    },
    {
      "cell_type": "code",
      "metadata": {
        "colab": {
          "base_uri": "https://localhost:8080/"
        },
        "id": "o25sVy2f37zd",
        "outputId": "c44b651e-c564-4840-cf36-0beb8d321c28"
      },
      "source": [
        "# 条件に合致したものだけの要素を新たな配列として出力する\n",
        "\n",
        "b[b > 0]"
      ],
      "execution_count": null,
      "outputs": [
        {
          "output_type": "execute_result",
          "data": {
            "text/plain": [
              "array([1, 2])"
            ]
          },
          "metadata": {
            "tags": []
          },
          "execution_count": 212
        }
      ]
    },
    {
      "cell_type": "code",
      "metadata": {
        "colab": {
          "base_uri": "https://localhost:8080/"
        },
        "id": "atGxAo_I4aoc",
        "outputId": "0bafdfc3-41f6-4ebb-e6f9-f0275801ce15"
      },
      "source": [
        "b"
      ],
      "execution_count": null,
      "outputs": [
        {
          "output_type": "execute_result",
          "data": {
            "text/plain": [
              "array([[-3, -2, -1],\n",
              "       [ 0,  1,  2]])"
            ]
          },
          "metadata": {
            "tags": []
          },
          "execution_count": 213
        }
      ]
    },
    {
      "cell_type": "code",
      "metadata": {
        "colab": {
          "base_uri": "https://localhost:8080/"
        },
        "id": "KVCUKrMD4d9M",
        "outputId": "41d497ad-77ac-4669-87ea-9c85f8f5d9c8"
      },
      "source": [
        "c"
      ],
      "execution_count": null,
      "outputs": [
        {
          "output_type": "execute_result",
          "data": {
            "text/plain": [
              "array([[1, 2, 3],\n",
              "       [4, 5, 6]])"
            ]
          },
          "metadata": {
            "tags": []
          },
          "execution_count": 214
        }
      ]
    },
    {
      "cell_type": "code",
      "metadata": {
        "colab": {
          "base_uri": "https://localhost:8080/"
        },
        "id": "35uddHif4Tx5",
        "outputId": "1919d77e-1429-4410-8868-68be98bf3a8b"
      },
      "source": [
        "# 配列同士の比較\n",
        "\n",
        "b == c"
      ],
      "execution_count": null,
      "outputs": [
        {
          "output_type": "execute_result",
          "data": {
            "text/plain": [
              "array([[False, False, False],\n",
              "       [False, False, False]])"
            ]
          },
          "metadata": {
            "tags": []
          },
          "execution_count": 215
        }
      ]
    },
    {
      "cell_type": "code",
      "metadata": {
        "colab": {
          "base_uri": "https://localhost:8080/"
        },
        "id": "GFXmreCF6Snd",
        "outputId": "7cccf578-214c-45b3-82c4-d363a5a848f2"
      },
      "source": [
        "a"
      ],
      "execution_count": null,
      "outputs": [
        {
          "output_type": "execute_result",
          "data": {
            "text/plain": [
              "array([0, 1, 2])"
            ]
          },
          "metadata": {
            "tags": []
          },
          "execution_count": 217
        }
      ]
    },
    {
      "cell_type": "code",
      "metadata": {
        "colab": {
          "base_uri": "https://localhost:8080/"
        },
        "id": "K9GM1iQ-6WAG",
        "outputId": "342093ee-99d4-4469-ecf4-67a807322f9a"
      },
      "source": [
        "b"
      ],
      "execution_count": null,
      "outputs": [
        {
          "output_type": "execute_result",
          "data": {
            "text/plain": [
              "array([[-3, -2, -1],\n",
              "       [ 0,  1,  2]])"
            ]
          },
          "metadata": {
            "tags": []
          },
          "execution_count": 218
        }
      ]
    },
    {
      "cell_type": "code",
      "metadata": {
        "colab": {
          "base_uri": "https://localhost:8080/"
        },
        "id": "Z0LsnLBd4ipH",
        "outputId": "c5084dbe-b5f5-49a0-e02f-e478ea7a9316"
      },
      "source": [
        "# １次元配列と２次元配列の比較\n",
        "\n",
        "a == b"
      ],
      "execution_count": null,
      "outputs": [
        {
          "output_type": "execute_result",
          "data": {
            "text/plain": [
              "array([[False, False, False],\n",
              "       [ True,  True,  True]])"
            ]
          },
          "metadata": {
            "tags": []
          },
          "execution_count": 216
        }
      ]
    },
    {
      "cell_type": "code",
      "metadata": {
        "colab": {
          "base_uri": "https://localhost:8080/"
        },
        "id": "bYTy4sjw6FeT",
        "outputId": "f1443da4-cf41-4064-a8a7-0464d0708152"
      },
      "source": [
        "# 複数の配列の比較結果をビット演算\n",
        "\n",
        "(b == c) | (a == b)"
      ],
      "execution_count": null,
      "outputs": [
        {
          "output_type": "execute_result",
          "data": {
            "text/plain": [
              "array([[False, False, False],\n",
              "       [ True,  True,  True]])"
            ]
          },
          "metadata": {
            "tags": []
          },
          "execution_count": 219
        }
      ]
    },
    {
      "cell_type": "code",
      "metadata": {
        "colab": {
          "base_uri": "https://localhost:8080/"
        },
        "id": "zq8ThJ5h67Hw",
        "outputId": "3263e7fe-2bb1-4da6-9157-a6207f166637"
      },
      "source": [
        "# 複数の配列のビット演算の条件に合う要素のみを配列から取得\n",
        "\n",
        "b[(b == c) | (a == b)]"
      ],
      "execution_count": null,
      "outputs": [
        {
          "output_type": "execute_result",
          "data": {
            "text/plain": [
              "array([0, 1, 2])"
            ]
          },
          "metadata": {
            "tags": []
          },
          "execution_count": 220
        }
      ]
    },
    {
      "cell_type": "code",
      "metadata": {
        "colab": {
          "base_uri": "https://localhost:8080/"
        },
        "id": "VjAQmY_R7Nb-",
        "outputId": "4388bab1-2a9a-4613-c811-029a2ced6f5a"
      },
      "source": [
        "# 配列同士が同じ要素で構成されているか\n",
        "# allclose関数は、誤差の範囲内かを見ている\n",
        "\n",
        "np.allclose(b,c)"
      ],
      "execution_count": null,
      "outputs": [
        {
          "output_type": "execute_result",
          "data": {
            "text/plain": [
              "False"
            ]
          },
          "metadata": {
            "tags": []
          },
          "execution_count": 221
        }
      ]
    },
    {
      "cell_type": "code",
      "metadata": {
        "colab": {
          "base_uri": "https://localhost:8080/"
        },
        "id": "c2HACKa77aPM",
        "outputId": "534d0f24-3afa-498c-d5f7-7819b24d3dcf"
      },
      "source": [
        "# 誤差の範囲を１０とすると、Trueになる\n",
        "\n",
        "np.allclose(b,c,atol=10)"
      ],
      "execution_count": null,
      "outputs": [
        {
          "output_type": "execute_result",
          "data": {
            "text/plain": [
              "True"
            ]
          },
          "metadata": {
            "tags": []
          },
          "execution_count": 222
        }
      ]
    },
    {
      "cell_type": "markdown",
      "metadata": {
        "id": "VevdU6SY8CdV"
      },
      "source": [
        "### ●関数とメソッド"
      ]
    },
    {
      "cell_type": "code",
      "metadata": {
        "colab": {
          "base_uri": "https://localhost:8080/"
        },
        "id": "YU5l4gES70Ok",
        "outputId": "404597fb-8957-4d56-ed3b-4c2054d9fe96"
      },
      "source": [
        "# NumPyの関数\n",
        "\n",
        "np.sum(a)"
      ],
      "execution_count": null,
      "outputs": [
        {
          "output_type": "execute_result",
          "data": {
            "text/plain": [
              "3"
            ]
          },
          "metadata": {
            "tags": []
          },
          "execution_count": 223
        }
      ]
    },
    {
      "cell_type": "code",
      "metadata": {
        "colab": {
          "base_uri": "https://localhost:8080/"
        },
        "id": "Ipb00flH9JbK",
        "outputId": "be32fe06-83b0-4222-a8cd-15b4f3af15ff"
      },
      "source": [
        "# 配列のメソッド\n",
        "\n",
        "a.sum()"
      ],
      "execution_count": null,
      "outputs": [
        {
          "output_type": "execute_result",
          "data": {
            "text/plain": [
              "3"
            ]
          },
          "metadata": {
            "tags": []
          },
          "execution_count": 224
        }
      ]
    },
    {
      "cell_type": "code",
      "metadata": {
        "id": "inSWHOwtRs8i",
        "outputId": "554c1c73-11c8-4237-9d3e-4fe75f328aa2",
        "colab": {
          "base_uri": "https://localhost:8080/"
        }
      },
      "source": [
        "b.sum()"
      ],
      "execution_count": null,
      "outputs": [
        {
          "output_type": "execute_result",
          "data": {
            "text/plain": [
              "-3"
            ]
          },
          "metadata": {
            "tags": []
          },
          "execution_count": 35
        }
      ]
    },
    {
      "cell_type": "code",
      "metadata": {
        "id": "gnAtx4pm9Pta",
        "colab": {
          "base_uri": "https://localhost:8080/"
        },
        "outputId": "cf4cb643-9559-4720-b9cf-c0800eb4a62c"
      },
      "source": [
        "b[b > 0].sum()"
      ],
      "execution_count": null,
      "outputs": [
        {
          "output_type": "execute_result",
          "data": {
            "text/plain": [
              "3"
            ]
          },
          "metadata": {
            "tags": []
          },
          "execution_count": 34
        }
      ]
    },
    {
      "cell_type": "code",
      "metadata": {
        "id": "rDAS8UR1RLPE"
      },
      "source": [],
      "execution_count": null,
      "outputs": []
    }
  ]
}