{
  "nbformat": 4,
  "nbformat_minor": 0,
  "metadata": {
    "colab": {
      "provenance": [],
      "toc_visible": true,
      "authorship_tag": "ABX9TyMsPPTpBjESlEq7od7N698m",
      "include_colab_link": true
    },
    "kernelspec": {
      "name": "python3",
      "display_name": "Python 3"
    }
  },
  "cells": [
    {
      "cell_type": "markdown",
      "metadata": {
        "id": "view-in-github",
        "colab_type": "text"
      },
      "source": [
        "<a href=\"https://colab.research.google.com/github/treefield00/PythonNewText4DA/blob/main/python_data_analysis_4_2.ipynb\" target=\"_parent\"><img src=\"https://colab.research.google.com/assets/colab-badge.svg\" alt=\"Open In Colab\"/></a>"
      ]
    },
    {
      "cell_type": "markdown",
      "metadata": {
        "id": "l7LooqoJ_ieh"
      },
      "source": [
        "# ▶︎4.2 pandas"
      ]
    },
    {
      "cell_type": "markdown",
      "metadata": {
        "id": "UovKFTF0_8fC"
      },
      "source": [
        "## ▶︎4.2.1 pandasの概要"
      ]
    },
    {
      "cell_type": "markdown",
      "metadata": {
        "id": "Tk0rmrUFAkIW"
      },
      "source": [
        "### ●pandas とは"
      ]
    },
    {
      "cell_type": "code",
      "metadata": {
        "id": "fCqH6DQP_TjA"
      },
      "source": [
        "import pandas as pd"
      ],
      "execution_count": null,
      "outputs": []
    },
    {
      "cell_type": "markdown",
      "metadata": {
        "id": "UUD5r0hFANsm"
      },
      "source": [
        "### ●Seriesとは"
      ]
    },
    {
      "cell_type": "code",
      "metadata": {
        "colab": {
          "base_uri": "https://localhost:8080/"
        },
        "id": "iXa05FVBAJPu",
        "outputId": "eb02750d-4a62-42e0-f0eb-b67822849d10"
      },
      "source": [
        "ser = pd.Series([10,20,30,40])\n",
        "ser"
      ],
      "execution_count": null,
      "outputs": [
        {
          "output_type": "execute_result",
          "data": {
            "text/plain": [
              "0    10\n",
              "1    20\n",
              "2    30\n",
              "3    40\n",
              "dtype: int64"
            ]
          },
          "metadata": {
            "tags": []
          },
          "execution_count": 3
        }
      ]
    },
    {
      "cell_type": "markdown",
      "metadata": {
        "id": "lOovTXkjAtS5"
      },
      "source": [
        "### ●DataFrameとは"
      ]
    },
    {
      "cell_type": "code",
      "metadata": {
        "colab": {
          "base_uri": "https://localhost:8080/",
          "height": 173
        },
        "id": "_BpderQPAclO",
        "outputId": "51577aa7-fe38-4075-eb75-8692bc08b7f1"
      },
      "source": [
        "df = pd.DataFrame([[10,\"a\",True],\n",
        "                   [20,\"b\",False],\n",
        "                   [30,\"c\",False],\n",
        "                   [40,\"d\",True]])\n",
        "df"
      ],
      "execution_count": null,
      "outputs": [
        {
          "output_type": "execute_result",
          "data": {
            "text/html": [
              "<div>\n",
              "<style scoped>\n",
              "    .dataframe tbody tr th:only-of-type {\n",
              "        vertical-align: middle;\n",
              "    }\n",
              "\n",
              "    .dataframe tbody tr th {\n",
              "        vertical-align: top;\n",
              "    }\n",
              "\n",
              "    .dataframe thead th {\n",
              "        text-align: right;\n",
              "    }\n",
              "</style>\n",
              "<table border=\"1\" class=\"dataframe\">\n",
              "  <thead>\n",
              "    <tr style=\"text-align: right;\">\n",
              "      <th></th>\n",
              "      <th>0</th>\n",
              "      <th>1</th>\n",
              "      <th>2</th>\n",
              "    </tr>\n",
              "  </thead>\n",
              "  <tbody>\n",
              "    <tr>\n",
              "      <th>0</th>\n",
              "      <td>10</td>\n",
              "      <td>a</td>\n",
              "      <td>True</td>\n",
              "    </tr>\n",
              "    <tr>\n",
              "      <th>1</th>\n",
              "      <td>20</td>\n",
              "      <td>b</td>\n",
              "      <td>False</td>\n",
              "    </tr>\n",
              "    <tr>\n",
              "      <th>2</th>\n",
              "      <td>30</td>\n",
              "      <td>c</td>\n",
              "      <td>False</td>\n",
              "    </tr>\n",
              "    <tr>\n",
              "      <th>3</th>\n",
              "      <td>40</td>\n",
              "      <td>d</td>\n",
              "      <td>True</td>\n",
              "    </tr>\n",
              "  </tbody>\n",
              "</table>\n",
              "</div>"
            ],
            "text/plain": [
              "    0  1      2\n",
              "0  10  a   True\n",
              "1  20  b  False\n",
              "2  30  c  False\n",
              "3  40  d   True"
            ]
          },
          "metadata": {
            "tags": []
          },
          "execution_count": 4
        }
      ]
    },
    {
      "cell_type": "markdown",
      "metadata": {
        "id": "pAT6W7puBX_e"
      },
      "source": [
        "DataFrameの列にデータ型が混在している場合は、データ型がオブジェクトとなる  \n",
        "その場合は数値計算できない"
      ]
    },
    {
      "cell_type": "markdown",
      "metadata": {
        "id": "w1mQh_CIB1mF"
      },
      "source": [
        "### ●DataFrameの概要を見る"
      ]
    },
    {
      "cell_type": "code",
      "metadata": {
        "id": "MHcYw0QuBPSr"
      },
      "source": [
        "import numpy as np\n",
        "df = pd.DataFrame(np.arange(100).reshape((25,4)))"
      ],
      "execution_count": null,
      "outputs": []
    },
    {
      "cell_type": "code",
      "metadata": {
        "colab": {
          "base_uri": "https://localhost:8080/",
          "height": 824
        },
        "id": "0-MCeOxyByBz",
        "outputId": "026b131e-4ab4-4986-e55d-86f858717a3d"
      },
      "source": [
        "df"
      ],
      "execution_count": null,
      "outputs": [
        {
          "output_type": "execute_result",
          "data": {
            "text/html": [
              "<div>\n",
              "<style scoped>\n",
              "    .dataframe tbody tr th:only-of-type {\n",
              "        vertical-align: middle;\n",
              "    }\n",
              "\n",
              "    .dataframe tbody tr th {\n",
              "        vertical-align: top;\n",
              "    }\n",
              "\n",
              "    .dataframe thead th {\n",
              "        text-align: right;\n",
              "    }\n",
              "</style>\n",
              "<table border=\"1\" class=\"dataframe\">\n",
              "  <thead>\n",
              "    <tr style=\"text-align: right;\">\n",
              "      <th></th>\n",
              "      <th>0</th>\n",
              "      <th>1</th>\n",
              "      <th>2</th>\n",
              "      <th>3</th>\n",
              "    </tr>\n",
              "  </thead>\n",
              "  <tbody>\n",
              "    <tr>\n",
              "      <th>0</th>\n",
              "      <td>0</td>\n",
              "      <td>1</td>\n",
              "      <td>2</td>\n",
              "      <td>3</td>\n",
              "    </tr>\n",
              "    <tr>\n",
              "      <th>1</th>\n",
              "      <td>4</td>\n",
              "      <td>5</td>\n",
              "      <td>6</td>\n",
              "      <td>7</td>\n",
              "    </tr>\n",
              "    <tr>\n",
              "      <th>2</th>\n",
              "      <td>8</td>\n",
              "      <td>9</td>\n",
              "      <td>10</td>\n",
              "      <td>11</td>\n",
              "    </tr>\n",
              "    <tr>\n",
              "      <th>3</th>\n",
              "      <td>12</td>\n",
              "      <td>13</td>\n",
              "      <td>14</td>\n",
              "      <td>15</td>\n",
              "    </tr>\n",
              "    <tr>\n",
              "      <th>4</th>\n",
              "      <td>16</td>\n",
              "      <td>17</td>\n",
              "      <td>18</td>\n",
              "      <td>19</td>\n",
              "    </tr>\n",
              "    <tr>\n",
              "      <th>5</th>\n",
              "      <td>20</td>\n",
              "      <td>21</td>\n",
              "      <td>22</td>\n",
              "      <td>23</td>\n",
              "    </tr>\n",
              "    <tr>\n",
              "      <th>6</th>\n",
              "      <td>24</td>\n",
              "      <td>25</td>\n",
              "      <td>26</td>\n",
              "      <td>27</td>\n",
              "    </tr>\n",
              "    <tr>\n",
              "      <th>7</th>\n",
              "      <td>28</td>\n",
              "      <td>29</td>\n",
              "      <td>30</td>\n",
              "      <td>31</td>\n",
              "    </tr>\n",
              "    <tr>\n",
              "      <th>8</th>\n",
              "      <td>32</td>\n",
              "      <td>33</td>\n",
              "      <td>34</td>\n",
              "      <td>35</td>\n",
              "    </tr>\n",
              "    <tr>\n",
              "      <th>9</th>\n",
              "      <td>36</td>\n",
              "      <td>37</td>\n",
              "      <td>38</td>\n",
              "      <td>39</td>\n",
              "    </tr>\n",
              "    <tr>\n",
              "      <th>10</th>\n",
              "      <td>40</td>\n",
              "      <td>41</td>\n",
              "      <td>42</td>\n",
              "      <td>43</td>\n",
              "    </tr>\n",
              "    <tr>\n",
              "      <th>11</th>\n",
              "      <td>44</td>\n",
              "      <td>45</td>\n",
              "      <td>46</td>\n",
              "      <td>47</td>\n",
              "    </tr>\n",
              "    <tr>\n",
              "      <th>12</th>\n",
              "      <td>48</td>\n",
              "      <td>49</td>\n",
              "      <td>50</td>\n",
              "      <td>51</td>\n",
              "    </tr>\n",
              "    <tr>\n",
              "      <th>13</th>\n",
              "      <td>52</td>\n",
              "      <td>53</td>\n",
              "      <td>54</td>\n",
              "      <td>55</td>\n",
              "    </tr>\n",
              "    <tr>\n",
              "      <th>14</th>\n",
              "      <td>56</td>\n",
              "      <td>57</td>\n",
              "      <td>58</td>\n",
              "      <td>59</td>\n",
              "    </tr>\n",
              "    <tr>\n",
              "      <th>15</th>\n",
              "      <td>60</td>\n",
              "      <td>61</td>\n",
              "      <td>62</td>\n",
              "      <td>63</td>\n",
              "    </tr>\n",
              "    <tr>\n",
              "      <th>16</th>\n",
              "      <td>64</td>\n",
              "      <td>65</td>\n",
              "      <td>66</td>\n",
              "      <td>67</td>\n",
              "    </tr>\n",
              "    <tr>\n",
              "      <th>17</th>\n",
              "      <td>68</td>\n",
              "      <td>69</td>\n",
              "      <td>70</td>\n",
              "      <td>71</td>\n",
              "    </tr>\n",
              "    <tr>\n",
              "      <th>18</th>\n",
              "      <td>72</td>\n",
              "      <td>73</td>\n",
              "      <td>74</td>\n",
              "      <td>75</td>\n",
              "    </tr>\n",
              "    <tr>\n",
              "      <th>19</th>\n",
              "      <td>76</td>\n",
              "      <td>77</td>\n",
              "      <td>78</td>\n",
              "      <td>79</td>\n",
              "    </tr>\n",
              "    <tr>\n",
              "      <th>20</th>\n",
              "      <td>80</td>\n",
              "      <td>81</td>\n",
              "      <td>82</td>\n",
              "      <td>83</td>\n",
              "    </tr>\n",
              "    <tr>\n",
              "      <th>21</th>\n",
              "      <td>84</td>\n",
              "      <td>85</td>\n",
              "      <td>86</td>\n",
              "      <td>87</td>\n",
              "    </tr>\n",
              "    <tr>\n",
              "      <th>22</th>\n",
              "      <td>88</td>\n",
              "      <td>89</td>\n",
              "      <td>90</td>\n",
              "      <td>91</td>\n",
              "    </tr>\n",
              "    <tr>\n",
              "      <th>23</th>\n",
              "      <td>92</td>\n",
              "      <td>93</td>\n",
              "      <td>94</td>\n",
              "      <td>95</td>\n",
              "    </tr>\n",
              "    <tr>\n",
              "      <th>24</th>\n",
              "      <td>96</td>\n",
              "      <td>97</td>\n",
              "      <td>98</td>\n",
              "      <td>99</td>\n",
              "    </tr>\n",
              "  </tbody>\n",
              "</table>\n",
              "</div>"
            ],
            "text/plain": [
              "     0   1   2   3\n",
              "0    0   1   2   3\n",
              "1    4   5   6   7\n",
              "2    8   9  10  11\n",
              "3   12  13  14  15\n",
              "4   16  17  18  19\n",
              "5   20  21  22  23\n",
              "6   24  25  26  27\n",
              "7   28  29  30  31\n",
              "8   32  33  34  35\n",
              "9   36  37  38  39\n",
              "10  40  41  42  43\n",
              "11  44  45  46  47\n",
              "12  48  49  50  51\n",
              "13  52  53  54  55\n",
              "14  56  57  58  59\n",
              "15  60  61  62  63\n",
              "16  64  65  66  67\n",
              "17  68  69  70  71\n",
              "18  72  73  74  75\n",
              "19  76  77  78  79\n",
              "20  80  81  82  83\n",
              "21  84  85  86  87\n",
              "22  88  89  90  91\n",
              "23  92  93  94  95\n",
              "24  96  97  98  99"
            ]
          },
          "metadata": {
            "tags": []
          },
          "execution_count": 8
        }
      ]
    },
    {
      "cell_type": "code",
      "metadata": {
        "colab": {
          "base_uri": "https://localhost:8080/",
          "height": 204
        },
        "id": "Amd6t8czCRht",
        "outputId": "1aab622e-a27a-4af6-d35f-b1a1cd9fd71e"
      },
      "source": [
        "# headメソッド\n",
        "df.head()"
      ],
      "execution_count": null,
      "outputs": [
        {
          "output_type": "execute_result",
          "data": {
            "text/html": [
              "<div>\n",
              "<style scoped>\n",
              "    .dataframe tbody tr th:only-of-type {\n",
              "        vertical-align: middle;\n",
              "    }\n",
              "\n",
              "    .dataframe tbody tr th {\n",
              "        vertical-align: top;\n",
              "    }\n",
              "\n",
              "    .dataframe thead th {\n",
              "        text-align: right;\n",
              "    }\n",
              "</style>\n",
              "<table border=\"1\" class=\"dataframe\">\n",
              "  <thead>\n",
              "    <tr style=\"text-align: right;\">\n",
              "      <th></th>\n",
              "      <th>0</th>\n",
              "      <th>1</th>\n",
              "      <th>2</th>\n",
              "      <th>3</th>\n",
              "    </tr>\n",
              "  </thead>\n",
              "  <tbody>\n",
              "    <tr>\n",
              "      <th>0</th>\n",
              "      <td>0</td>\n",
              "      <td>1</td>\n",
              "      <td>2</td>\n",
              "      <td>3</td>\n",
              "    </tr>\n",
              "    <tr>\n",
              "      <th>1</th>\n",
              "      <td>4</td>\n",
              "      <td>5</td>\n",
              "      <td>6</td>\n",
              "      <td>7</td>\n",
              "    </tr>\n",
              "    <tr>\n",
              "      <th>2</th>\n",
              "      <td>8</td>\n",
              "      <td>9</td>\n",
              "      <td>10</td>\n",
              "      <td>11</td>\n",
              "    </tr>\n",
              "    <tr>\n",
              "      <th>3</th>\n",
              "      <td>12</td>\n",
              "      <td>13</td>\n",
              "      <td>14</td>\n",
              "      <td>15</td>\n",
              "    </tr>\n",
              "    <tr>\n",
              "      <th>4</th>\n",
              "      <td>16</td>\n",
              "      <td>17</td>\n",
              "      <td>18</td>\n",
              "      <td>19</td>\n",
              "    </tr>\n",
              "  </tbody>\n",
              "</table>\n",
              "</div>"
            ],
            "text/plain": [
              "    0   1   2   3\n",
              "0   0   1   2   3\n",
              "1   4   5   6   7\n",
              "2   8   9  10  11\n",
              "3  12  13  14  15\n",
              "4  16  17  18  19"
            ]
          },
          "metadata": {
            "tags": []
          },
          "execution_count": 9
        }
      ]
    },
    {
      "cell_type": "code",
      "metadata": {
        "colab": {
          "base_uri": "https://localhost:8080/",
          "height": 204
        },
        "id": "j9u7wNDbCVdC",
        "outputId": "c395017f-db48-42f2-cf02-332b534c37ca"
      },
      "source": [
        "# tailメソッド\n",
        "df.tail()"
      ],
      "execution_count": null,
      "outputs": [
        {
          "output_type": "execute_result",
          "data": {
            "text/html": [
              "<div>\n",
              "<style scoped>\n",
              "    .dataframe tbody tr th:only-of-type {\n",
              "        vertical-align: middle;\n",
              "    }\n",
              "\n",
              "    .dataframe tbody tr th {\n",
              "        vertical-align: top;\n",
              "    }\n",
              "\n",
              "    .dataframe thead th {\n",
              "        text-align: right;\n",
              "    }\n",
              "</style>\n",
              "<table border=\"1\" class=\"dataframe\">\n",
              "  <thead>\n",
              "    <tr style=\"text-align: right;\">\n",
              "      <th></th>\n",
              "      <th>0</th>\n",
              "      <th>1</th>\n",
              "      <th>2</th>\n",
              "      <th>3</th>\n",
              "    </tr>\n",
              "  </thead>\n",
              "  <tbody>\n",
              "    <tr>\n",
              "      <th>20</th>\n",
              "      <td>80</td>\n",
              "      <td>81</td>\n",
              "      <td>82</td>\n",
              "      <td>83</td>\n",
              "    </tr>\n",
              "    <tr>\n",
              "      <th>21</th>\n",
              "      <td>84</td>\n",
              "      <td>85</td>\n",
              "      <td>86</td>\n",
              "      <td>87</td>\n",
              "    </tr>\n",
              "    <tr>\n",
              "      <th>22</th>\n",
              "      <td>88</td>\n",
              "      <td>89</td>\n",
              "      <td>90</td>\n",
              "      <td>91</td>\n",
              "    </tr>\n",
              "    <tr>\n",
              "      <th>23</th>\n",
              "      <td>92</td>\n",
              "      <td>93</td>\n",
              "      <td>94</td>\n",
              "      <td>95</td>\n",
              "    </tr>\n",
              "    <tr>\n",
              "      <th>24</th>\n",
              "      <td>96</td>\n",
              "      <td>97</td>\n",
              "      <td>98</td>\n",
              "      <td>99</td>\n",
              "    </tr>\n",
              "  </tbody>\n",
              "</table>\n",
              "</div>"
            ],
            "text/plain": [
              "     0   1   2   3\n",
              "20  80  81  82  83\n",
              "21  84  85  86  87\n",
              "22  88  89  90  91\n",
              "23  92  93  94  95\n",
              "24  96  97  98  99"
            ]
          },
          "metadata": {
            "tags": []
          },
          "execution_count": 10
        }
      ]
    },
    {
      "cell_type": "code",
      "metadata": {
        "colab": {
          "base_uri": "https://localhost:8080/"
        },
        "id": "je4SJugICZ7Q",
        "outputId": "fe621096-20fa-4eaf-f2bf-bbc0c9de63a6"
      },
      "source": [
        "# shape属性\n",
        "df.shape"
      ],
      "execution_count": null,
      "outputs": [
        {
          "output_type": "execute_result",
          "data": {
            "text/plain": [
              "(25, 4)"
            ]
          },
          "metadata": {
            "tags": []
          },
          "execution_count": 11
        }
      ]
    },
    {
      "cell_type": "markdown",
      "metadata": {
        "id": "uxPyvuysCxE4"
      },
      "source": [
        "### ●インデックス名、カラム名"
      ]
    },
    {
      "cell_type": "code",
      "metadata": {
        "colab": {
          "base_uri": "https://localhost:8080/",
          "height": 142
        },
        "id": "6AKC53YfCflT",
        "outputId": "b466eefe-d630-4375-9a42-7999c928c540"
      },
      "source": [
        "df = pd.DataFrame(np.arange(6).reshape((3,2)))\n",
        "df"
      ],
      "execution_count": null,
      "outputs": [
        {
          "output_type": "execute_result",
          "data": {
            "text/html": [
              "<div>\n",
              "<style scoped>\n",
              "    .dataframe tbody tr th:only-of-type {\n",
              "        vertical-align: middle;\n",
              "    }\n",
              "\n",
              "    .dataframe tbody tr th {\n",
              "        vertical-align: top;\n",
              "    }\n",
              "\n",
              "    .dataframe thead th {\n",
              "        text-align: right;\n",
              "    }\n",
              "</style>\n",
              "<table border=\"1\" class=\"dataframe\">\n",
              "  <thead>\n",
              "    <tr style=\"text-align: right;\">\n",
              "      <th></th>\n",
              "      <th>0</th>\n",
              "      <th>1</th>\n",
              "    </tr>\n",
              "  </thead>\n",
              "  <tbody>\n",
              "    <tr>\n",
              "      <th>0</th>\n",
              "      <td>0</td>\n",
              "      <td>1</td>\n",
              "    </tr>\n",
              "    <tr>\n",
              "      <th>1</th>\n",
              "      <td>2</td>\n",
              "      <td>3</td>\n",
              "    </tr>\n",
              "    <tr>\n",
              "      <th>2</th>\n",
              "      <td>4</td>\n",
              "      <td>5</td>\n",
              "    </tr>\n",
              "  </tbody>\n",
              "</table>\n",
              "</div>"
            ],
            "text/plain": [
              "   0  1\n",
              "0  0  1\n",
              "1  2  3\n",
              "2  4  5"
            ]
          },
          "metadata": {
            "tags": []
          },
          "execution_count": 12
        }
      ]
    },
    {
      "cell_type": "code",
      "metadata": {
        "colab": {
          "base_uri": "https://localhost:8080/",
          "height": 142
        },
        "id": "96xbVYz6GTE2",
        "outputId": "58a23931-eef6-40c6-c3f7-9441a89f6419"
      },
      "source": [
        "df.index = [\"01\", \"02\", \"03\"]\n",
        "df.columns = [\"A\", \"B\"]\n",
        "df"
      ],
      "execution_count": null,
      "outputs": [
        {
          "output_type": "execute_result",
          "data": {
            "text/html": [
              "<div>\n",
              "<style scoped>\n",
              "    .dataframe tbody tr th:only-of-type {\n",
              "        vertical-align: middle;\n",
              "    }\n",
              "\n",
              "    .dataframe tbody tr th {\n",
              "        vertical-align: top;\n",
              "    }\n",
              "\n",
              "    .dataframe thead th {\n",
              "        text-align: right;\n",
              "    }\n",
              "</style>\n",
              "<table border=\"1\" class=\"dataframe\">\n",
              "  <thead>\n",
              "    <tr style=\"text-align: right;\">\n",
              "      <th></th>\n",
              "      <th>A</th>\n",
              "      <th>B</th>\n",
              "    </tr>\n",
              "  </thead>\n",
              "  <tbody>\n",
              "    <tr>\n",
              "      <th>01</th>\n",
              "      <td>0</td>\n",
              "      <td>1</td>\n",
              "    </tr>\n",
              "    <tr>\n",
              "      <th>02</th>\n",
              "      <td>2</td>\n",
              "      <td>3</td>\n",
              "    </tr>\n",
              "    <tr>\n",
              "      <th>03</th>\n",
              "      <td>4</td>\n",
              "      <td>5</td>\n",
              "    </tr>\n",
              "  </tbody>\n",
              "</table>\n",
              "</div>"
            ],
            "text/plain": [
              "    A  B\n",
              "01  0  1\n",
              "02  2  3\n",
              "03  4  5"
            ]
          },
          "metadata": {
            "tags": []
          },
          "execution_count": 13
        }
      ]
    },
    {
      "cell_type": "code",
      "metadata": {
        "colab": {
          "base_uri": "https://localhost:8080/",
          "height": 142
        },
        "id": "wj4WyRyKGsbj",
        "outputId": "fbdf951e-59e4-43f1-8cc4-ec0429ebb73f"
      },
      "source": [
        "named_df = pd.DataFrame(np.arange(6).reshape((3,2)),\n",
        "                        columns = [\"A列\", \"B列\"],\n",
        "                        index = [\"１行目\",\"２行目\",\"３行目\"])\n",
        "named_df"
      ],
      "execution_count": null,
      "outputs": [
        {
          "output_type": "execute_result",
          "data": {
            "text/html": [
              "<div>\n",
              "<style scoped>\n",
              "    .dataframe tbody tr th:only-of-type {\n",
              "        vertical-align: middle;\n",
              "    }\n",
              "\n",
              "    .dataframe tbody tr th {\n",
              "        vertical-align: top;\n",
              "    }\n",
              "\n",
              "    .dataframe thead th {\n",
              "        text-align: right;\n",
              "    }\n",
              "</style>\n",
              "<table border=\"1\" class=\"dataframe\">\n",
              "  <thead>\n",
              "    <tr style=\"text-align: right;\">\n",
              "      <th></th>\n",
              "      <th>A列</th>\n",
              "      <th>B列</th>\n",
              "    </tr>\n",
              "  </thead>\n",
              "  <tbody>\n",
              "    <tr>\n",
              "      <th>１行目</th>\n",
              "      <td>0</td>\n",
              "      <td>1</td>\n",
              "    </tr>\n",
              "    <tr>\n",
              "      <th>２行目</th>\n",
              "      <td>2</td>\n",
              "      <td>3</td>\n",
              "    </tr>\n",
              "    <tr>\n",
              "      <th>３行目</th>\n",
              "      <td>4</td>\n",
              "      <td>5</td>\n",
              "    </tr>\n",
              "  </tbody>\n",
              "</table>\n",
              "</div>"
            ],
            "text/plain": [
              "     A列  B列\n",
              "１行目   0   1\n",
              "２行目   2   3\n",
              "３行目   4   5"
            ]
          },
          "metadata": {
            "tags": []
          },
          "execution_count": 14
        }
      ]
    },
    {
      "cell_type": "code",
      "metadata": {
        "colab": {
          "base_uri": "https://localhost:8080/",
          "height": 142
        },
        "id": "45v7odPWHSuQ",
        "outputId": "495ebdbd-cace-485a-b686-3f5b39e5405e"
      },
      "source": [
        "# dict形式で指定\n",
        "\n",
        "pd.DataFrame({\"A列\":[0,2,4],\"B列\":[1,3,5]})"
      ],
      "execution_count": null,
      "outputs": [
        {
          "output_type": "execute_result",
          "data": {
            "text/html": [
              "<div>\n",
              "<style scoped>\n",
              "    .dataframe tbody tr th:only-of-type {\n",
              "        vertical-align: middle;\n",
              "    }\n",
              "\n",
              "    .dataframe tbody tr th {\n",
              "        vertical-align: top;\n",
              "    }\n",
              "\n",
              "    .dataframe thead th {\n",
              "        text-align: right;\n",
              "    }\n",
              "</style>\n",
              "<table border=\"1\" class=\"dataframe\">\n",
              "  <thead>\n",
              "    <tr style=\"text-align: right;\">\n",
              "      <th></th>\n",
              "      <th>A列</th>\n",
              "      <th>B列</th>\n",
              "    </tr>\n",
              "  </thead>\n",
              "  <tbody>\n",
              "    <tr>\n",
              "      <th>0</th>\n",
              "      <td>0</td>\n",
              "      <td>1</td>\n",
              "    </tr>\n",
              "    <tr>\n",
              "      <th>1</th>\n",
              "      <td>2</td>\n",
              "      <td>3</td>\n",
              "    </tr>\n",
              "    <tr>\n",
              "      <th>2</th>\n",
              "      <td>4</td>\n",
              "      <td>5</td>\n",
              "    </tr>\n",
              "  </tbody>\n",
              "</table>\n",
              "</div>"
            ],
            "text/plain": [
              "   A列  B列\n",
              "0   0   1\n",
              "1   2   3\n",
              "2   4   5"
            ]
          },
          "metadata": {
            "tags": []
          },
          "execution_count": 15
        }
      ]
    },
    {
      "cell_type": "markdown",
      "metadata": {
        "id": "JselaKb-H2GJ"
      },
      "source": [
        "### ●データの抽出"
      ]
    },
    {
      "cell_type": "code",
      "metadata": {
        "colab": {
          "base_uri": "https://localhost:8080/",
          "height": 173
        },
        "id": "R6FlOryWHxmx",
        "outputId": "4673d19f-bd46-4216-e6ab-32542328a638"
      },
      "source": [
        "import numpy as np\n",
        "import pandas as pd\n",
        "\n",
        "df = pd.DataFrame(np.arange(12).reshape((4,3)),\n",
        "                  columns = [\"A\",\"B\",\"C\"],\n",
        "                  index = [\"１行目\",\"２行目\",\"３行目\",\"４行目\"])\n",
        "df"
      ],
      "execution_count": null,
      "outputs": [
        {
          "output_type": "execute_result",
          "data": {
            "text/html": [
              "<div>\n",
              "<style scoped>\n",
              "    .dataframe tbody tr th:only-of-type {\n",
              "        vertical-align: middle;\n",
              "    }\n",
              "\n",
              "    .dataframe tbody tr th {\n",
              "        vertical-align: top;\n",
              "    }\n",
              "\n",
              "    .dataframe thead th {\n",
              "        text-align: right;\n",
              "    }\n",
              "</style>\n",
              "<table border=\"1\" class=\"dataframe\">\n",
              "  <thead>\n",
              "    <tr style=\"text-align: right;\">\n",
              "      <th></th>\n",
              "      <th>A</th>\n",
              "      <th>B</th>\n",
              "      <th>C</th>\n",
              "    </tr>\n",
              "  </thead>\n",
              "  <tbody>\n",
              "    <tr>\n",
              "      <th>１行目</th>\n",
              "      <td>0</td>\n",
              "      <td>1</td>\n",
              "      <td>2</td>\n",
              "    </tr>\n",
              "    <tr>\n",
              "      <th>２行目</th>\n",
              "      <td>3</td>\n",
              "      <td>4</td>\n",
              "      <td>5</td>\n",
              "    </tr>\n",
              "    <tr>\n",
              "      <th>３行目</th>\n",
              "      <td>6</td>\n",
              "      <td>7</td>\n",
              "      <td>8</td>\n",
              "    </tr>\n",
              "    <tr>\n",
              "      <th>４行目</th>\n",
              "      <td>9</td>\n",
              "      <td>10</td>\n",
              "      <td>11</td>\n",
              "    </tr>\n",
              "  </tbody>\n",
              "</table>\n",
              "</div>"
            ],
            "text/plain": [
              "     A   B   C\n",
              "１行目  0   1   2\n",
              "２行目  3   4   5\n",
              "３行目  6   7   8\n",
              "４行目  9  10  11"
            ]
          },
          "metadata": {
            "tags": []
          },
          "execution_count": 1
        }
      ]
    },
    {
      "cell_type": "code",
      "metadata": {
        "colab": {
          "base_uri": "https://localhost:8080/"
        },
        "id": "LT1Kr1xAI28J",
        "outputId": "e8bc776e-d8fa-44f5-f7f2-d8cbab32908c"
      },
      "source": [
        "# 結果は１次元データなので、Seriesオブジェクトが返る\n",
        "\n",
        "df[\"A\"]"
      ],
      "execution_count": null,
      "outputs": [
        {
          "output_type": "execute_result",
          "data": {
            "text/plain": [
              "１行目    0\n",
              "２行目    3\n",
              "３行目    6\n",
              "４行目    9\n",
              "Name: A, dtype: int64"
            ]
          },
          "metadata": {
            "tags": []
          },
          "execution_count": 2
        }
      ]
    },
    {
      "cell_type": "code",
      "metadata": {
        "colab": {
          "base_uri": "https://localhost:8080/",
          "height": 173
        },
        "id": "hp0F3ud0I9OC",
        "outputId": "b74e0771-a014-4cc3-9e3b-8b3e986513bd"
      },
      "source": [
        "# 複数カラムを取得\n",
        "# リストで指定\n",
        "\n",
        "df[[\"A\",\"B\"]]"
      ],
      "execution_count": null,
      "outputs": [
        {
          "output_type": "execute_result",
          "data": {
            "text/html": [
              "<div>\n",
              "<style scoped>\n",
              "    .dataframe tbody tr th:only-of-type {\n",
              "        vertical-align: middle;\n",
              "    }\n",
              "\n",
              "    .dataframe tbody tr th {\n",
              "        vertical-align: top;\n",
              "    }\n",
              "\n",
              "    .dataframe thead th {\n",
              "        text-align: right;\n",
              "    }\n",
              "</style>\n",
              "<table border=\"1\" class=\"dataframe\">\n",
              "  <thead>\n",
              "    <tr style=\"text-align: right;\">\n",
              "      <th></th>\n",
              "      <th>A</th>\n",
              "      <th>B</th>\n",
              "    </tr>\n",
              "  </thead>\n",
              "  <tbody>\n",
              "    <tr>\n",
              "      <th>１行目</th>\n",
              "      <td>0</td>\n",
              "      <td>1</td>\n",
              "    </tr>\n",
              "    <tr>\n",
              "      <th>２行目</th>\n",
              "      <td>3</td>\n",
              "      <td>4</td>\n",
              "    </tr>\n",
              "    <tr>\n",
              "      <th>３行目</th>\n",
              "      <td>6</td>\n",
              "      <td>7</td>\n",
              "    </tr>\n",
              "    <tr>\n",
              "      <th>４行目</th>\n",
              "      <td>9</td>\n",
              "      <td>10</td>\n",
              "    </tr>\n",
              "  </tbody>\n",
              "</table>\n",
              "</div>"
            ],
            "text/plain": [
              "     A   B\n",
              "１行目  0   1\n",
              "２行目  3   4\n",
              "３行目  6   7\n",
              "４行目  9  10"
            ]
          },
          "metadata": {
            "tags": []
          },
          "execution_count": 3
        }
      ]
    },
    {
      "cell_type": "code",
      "metadata": {
        "colab": {
          "base_uri": "https://localhost:8080/",
          "height": 111
        },
        "id": "lnqweDhGJbAD",
        "outputId": "71d11c1a-f359-4a0b-8865-7144307dc35b"
      },
      "source": [
        "# インデックス値を指定\n",
        "\n",
        "df[:2]"
      ],
      "execution_count": null,
      "outputs": [
        {
          "output_type": "execute_result",
          "data": {
            "text/html": [
              "<div>\n",
              "<style scoped>\n",
              "    .dataframe tbody tr th:only-of-type {\n",
              "        vertical-align: middle;\n",
              "    }\n",
              "\n",
              "    .dataframe tbody tr th {\n",
              "        vertical-align: top;\n",
              "    }\n",
              "\n",
              "    .dataframe thead th {\n",
              "        text-align: right;\n",
              "    }\n",
              "</style>\n",
              "<table border=\"1\" class=\"dataframe\">\n",
              "  <thead>\n",
              "    <tr style=\"text-align: right;\">\n",
              "      <th></th>\n",
              "      <th>A</th>\n",
              "      <th>B</th>\n",
              "      <th>C</th>\n",
              "    </tr>\n",
              "  </thead>\n",
              "  <tbody>\n",
              "    <tr>\n",
              "      <th>１行目</th>\n",
              "      <td>0</td>\n",
              "      <td>1</td>\n",
              "      <td>2</td>\n",
              "    </tr>\n",
              "    <tr>\n",
              "      <th>２行目</th>\n",
              "      <td>3</td>\n",
              "      <td>4</td>\n",
              "      <td>5</td>\n",
              "    </tr>\n",
              "  </tbody>\n",
              "</table>\n",
              "</div>"
            ],
            "text/plain": [
              "     A  B  C\n",
              "１行目  0  1  2\n",
              "２行目  3  4  5"
            ]
          },
          "metadata": {
            "tags": []
          },
          "execution_count": 4
        }
      ]
    },
    {
      "cell_type": "code",
      "metadata": {
        "colab": {
          "base_uri": "https://localhost:8080/",
          "height": 111
        },
        "id": "4xo0ew7xMa-O",
        "outputId": "cbacc93d-e35e-4c5b-933f-c379c113132d"
      },
      "source": [
        "df[2:]"
      ],
      "execution_count": null,
      "outputs": [
        {
          "output_type": "execute_result",
          "data": {
            "text/html": [
              "<div>\n",
              "<style scoped>\n",
              "    .dataframe tbody tr th:only-of-type {\n",
              "        vertical-align: middle;\n",
              "    }\n",
              "\n",
              "    .dataframe tbody tr th {\n",
              "        vertical-align: top;\n",
              "    }\n",
              "\n",
              "    .dataframe thead th {\n",
              "        text-align: right;\n",
              "    }\n",
              "</style>\n",
              "<table border=\"1\" class=\"dataframe\">\n",
              "  <thead>\n",
              "    <tr style=\"text-align: right;\">\n",
              "      <th></th>\n",
              "      <th>A</th>\n",
              "      <th>B</th>\n",
              "      <th>C</th>\n",
              "    </tr>\n",
              "  </thead>\n",
              "  <tbody>\n",
              "    <tr>\n",
              "      <th>３行目</th>\n",
              "      <td>6</td>\n",
              "      <td>7</td>\n",
              "      <td>8</td>\n",
              "    </tr>\n",
              "    <tr>\n",
              "      <th>４行目</th>\n",
              "      <td>9</td>\n",
              "      <td>10</td>\n",
              "      <td>11</td>\n",
              "    </tr>\n",
              "  </tbody>\n",
              "</table>\n",
              "</div>"
            ],
            "text/plain": [
              "     A   B   C\n",
              "３行目  6   7   8\n",
              "４行目  9  10  11"
            ]
          },
          "metadata": {
            "tags": []
          },
          "execution_count": 6
        }
      ]
    },
    {
      "cell_type": "code",
      "metadata": {
        "colab": {
          "base_uri": "https://localhost:8080/",
          "height": 111
        },
        "id": "tblvMbtmM6Xj",
        "outputId": "cd89fa0a-16e9-4d6b-8c35-974aa975a2d1"
      },
      "source": [
        "df[1:3]"
      ],
      "execution_count": null,
      "outputs": [
        {
          "output_type": "execute_result",
          "data": {
            "text/html": [
              "<div>\n",
              "<style scoped>\n",
              "    .dataframe tbody tr th:only-of-type {\n",
              "        vertical-align: middle;\n",
              "    }\n",
              "\n",
              "    .dataframe tbody tr th {\n",
              "        vertical-align: top;\n",
              "    }\n",
              "\n",
              "    .dataframe thead th {\n",
              "        text-align: right;\n",
              "    }\n",
              "</style>\n",
              "<table border=\"1\" class=\"dataframe\">\n",
              "  <thead>\n",
              "    <tr style=\"text-align: right;\">\n",
              "      <th></th>\n",
              "      <th>A</th>\n",
              "      <th>B</th>\n",
              "      <th>C</th>\n",
              "    </tr>\n",
              "  </thead>\n",
              "  <tbody>\n",
              "    <tr>\n",
              "      <th>２行目</th>\n",
              "      <td>3</td>\n",
              "      <td>4</td>\n",
              "      <td>5</td>\n",
              "    </tr>\n",
              "    <tr>\n",
              "      <th>３行目</th>\n",
              "      <td>6</td>\n",
              "      <td>7</td>\n",
              "      <td>8</td>\n",
              "    </tr>\n",
              "  </tbody>\n",
              "</table>\n",
              "</div>"
            ],
            "text/plain": [
              "     A  B  C\n",
              "２行目  3  4  5\n",
              "３行目  6  7  8"
            ]
          },
          "metadata": {
            "tags": []
          },
          "execution_count": 14
        }
      ]
    },
    {
      "cell_type": "code",
      "metadata": {
        "colab": {
          "base_uri": "https://localhost:8080/",
          "height": 630
        },
        "id": "XW95G6BSOQ0q",
        "outputId": "dfcdd7f4-bc22-4a4b-e679-8de604081722"
      },
      "source": [
        "df[1]"
      ],
      "execution_count": null,
      "outputs": [
        {
          "output_type": "error",
          "ename": "KeyError",
          "evalue": "ignored",
          "traceback": [
            "\u001b[0;31m---------------------------------------------------------------------------\u001b[0m",
            "\u001b[0;31mKeyError\u001b[0m                                  Traceback (most recent call last)",
            "\u001b[0;32m/usr/local/lib/python3.6/dist-packages/pandas/core/indexes/base.py\u001b[0m in \u001b[0;36mget_loc\u001b[0;34m(self, key, method, tolerance)\u001b[0m\n\u001b[1;32m   2897\u001b[0m             \u001b[0;32mtry\u001b[0m\u001b[0;34m:\u001b[0m\u001b[0;34m\u001b[0m\u001b[0;34m\u001b[0m\u001b[0m\n\u001b[0;32m-> 2898\u001b[0;31m                 \u001b[0;32mreturn\u001b[0m \u001b[0mself\u001b[0m\u001b[0;34m.\u001b[0m\u001b[0m_engine\u001b[0m\u001b[0;34m.\u001b[0m\u001b[0mget_loc\u001b[0m\u001b[0;34m(\u001b[0m\u001b[0mcasted_key\u001b[0m\u001b[0;34m)\u001b[0m\u001b[0;34m\u001b[0m\u001b[0;34m\u001b[0m\u001b[0m\n\u001b[0m\u001b[1;32m   2899\u001b[0m             \u001b[0;32mexcept\u001b[0m \u001b[0mKeyError\u001b[0m \u001b[0;32mas\u001b[0m \u001b[0merr\u001b[0m\u001b[0;34m:\u001b[0m\u001b[0;34m\u001b[0m\u001b[0;34m\u001b[0m\u001b[0m\n",
            "\u001b[0;32mpandas/_libs/index.pyx\u001b[0m in \u001b[0;36mpandas._libs.index.IndexEngine.get_loc\u001b[0;34m()\u001b[0m\n",
            "\u001b[0;32mpandas/_libs/index.pyx\u001b[0m in \u001b[0;36mpandas._libs.index.IndexEngine.get_loc\u001b[0;34m()\u001b[0m\n",
            "\u001b[0;32mpandas/_libs/hashtable_class_helper.pxi\u001b[0m in \u001b[0;36mpandas._libs.hashtable.PyObjectHashTable.get_item\u001b[0;34m()\u001b[0m\n",
            "\u001b[0;32mpandas/_libs/hashtable_class_helper.pxi\u001b[0m in \u001b[0;36mpandas._libs.hashtable.PyObjectHashTable.get_item\u001b[0;34m()\u001b[0m\n",
            "\u001b[0;31mKeyError\u001b[0m: 1",
            "\nThe above exception was the direct cause of the following exception:\n",
            "\u001b[0;31mKeyError\u001b[0m                                  Traceback (most recent call last)",
            "\u001b[0;32m<ipython-input-19-78a33f69c558>\u001b[0m in \u001b[0;36m<module>\u001b[0;34m()\u001b[0m\n\u001b[0;32m----> 1\u001b[0;31m \u001b[0mdf\u001b[0m\u001b[0;34m[\u001b[0m\u001b[0;36m1\u001b[0m\u001b[0;34m]\u001b[0m\u001b[0;34m\u001b[0m\u001b[0;34m\u001b[0m\u001b[0m\n\u001b[0m",
            "\u001b[0;32m/usr/local/lib/python3.6/dist-packages/pandas/core/frame.py\u001b[0m in \u001b[0;36m__getitem__\u001b[0;34m(self, key)\u001b[0m\n\u001b[1;32m   2904\u001b[0m             \u001b[0;32mif\u001b[0m \u001b[0mself\u001b[0m\u001b[0;34m.\u001b[0m\u001b[0mcolumns\u001b[0m\u001b[0;34m.\u001b[0m\u001b[0mnlevels\u001b[0m \u001b[0;34m>\u001b[0m \u001b[0;36m1\u001b[0m\u001b[0;34m:\u001b[0m\u001b[0;34m\u001b[0m\u001b[0;34m\u001b[0m\u001b[0m\n\u001b[1;32m   2905\u001b[0m                 \u001b[0;32mreturn\u001b[0m \u001b[0mself\u001b[0m\u001b[0;34m.\u001b[0m\u001b[0m_getitem_multilevel\u001b[0m\u001b[0;34m(\u001b[0m\u001b[0mkey\u001b[0m\u001b[0;34m)\u001b[0m\u001b[0;34m\u001b[0m\u001b[0;34m\u001b[0m\u001b[0m\n\u001b[0;32m-> 2906\u001b[0;31m             \u001b[0mindexer\u001b[0m \u001b[0;34m=\u001b[0m \u001b[0mself\u001b[0m\u001b[0;34m.\u001b[0m\u001b[0mcolumns\u001b[0m\u001b[0;34m.\u001b[0m\u001b[0mget_loc\u001b[0m\u001b[0;34m(\u001b[0m\u001b[0mkey\u001b[0m\u001b[0;34m)\u001b[0m\u001b[0;34m\u001b[0m\u001b[0;34m\u001b[0m\u001b[0m\n\u001b[0m\u001b[1;32m   2907\u001b[0m             \u001b[0;32mif\u001b[0m \u001b[0mis_integer\u001b[0m\u001b[0;34m(\u001b[0m\u001b[0mindexer\u001b[0m\u001b[0;34m)\u001b[0m\u001b[0;34m:\u001b[0m\u001b[0;34m\u001b[0m\u001b[0;34m\u001b[0m\u001b[0m\n\u001b[1;32m   2908\u001b[0m                 \u001b[0mindexer\u001b[0m \u001b[0;34m=\u001b[0m \u001b[0;34m[\u001b[0m\u001b[0mindexer\u001b[0m\u001b[0;34m]\u001b[0m\u001b[0;34m\u001b[0m\u001b[0;34m\u001b[0m\u001b[0m\n",
            "\u001b[0;32m/usr/local/lib/python3.6/dist-packages/pandas/core/indexes/base.py\u001b[0m in \u001b[0;36mget_loc\u001b[0;34m(self, key, method, tolerance)\u001b[0m\n\u001b[1;32m   2898\u001b[0m                 \u001b[0;32mreturn\u001b[0m \u001b[0mself\u001b[0m\u001b[0;34m.\u001b[0m\u001b[0m_engine\u001b[0m\u001b[0;34m.\u001b[0m\u001b[0mget_loc\u001b[0m\u001b[0;34m(\u001b[0m\u001b[0mcasted_key\u001b[0m\u001b[0;34m)\u001b[0m\u001b[0;34m\u001b[0m\u001b[0;34m\u001b[0m\u001b[0m\n\u001b[1;32m   2899\u001b[0m             \u001b[0;32mexcept\u001b[0m \u001b[0mKeyError\u001b[0m \u001b[0;32mas\u001b[0m \u001b[0merr\u001b[0m\u001b[0;34m:\u001b[0m\u001b[0;34m\u001b[0m\u001b[0;34m\u001b[0m\u001b[0m\n\u001b[0;32m-> 2900\u001b[0;31m                 \u001b[0;32mraise\u001b[0m \u001b[0mKeyError\u001b[0m\u001b[0;34m(\u001b[0m\u001b[0mkey\u001b[0m\u001b[0;34m)\u001b[0m \u001b[0;32mfrom\u001b[0m \u001b[0merr\u001b[0m\u001b[0;34m\u001b[0m\u001b[0;34m\u001b[0m\u001b[0m\n\u001b[0m\u001b[1;32m   2901\u001b[0m \u001b[0;34m\u001b[0m\u001b[0m\n\u001b[1;32m   2902\u001b[0m         \u001b[0;32mif\u001b[0m \u001b[0mtolerance\u001b[0m \u001b[0;32mis\u001b[0m \u001b[0;32mnot\u001b[0m \u001b[0;32mNone\u001b[0m\u001b[0;34m:\u001b[0m\u001b[0;34m\u001b[0m\u001b[0;34m\u001b[0m\u001b[0m\n",
            "\u001b[0;31mKeyError\u001b[0m: 1"
          ]
        }
      ]
    },
    {
      "cell_type": "code",
      "metadata": {
        "colab": {
          "base_uri": "https://localhost:8080/",
          "height": 48
        },
        "id": "xKcqqkiYNsaQ",
        "outputId": "62fd2292-89bb-4353-d432-c75e6ccaff6e"
      },
      "source": [
        "df[\"A\":\"B\"]"
      ],
      "execution_count": null,
      "outputs": [
        {
          "output_type": "execute_result",
          "data": {
            "text/html": [
              "<div>\n",
              "<style scoped>\n",
              "    .dataframe tbody tr th:only-of-type {\n",
              "        vertical-align: middle;\n",
              "    }\n",
              "\n",
              "    .dataframe tbody tr th {\n",
              "        vertical-align: top;\n",
              "    }\n",
              "\n",
              "    .dataframe thead th {\n",
              "        text-align: right;\n",
              "    }\n",
              "</style>\n",
              "<table border=\"1\" class=\"dataframe\">\n",
              "  <thead>\n",
              "    <tr style=\"text-align: right;\">\n",
              "      <th></th>\n",
              "      <th>A</th>\n",
              "      <th>B</th>\n",
              "      <th>C</th>\n",
              "    </tr>\n",
              "  </thead>\n",
              "  <tbody>\n",
              "  </tbody>\n",
              "</table>\n",
              "</div>"
            ],
            "text/plain": [
              "Empty DataFrame\n",
              "Columns: [A, B, C]\n",
              "Index: []"
            ]
          },
          "metadata": {
            "tags": []
          },
          "execution_count": 15
        }
      ]
    },
    {
      "cell_type": "code",
      "metadata": {
        "colab": {
          "base_uri": "https://localhost:8080/",
          "height": 630
        },
        "id": "hjHANz7NN1QZ",
        "outputId": "6c568852-536c-4063-863b-3a76055103ff"
      },
      "source": [
        "df[\"１行目\"]"
      ],
      "execution_count": null,
      "outputs": [
        {
          "output_type": "error",
          "ename": "KeyError",
          "evalue": "ignored",
          "traceback": [
            "\u001b[0;31m---------------------------------------------------------------------------\u001b[0m",
            "\u001b[0;31mKeyError\u001b[0m                                  Traceback (most recent call last)",
            "\u001b[0;32m/usr/local/lib/python3.6/dist-packages/pandas/core/indexes/base.py\u001b[0m in \u001b[0;36mget_loc\u001b[0;34m(self, key, method, tolerance)\u001b[0m\n\u001b[1;32m   2897\u001b[0m             \u001b[0;32mtry\u001b[0m\u001b[0;34m:\u001b[0m\u001b[0;34m\u001b[0m\u001b[0;34m\u001b[0m\u001b[0m\n\u001b[0;32m-> 2898\u001b[0;31m                 \u001b[0;32mreturn\u001b[0m \u001b[0mself\u001b[0m\u001b[0;34m.\u001b[0m\u001b[0m_engine\u001b[0m\u001b[0;34m.\u001b[0m\u001b[0mget_loc\u001b[0m\u001b[0;34m(\u001b[0m\u001b[0mcasted_key\u001b[0m\u001b[0;34m)\u001b[0m\u001b[0;34m\u001b[0m\u001b[0;34m\u001b[0m\u001b[0m\n\u001b[0m\u001b[1;32m   2899\u001b[0m             \u001b[0;32mexcept\u001b[0m \u001b[0mKeyError\u001b[0m \u001b[0;32mas\u001b[0m \u001b[0merr\u001b[0m\u001b[0;34m:\u001b[0m\u001b[0;34m\u001b[0m\u001b[0;34m\u001b[0m\u001b[0m\n",
            "\u001b[0;32mpandas/_libs/index.pyx\u001b[0m in \u001b[0;36mpandas._libs.index.IndexEngine.get_loc\u001b[0;34m()\u001b[0m\n",
            "\u001b[0;32mpandas/_libs/index.pyx\u001b[0m in \u001b[0;36mpandas._libs.index.IndexEngine.get_loc\u001b[0;34m()\u001b[0m\n",
            "\u001b[0;32mpandas/_libs/hashtable_class_helper.pxi\u001b[0m in \u001b[0;36mpandas._libs.hashtable.PyObjectHashTable.get_item\u001b[0;34m()\u001b[0m\n",
            "\u001b[0;32mpandas/_libs/hashtable_class_helper.pxi\u001b[0m in \u001b[0;36mpandas._libs.hashtable.PyObjectHashTable.get_item\u001b[0;34m()\u001b[0m\n",
            "\u001b[0;31mKeyError\u001b[0m: '１行目'",
            "\nThe above exception was the direct cause of the following exception:\n",
            "\u001b[0;31mKeyError\u001b[0m                                  Traceback (most recent call last)",
            "\u001b[0;32m<ipython-input-18-3f2f6cd763cf>\u001b[0m in \u001b[0;36m<module>\u001b[0;34m()\u001b[0m\n\u001b[0;32m----> 1\u001b[0;31m \u001b[0mdf\u001b[0m\u001b[0;34m[\u001b[0m\u001b[0;34m\"１行目\"\u001b[0m\u001b[0;34m]\u001b[0m\u001b[0;34m\u001b[0m\u001b[0;34m\u001b[0m\u001b[0m\n\u001b[0m",
            "\u001b[0;32m/usr/local/lib/python3.6/dist-packages/pandas/core/frame.py\u001b[0m in \u001b[0;36m__getitem__\u001b[0;34m(self, key)\u001b[0m\n\u001b[1;32m   2904\u001b[0m             \u001b[0;32mif\u001b[0m \u001b[0mself\u001b[0m\u001b[0;34m.\u001b[0m\u001b[0mcolumns\u001b[0m\u001b[0;34m.\u001b[0m\u001b[0mnlevels\u001b[0m \u001b[0;34m>\u001b[0m \u001b[0;36m1\u001b[0m\u001b[0;34m:\u001b[0m\u001b[0;34m\u001b[0m\u001b[0;34m\u001b[0m\u001b[0m\n\u001b[1;32m   2905\u001b[0m                 \u001b[0;32mreturn\u001b[0m \u001b[0mself\u001b[0m\u001b[0;34m.\u001b[0m\u001b[0m_getitem_multilevel\u001b[0m\u001b[0;34m(\u001b[0m\u001b[0mkey\u001b[0m\u001b[0;34m)\u001b[0m\u001b[0;34m\u001b[0m\u001b[0;34m\u001b[0m\u001b[0m\n\u001b[0;32m-> 2906\u001b[0;31m             \u001b[0mindexer\u001b[0m \u001b[0;34m=\u001b[0m \u001b[0mself\u001b[0m\u001b[0;34m.\u001b[0m\u001b[0mcolumns\u001b[0m\u001b[0;34m.\u001b[0m\u001b[0mget_loc\u001b[0m\u001b[0;34m(\u001b[0m\u001b[0mkey\u001b[0m\u001b[0;34m)\u001b[0m\u001b[0;34m\u001b[0m\u001b[0;34m\u001b[0m\u001b[0m\n\u001b[0m\u001b[1;32m   2907\u001b[0m             \u001b[0;32mif\u001b[0m \u001b[0mis_integer\u001b[0m\u001b[0;34m(\u001b[0m\u001b[0mindexer\u001b[0m\u001b[0;34m)\u001b[0m\u001b[0;34m:\u001b[0m\u001b[0;34m\u001b[0m\u001b[0;34m\u001b[0m\u001b[0m\n\u001b[1;32m   2908\u001b[0m                 \u001b[0mindexer\u001b[0m \u001b[0;34m=\u001b[0m \u001b[0;34m[\u001b[0m\u001b[0mindexer\u001b[0m\u001b[0;34m]\u001b[0m\u001b[0;34m\u001b[0m\u001b[0;34m\u001b[0m\u001b[0m\n",
            "\u001b[0;32m/usr/local/lib/python3.6/dist-packages/pandas/core/indexes/base.py\u001b[0m in \u001b[0;36mget_loc\u001b[0;34m(self, key, method, tolerance)\u001b[0m\n\u001b[1;32m   2898\u001b[0m                 \u001b[0;32mreturn\u001b[0m \u001b[0mself\u001b[0m\u001b[0;34m.\u001b[0m\u001b[0m_engine\u001b[0m\u001b[0;34m.\u001b[0m\u001b[0mget_loc\u001b[0m\u001b[0;34m(\u001b[0m\u001b[0mcasted_key\u001b[0m\u001b[0;34m)\u001b[0m\u001b[0;34m\u001b[0m\u001b[0;34m\u001b[0m\u001b[0m\n\u001b[1;32m   2899\u001b[0m             \u001b[0;32mexcept\u001b[0m \u001b[0mKeyError\u001b[0m \u001b[0;32mas\u001b[0m \u001b[0merr\u001b[0m\u001b[0;34m:\u001b[0m\u001b[0;34m\u001b[0m\u001b[0;34m\u001b[0m\u001b[0m\n\u001b[0;32m-> 2900\u001b[0;31m                 \u001b[0;32mraise\u001b[0m \u001b[0mKeyError\u001b[0m\u001b[0;34m(\u001b[0m\u001b[0mkey\u001b[0m\u001b[0;34m)\u001b[0m \u001b[0;32mfrom\u001b[0m \u001b[0merr\u001b[0m\u001b[0;34m\u001b[0m\u001b[0;34m\u001b[0m\u001b[0m\n\u001b[0m\u001b[1;32m   2901\u001b[0m \u001b[0;34m\u001b[0m\u001b[0m\n\u001b[1;32m   2902\u001b[0m         \u001b[0;32mif\u001b[0m \u001b[0mtolerance\u001b[0m \u001b[0;32mis\u001b[0m \u001b[0;32mnot\u001b[0m \u001b[0;32mNone\u001b[0m\u001b[0;34m:\u001b[0m\u001b[0;34m\u001b[0m\u001b[0;34m\u001b[0m\u001b[0m\n",
            "\u001b[0;31mKeyError\u001b[0m: '１行目'"
          ]
        }
      ]
    },
    {
      "cell_type": "markdown",
      "metadata": {
        "id": "bEYmbaA2M3lq"
      },
      "source": [
        "上記の[ ]（角かっこ）指定方法では曖昧"
      ]
    },
    {
      "cell_type": "code",
      "metadata": {
        "colab": {
          "base_uri": "https://localhost:8080/",
          "height": 173
        },
        "id": "rH3RoIB3J4jA",
        "outputId": "535bd5d5-eb6a-4b56-8fe9-6b1c8ed9fc40"
      },
      "source": [
        "# locメソッド\n",
        "# コピーではなく参照\n",
        "\n",
        "df.loc[:,:]"
      ],
      "execution_count": null,
      "outputs": [
        {
          "output_type": "execute_result",
          "data": {
            "text/html": [
              "<div>\n",
              "<style scoped>\n",
              "    .dataframe tbody tr th:only-of-type {\n",
              "        vertical-align: middle;\n",
              "    }\n",
              "\n",
              "    .dataframe tbody tr th {\n",
              "        vertical-align: top;\n",
              "    }\n",
              "\n",
              "    .dataframe thead th {\n",
              "        text-align: right;\n",
              "    }\n",
              "</style>\n",
              "<table border=\"1\" class=\"dataframe\">\n",
              "  <thead>\n",
              "    <tr style=\"text-align: right;\">\n",
              "      <th></th>\n",
              "      <th>A</th>\n",
              "      <th>B</th>\n",
              "      <th>C</th>\n",
              "    </tr>\n",
              "  </thead>\n",
              "  <tbody>\n",
              "    <tr>\n",
              "      <th>１行目</th>\n",
              "      <td>0</td>\n",
              "      <td>1</td>\n",
              "      <td>2</td>\n",
              "    </tr>\n",
              "    <tr>\n",
              "      <th>２行目</th>\n",
              "      <td>3</td>\n",
              "      <td>4</td>\n",
              "      <td>5</td>\n",
              "    </tr>\n",
              "    <tr>\n",
              "      <th>３行目</th>\n",
              "      <td>6</td>\n",
              "      <td>7</td>\n",
              "      <td>8</td>\n",
              "    </tr>\n",
              "    <tr>\n",
              "      <th>４行目</th>\n",
              "      <td>9</td>\n",
              "      <td>10</td>\n",
              "      <td>11</td>\n",
              "    </tr>\n",
              "  </tbody>\n",
              "</table>\n",
              "</div>"
            ],
            "text/plain": [
              "     A   B   C\n",
              "１行目  0   1   2\n",
              "２行目  3   4   5\n",
              "３行目  6   7   8\n",
              "４行目  9  10  11"
            ]
          },
          "metadata": {
            "tags": []
          },
          "execution_count": 21
        }
      ]
    },
    {
      "cell_type": "code",
      "metadata": {
        "colab": {
          "base_uri": "https://localhost:8080/"
        },
        "id": "PoEVn9WFNTe3",
        "outputId": "965782f8-843d-431f-9a41-bf8795b0a679"
      },
      "source": [
        "# Aカラムのみ\n",
        "# Series\n",
        "# df[\"A\"] と同じ\n",
        "\n",
        "df.loc[:,\"A\"]"
      ],
      "execution_count": null,
      "outputs": [
        {
          "output_type": "execute_result",
          "data": {
            "text/plain": [
              "１行目    0\n",
              "２行目    3\n",
              "３行目    6\n",
              "４行目    9\n",
              "Name: A, dtype: int64"
            ]
          },
          "metadata": {
            "tags": []
          },
          "execution_count": 23
        }
      ]
    },
    {
      "cell_type": "code",
      "metadata": {
        "colab": {
          "base_uri": "https://localhost:8080/",
          "height": 173
        },
        "id": "_NrxvgcvN23t",
        "outputId": "c0d8ad4d-f9d1-4150-f83a-bbd013465aa9"
      },
      "source": [
        "# 複数カラム\n",
        "# df[[\"A\",\"B\"]]と同じ\n",
        "\n",
        "df.loc[:,[\"A\",\"B\"]]"
      ],
      "execution_count": null,
      "outputs": [
        {
          "output_type": "execute_result",
          "data": {
            "text/html": [
              "<div>\n",
              "<style scoped>\n",
              "    .dataframe tbody tr th:only-of-type {\n",
              "        vertical-align: middle;\n",
              "    }\n",
              "\n",
              "    .dataframe tbody tr th {\n",
              "        vertical-align: top;\n",
              "    }\n",
              "\n",
              "    .dataframe thead th {\n",
              "        text-align: right;\n",
              "    }\n",
              "</style>\n",
              "<table border=\"1\" class=\"dataframe\">\n",
              "  <thead>\n",
              "    <tr style=\"text-align: right;\">\n",
              "      <th></th>\n",
              "      <th>A</th>\n",
              "      <th>B</th>\n",
              "    </tr>\n",
              "  </thead>\n",
              "  <tbody>\n",
              "    <tr>\n",
              "      <th>１行目</th>\n",
              "      <td>0</td>\n",
              "      <td>1</td>\n",
              "    </tr>\n",
              "    <tr>\n",
              "      <th>２行目</th>\n",
              "      <td>3</td>\n",
              "      <td>4</td>\n",
              "    </tr>\n",
              "    <tr>\n",
              "      <th>３行目</th>\n",
              "      <td>6</td>\n",
              "      <td>7</td>\n",
              "    </tr>\n",
              "    <tr>\n",
              "      <th>４行目</th>\n",
              "      <td>9</td>\n",
              "      <td>10</td>\n",
              "    </tr>\n",
              "  </tbody>\n",
              "</table>\n",
              "</div>"
            ],
            "text/plain": [
              "     A   B\n",
              "１行目  0   1\n",
              "２行目  3   4\n",
              "３行目  6   7\n",
              "４行目  9  10"
            ]
          },
          "metadata": {
            "tags": []
          },
          "execution_count": 26
        }
      ]
    },
    {
      "cell_type": "code",
      "metadata": {
        "colab": {
          "base_uri": "https://localhost:8080/"
        },
        "id": "WPopjUo4OTg2",
        "outputId": "730a39a6-c9ed-4248-d4a3-d49fe1e35d8c"
      },
      "source": [
        "# インデックス方向の抽出\n",
        "# Series\n",
        "\n",
        "df.loc[\"１行目\",:]"
      ],
      "execution_count": null,
      "outputs": [
        {
          "output_type": "execute_result",
          "data": {
            "text/plain": [
              "A    0\n",
              "B    1\n",
              "C    2\n",
              "Name: １行目, dtype: int64"
            ]
          },
          "metadata": {
            "tags": []
          },
          "execution_count": 27
        }
      ]
    },
    {
      "cell_type": "code",
      "metadata": {
        "colab": {
          "base_uri": "https://localhost:8080/",
          "height": 111
        },
        "id": "WiHAPcqHOjOO",
        "outputId": "2b46d916-3337-44b3-9505-c60a117ab7ff"
      },
      "source": [
        "# 複数のインデックス\n",
        "\n",
        "df.loc[[\"１行目\",\"３行目\"],:]"
      ],
      "execution_count": null,
      "outputs": [
        {
          "output_type": "execute_result",
          "data": {
            "text/html": [
              "<div>\n",
              "<style scoped>\n",
              "    .dataframe tbody tr th:only-of-type {\n",
              "        vertical-align: middle;\n",
              "    }\n",
              "\n",
              "    .dataframe tbody tr th {\n",
              "        vertical-align: top;\n",
              "    }\n",
              "\n",
              "    .dataframe thead th {\n",
              "        text-align: right;\n",
              "    }\n",
              "</style>\n",
              "<table border=\"1\" class=\"dataframe\">\n",
              "  <thead>\n",
              "    <tr style=\"text-align: right;\">\n",
              "      <th></th>\n",
              "      <th>A</th>\n",
              "      <th>B</th>\n",
              "      <th>C</th>\n",
              "    </tr>\n",
              "  </thead>\n",
              "  <tbody>\n",
              "    <tr>\n",
              "      <th>１行目</th>\n",
              "      <td>0</td>\n",
              "      <td>1</td>\n",
              "      <td>2</td>\n",
              "    </tr>\n",
              "    <tr>\n",
              "      <th>３行目</th>\n",
              "      <td>6</td>\n",
              "      <td>7</td>\n",
              "      <td>8</td>\n",
              "    </tr>\n",
              "  </tbody>\n",
              "</table>\n",
              "</div>"
            ],
            "text/plain": [
              "     A  B  C\n",
              "１行目  0  1  2\n",
              "３行目  6  7  8"
            ]
          },
          "metadata": {
            "tags": []
          },
          "execution_count": 28
        }
      ]
    },
    {
      "cell_type": "code",
      "metadata": {
        "colab": {
          "base_uri": "https://localhost:8080/",
          "height": 80
        },
        "id": "U90_G56rO29r",
        "outputId": "f010358e-9338-4fc4-c0a5-2e78368b763b"
      },
      "source": [
        "# インデックス名とカラム名\n",
        "\n",
        "df.loc[[\"１行目\"],[\"A\",\"C\"]]"
      ],
      "execution_count": null,
      "outputs": [
        {
          "output_type": "execute_result",
          "data": {
            "text/html": [
              "<div>\n",
              "<style scoped>\n",
              "    .dataframe tbody tr th:only-of-type {\n",
              "        vertical-align: middle;\n",
              "    }\n",
              "\n",
              "    .dataframe tbody tr th {\n",
              "        vertical-align: top;\n",
              "    }\n",
              "\n",
              "    .dataframe thead th {\n",
              "        text-align: right;\n",
              "    }\n",
              "</style>\n",
              "<table border=\"1\" class=\"dataframe\">\n",
              "  <thead>\n",
              "    <tr style=\"text-align: right;\">\n",
              "      <th></th>\n",
              "      <th>A</th>\n",
              "      <th>C</th>\n",
              "    </tr>\n",
              "  </thead>\n",
              "  <tbody>\n",
              "    <tr>\n",
              "      <th>１行目</th>\n",
              "      <td>0</td>\n",
              "      <td>2</td>\n",
              "    </tr>\n",
              "  </tbody>\n",
              "</table>\n",
              "</div>"
            ],
            "text/plain": [
              "     A  C\n",
              "１行目  0  2"
            ]
          },
          "metadata": {
            "tags": []
          },
          "execution_count": 29
        }
      ]
    },
    {
      "cell_type": "code",
      "metadata": {
        "colab": {
          "base_uri": "https://localhost:8080/",
          "height": 80
        },
        "id": "qYajFk1yIyPI",
        "outputId": "a8bcdac0-c8fc-43d0-8c5b-f59e01d68bcc"
      },
      "source": [
        "# インデックス名とカラム名\n",
        "\n",
        "df.loc[[\"１行目\"],[\"C\"]]"
      ],
      "execution_count": null,
      "outputs": [
        {
          "output_type": "execute_result",
          "data": {
            "text/html": [
              "<div>\n",
              "<style scoped>\n",
              "    .dataframe tbody tr th:only-of-type {\n",
              "        vertical-align: middle;\n",
              "    }\n",
              "\n",
              "    .dataframe tbody tr th {\n",
              "        vertical-align: top;\n",
              "    }\n",
              "\n",
              "    .dataframe thead th {\n",
              "        text-align: right;\n",
              "    }\n",
              "</style>\n",
              "<table border=\"1\" class=\"dataframe\">\n",
              "  <thead>\n",
              "    <tr style=\"text-align: right;\">\n",
              "      <th></th>\n",
              "      <th>C</th>\n",
              "    </tr>\n",
              "  </thead>\n",
              "  <tbody>\n",
              "    <tr>\n",
              "      <th>１行目</th>\n",
              "      <td>2</td>\n",
              "    </tr>\n",
              "  </tbody>\n",
              "</table>\n",
              "</div>"
            ],
            "text/plain": [
              "     C\n",
              "１行目  2"
            ]
          },
          "metadata": {
            "tags": []
          },
          "execution_count": 3
        }
      ]
    },
    {
      "cell_type": "code",
      "metadata": {
        "colab": {
          "base_uri": "https://localhost:8080/"
        },
        "id": "Ys3O4yJbJAru",
        "outputId": "1a8033bb-2f5a-4b39-b849-12115cfb8c2a"
      },
      "source": [
        "# インデックス名とカラム名\n",
        "\n",
        "df.loc[\"１行目\",\"C\"]"
      ],
      "execution_count": null,
      "outputs": [
        {
          "output_type": "execute_result",
          "data": {
            "text/plain": [
              "2"
            ]
          },
          "metadata": {
            "tags": []
          },
          "execution_count": 4
        }
      ]
    },
    {
      "cell_type": "code",
      "metadata": {
        "colab": {
          "base_uri": "https://localhost:8080/"
        },
        "id": "ZAAuke1qPHqb",
        "outputId": "b66e070a-afec-43a5-fc2b-4bf3bfaa1459"
      },
      "source": [
        "# ilocメソッド\n",
        "# 位置指定なので整数値が返る\n",
        "\n",
        "df.iloc[1,1]"
      ],
      "execution_count": null,
      "outputs": [
        {
          "output_type": "execute_result",
          "data": {
            "text/plain": [
              "4"
            ]
          },
          "metadata": {
            "tags": []
          },
          "execution_count": 30
        }
      ]
    },
    {
      "cell_type": "code",
      "metadata": {
        "colab": {
          "base_uri": "https://localhost:8080/",
          "height": 80
        },
        "id": "NUZvK4CwJMuz",
        "outputId": "842b6d20-b1ab-47ad-f955-212adf77e1c0"
      },
      "source": [
        "# ilocメソッド\n",
        "# []配列指定なのでDFが返る\n",
        "\n",
        "df.iloc[[1],[1]]"
      ],
      "execution_count": null,
      "outputs": [
        {
          "output_type": "execute_result",
          "data": {
            "text/html": [
              "<div>\n",
              "<style scoped>\n",
              "    .dataframe tbody tr th:only-of-type {\n",
              "        vertical-align: middle;\n",
              "    }\n",
              "\n",
              "    .dataframe tbody tr th {\n",
              "        vertical-align: top;\n",
              "    }\n",
              "\n",
              "    .dataframe thead th {\n",
              "        text-align: right;\n",
              "    }\n",
              "</style>\n",
              "<table border=\"1\" class=\"dataframe\">\n",
              "  <thead>\n",
              "    <tr style=\"text-align: right;\">\n",
              "      <th></th>\n",
              "      <th>B</th>\n",
              "    </tr>\n",
              "  </thead>\n",
              "  <tbody>\n",
              "    <tr>\n",
              "      <th>２行目</th>\n",
              "      <td>4</td>\n",
              "    </tr>\n",
              "  </tbody>\n",
              "</table>\n",
              "</div>"
            ],
            "text/plain": [
              "     B\n",
              "２行目  4"
            ]
          },
          "metadata": {
            "tags": []
          },
          "execution_count": 5
        }
      ]
    },
    {
      "cell_type": "code",
      "metadata": {
        "colab": {
          "base_uri": "https://localhost:8080/"
        },
        "id": "jCEdZAuQJSx-",
        "outputId": "ea686e92-f3e7-4716-889e-88d07c90ef34"
      },
      "source": [
        "# ilocメソッド\n",
        "# 列指定なのでSeriesが返る\n",
        "\n",
        "df.iloc[[1],1]"
      ],
      "execution_count": null,
      "outputs": [
        {
          "output_type": "execute_result",
          "data": {
            "text/plain": [
              "２行目    4\n",
              "Name: B, dtype: int64"
            ]
          },
          "metadata": {
            "tags": []
          },
          "execution_count": 6
        }
      ]
    },
    {
      "cell_type": "code",
      "metadata": {
        "colab": {
          "base_uri": "https://localhost:8080/"
        },
        "id": "hnjU7v_oJnWB",
        "outputId": "080ad932-0dd2-4e72-fab9-f04913bf9ae2"
      },
      "source": [
        "# ilocメソッド\n",
        "# 行指定なのでSeriesが返る\n",
        "\n",
        "df.iloc[1,[1]]"
      ],
      "execution_count": null,
      "outputs": [
        {
          "output_type": "execute_result",
          "data": {
            "text/plain": [
              "B    4\n",
              "Name: ２行目, dtype: int64"
            ]
          },
          "metadata": {
            "tags": []
          },
          "execution_count": 7
        }
      ]
    },
    {
      "cell_type": "code",
      "metadata": {
        "colab": {
          "base_uri": "https://localhost:8080/",
          "height": 142
        },
        "id": "29bnp9EMKfgi",
        "outputId": "2d48fcc7-19db-457b-96b2-7e554a7b273e"
      },
      "source": [
        "# ilocメソッド\n",
        "# 指定なのでDFが返る\n",
        "\n",
        "df.iloc[1:,[1]]"
      ],
      "execution_count": null,
      "outputs": [
        {
          "output_type": "execute_result",
          "data": {
            "text/html": [
              "<div>\n",
              "<style scoped>\n",
              "    .dataframe tbody tr th:only-of-type {\n",
              "        vertical-align: middle;\n",
              "    }\n",
              "\n",
              "    .dataframe tbody tr th {\n",
              "        vertical-align: top;\n",
              "    }\n",
              "\n",
              "    .dataframe thead th {\n",
              "        text-align: right;\n",
              "    }\n",
              "</style>\n",
              "<table border=\"1\" class=\"dataframe\">\n",
              "  <thead>\n",
              "    <tr style=\"text-align: right;\">\n",
              "      <th></th>\n",
              "      <th>B</th>\n",
              "    </tr>\n",
              "  </thead>\n",
              "  <tbody>\n",
              "    <tr>\n",
              "      <th>２行目</th>\n",
              "      <td>4</td>\n",
              "    </tr>\n",
              "    <tr>\n",
              "      <th>３行目</th>\n",
              "      <td>7</td>\n",
              "    </tr>\n",
              "    <tr>\n",
              "      <th>４行目</th>\n",
              "      <td>10</td>\n",
              "    </tr>\n",
              "  </tbody>\n",
              "</table>\n",
              "</div>"
            ],
            "text/plain": [
              "      B\n",
              "２行目   4\n",
              "３行目   7\n",
              "４行目  10"
            ]
          },
          "metadata": {
            "tags": []
          },
          "execution_count": 8
        }
      ]
    },
    {
      "cell_type": "code",
      "metadata": {
        "colab": {
          "base_uri": "https://localhost:8080/"
        },
        "id": "fXZC4anrKnbS",
        "outputId": "6cb1b073-840b-43c6-9e86-0a44a7c6454f"
      },
      "source": [
        "# ilocメソッド\n",
        "# 行指定なのでSeriesが返る\n",
        "\n",
        "df.iloc[1,[1,2]]"
      ],
      "execution_count": null,
      "outputs": [
        {
          "output_type": "execute_result",
          "data": {
            "text/plain": [
              "B    4\n",
              "C    5\n",
              "Name: ２行目, dtype: int64"
            ]
          },
          "metadata": {
            "tags": []
          },
          "execution_count": 10
        }
      ]
    },
    {
      "cell_type": "code",
      "metadata": {
        "colab": {
          "base_uri": "https://localhost:8080/"
        },
        "id": "BjB2PNtYPjMI",
        "outputId": "322659ff-8cf7-44f9-d15d-8d19b7114e1e"
      },
      "source": [
        "# 1カラム指定なのでSeriesが返る\n",
        "\n",
        "df.iloc[1:,1]"
      ],
      "execution_count": null,
      "outputs": [
        {
          "output_type": "execute_result",
          "data": {
            "text/plain": [
              "２行目     4\n",
              "３行目     7\n",
              "４行目    10\n",
              "Name: B, dtype: int64"
            ]
          },
          "metadata": {
            "tags": []
          },
          "execution_count": 31
        }
      ]
    },
    {
      "cell_type": "code",
      "metadata": {
        "colab": {
          "base_uri": "https://localhost:8080/"
        },
        "id": "BFVYDr44HJCr",
        "outputId": "1f45492c-711d-4b45-be4e-817c6cf28fb9"
      },
      "source": [
        "# 1行指定なのでSeriesが返る\n",
        "\n",
        "df.iloc[1,1:]"
      ],
      "execution_count": null,
      "outputs": [
        {
          "output_type": "execute_result",
          "data": {
            "text/plain": [
              "B    4\n",
              "C    5\n",
              "Name: ２行目, dtype: int64"
            ]
          },
          "metadata": {
            "tags": []
          },
          "execution_count": 2
        }
      ]
    },
    {
      "cell_type": "code",
      "metadata": {
        "colab": {
          "base_uri": "https://localhost:8080/",
          "height": 142
        },
        "id": "CG1zk81RPrbG",
        "outputId": "aa0c9478-4d12-4daf-c190-d17a2e248834"
      },
      "source": [
        "# 行、列とも範囲指定なのでDFが返る\n",
        "\n",
        "df.iloc[1:,:2]"
      ],
      "execution_count": null,
      "outputs": [
        {
          "output_type": "execute_result",
          "data": {
            "text/html": [
              "<div>\n",
              "<style scoped>\n",
              "    .dataframe tbody tr th:only-of-type {\n",
              "        vertical-align: middle;\n",
              "    }\n",
              "\n",
              "    .dataframe tbody tr th {\n",
              "        vertical-align: top;\n",
              "    }\n",
              "\n",
              "    .dataframe thead th {\n",
              "        text-align: right;\n",
              "    }\n",
              "</style>\n",
              "<table border=\"1\" class=\"dataframe\">\n",
              "  <thead>\n",
              "    <tr style=\"text-align: right;\">\n",
              "      <th></th>\n",
              "      <th>A</th>\n",
              "      <th>B</th>\n",
              "    </tr>\n",
              "  </thead>\n",
              "  <tbody>\n",
              "    <tr>\n",
              "      <th>２行目</th>\n",
              "      <td>3</td>\n",
              "      <td>4</td>\n",
              "    </tr>\n",
              "    <tr>\n",
              "      <th>３行目</th>\n",
              "      <td>6</td>\n",
              "      <td>7</td>\n",
              "    </tr>\n",
              "    <tr>\n",
              "      <th>４行目</th>\n",
              "      <td>9</td>\n",
              "      <td>10</td>\n",
              "    </tr>\n",
              "  </tbody>\n",
              "</table>\n",
              "</div>"
            ],
            "text/plain": [
              "     A   B\n",
              "２行目  3   4\n",
              "３行目  6   7\n",
              "４行目  9  10"
            ]
          },
          "metadata": {
            "tags": []
          },
          "execution_count": 33
        }
      ]
    },
    {
      "cell_type": "code",
      "metadata": {
        "colab": {
          "base_uri": "https://localhost:8080/",
          "height": 111
        },
        "id": "s1e1CkMzMh-y",
        "outputId": "193e7a54-baa7-4b03-dbfa-f1b9dccfa268"
      },
      "source": [
        "# 配列指定\n",
        "\n",
        "df.iloc[[1,2],[1,2]]"
      ],
      "execution_count": null,
      "outputs": [
        {
          "output_type": "execute_result",
          "data": {
            "text/html": [
              "<div>\n",
              "<style scoped>\n",
              "    .dataframe tbody tr th:only-of-type {\n",
              "        vertical-align: middle;\n",
              "    }\n",
              "\n",
              "    .dataframe tbody tr th {\n",
              "        vertical-align: top;\n",
              "    }\n",
              "\n",
              "    .dataframe thead th {\n",
              "        text-align: right;\n",
              "    }\n",
              "</style>\n",
              "<table border=\"1\" class=\"dataframe\">\n",
              "  <thead>\n",
              "    <tr style=\"text-align: right;\">\n",
              "      <th></th>\n",
              "      <th>B</th>\n",
              "      <th>C</th>\n",
              "    </tr>\n",
              "  </thead>\n",
              "  <tbody>\n",
              "    <tr>\n",
              "      <th>２行目</th>\n",
              "      <td>4</td>\n",
              "      <td>5</td>\n",
              "    </tr>\n",
              "    <tr>\n",
              "      <th>３行目</th>\n",
              "      <td>7</td>\n",
              "      <td>8</td>\n",
              "    </tr>\n",
              "  </tbody>\n",
              "</table>\n",
              "</div>"
            ],
            "text/plain": [
              "     B  C\n",
              "２行目  4  5\n",
              "３行目  7  8"
            ]
          },
          "metadata": {
            "tags": []
          },
          "execution_count": 13
        }
      ]
    },
    {
      "cell_type": "code",
      "metadata": {
        "colab": {
          "base_uri": "https://localhost:8080/",
          "height": 130
        },
        "id": "SZzEm0exM1Xu",
        "outputId": "4b798579-cf96-47a1-d3f7-540325d42cb8"
      },
      "source": [
        "# syntax error\n",
        "\n",
        "df.iloc[[1:2],[1:2]]"
      ],
      "execution_count": null,
      "outputs": [
        {
          "output_type": "error",
          "ename": "SyntaxError",
          "evalue": "ignored",
          "traceback": [
            "\u001b[0;36m  File \u001b[0;32m\"<ipython-input-14-749cd22f9cb1>\"\u001b[0;36m, line \u001b[0;32m3\u001b[0m\n\u001b[0;31m    df.iloc[[1:2],[1:2]]\u001b[0m\n\u001b[0m              ^\u001b[0m\n\u001b[0;31mSyntaxError\u001b[0m\u001b[0;31m:\u001b[0m invalid syntax\n"
          ]
        }
      ]
    },
    {
      "cell_type": "code",
      "metadata": {
        "colab": {
          "base_uri": "https://localhost:8080/",
          "height": 111
        },
        "id": "EdWRwWoqSlTy",
        "outputId": "150d8b25-f67e-443b-db53-8d8704e63e59"
      },
      "source": [
        "# 配列指定\n",
        "\n",
        "df.iloc[[1,2],[0,1,2]]"
      ],
      "execution_count": null,
      "outputs": [
        {
          "output_type": "execute_result",
          "data": {
            "text/html": [
              "<div>\n",
              "<style scoped>\n",
              "    .dataframe tbody tr th:only-of-type {\n",
              "        vertical-align: middle;\n",
              "    }\n",
              "\n",
              "    .dataframe tbody tr th {\n",
              "        vertical-align: top;\n",
              "    }\n",
              "\n",
              "    .dataframe thead th {\n",
              "        text-align: right;\n",
              "    }\n",
              "</style>\n",
              "<table border=\"1\" class=\"dataframe\">\n",
              "  <thead>\n",
              "    <tr style=\"text-align: right;\">\n",
              "      <th></th>\n",
              "      <th>A</th>\n",
              "      <th>B</th>\n",
              "      <th>C</th>\n",
              "    </tr>\n",
              "  </thead>\n",
              "  <tbody>\n",
              "    <tr>\n",
              "      <th>２行目</th>\n",
              "      <td>3</td>\n",
              "      <td>4</td>\n",
              "      <td>5</td>\n",
              "    </tr>\n",
              "    <tr>\n",
              "      <th>３行目</th>\n",
              "      <td>6</td>\n",
              "      <td>7</td>\n",
              "      <td>8</td>\n",
              "    </tr>\n",
              "  </tbody>\n",
              "</table>\n",
              "</div>"
            ],
            "text/plain": [
              "     A  B  C\n",
              "２行目  3  4  5\n",
              "３行目  6  7  8"
            ]
          },
          "metadata": {
            "tags": []
          },
          "execution_count": 21
        }
      ]
    },
    {
      "cell_type": "code",
      "metadata": {
        "colab": {
          "base_uri": "https://localhost:8080/",
          "height": 130
        },
        "id": "o23y1_j2S2Zj",
        "outputId": "da65b715-c603-4af1-a22c-a5b21eb5c97d"
      },
      "source": [
        "# invalid syntax\n",
        "\n",
        "df.iloc[[1,2],[0:2]]"
      ],
      "execution_count": null,
      "outputs": [
        {
          "output_type": "error",
          "ename": "SyntaxError",
          "evalue": "ignored",
          "traceback": [
            "\u001b[0;36m  File \u001b[0;32m\"<ipython-input-23-a341b15bb7d1>\"\u001b[0;36m, line \u001b[0;32m3\u001b[0m\n\u001b[0;31m    df.iloc[[1,2],[0:2]]\u001b[0m\n\u001b[0m                    ^\u001b[0m\n\u001b[0;31mSyntaxError\u001b[0m\u001b[0;31m:\u001b[0m invalid syntax\n"
          ]
        }
      ]
    },
    {
      "cell_type": "code",
      "metadata": {
        "colab": {
          "base_uri": "https://localhost:8080/",
          "height": 111
        },
        "id": "bxW0_FUBTNg7",
        "outputId": "e06e8b32-b5c1-4690-f53d-7adeecac09f8"
      },
      "source": [
        "# 配列指定\n",
        "\n",
        "df.iloc[[1,3],[0,2]]"
      ],
      "execution_count": null,
      "outputs": [
        {
          "output_type": "execute_result",
          "data": {
            "text/html": [
              "<div>\n",
              "<style scoped>\n",
              "    .dataframe tbody tr th:only-of-type {\n",
              "        vertical-align: middle;\n",
              "    }\n",
              "\n",
              "    .dataframe tbody tr th {\n",
              "        vertical-align: top;\n",
              "    }\n",
              "\n",
              "    .dataframe thead th {\n",
              "        text-align: right;\n",
              "    }\n",
              "</style>\n",
              "<table border=\"1\" class=\"dataframe\">\n",
              "  <thead>\n",
              "    <tr style=\"text-align: right;\">\n",
              "      <th></th>\n",
              "      <th>A</th>\n",
              "      <th>C</th>\n",
              "    </tr>\n",
              "  </thead>\n",
              "  <tbody>\n",
              "    <tr>\n",
              "      <th>２行目</th>\n",
              "      <td>3</td>\n",
              "      <td>5</td>\n",
              "    </tr>\n",
              "    <tr>\n",
              "      <th>４行目</th>\n",
              "      <td>9</td>\n",
              "      <td>11</td>\n",
              "    </tr>\n",
              "  </tbody>\n",
              "</table>\n",
              "</div>"
            ],
            "text/plain": [
              "     A   C\n",
              "２行目  3   5\n",
              "４行目  9  11"
            ]
          },
          "metadata": {
            "tags": []
          },
          "execution_count": 24
        }
      ]
    },
    {
      "cell_type": "markdown",
      "metadata": {
        "id": "qAwTNn7VQWfD"
      },
      "source": [
        "## ▶︎4.2.2 データの読み込み・書き込み"
      ]
    },
    {
      "cell_type": "markdown",
      "metadata": {
        "id": "iLXQVP3DQgtg"
      },
      "source": [
        "### ●データ読み込み：CSVファイル"
      ]
    },
    {
      "cell_type": "code",
      "metadata": {
        "colab": {
          "base_uri": "https://localhost:8080/"
        },
        "id": "usYkzBvkQITH",
        "outputId": "16f81923-d7d7-4ebd-cc3b-51ddbe21b911"
      },
      "source": [
        "from google.colab import drive\n",
        "drive.mount('/content/drive')"
      ],
      "execution_count": null,
      "outputs": [
        {
          "output_type": "stream",
          "text": [
            "Mounted at /content/drive\n"
          ],
          "name": "stdout"
        }
      ]
    },
    {
      "cell_type": "code",
      "metadata": {
        "colab": {
          "base_uri": "https://localhost:8080/",
          "height": 979
        },
        "id": "6wqHMtvoVf8t",
        "outputId": "12292f6a-f584-495f-e750-1b26d7e458f3"
      },
      "source": [
        "import pandas as pd\n",
        "\n",
        "df = pd.read_csv(\"/content/drive/My Drive/Colab Files/201704health.csv\", encoding=\"utf-8\")\n",
        "df"
      ],
      "execution_count": null,
      "outputs": [
        {
          "output_type": "execute_result",
          "data": {
            "text/html": [
              "<div>\n",
              "<style scoped>\n",
              "    .dataframe tbody tr th:only-of-type {\n",
              "        vertical-align: middle;\n",
              "    }\n",
              "\n",
              "    .dataframe tbody tr th {\n",
              "        vertical-align: top;\n",
              "    }\n",
              "\n",
              "    .dataframe thead th {\n",
              "        text-align: right;\n",
              "    }\n",
              "</style>\n",
              "<table border=\"1\" class=\"dataframe\">\n",
              "  <thead>\n",
              "    <tr style=\"text-align: right;\">\n",
              "      <th></th>\n",
              "      <th>日付</th>\n",
              "      <th>歩数</th>\n",
              "      <th>摂取カロリー</th>\n",
              "    </tr>\n",
              "  </thead>\n",
              "  <tbody>\n",
              "    <tr>\n",
              "      <th>0</th>\n",
              "      <td>2017-04-01</td>\n",
              "      <td>5439</td>\n",
              "      <td>2500</td>\n",
              "    </tr>\n",
              "    <tr>\n",
              "      <th>1</th>\n",
              "      <td>2017-04-02</td>\n",
              "      <td>2510</td>\n",
              "      <td>2300</td>\n",
              "    </tr>\n",
              "    <tr>\n",
              "      <th>2</th>\n",
              "      <td>2017-04-03</td>\n",
              "      <td>10238</td>\n",
              "      <td>1950</td>\n",
              "    </tr>\n",
              "    <tr>\n",
              "      <th>3</th>\n",
              "      <td>2017-04-04</td>\n",
              "      <td>8209</td>\n",
              "      <td>1850</td>\n",
              "    </tr>\n",
              "    <tr>\n",
              "      <th>4</th>\n",
              "      <td>2017-04-05</td>\n",
              "      <td>9434</td>\n",
              "      <td>1930</td>\n",
              "    </tr>\n",
              "    <tr>\n",
              "      <th>5</th>\n",
              "      <td>2017-04-06</td>\n",
              "      <td>7593</td>\n",
              "      <td>1800</td>\n",
              "    </tr>\n",
              "    <tr>\n",
              "      <th>6</th>\n",
              "      <td>2017-04-07</td>\n",
              "      <td>9320</td>\n",
              "      <td>1940</td>\n",
              "    </tr>\n",
              "    <tr>\n",
              "      <th>7</th>\n",
              "      <td>2017-04-08</td>\n",
              "      <td>4873</td>\n",
              "      <td>2300</td>\n",
              "    </tr>\n",
              "    <tr>\n",
              "      <th>8</th>\n",
              "      <td>2017-04-09</td>\n",
              "      <td>12045</td>\n",
              "      <td>1950</td>\n",
              "    </tr>\n",
              "    <tr>\n",
              "      <th>9</th>\n",
              "      <td>2017-04-10</td>\n",
              "      <td>7493</td>\n",
              "      <td>1850</td>\n",
              "    </tr>\n",
              "    <tr>\n",
              "      <th>10</th>\n",
              "      <td>2017-04-11</td>\n",
              "      <td>7289</td>\n",
              "      <td>1930</td>\n",
              "    </tr>\n",
              "    <tr>\n",
              "      <th>11</th>\n",
              "      <td>2017-04-12</td>\n",
              "      <td>6481</td>\n",
              "      <td>2300</td>\n",
              "    </tr>\n",
              "    <tr>\n",
              "      <th>12</th>\n",
              "      <td>2017-04-13</td>\n",
              "      <td>10287</td>\n",
              "      <td>1800</td>\n",
              "    </tr>\n",
              "    <tr>\n",
              "      <th>13</th>\n",
              "      <td>2017-04-14</td>\n",
              "      <td>8043</td>\n",
              "      <td>1940</td>\n",
              "    </tr>\n",
              "    <tr>\n",
              "      <th>14</th>\n",
              "      <td>2017-04-15</td>\n",
              "      <td>7435</td>\n",
              "      <td>2300</td>\n",
              "    </tr>\n",
              "    <tr>\n",
              "      <th>15</th>\n",
              "      <td>2017-04-16</td>\n",
              "      <td>7529</td>\n",
              "      <td>2300</td>\n",
              "    </tr>\n",
              "    <tr>\n",
              "      <th>16</th>\n",
              "      <td>2017-04-17</td>\n",
              "      <td>8031</td>\n",
              "      <td>1940</td>\n",
              "    </tr>\n",
              "    <tr>\n",
              "      <th>17</th>\n",
              "      <td>2017-04-18</td>\n",
              "      <td>8475</td>\n",
              "      <td>2300</td>\n",
              "    </tr>\n",
              "    <tr>\n",
              "      <th>18</th>\n",
              "      <td>2017-04-19</td>\n",
              "      <td>8132</td>\n",
              "      <td>1950</td>\n",
              "    </tr>\n",
              "    <tr>\n",
              "      <th>19</th>\n",
              "      <td>2017-04-20</td>\n",
              "      <td>15328</td>\n",
              "      <td>1800</td>\n",
              "    </tr>\n",
              "    <tr>\n",
              "      <th>20</th>\n",
              "      <td>2017-04-21</td>\n",
              "      <td>12849</td>\n",
              "      <td>1940</td>\n",
              "    </tr>\n",
              "    <tr>\n",
              "      <th>21</th>\n",
              "      <td>2017-04-22</td>\n",
              "      <td>4029</td>\n",
              "      <td>2300</td>\n",
              "    </tr>\n",
              "    <tr>\n",
              "      <th>22</th>\n",
              "      <td>2017-04-23</td>\n",
              "      <td>3890</td>\n",
              "      <td>1950</td>\n",
              "    </tr>\n",
              "    <tr>\n",
              "      <th>23</th>\n",
              "      <td>2017-04-24</td>\n",
              "      <td>8093</td>\n",
              "      <td>1850</td>\n",
              "    </tr>\n",
              "    <tr>\n",
              "      <th>24</th>\n",
              "      <td>2017-04-25</td>\n",
              "      <td>7823</td>\n",
              "      <td>1950</td>\n",
              "    </tr>\n",
              "    <tr>\n",
              "      <th>25</th>\n",
              "      <td>2017-04-26</td>\n",
              "      <td>7492</td>\n",
              "      <td>1850</td>\n",
              "    </tr>\n",
              "    <tr>\n",
              "      <th>26</th>\n",
              "      <td>2017-04-27</td>\n",
              "      <td>7203</td>\n",
              "      <td>1930</td>\n",
              "    </tr>\n",
              "    <tr>\n",
              "      <th>27</th>\n",
              "      <td>2017-04-28</td>\n",
              "      <td>7302</td>\n",
              "      <td>1850</td>\n",
              "    </tr>\n",
              "    <tr>\n",
              "      <th>28</th>\n",
              "      <td>2017-04-29</td>\n",
              "      <td>6033</td>\n",
              "      <td>2300</td>\n",
              "    </tr>\n",
              "    <tr>\n",
              "      <th>29</th>\n",
              "      <td>2017-04-30</td>\n",
              "      <td>4093</td>\n",
              "      <td>1950</td>\n",
              "    </tr>\n",
              "  </tbody>\n",
              "</table>\n",
              "</div>"
            ],
            "text/plain": [
              "            日付     歩数  摂取カロリー\n",
              "0   2017-04-01   5439    2500\n",
              "1   2017-04-02   2510    2300\n",
              "2   2017-04-03  10238    1950\n",
              "3   2017-04-04   8209    1850\n",
              "4   2017-04-05   9434    1930\n",
              "5   2017-04-06   7593    1800\n",
              "6   2017-04-07   9320    1940\n",
              "7   2017-04-08   4873    2300\n",
              "8   2017-04-09  12045    1950\n",
              "9   2017-04-10   7493    1850\n",
              "10  2017-04-11   7289    1930\n",
              "11  2017-04-12   6481    2300\n",
              "12  2017-04-13  10287    1800\n",
              "13  2017-04-14   8043    1940\n",
              "14  2017-04-15   7435    2300\n",
              "15  2017-04-16   7529    2300\n",
              "16  2017-04-17   8031    1940\n",
              "17  2017-04-18   8475    2300\n",
              "18  2017-04-19   8132    1950\n",
              "19  2017-04-20  15328    1800\n",
              "20  2017-04-21  12849    1940\n",
              "21  2017-04-22   4029    2300\n",
              "22  2017-04-23   3890    1950\n",
              "23  2017-04-24   8093    1850\n",
              "24  2017-04-25   7823    1950\n",
              "25  2017-04-26   7492    1850\n",
              "26  2017-04-27   7203    1930\n",
              "27  2017-04-28   7302    1850\n",
              "28  2017-04-29   6033    2300\n",
              "29  2017-04-30   4093    1950"
            ]
          },
          "metadata": {
            "tags": []
          },
          "execution_count": 4
        }
      ]
    },
    {
      "cell_type": "markdown",
      "metadata": {
        "id": "m5SVWxsdfY04"
      },
      "source": [
        "### ●データ読み込み：Excelファイル"
      ]
    },
    {
      "cell_type": "code",
      "metadata": {
        "colab": {
          "base_uri": "https://localhost:8080/",
          "height": 979
        },
        "id": "GuOXkNPeWhTs",
        "outputId": "d4ab6271-c118-4343-8dc8-1dad69b87980"
      },
      "source": [
        "df = pd.read_excel(\"/content/drive/My Drive/Colab Files/201704health.xlsx\")\n",
        "df "
      ],
      "execution_count": null,
      "outputs": [
        {
          "output_type": "execute_result",
          "data": {
            "text/html": [
              "<div>\n",
              "<style scoped>\n",
              "    .dataframe tbody tr th:only-of-type {\n",
              "        vertical-align: middle;\n",
              "    }\n",
              "\n",
              "    .dataframe tbody tr th {\n",
              "        vertical-align: top;\n",
              "    }\n",
              "\n",
              "    .dataframe thead th {\n",
              "        text-align: right;\n",
              "    }\n",
              "</style>\n",
              "<table border=\"1\" class=\"dataframe\">\n",
              "  <thead>\n",
              "    <tr style=\"text-align: right;\">\n",
              "      <th></th>\n",
              "      <th>日付</th>\n",
              "      <th>歩数</th>\n",
              "      <th>摂取カロリー</th>\n",
              "    </tr>\n",
              "  </thead>\n",
              "  <tbody>\n",
              "    <tr>\n",
              "      <th>0</th>\n",
              "      <td>2017-04-01</td>\n",
              "      <td>5439</td>\n",
              "      <td>2500</td>\n",
              "    </tr>\n",
              "    <tr>\n",
              "      <th>1</th>\n",
              "      <td>2017-04-02</td>\n",
              "      <td>2510</td>\n",
              "      <td>2300</td>\n",
              "    </tr>\n",
              "    <tr>\n",
              "      <th>2</th>\n",
              "      <td>2017-04-03</td>\n",
              "      <td>10238</td>\n",
              "      <td>1950</td>\n",
              "    </tr>\n",
              "    <tr>\n",
              "      <th>3</th>\n",
              "      <td>2017-04-04</td>\n",
              "      <td>8209</td>\n",
              "      <td>1850</td>\n",
              "    </tr>\n",
              "    <tr>\n",
              "      <th>4</th>\n",
              "      <td>2017-04-05</td>\n",
              "      <td>9434</td>\n",
              "      <td>1930</td>\n",
              "    </tr>\n",
              "    <tr>\n",
              "      <th>5</th>\n",
              "      <td>2017-04-06</td>\n",
              "      <td>7593</td>\n",
              "      <td>1800</td>\n",
              "    </tr>\n",
              "    <tr>\n",
              "      <th>6</th>\n",
              "      <td>2017-04-07</td>\n",
              "      <td>9320</td>\n",
              "      <td>1940</td>\n",
              "    </tr>\n",
              "    <tr>\n",
              "      <th>7</th>\n",
              "      <td>2017-04-08</td>\n",
              "      <td>4873</td>\n",
              "      <td>2300</td>\n",
              "    </tr>\n",
              "    <tr>\n",
              "      <th>8</th>\n",
              "      <td>2017-04-09</td>\n",
              "      <td>12045</td>\n",
              "      <td>1950</td>\n",
              "    </tr>\n",
              "    <tr>\n",
              "      <th>9</th>\n",
              "      <td>2017-04-10</td>\n",
              "      <td>7493</td>\n",
              "      <td>1850</td>\n",
              "    </tr>\n",
              "    <tr>\n",
              "      <th>10</th>\n",
              "      <td>2017-04-11</td>\n",
              "      <td>7289</td>\n",
              "      <td>1930</td>\n",
              "    </tr>\n",
              "    <tr>\n",
              "      <th>11</th>\n",
              "      <td>2017-04-12</td>\n",
              "      <td>6481</td>\n",
              "      <td>2300</td>\n",
              "    </tr>\n",
              "    <tr>\n",
              "      <th>12</th>\n",
              "      <td>2017-04-13</td>\n",
              "      <td>10287</td>\n",
              "      <td>1800</td>\n",
              "    </tr>\n",
              "    <tr>\n",
              "      <th>13</th>\n",
              "      <td>2017-04-14</td>\n",
              "      <td>8043</td>\n",
              "      <td>1940</td>\n",
              "    </tr>\n",
              "    <tr>\n",
              "      <th>14</th>\n",
              "      <td>2017-04-15</td>\n",
              "      <td>7435</td>\n",
              "      <td>2300</td>\n",
              "    </tr>\n",
              "    <tr>\n",
              "      <th>15</th>\n",
              "      <td>2017-04-16</td>\n",
              "      <td>7529</td>\n",
              "      <td>2300</td>\n",
              "    </tr>\n",
              "    <tr>\n",
              "      <th>16</th>\n",
              "      <td>2017-04-17</td>\n",
              "      <td>8031</td>\n",
              "      <td>1940</td>\n",
              "    </tr>\n",
              "    <tr>\n",
              "      <th>17</th>\n",
              "      <td>2017-04-18</td>\n",
              "      <td>8475</td>\n",
              "      <td>2300</td>\n",
              "    </tr>\n",
              "    <tr>\n",
              "      <th>18</th>\n",
              "      <td>2017-04-19</td>\n",
              "      <td>8132</td>\n",
              "      <td>1950</td>\n",
              "    </tr>\n",
              "    <tr>\n",
              "      <th>19</th>\n",
              "      <td>2017-04-20</td>\n",
              "      <td>15328</td>\n",
              "      <td>1800</td>\n",
              "    </tr>\n",
              "    <tr>\n",
              "      <th>20</th>\n",
              "      <td>2017-04-21</td>\n",
              "      <td>12849</td>\n",
              "      <td>1940</td>\n",
              "    </tr>\n",
              "    <tr>\n",
              "      <th>21</th>\n",
              "      <td>2017-04-22</td>\n",
              "      <td>4029</td>\n",
              "      <td>2300</td>\n",
              "    </tr>\n",
              "    <tr>\n",
              "      <th>22</th>\n",
              "      <td>2017-04-23</td>\n",
              "      <td>3890</td>\n",
              "      <td>1950</td>\n",
              "    </tr>\n",
              "    <tr>\n",
              "      <th>23</th>\n",
              "      <td>2017-04-24</td>\n",
              "      <td>8093</td>\n",
              "      <td>1850</td>\n",
              "    </tr>\n",
              "    <tr>\n",
              "      <th>24</th>\n",
              "      <td>2017-04-25</td>\n",
              "      <td>7823</td>\n",
              "      <td>1950</td>\n",
              "    </tr>\n",
              "    <tr>\n",
              "      <th>25</th>\n",
              "      <td>2017-04-26</td>\n",
              "      <td>7492</td>\n",
              "      <td>1850</td>\n",
              "    </tr>\n",
              "    <tr>\n",
              "      <th>26</th>\n",
              "      <td>2017-04-27</td>\n",
              "      <td>7203</td>\n",
              "      <td>1930</td>\n",
              "    </tr>\n",
              "    <tr>\n",
              "      <th>27</th>\n",
              "      <td>2017-04-28</td>\n",
              "      <td>7302</td>\n",
              "      <td>1850</td>\n",
              "    </tr>\n",
              "    <tr>\n",
              "      <th>28</th>\n",
              "      <td>2017-04-29</td>\n",
              "      <td>6033</td>\n",
              "      <td>2300</td>\n",
              "    </tr>\n",
              "    <tr>\n",
              "      <th>29</th>\n",
              "      <td>2017-04-30</td>\n",
              "      <td>4093</td>\n",
              "      <td>1950</td>\n",
              "    </tr>\n",
              "  </tbody>\n",
              "</table>\n",
              "</div>"
            ],
            "text/plain": [
              "            日付     歩数  摂取カロリー\n",
              "0   2017-04-01   5439    2500\n",
              "1   2017-04-02   2510    2300\n",
              "2   2017-04-03  10238    1950\n",
              "3   2017-04-04   8209    1850\n",
              "4   2017-04-05   9434    1930\n",
              "5   2017-04-06   7593    1800\n",
              "6   2017-04-07   9320    1940\n",
              "7   2017-04-08   4873    2300\n",
              "8   2017-04-09  12045    1950\n",
              "9   2017-04-10   7493    1850\n",
              "10  2017-04-11   7289    1930\n",
              "11  2017-04-12   6481    2300\n",
              "12  2017-04-13  10287    1800\n",
              "13  2017-04-14   8043    1940\n",
              "14  2017-04-15   7435    2300\n",
              "15  2017-04-16   7529    2300\n",
              "16  2017-04-17   8031    1940\n",
              "17  2017-04-18   8475    2300\n",
              "18  2017-04-19   8132    1950\n",
              "19  2017-04-20  15328    1800\n",
              "20  2017-04-21  12849    1940\n",
              "21  2017-04-22   4029    2300\n",
              "22  2017-04-23   3890    1950\n",
              "23  2017-04-24   8093    1850\n",
              "24  2017-04-25   7823    1950\n",
              "25  2017-04-26   7492    1850\n",
              "26  2017-04-27   7203    1930\n",
              "27  2017-04-28   7302    1850\n",
              "28  2017-04-29   6033    2300\n",
              "29  2017-04-30   4093    1950"
            ]
          },
          "metadata": {
            "tags": []
          },
          "execution_count": 5
        }
      ]
    },
    {
      "cell_type": "markdown",
      "metadata": {
        "id": "HfWyauWPfmGV"
      },
      "source": [
        "### ●データ読み込み webサイトのHTMLから票を取得"
      ]
    },
    {
      "cell_type": "code",
      "metadata": {
        "id": "hFFM_p0NXYIh"
      },
      "source": [
        "# import urllib.parse\n",
        "\n",
        "# url = \"https://ja.wikipedia.org/wiki/トップレベルドメイン一覧\"\n",
        "\n",
        "# url = \"ja.wikipedia.org/wiki/トップレベルドメイン一覧\"\n",
        "\n",
        "url = \"https://ja.wikipedia.org/wiki/%E3%83%88%E3%83%83%E3%83%97%E3%83%AC%E3%83%99%E3%83%AB%E3%83%89%E3%83%A1%E3%82%A4%E3%83%B3%E4%B8%80%E8%A6%A7\"\n",
        "\n",
        "#urlp = urllib.parse.quote(url)#\n",
        "#print(urlp)\n",
        "\n",
        "tables = pd.read_html(url)"
      ],
      "execution_count": null,
      "outputs": []
    },
    {
      "cell_type": "code",
      "metadata": {
        "colab": {
          "base_uri": "https://localhost:8080/"
        },
        "id": "F-CySbWmYQNZ",
        "outputId": "c779603b-e7d2-4836-9231-0547a04c9601"
      },
      "source": [
        "len(tables)"
      ],
      "execution_count": null,
      "outputs": [
        {
          "output_type": "execute_result",
          "data": {
            "text/plain": [
              "43"
            ]
          },
          "metadata": {
            "tags": []
          },
          "execution_count": 8
        }
      ]
    },
    {
      "cell_type": "code",
      "metadata": {
        "colab": {
          "base_uri": "https://localhost:8080/",
          "height": 521
        },
        "id": "-ZAU7mCxdSFT",
        "outputId": "8132e36a-d922-4ff9-9af3-591d01445fed"
      },
      "source": [
        "df = tables[4]\n",
        "df"
      ],
      "execution_count": null,
      "outputs": [
        {
          "output_type": "execute_result",
          "data": {
            "text/html": [
              "<div>\n",
              "<style scoped>\n",
              "    .dataframe tbody tr th:only-of-type {\n",
              "        vertical-align: middle;\n",
              "    }\n",
              "\n",
              "    .dataframe tbody tr th {\n",
              "        vertical-align: top;\n",
              "    }\n",
              "\n",
              "    .dataframe thead th {\n",
              "        text-align: right;\n",
              "    }\n",
              "</style>\n",
              "<table border=\"1\" class=\"dataframe\">\n",
              "  <thead>\n",
              "    <tr style=\"text-align: right;\">\n",
              "      <th></th>\n",
              "      <th>Name</th>\n",
              "      <th>Entity</th>\n",
              "      <th>Explanation</th>\n",
              "      <th>Notes</th>\n",
              "      <th>IDN</th>\n",
              "      <th>DNSSEC</th>\n",
              "      <th>SLD</th>\n",
              "      <th>IPv6</th>\n",
              "    </tr>\n",
              "  </thead>\n",
              "  <tbody>\n",
              "    <tr>\n",
              "      <th>0</th>\n",
              "      <td>.ac</td>\n",
              "      <td>アセンション島</td>\n",
              "      <td>NaN</td>\n",
              "      <td>広く学術的なサイト（大学など）のために用いられる。アセンション島はイギリス領であるが、イギリ...</td>\n",
              "      <td>Yes</td>\n",
              "      <td>Yes</td>\n",
              "      <td>Yes</td>\n",
              "      <td>Yes</td>\n",
              "    </tr>\n",
              "    <tr>\n",
              "      <th>1</th>\n",
              "      <td>.ad</td>\n",
              "      <td>アンドラ</td>\n",
              "      <td>NaN</td>\n",
              "      <td>アンドラにおける商標または市民権が必要となる[7][8]。</td>\n",
              "      <td>NaN</td>\n",
              "      <td>Yes</td>\n",
              "      <td>Yes</td>\n",
              "      <td>NaN</td>\n",
              "    </tr>\n",
              "    <tr>\n",
              "      <th>2</th>\n",
              "      <td>.ae</td>\n",
              "      <td>アラブ首長国連邦</td>\n",
              "      <td>NaN</td>\n",
              "      <td>NaN</td>\n",
              "      <td>NaN</td>\n",
              "      <td>No</td>\n",
              "      <td>Yes</td>\n",
              "      <td>NaN</td>\n",
              "    </tr>\n",
              "    <tr>\n",
              "      <th>3</th>\n",
              "      <td>.af</td>\n",
              "      <td>アフガニスタン</td>\n",
              "      <td>NaN</td>\n",
              "      <td>NaN</td>\n",
              "      <td>NaN</td>\n",
              "      <td>Yes</td>\n",
              "      <td>Yes</td>\n",
              "      <td>NaN</td>\n",
              "    </tr>\n",
              "    <tr>\n",
              "      <th>4</th>\n",
              "      <td>.ag</td>\n",
              "      <td>アンティグア・バーブーダ</td>\n",
              "      <td>NaN</td>\n",
              "      <td>AGがドイツの株式会社(Aktiengesellschaft)の略称であることから、非公式に...</td>\n",
              "      <td>NaN</td>\n",
              "      <td>Yes</td>\n",
              "      <td>Yes</td>\n",
              "      <td>NaN</td>\n",
              "    </tr>\n",
              "    <tr>\n",
              "      <th>...</th>\n",
              "      <td>...</td>\n",
              "      <td>...</td>\n",
              "      <td>...</td>\n",
              "      <td>...</td>\n",
              "      <td>...</td>\n",
              "      <td>...</td>\n",
              "      <td>...</td>\n",
              "      <td>...</td>\n",
              "    </tr>\n",
              "    <tr>\n",
              "      <th>248</th>\n",
              "      <td>.ye</td>\n",
              "      <td>イエメン</td>\n",
              "      <td>NaN</td>\n",
              "      <td>NaN</td>\n",
              "      <td>NaN</td>\n",
              "      <td>No</td>\n",
              "      <td>No</td>\n",
              "      <td>NaN</td>\n",
              "    </tr>\n",
              "    <tr>\n",
              "      <th>249</th>\n",
              "      <td>.yt</td>\n",
              "      <td>マヨット島</td>\n",
              "      <td>NaN</td>\n",
              "      <td>欧州連合・スイス・ノルウェー・アイスランド・リヒテンシュタインの個人・企業に限る[cctld...</td>\n",
              "      <td>Yes[cctld 12]</td>\n",
              "      <td>Yes</td>\n",
              "      <td>Yes</td>\n",
              "      <td>NaN</td>\n",
              "    </tr>\n",
              "    <tr>\n",
              "      <th>250</th>\n",
              "      <td>.za</td>\n",
              "      <td>南アフリカ</td>\n",
              "      <td>Zuid-Afrika (オランダ語)</td>\n",
              "      <td>NaN</td>\n",
              "      <td>NaN</td>\n",
              "      <td>No</td>\n",
              "      <td>No</td>\n",
              "      <td>NaN</td>\n",
              "    </tr>\n",
              "    <tr>\n",
              "      <th>251</th>\n",
              "      <td>.zm</td>\n",
              "      <td>ザンビア</td>\n",
              "      <td>NaN</td>\n",
              "      <td>NaN</td>\n",
              "      <td>NaN</td>\n",
              "      <td>Yes</td>\n",
              "      <td>Yes[cctld 28]</td>\n",
              "      <td>NaN</td>\n",
              "    </tr>\n",
              "    <tr>\n",
              "      <th>252</th>\n",
              "      <td>.zw</td>\n",
              "      <td>ジンバブエ</td>\n",
              "      <td>NaN</td>\n",
              "      <td>NaN</td>\n",
              "      <td>NaN</td>\n",
              "      <td>No</td>\n",
              "      <td>No</td>\n",
              "      <td>NaN</td>\n",
              "    </tr>\n",
              "  </tbody>\n",
              "</table>\n",
              "<p>253 rows × 8 columns</p>\n",
              "</div>"
            ],
            "text/plain": [
              "    Name        Entity          Explanation  ... DNSSEC            SLD IPv6\n",
              "0    .ac       アセンション島                  NaN  ...    Yes            Yes  Yes\n",
              "1    .ad          アンドラ                  NaN  ...    Yes            Yes  NaN\n",
              "2    .ae      アラブ首長国連邦                  NaN  ...     No            Yes  NaN\n",
              "3    .af       アフガニスタン                  NaN  ...    Yes            Yes  NaN\n",
              "4    .ag  アンティグア・バーブーダ                  NaN  ...    Yes            Yes  NaN\n",
              "..   ...           ...                  ...  ...    ...            ...  ...\n",
              "248  .ye          イエメン                  NaN  ...     No             No  NaN\n",
              "249  .yt         マヨット島                  NaN  ...    Yes            Yes  NaN\n",
              "250  .za         南アフリカ  Zuid-Afrika (オランダ語)  ...     No             No  NaN\n",
              "251  .zm          ザンビア                  NaN  ...    Yes  Yes[cctld 28]  NaN\n",
              "252  .zw         ジンバブエ                  NaN  ...     No             No  NaN\n",
              "\n",
              "[253 rows x 8 columns]"
            ]
          },
          "metadata": {
            "tags": []
          },
          "execution_count": 9
        }
      ]
    },
    {
      "cell_type": "markdown",
      "metadata": {
        "id": "let_Z-DWAL72"
      },
      "source": [
        "### ●データ書き込み：CSVファイル"
      ]
    },
    {
      "cell_type": "code",
      "metadata": {
        "id": "c2V85JdJdXH0"
      },
      "source": [
        "df.to_csv(\"/content/drive/My Drive/Colab Files/write_data.csv\")"
      ],
      "execution_count": null,
      "outputs": []
    },
    {
      "cell_type": "markdown",
      "metadata": {
        "id": "hio17T9OCEBF"
      },
      "source": [
        "### ●データ書き込み：Excelファイル"
      ]
    },
    {
      "cell_type": "code",
      "metadata": {
        "id": "1Wb5QyURCKDW"
      },
      "source": [
        "df.to_excel(\"/content/drive/My Drive/Colab Files/write_data.xlsx\")"
      ],
      "execution_count": null,
      "outputs": []
    },
    {
      "cell_type": "markdown",
      "metadata": {
        "id": "twDDJHb9CxOW"
      },
      "source": [
        "### ●データの再利用"
      ]
    },
    {
      "cell_type": "code",
      "metadata": {
        "id": "Nu-0aPSQC0No"
      },
      "source": [
        "df.to_pickle(\"/content/drive/My Drive/Colab Files/write_data.pickle\")"
      ],
      "execution_count": null,
      "outputs": []
    },
    {
      "cell_type": "code",
      "metadata": {
        "colab": {
          "base_uri": "https://localhost:8080/",
          "height": 521
        },
        "id": "ZhBHXmBdDjHt",
        "outputId": "3701befe-063e-4b8c-8e05-b7cda34b2d35"
      },
      "source": [
        "df1 = pd.read_pickle(\"/content/drive/My Drive/Colab Files/write_data.pickle\")\n",
        "df1"
      ],
      "execution_count": null,
      "outputs": [
        {
          "output_type": "execute_result",
          "data": {
            "text/html": [
              "<div>\n",
              "<style scoped>\n",
              "    .dataframe tbody tr th:only-of-type {\n",
              "        vertical-align: middle;\n",
              "    }\n",
              "\n",
              "    .dataframe tbody tr th {\n",
              "        vertical-align: top;\n",
              "    }\n",
              "\n",
              "    .dataframe thead th {\n",
              "        text-align: right;\n",
              "    }\n",
              "</style>\n",
              "<table border=\"1\" class=\"dataframe\">\n",
              "  <thead>\n",
              "    <tr style=\"text-align: right;\">\n",
              "      <th></th>\n",
              "      <th>Name</th>\n",
              "      <th>Entity</th>\n",
              "      <th>Explanation</th>\n",
              "      <th>Notes</th>\n",
              "      <th>IDN</th>\n",
              "      <th>DNSSEC</th>\n",
              "      <th>SLD</th>\n",
              "      <th>IPv6</th>\n",
              "    </tr>\n",
              "  </thead>\n",
              "  <tbody>\n",
              "    <tr>\n",
              "      <th>0</th>\n",
              "      <td>.ac</td>\n",
              "      <td>アセンション島</td>\n",
              "      <td>NaN</td>\n",
              "      <td>広く学術的なサイト（大学など）のために用いられる。アセンション島はイギリス領であるが、イギリ...</td>\n",
              "      <td>Yes</td>\n",
              "      <td>Yes</td>\n",
              "      <td>Yes</td>\n",
              "      <td>Yes</td>\n",
              "    </tr>\n",
              "    <tr>\n",
              "      <th>1</th>\n",
              "      <td>.ad</td>\n",
              "      <td>アンドラ</td>\n",
              "      <td>NaN</td>\n",
              "      <td>アンドラにおける商標または市民権が必要となる[7][8]。</td>\n",
              "      <td>NaN</td>\n",
              "      <td>Yes</td>\n",
              "      <td>Yes</td>\n",
              "      <td>NaN</td>\n",
              "    </tr>\n",
              "    <tr>\n",
              "      <th>2</th>\n",
              "      <td>.ae</td>\n",
              "      <td>アラブ首長国連邦</td>\n",
              "      <td>NaN</td>\n",
              "      <td>NaN</td>\n",
              "      <td>NaN</td>\n",
              "      <td>No</td>\n",
              "      <td>Yes</td>\n",
              "      <td>NaN</td>\n",
              "    </tr>\n",
              "    <tr>\n",
              "      <th>3</th>\n",
              "      <td>.af</td>\n",
              "      <td>アフガニスタン</td>\n",
              "      <td>NaN</td>\n",
              "      <td>NaN</td>\n",
              "      <td>NaN</td>\n",
              "      <td>Yes</td>\n",
              "      <td>Yes</td>\n",
              "      <td>NaN</td>\n",
              "    </tr>\n",
              "    <tr>\n",
              "      <th>4</th>\n",
              "      <td>.ag</td>\n",
              "      <td>アンティグア・バーブーダ</td>\n",
              "      <td>NaN</td>\n",
              "      <td>AGがドイツの株式会社(Aktiengesellschaft)の略称であることから、非公式に...</td>\n",
              "      <td>NaN</td>\n",
              "      <td>Yes</td>\n",
              "      <td>Yes</td>\n",
              "      <td>NaN</td>\n",
              "    </tr>\n",
              "    <tr>\n",
              "      <th>...</th>\n",
              "      <td>...</td>\n",
              "      <td>...</td>\n",
              "      <td>...</td>\n",
              "      <td>...</td>\n",
              "      <td>...</td>\n",
              "      <td>...</td>\n",
              "      <td>...</td>\n",
              "      <td>...</td>\n",
              "    </tr>\n",
              "    <tr>\n",
              "      <th>248</th>\n",
              "      <td>.ye</td>\n",
              "      <td>イエメン</td>\n",
              "      <td>NaN</td>\n",
              "      <td>NaN</td>\n",
              "      <td>NaN</td>\n",
              "      <td>No</td>\n",
              "      <td>No</td>\n",
              "      <td>NaN</td>\n",
              "    </tr>\n",
              "    <tr>\n",
              "      <th>249</th>\n",
              "      <td>.yt</td>\n",
              "      <td>マヨット島</td>\n",
              "      <td>NaN</td>\n",
              "      <td>欧州連合・スイス・ノルウェー・アイスランド・リヒテンシュタインの個人・企業に限る[cctld...</td>\n",
              "      <td>Yes[cctld 12]</td>\n",
              "      <td>Yes</td>\n",
              "      <td>Yes</td>\n",
              "      <td>NaN</td>\n",
              "    </tr>\n",
              "    <tr>\n",
              "      <th>250</th>\n",
              "      <td>.za</td>\n",
              "      <td>南アフリカ</td>\n",
              "      <td>Zuid-Afrika (オランダ語)</td>\n",
              "      <td>NaN</td>\n",
              "      <td>NaN</td>\n",
              "      <td>No</td>\n",
              "      <td>No</td>\n",
              "      <td>NaN</td>\n",
              "    </tr>\n",
              "    <tr>\n",
              "      <th>251</th>\n",
              "      <td>.zm</td>\n",
              "      <td>ザンビア</td>\n",
              "      <td>NaN</td>\n",
              "      <td>NaN</td>\n",
              "      <td>NaN</td>\n",
              "      <td>Yes</td>\n",
              "      <td>Yes[cctld 28]</td>\n",
              "      <td>NaN</td>\n",
              "    </tr>\n",
              "    <tr>\n",
              "      <th>252</th>\n",
              "      <td>.zw</td>\n",
              "      <td>ジンバブエ</td>\n",
              "      <td>NaN</td>\n",
              "      <td>NaN</td>\n",
              "      <td>NaN</td>\n",
              "      <td>No</td>\n",
              "      <td>No</td>\n",
              "      <td>NaN</td>\n",
              "    </tr>\n",
              "  </tbody>\n",
              "</table>\n",
              "<p>253 rows × 8 columns</p>\n",
              "</div>"
            ],
            "text/plain": [
              "    Name        Entity          Explanation  ... DNSSEC            SLD IPv6\n",
              "0    .ac       アセンション島                  NaN  ...    Yes            Yes  Yes\n",
              "1    .ad          アンドラ                  NaN  ...    Yes            Yes  NaN\n",
              "2    .ae      アラブ首長国連邦                  NaN  ...     No            Yes  NaN\n",
              "3    .af       アフガニスタン                  NaN  ...    Yes            Yes  NaN\n",
              "4    .ag  アンティグア・バーブーダ                  NaN  ...    Yes            Yes  NaN\n",
              "..   ...           ...                  ...  ...    ...            ...  ...\n",
              "248  .ye          イエメン                  NaN  ...     No             No  NaN\n",
              "249  .yt         マヨット島                  NaN  ...    Yes            Yes  NaN\n",
              "250  .za         南アフリカ  Zuid-Afrika (オランダ語)  ...     No             No  NaN\n",
              "251  .zm          ザンビア                  NaN  ...    Yes  Yes[cctld 28]  NaN\n",
              "252  .zw         ジンバブエ                  NaN  ...     No             No  NaN\n",
              "\n",
              "[253 rows x 8 columns]"
            ]
          },
          "metadata": {
            "tags": []
          },
          "execution_count": 13
        }
      ]
    },
    {
      "cell_type": "markdown",
      "metadata": {
        "id": "MZPI9YbQD5FF"
      },
      "source": [
        "## ▶︎4.2.3 データの整形"
      ]
    },
    {
      "cell_type": "code",
      "metadata": {
        "id": "o8MiaNWNEBS7"
      },
      "source": [
        "import pandas as pd\n",
        "import numpy as np\n"
      ],
      "execution_count": null,
      "outputs": []
    },
    {
      "cell_type": "markdown",
      "metadata": {
        "id": "i39iNgohgIn5"
      },
      "source": [
        "### ●使用するデータの読み込み"
      ]
    },
    {
      "cell_type": "code",
      "metadata": {
        "colab": {
          "base_uri": "https://localhost:8080/",
          "height": 979
        },
        "id": "mW3q81I1EuCi",
        "outputId": "0a5e8419-bbfa-4344-d32d-8a2a317dc201"
      },
      "source": [
        "df = pd.read_excel(\"/content/drive/My Drive/Colab Files/201704health.xlsx\")\n",
        "df"
      ],
      "execution_count": null,
      "outputs": [
        {
          "output_type": "execute_result",
          "data": {
            "text/html": [
              "<div>\n",
              "<style scoped>\n",
              "    .dataframe tbody tr th:only-of-type {\n",
              "        vertical-align: middle;\n",
              "    }\n",
              "\n",
              "    .dataframe tbody tr th {\n",
              "        vertical-align: top;\n",
              "    }\n",
              "\n",
              "    .dataframe thead th {\n",
              "        text-align: right;\n",
              "    }\n",
              "</style>\n",
              "<table border=\"1\" class=\"dataframe\">\n",
              "  <thead>\n",
              "    <tr style=\"text-align: right;\">\n",
              "      <th></th>\n",
              "      <th>日付</th>\n",
              "      <th>歩数</th>\n",
              "      <th>摂取カロリー</th>\n",
              "    </tr>\n",
              "  </thead>\n",
              "  <tbody>\n",
              "    <tr>\n",
              "      <th>0</th>\n",
              "      <td>2017-04-01</td>\n",
              "      <td>5439</td>\n",
              "      <td>2500</td>\n",
              "    </tr>\n",
              "    <tr>\n",
              "      <th>1</th>\n",
              "      <td>2017-04-02</td>\n",
              "      <td>2510</td>\n",
              "      <td>2300</td>\n",
              "    </tr>\n",
              "    <tr>\n",
              "      <th>2</th>\n",
              "      <td>2017-04-03</td>\n",
              "      <td>10238</td>\n",
              "      <td>1950</td>\n",
              "    </tr>\n",
              "    <tr>\n",
              "      <th>3</th>\n",
              "      <td>2017-04-04</td>\n",
              "      <td>8209</td>\n",
              "      <td>1850</td>\n",
              "    </tr>\n",
              "    <tr>\n",
              "      <th>4</th>\n",
              "      <td>2017-04-05</td>\n",
              "      <td>9434</td>\n",
              "      <td>1930</td>\n",
              "    </tr>\n",
              "    <tr>\n",
              "      <th>5</th>\n",
              "      <td>2017-04-06</td>\n",
              "      <td>7593</td>\n",
              "      <td>1800</td>\n",
              "    </tr>\n",
              "    <tr>\n",
              "      <th>6</th>\n",
              "      <td>2017-04-07</td>\n",
              "      <td>9320</td>\n",
              "      <td>1940</td>\n",
              "    </tr>\n",
              "    <tr>\n",
              "      <th>7</th>\n",
              "      <td>2017-04-08</td>\n",
              "      <td>4873</td>\n",
              "      <td>2300</td>\n",
              "    </tr>\n",
              "    <tr>\n",
              "      <th>8</th>\n",
              "      <td>2017-04-09</td>\n",
              "      <td>12045</td>\n",
              "      <td>1950</td>\n",
              "    </tr>\n",
              "    <tr>\n",
              "      <th>9</th>\n",
              "      <td>2017-04-10</td>\n",
              "      <td>7493</td>\n",
              "      <td>1850</td>\n",
              "    </tr>\n",
              "    <tr>\n",
              "      <th>10</th>\n",
              "      <td>2017-04-11</td>\n",
              "      <td>7289</td>\n",
              "      <td>1930</td>\n",
              "    </tr>\n",
              "    <tr>\n",
              "      <th>11</th>\n",
              "      <td>2017-04-12</td>\n",
              "      <td>6481</td>\n",
              "      <td>2300</td>\n",
              "    </tr>\n",
              "    <tr>\n",
              "      <th>12</th>\n",
              "      <td>2017-04-13</td>\n",
              "      <td>10287</td>\n",
              "      <td>1800</td>\n",
              "    </tr>\n",
              "    <tr>\n",
              "      <th>13</th>\n",
              "      <td>2017-04-14</td>\n",
              "      <td>8043</td>\n",
              "      <td>1940</td>\n",
              "    </tr>\n",
              "    <tr>\n",
              "      <th>14</th>\n",
              "      <td>2017-04-15</td>\n",
              "      <td>7435</td>\n",
              "      <td>2300</td>\n",
              "    </tr>\n",
              "    <tr>\n",
              "      <th>15</th>\n",
              "      <td>2017-04-16</td>\n",
              "      <td>7529</td>\n",
              "      <td>2300</td>\n",
              "    </tr>\n",
              "    <tr>\n",
              "      <th>16</th>\n",
              "      <td>2017-04-17</td>\n",
              "      <td>8031</td>\n",
              "      <td>1940</td>\n",
              "    </tr>\n",
              "    <tr>\n",
              "      <th>17</th>\n",
              "      <td>2017-04-18</td>\n",
              "      <td>8475</td>\n",
              "      <td>2300</td>\n",
              "    </tr>\n",
              "    <tr>\n",
              "      <th>18</th>\n",
              "      <td>2017-04-19</td>\n",
              "      <td>8132</td>\n",
              "      <td>1950</td>\n",
              "    </tr>\n",
              "    <tr>\n",
              "      <th>19</th>\n",
              "      <td>2017-04-20</td>\n",
              "      <td>15328</td>\n",
              "      <td>1800</td>\n",
              "    </tr>\n",
              "    <tr>\n",
              "      <th>20</th>\n",
              "      <td>2017-04-21</td>\n",
              "      <td>12849</td>\n",
              "      <td>1940</td>\n",
              "    </tr>\n",
              "    <tr>\n",
              "      <th>21</th>\n",
              "      <td>2017-04-22</td>\n",
              "      <td>4029</td>\n",
              "      <td>2300</td>\n",
              "    </tr>\n",
              "    <tr>\n",
              "      <th>22</th>\n",
              "      <td>2017-04-23</td>\n",
              "      <td>3890</td>\n",
              "      <td>1950</td>\n",
              "    </tr>\n",
              "    <tr>\n",
              "      <th>23</th>\n",
              "      <td>2017-04-24</td>\n",
              "      <td>8093</td>\n",
              "      <td>1850</td>\n",
              "    </tr>\n",
              "    <tr>\n",
              "      <th>24</th>\n",
              "      <td>2017-04-25</td>\n",
              "      <td>7823</td>\n",
              "      <td>1950</td>\n",
              "    </tr>\n",
              "    <tr>\n",
              "      <th>25</th>\n",
              "      <td>2017-04-26</td>\n",
              "      <td>7492</td>\n",
              "      <td>1850</td>\n",
              "    </tr>\n",
              "    <tr>\n",
              "      <th>26</th>\n",
              "      <td>2017-04-27</td>\n",
              "      <td>7203</td>\n",
              "      <td>1930</td>\n",
              "    </tr>\n",
              "    <tr>\n",
              "      <th>27</th>\n",
              "      <td>2017-04-28</td>\n",
              "      <td>7302</td>\n",
              "      <td>1850</td>\n",
              "    </tr>\n",
              "    <tr>\n",
              "      <th>28</th>\n",
              "      <td>2017-04-29</td>\n",
              "      <td>6033</td>\n",
              "      <td>2300</td>\n",
              "    </tr>\n",
              "    <tr>\n",
              "      <th>29</th>\n",
              "      <td>2017-04-30</td>\n",
              "      <td>4093</td>\n",
              "      <td>1950</td>\n",
              "    </tr>\n",
              "  </tbody>\n",
              "</table>\n",
              "</div>"
            ],
            "text/plain": [
              "            日付     歩数  摂取カロリー\n",
              "0   2017-04-01   5439    2500\n",
              "1   2017-04-02   2510    2300\n",
              "2   2017-04-03  10238    1950\n",
              "3   2017-04-04   8209    1850\n",
              "4   2017-04-05   9434    1930\n",
              "5   2017-04-06   7593    1800\n",
              "6   2017-04-07   9320    1940\n",
              "7   2017-04-08   4873    2300\n",
              "8   2017-04-09  12045    1950\n",
              "9   2017-04-10   7493    1850\n",
              "10  2017-04-11   7289    1930\n",
              "11  2017-04-12   6481    2300\n",
              "12  2017-04-13  10287    1800\n",
              "13  2017-04-14   8043    1940\n",
              "14  2017-04-15   7435    2300\n",
              "15  2017-04-16   7529    2300\n",
              "16  2017-04-17   8031    1940\n",
              "17  2017-04-18   8475    2300\n",
              "18  2017-04-19   8132    1950\n",
              "19  2017-04-20  15328    1800\n",
              "20  2017-04-21  12849    1940\n",
              "21  2017-04-22   4029    2300\n",
              "22  2017-04-23   3890    1950\n",
              "23  2017-04-24   8093    1850\n",
              "24  2017-04-25   7823    1950\n",
              "25  2017-04-26   7492    1850\n",
              "26  2017-04-27   7203    1930\n",
              "27  2017-04-28   7302    1850\n",
              "28  2017-04-29   6033    2300\n",
              "29  2017-04-30   4093    1950"
            ]
          },
          "metadata": {
            "tags": []
          },
          "execution_count": 27
        }
      ]
    },
    {
      "cell_type": "markdown",
      "metadata": {
        "id": "YtaTVOYTgSKL"
      },
      "source": [
        "### ●条件で抽出"
      ]
    },
    {
      "cell_type": "code",
      "metadata": {
        "colab": {
          "base_uri": "https://localhost:8080/"
        },
        "id": "oNfafnQaFAeX",
        "outputId": "4cc33e96-c370-4913-c336-fe7741801653"
      },
      "source": [
        "df[\"歩数\"] >= 10000\n",
        "\n",
        "# df.loc[:,\"歩数\"] >= 10000\n",
        "# と同じ"
      ],
      "execution_count": null,
      "outputs": [
        {
          "output_type": "execute_result",
          "data": {
            "text/plain": [
              "0     False\n",
              "1     False\n",
              "2      True\n",
              "3     False\n",
              "4     False\n",
              "5     False\n",
              "6     False\n",
              "7     False\n",
              "8      True\n",
              "9     False\n",
              "10    False\n",
              "11    False\n",
              "12     True\n",
              "13    False\n",
              "14    False\n",
              "15    False\n",
              "16    False\n",
              "17    False\n",
              "18    False\n",
              "19     True\n",
              "20     True\n",
              "21    False\n",
              "22    False\n",
              "23    False\n",
              "24    False\n",
              "25    False\n",
              "26    False\n",
              "27    False\n",
              "28    False\n",
              "29    False\n",
              "Name: 歩数, dtype: bool"
            ]
          },
          "metadata": {
            "tags": []
          },
          "execution_count": 28
        }
      ]
    },
    {
      "cell_type": "code",
      "metadata": {
        "colab": {
          "base_uri": "https://localhost:8080/",
          "height": 204
        },
        "id": "GH1kKbQuFtYt",
        "outputId": "5f4fdfb0-960f-43eb-8a92-f02de5377ab2"
      },
      "source": [
        "df_selected = df[df[\"歩数\"] >= 10000]\n",
        "df_selected"
      ],
      "execution_count": null,
      "outputs": [
        {
          "output_type": "execute_result",
          "data": {
            "text/html": [
              "<div>\n",
              "<style scoped>\n",
              "    .dataframe tbody tr th:only-of-type {\n",
              "        vertical-align: middle;\n",
              "    }\n",
              "\n",
              "    .dataframe tbody tr th {\n",
              "        vertical-align: top;\n",
              "    }\n",
              "\n",
              "    .dataframe thead th {\n",
              "        text-align: right;\n",
              "    }\n",
              "</style>\n",
              "<table border=\"1\" class=\"dataframe\">\n",
              "  <thead>\n",
              "    <tr style=\"text-align: right;\">\n",
              "      <th></th>\n",
              "      <th>日付</th>\n",
              "      <th>歩数</th>\n",
              "      <th>摂取カロリー</th>\n",
              "    </tr>\n",
              "  </thead>\n",
              "  <tbody>\n",
              "    <tr>\n",
              "      <th>2</th>\n",
              "      <td>2017-04-03</td>\n",
              "      <td>10238</td>\n",
              "      <td>1950</td>\n",
              "    </tr>\n",
              "    <tr>\n",
              "      <th>8</th>\n",
              "      <td>2017-04-09</td>\n",
              "      <td>12045</td>\n",
              "      <td>1950</td>\n",
              "    </tr>\n",
              "    <tr>\n",
              "      <th>12</th>\n",
              "      <td>2017-04-13</td>\n",
              "      <td>10287</td>\n",
              "      <td>1800</td>\n",
              "    </tr>\n",
              "    <tr>\n",
              "      <th>19</th>\n",
              "      <td>2017-04-20</td>\n",
              "      <td>15328</td>\n",
              "      <td>1800</td>\n",
              "    </tr>\n",
              "    <tr>\n",
              "      <th>20</th>\n",
              "      <td>2017-04-21</td>\n",
              "      <td>12849</td>\n",
              "      <td>1940</td>\n",
              "    </tr>\n",
              "  </tbody>\n",
              "</table>\n",
              "</div>"
            ],
            "text/plain": [
              "            日付     歩数  摂取カロリー\n",
              "2   2017-04-03  10238    1950\n",
              "8   2017-04-09  12045    1950\n",
              "12  2017-04-13  10287    1800\n",
              "19  2017-04-20  15328    1800\n",
              "20  2017-04-21  12849    1940"
            ]
          },
          "metadata": {
            "tags": []
          },
          "execution_count": 29
        }
      ]
    },
    {
      "cell_type": "code",
      "metadata": {
        "colab": {
          "base_uri": "https://localhost:8080/"
        },
        "id": "nKriTL6BGWmm",
        "outputId": "b60ff480-bd8d-4333-a5a3-5ddb186e75af"
      },
      "source": [
        "df_selected.shape"
      ],
      "execution_count": null,
      "outputs": [
        {
          "output_type": "execute_result",
          "data": {
            "text/plain": [
              "(5, 3)"
            ]
          },
          "metadata": {
            "tags": []
          },
          "execution_count": 30
        }
      ]
    },
    {
      "cell_type": "code",
      "metadata": {
        "colab": {
          "base_uri": "https://localhost:8080/",
          "height": 204
        },
        "id": "RJqm8_WnUDVe",
        "outputId": "ce4fa3db-603a-4e5f-9f93-5cc1e2250233"
      },
      "source": [
        "df_selected = df[df.loc[:,\"歩数\"] >= 10000]\n",
        "df_selected"
      ],
      "execution_count": null,
      "outputs": [
        {
          "output_type": "execute_result",
          "data": {
            "text/html": [
              "<div>\n",
              "<style scoped>\n",
              "    .dataframe tbody tr th:only-of-type {\n",
              "        vertical-align: middle;\n",
              "    }\n",
              "\n",
              "    .dataframe tbody tr th {\n",
              "        vertical-align: top;\n",
              "    }\n",
              "\n",
              "    .dataframe thead th {\n",
              "        text-align: right;\n",
              "    }\n",
              "</style>\n",
              "<table border=\"1\" class=\"dataframe\">\n",
              "  <thead>\n",
              "    <tr style=\"text-align: right;\">\n",
              "      <th></th>\n",
              "      <th>日付</th>\n",
              "      <th>歩数</th>\n",
              "      <th>摂取カロリー</th>\n",
              "    </tr>\n",
              "  </thead>\n",
              "  <tbody>\n",
              "    <tr>\n",
              "      <th>2</th>\n",
              "      <td>2017-04-03</td>\n",
              "      <td>10238</td>\n",
              "      <td>1950</td>\n",
              "    </tr>\n",
              "    <tr>\n",
              "      <th>8</th>\n",
              "      <td>2017-04-09</td>\n",
              "      <td>12045</td>\n",
              "      <td>1950</td>\n",
              "    </tr>\n",
              "    <tr>\n",
              "      <th>12</th>\n",
              "      <td>2017-04-13</td>\n",
              "      <td>10287</td>\n",
              "      <td>1800</td>\n",
              "    </tr>\n",
              "    <tr>\n",
              "      <th>19</th>\n",
              "      <td>2017-04-20</td>\n",
              "      <td>15328</td>\n",
              "      <td>1800</td>\n",
              "    </tr>\n",
              "    <tr>\n",
              "      <th>20</th>\n",
              "      <td>2017-04-21</td>\n",
              "      <td>12849</td>\n",
              "      <td>1940</td>\n",
              "    </tr>\n",
              "  </tbody>\n",
              "</table>\n",
              "</div>"
            ],
            "text/plain": [
              "            日付     歩数  摂取カロリー\n",
              "2   2017-04-03  10238    1950\n",
              "8   2017-04-09  12045    1950\n",
              "12  2017-04-13  10287    1800\n",
              "19  2017-04-20  15328    1800\n",
              "20  2017-04-21  12849    1940"
            ]
          },
          "metadata": {
            "tags": []
          },
          "execution_count": 31
        }
      ]
    },
    {
      "cell_type": "code",
      "metadata": {
        "colab": {
          "base_uri": "https://localhost:8080/",
          "height": 111
        },
        "id": "4YWvhoMhGiQD",
        "outputId": "3fb2c056-8177-433e-b512-5a87a15d7ecf"
      },
      "source": [
        "# queryメソッド\n",
        "\n",
        "df.query('歩数 >= 10000 and 摂取カロリー <= 1800')"
      ],
      "execution_count": null,
      "outputs": [
        {
          "output_type": "execute_result",
          "data": {
            "text/html": [
              "<div>\n",
              "<style scoped>\n",
              "    .dataframe tbody tr th:only-of-type {\n",
              "        vertical-align: middle;\n",
              "    }\n",
              "\n",
              "    .dataframe tbody tr th {\n",
              "        vertical-align: top;\n",
              "    }\n",
              "\n",
              "    .dataframe thead th {\n",
              "        text-align: right;\n",
              "    }\n",
              "</style>\n",
              "<table border=\"1\" class=\"dataframe\">\n",
              "  <thead>\n",
              "    <tr style=\"text-align: right;\">\n",
              "      <th></th>\n",
              "      <th>日付</th>\n",
              "      <th>歩数</th>\n",
              "      <th>摂取カロリー</th>\n",
              "    </tr>\n",
              "  </thead>\n",
              "  <tbody>\n",
              "    <tr>\n",
              "      <th>12</th>\n",
              "      <td>2017-04-13</td>\n",
              "      <td>10287</td>\n",
              "      <td>1800</td>\n",
              "    </tr>\n",
              "    <tr>\n",
              "      <th>19</th>\n",
              "      <td>2017-04-20</td>\n",
              "      <td>15328</td>\n",
              "      <td>1800</td>\n",
              "    </tr>\n",
              "  </tbody>\n",
              "</table>\n",
              "</div>"
            ],
            "text/plain": [
              "            日付     歩数  摂取カロリー\n",
              "12  2017-04-13  10287    1800\n",
              "19  2017-04-20  15328    1800"
            ]
          },
          "metadata": {
            "tags": []
          },
          "execution_count": 22
        }
      ]
    },
    {
      "cell_type": "markdown",
      "metadata": {
        "id": "BlTWBHBbHOwI"
      },
      "source": [
        "### ●データ型変換"
      ]
    },
    {
      "cell_type": "code",
      "metadata": {
        "colab": {
          "base_uri": "https://localhost:8080/"
        },
        "id": "FfoygFGBG6Xq",
        "outputId": "ce7e461e-7105-4cf8-f6d5-23192c1a089c"
      },
      "source": [
        "df.dtypes"
      ],
      "execution_count": null,
      "outputs": [
        {
          "output_type": "execute_result",
          "data": {
            "text/plain": [
              "日付        object\n",
              "歩数         int64\n",
              "摂取カロリー     int64\n",
              "dtype: object"
            ]
          },
          "metadata": {
            "tags": []
          },
          "execution_count": 32
        }
      ]
    },
    {
      "cell_type": "code",
      "metadata": {
        "id": "1yG27Ql_HVjH"
      },
      "source": [
        "# applyメソッド データ１つずつに順次関数を適用する\n",
        "# to_datetime関数を適用\n",
        "\n",
        "df.loc[:, 'date'] = df.loc[:, '日付'].apply(pd.to_datetime)"
      ],
      "execution_count": null,
      "outputs": []
    },
    {
      "cell_type": "code",
      "metadata": {
        "colab": {
          "base_uri": "https://localhost:8080/"
        },
        "id": "5KqpaIgfNyyV",
        "outputId": "6e4c61b3-f158-4b86-c2c7-a0be4c36d33b"
      },
      "source": [
        "df.loc[:, 'date']"
      ],
      "execution_count": null,
      "outputs": [
        {
          "output_type": "execute_result",
          "data": {
            "text/plain": [
              "0    2017-04-01\n",
              "1    2017-04-02\n",
              "2    2017-04-03\n",
              "3    2017-04-04\n",
              "4    2017-04-05\n",
              "5    2017-04-06\n",
              "6    2017-04-07\n",
              "7    2017-04-08\n",
              "8    2017-04-09\n",
              "9    2017-04-10\n",
              "10   2017-04-11\n",
              "11   2017-04-12\n",
              "12   2017-04-13\n",
              "13   2017-04-14\n",
              "14   2017-04-15\n",
              "15   2017-04-16\n",
              "16   2017-04-17\n",
              "17   2017-04-18\n",
              "18   2017-04-19\n",
              "19   2017-04-20\n",
              "20   2017-04-21\n",
              "21   2017-04-22\n",
              "22   2017-04-23\n",
              "23   2017-04-24\n",
              "24   2017-04-25\n",
              "25   2017-04-26\n",
              "26   2017-04-27\n",
              "27   2017-04-28\n",
              "28   2017-04-29\n",
              "29   2017-04-30\n",
              "Name: date, dtype: datetime64[ns]"
            ]
          },
          "metadata": {
            "tags": []
          },
          "execution_count": 37
        }
      ]
    },
    {
      "cell_type": "code",
      "metadata": {
        "colab": {
          "base_uri": "https://localhost:8080/",
          "height": 979
        },
        "id": "wPTCtHVUN49o",
        "outputId": "0e9fc42a-5ea2-49ff-ed7b-5631ee854470"
      },
      "source": [
        "df"
      ],
      "execution_count": null,
      "outputs": [
        {
          "output_type": "execute_result",
          "data": {
            "text/html": [
              "<div>\n",
              "<style scoped>\n",
              "    .dataframe tbody tr th:only-of-type {\n",
              "        vertical-align: middle;\n",
              "    }\n",
              "\n",
              "    .dataframe tbody tr th {\n",
              "        vertical-align: top;\n",
              "    }\n",
              "\n",
              "    .dataframe thead th {\n",
              "        text-align: right;\n",
              "    }\n",
              "</style>\n",
              "<table border=\"1\" class=\"dataframe\">\n",
              "  <thead>\n",
              "    <tr style=\"text-align: right;\">\n",
              "      <th></th>\n",
              "      <th>日付</th>\n",
              "      <th>歩数</th>\n",
              "      <th>摂取カロリー</th>\n",
              "      <th>date</th>\n",
              "    </tr>\n",
              "  </thead>\n",
              "  <tbody>\n",
              "    <tr>\n",
              "      <th>0</th>\n",
              "      <td>2017-04-01</td>\n",
              "      <td>5439</td>\n",
              "      <td>2500</td>\n",
              "      <td>2017-04-01</td>\n",
              "    </tr>\n",
              "    <tr>\n",
              "      <th>1</th>\n",
              "      <td>2017-04-02</td>\n",
              "      <td>2510</td>\n",
              "      <td>2300</td>\n",
              "      <td>2017-04-02</td>\n",
              "    </tr>\n",
              "    <tr>\n",
              "      <th>2</th>\n",
              "      <td>2017-04-03</td>\n",
              "      <td>10238</td>\n",
              "      <td>1950</td>\n",
              "      <td>2017-04-03</td>\n",
              "    </tr>\n",
              "    <tr>\n",
              "      <th>3</th>\n",
              "      <td>2017-04-04</td>\n",
              "      <td>8209</td>\n",
              "      <td>1850</td>\n",
              "      <td>2017-04-04</td>\n",
              "    </tr>\n",
              "    <tr>\n",
              "      <th>4</th>\n",
              "      <td>2017-04-05</td>\n",
              "      <td>9434</td>\n",
              "      <td>1930</td>\n",
              "      <td>2017-04-05</td>\n",
              "    </tr>\n",
              "    <tr>\n",
              "      <th>5</th>\n",
              "      <td>2017-04-06</td>\n",
              "      <td>7593</td>\n",
              "      <td>1800</td>\n",
              "      <td>2017-04-06</td>\n",
              "    </tr>\n",
              "    <tr>\n",
              "      <th>6</th>\n",
              "      <td>2017-04-07</td>\n",
              "      <td>9320</td>\n",
              "      <td>1940</td>\n",
              "      <td>2017-04-07</td>\n",
              "    </tr>\n",
              "    <tr>\n",
              "      <th>7</th>\n",
              "      <td>2017-04-08</td>\n",
              "      <td>4873</td>\n",
              "      <td>2300</td>\n",
              "      <td>2017-04-08</td>\n",
              "    </tr>\n",
              "    <tr>\n",
              "      <th>8</th>\n",
              "      <td>2017-04-09</td>\n",
              "      <td>12045</td>\n",
              "      <td>1950</td>\n",
              "      <td>2017-04-09</td>\n",
              "    </tr>\n",
              "    <tr>\n",
              "      <th>9</th>\n",
              "      <td>2017-04-10</td>\n",
              "      <td>7493</td>\n",
              "      <td>1850</td>\n",
              "      <td>2017-04-10</td>\n",
              "    </tr>\n",
              "    <tr>\n",
              "      <th>10</th>\n",
              "      <td>2017-04-11</td>\n",
              "      <td>7289</td>\n",
              "      <td>1930</td>\n",
              "      <td>2017-04-11</td>\n",
              "    </tr>\n",
              "    <tr>\n",
              "      <th>11</th>\n",
              "      <td>2017-04-12</td>\n",
              "      <td>6481</td>\n",
              "      <td>2300</td>\n",
              "      <td>2017-04-12</td>\n",
              "    </tr>\n",
              "    <tr>\n",
              "      <th>12</th>\n",
              "      <td>2017-04-13</td>\n",
              "      <td>10287</td>\n",
              "      <td>1800</td>\n",
              "      <td>2017-04-13</td>\n",
              "    </tr>\n",
              "    <tr>\n",
              "      <th>13</th>\n",
              "      <td>2017-04-14</td>\n",
              "      <td>8043</td>\n",
              "      <td>1940</td>\n",
              "      <td>2017-04-14</td>\n",
              "    </tr>\n",
              "    <tr>\n",
              "      <th>14</th>\n",
              "      <td>2017-04-15</td>\n",
              "      <td>7435</td>\n",
              "      <td>2300</td>\n",
              "      <td>2017-04-15</td>\n",
              "    </tr>\n",
              "    <tr>\n",
              "      <th>15</th>\n",
              "      <td>2017-04-16</td>\n",
              "      <td>7529</td>\n",
              "      <td>2300</td>\n",
              "      <td>2017-04-16</td>\n",
              "    </tr>\n",
              "    <tr>\n",
              "      <th>16</th>\n",
              "      <td>2017-04-17</td>\n",
              "      <td>8031</td>\n",
              "      <td>1940</td>\n",
              "      <td>2017-04-17</td>\n",
              "    </tr>\n",
              "    <tr>\n",
              "      <th>17</th>\n",
              "      <td>2017-04-18</td>\n",
              "      <td>8475</td>\n",
              "      <td>2300</td>\n",
              "      <td>2017-04-18</td>\n",
              "    </tr>\n",
              "    <tr>\n",
              "      <th>18</th>\n",
              "      <td>2017-04-19</td>\n",
              "      <td>8132</td>\n",
              "      <td>1950</td>\n",
              "      <td>2017-04-19</td>\n",
              "    </tr>\n",
              "    <tr>\n",
              "      <th>19</th>\n",
              "      <td>2017-04-20</td>\n",
              "      <td>15328</td>\n",
              "      <td>1800</td>\n",
              "      <td>2017-04-20</td>\n",
              "    </tr>\n",
              "    <tr>\n",
              "      <th>20</th>\n",
              "      <td>2017-04-21</td>\n",
              "      <td>12849</td>\n",
              "      <td>1940</td>\n",
              "      <td>2017-04-21</td>\n",
              "    </tr>\n",
              "    <tr>\n",
              "      <th>21</th>\n",
              "      <td>2017-04-22</td>\n",
              "      <td>4029</td>\n",
              "      <td>2300</td>\n",
              "      <td>2017-04-22</td>\n",
              "    </tr>\n",
              "    <tr>\n",
              "      <th>22</th>\n",
              "      <td>2017-04-23</td>\n",
              "      <td>3890</td>\n",
              "      <td>1950</td>\n",
              "      <td>2017-04-23</td>\n",
              "    </tr>\n",
              "    <tr>\n",
              "      <th>23</th>\n",
              "      <td>2017-04-24</td>\n",
              "      <td>8093</td>\n",
              "      <td>1850</td>\n",
              "      <td>2017-04-24</td>\n",
              "    </tr>\n",
              "    <tr>\n",
              "      <th>24</th>\n",
              "      <td>2017-04-25</td>\n",
              "      <td>7823</td>\n",
              "      <td>1950</td>\n",
              "      <td>2017-04-25</td>\n",
              "    </tr>\n",
              "    <tr>\n",
              "      <th>25</th>\n",
              "      <td>2017-04-26</td>\n",
              "      <td>7492</td>\n",
              "      <td>1850</td>\n",
              "      <td>2017-04-26</td>\n",
              "    </tr>\n",
              "    <tr>\n",
              "      <th>26</th>\n",
              "      <td>2017-04-27</td>\n",
              "      <td>7203</td>\n",
              "      <td>1930</td>\n",
              "      <td>2017-04-27</td>\n",
              "    </tr>\n",
              "    <tr>\n",
              "      <th>27</th>\n",
              "      <td>2017-04-28</td>\n",
              "      <td>7302</td>\n",
              "      <td>1850</td>\n",
              "      <td>2017-04-28</td>\n",
              "    </tr>\n",
              "    <tr>\n",
              "      <th>28</th>\n",
              "      <td>2017-04-29</td>\n",
              "      <td>6033</td>\n",
              "      <td>2300</td>\n",
              "      <td>2017-04-29</td>\n",
              "    </tr>\n",
              "    <tr>\n",
              "      <th>29</th>\n",
              "      <td>2017-04-30</td>\n",
              "      <td>4093</td>\n",
              "      <td>1950</td>\n",
              "      <td>2017-04-30</td>\n",
              "    </tr>\n",
              "  </tbody>\n",
              "</table>\n",
              "</div>"
            ],
            "text/plain": [
              "            日付     歩数  摂取カロリー       date\n",
              "0   2017-04-01   5439    2500 2017-04-01\n",
              "1   2017-04-02   2510    2300 2017-04-02\n",
              "2   2017-04-03  10238    1950 2017-04-03\n",
              "3   2017-04-04   8209    1850 2017-04-04\n",
              "4   2017-04-05   9434    1930 2017-04-05\n",
              "5   2017-04-06   7593    1800 2017-04-06\n",
              "6   2017-04-07   9320    1940 2017-04-07\n",
              "7   2017-04-08   4873    2300 2017-04-08\n",
              "8   2017-04-09  12045    1950 2017-04-09\n",
              "9   2017-04-10   7493    1850 2017-04-10\n",
              "10  2017-04-11   7289    1930 2017-04-11\n",
              "11  2017-04-12   6481    2300 2017-04-12\n",
              "12  2017-04-13  10287    1800 2017-04-13\n",
              "13  2017-04-14   8043    1940 2017-04-14\n",
              "14  2017-04-15   7435    2300 2017-04-15\n",
              "15  2017-04-16   7529    2300 2017-04-16\n",
              "16  2017-04-17   8031    1940 2017-04-17\n",
              "17  2017-04-18   8475    2300 2017-04-18\n",
              "18  2017-04-19   8132    1950 2017-04-19\n",
              "19  2017-04-20  15328    1800 2017-04-20\n",
              "20  2017-04-21  12849    1940 2017-04-21\n",
              "21  2017-04-22   4029    2300 2017-04-22\n",
              "22  2017-04-23   3890    1950 2017-04-23\n",
              "23  2017-04-24   8093    1850 2017-04-24\n",
              "24  2017-04-25   7823    1950 2017-04-25\n",
              "25  2017-04-26   7492    1850 2017-04-26\n",
              "26  2017-04-27   7203    1930 2017-04-27\n",
              "27  2017-04-28   7302    1850 2017-04-28\n",
              "28  2017-04-29   6033    2300 2017-04-29\n",
              "29  2017-04-30   4093    1950 2017-04-30"
            ]
          },
          "metadata": {
            "tags": []
          },
          "execution_count": 38
        }
      ]
    },
    {
      "cell_type": "code",
      "metadata": {
        "colab": {
          "base_uri": "https://localhost:8080/"
        },
        "id": "B8WF_TvcU7ql",
        "outputId": "cfbc6db5-cdb0-4fd2-cbc6-52a612246f22"
      },
      "source": [
        "df.dtypes"
      ],
      "execution_count": null,
      "outputs": [
        {
          "output_type": "execute_result",
          "data": {
            "text/plain": [
              "日付                object\n",
              "歩数                 int64\n",
              "摂取カロリー             int64\n",
              "date      datetime64[ns]\n",
              "dtype: object"
            ]
          },
          "metadata": {
            "tags": []
          },
          "execution_count": 39
        }
      ]
    },
    {
      "cell_type": "code",
      "metadata": {
        "id": "aafaIbNRRmME"
      },
      "source": [
        "# astypeメソッド\n",
        "\n",
        "df.loc[:,\"摂取カロリー\"] = df.loc[:,\"摂取カロリー\"].astype(np.float32)"
      ],
      "execution_count": null,
      "outputs": []
    },
    {
      "cell_type": "code",
      "metadata": {
        "id": "O02Nk7_ySGO_"
      },
      "source": [
        "# set_index メソッド\n",
        "\n",
        "df = df.set_index(\"date\")"
      ],
      "execution_count": null,
      "outputs": []
    },
    {
      "cell_type": "code",
      "metadata": {
        "colab": {
          "base_uri": "https://localhost:8080/",
          "height": 235
        },
        "id": "NC5tpOQUSR5T",
        "outputId": "2753213b-d970-45a6-ec8c-bd676a725ea7"
      },
      "source": [
        "df.head()"
      ],
      "execution_count": null,
      "outputs": [
        {
          "output_type": "execute_result",
          "data": {
            "text/html": [
              "<div>\n",
              "<style scoped>\n",
              "    .dataframe tbody tr th:only-of-type {\n",
              "        vertical-align: middle;\n",
              "    }\n",
              "\n",
              "    .dataframe tbody tr th {\n",
              "        vertical-align: top;\n",
              "    }\n",
              "\n",
              "    .dataframe thead th {\n",
              "        text-align: right;\n",
              "    }\n",
              "</style>\n",
              "<table border=\"1\" class=\"dataframe\">\n",
              "  <thead>\n",
              "    <tr style=\"text-align: right;\">\n",
              "      <th></th>\n",
              "      <th>日付</th>\n",
              "      <th>歩数</th>\n",
              "      <th>摂取カロリー</th>\n",
              "    </tr>\n",
              "    <tr>\n",
              "      <th>date</th>\n",
              "      <th></th>\n",
              "      <th></th>\n",
              "      <th></th>\n",
              "    </tr>\n",
              "  </thead>\n",
              "  <tbody>\n",
              "    <tr>\n",
              "      <th>2017-04-01</th>\n",
              "      <td>2017-04-01</td>\n",
              "      <td>5439</td>\n",
              "      <td>2500.0</td>\n",
              "    </tr>\n",
              "    <tr>\n",
              "      <th>2017-04-02</th>\n",
              "      <td>2017-04-02</td>\n",
              "      <td>2510</td>\n",
              "      <td>2300.0</td>\n",
              "    </tr>\n",
              "    <tr>\n",
              "      <th>2017-04-03</th>\n",
              "      <td>2017-04-03</td>\n",
              "      <td>10238</td>\n",
              "      <td>1950.0</td>\n",
              "    </tr>\n",
              "    <tr>\n",
              "      <th>2017-04-04</th>\n",
              "      <td>2017-04-04</td>\n",
              "      <td>8209</td>\n",
              "      <td>1850.0</td>\n",
              "    </tr>\n",
              "    <tr>\n",
              "      <th>2017-04-05</th>\n",
              "      <td>2017-04-05</td>\n",
              "      <td>9434</td>\n",
              "      <td>1930.0</td>\n",
              "    </tr>\n",
              "  </tbody>\n",
              "</table>\n",
              "</div>"
            ],
            "text/plain": [
              "                    日付     歩数  摂取カロリー\n",
              "date                                 \n",
              "2017-04-01  2017-04-01   5439  2500.0\n",
              "2017-04-02  2017-04-02   2510  2300.0\n",
              "2017-04-03  2017-04-03  10238  1950.0\n",
              "2017-04-04  2017-04-04   8209  1850.0\n",
              "2017-04-05  2017-04-05   9434  1930.0"
            ]
          },
          "metadata": {
            "tags": []
          },
          "execution_count": 42
        }
      ]
    },
    {
      "cell_type": "markdown",
      "metadata": {
        "id": "prON3fhvSw7y"
      },
      "source": [
        "### ●並べ替え"
      ]
    },
    {
      "cell_type": "code",
      "metadata": {
        "colab": {
          "base_uri": "https://localhost:8080/",
          "height": 1000
        },
        "id": "gwMja7L7Sbok",
        "outputId": "c43c37e3-8777-4993-bc86-fe204e519a97"
      },
      "source": [
        "df.sort_values(by=\"歩数\")"
      ],
      "execution_count": null,
      "outputs": [
        {
          "output_type": "execute_result",
          "data": {
            "text/html": [
              "<div>\n",
              "<style scoped>\n",
              "    .dataframe tbody tr th:only-of-type {\n",
              "        vertical-align: middle;\n",
              "    }\n",
              "\n",
              "    .dataframe tbody tr th {\n",
              "        vertical-align: top;\n",
              "    }\n",
              "\n",
              "    .dataframe thead th {\n",
              "        text-align: right;\n",
              "    }\n",
              "</style>\n",
              "<table border=\"1\" class=\"dataframe\">\n",
              "  <thead>\n",
              "    <tr style=\"text-align: right;\">\n",
              "      <th></th>\n",
              "      <th>日付</th>\n",
              "      <th>歩数</th>\n",
              "      <th>摂取カロリー</th>\n",
              "    </tr>\n",
              "    <tr>\n",
              "      <th>date</th>\n",
              "      <th></th>\n",
              "      <th></th>\n",
              "      <th></th>\n",
              "    </tr>\n",
              "  </thead>\n",
              "  <tbody>\n",
              "    <tr>\n",
              "      <th>2017-04-02</th>\n",
              "      <td>2017-04-02</td>\n",
              "      <td>2510</td>\n",
              "      <td>2300.0</td>\n",
              "    </tr>\n",
              "    <tr>\n",
              "      <th>2017-04-23</th>\n",
              "      <td>2017-04-23</td>\n",
              "      <td>3890</td>\n",
              "      <td>1950.0</td>\n",
              "    </tr>\n",
              "    <tr>\n",
              "      <th>2017-04-22</th>\n",
              "      <td>2017-04-22</td>\n",
              "      <td>4029</td>\n",
              "      <td>2300.0</td>\n",
              "    </tr>\n",
              "    <tr>\n",
              "      <th>2017-04-30</th>\n",
              "      <td>2017-04-30</td>\n",
              "      <td>4093</td>\n",
              "      <td>1950.0</td>\n",
              "    </tr>\n",
              "    <tr>\n",
              "      <th>2017-04-08</th>\n",
              "      <td>2017-04-08</td>\n",
              "      <td>4873</td>\n",
              "      <td>2300.0</td>\n",
              "    </tr>\n",
              "    <tr>\n",
              "      <th>2017-04-01</th>\n",
              "      <td>2017-04-01</td>\n",
              "      <td>5439</td>\n",
              "      <td>2500.0</td>\n",
              "    </tr>\n",
              "    <tr>\n",
              "      <th>2017-04-29</th>\n",
              "      <td>2017-04-29</td>\n",
              "      <td>6033</td>\n",
              "      <td>2300.0</td>\n",
              "    </tr>\n",
              "    <tr>\n",
              "      <th>2017-04-12</th>\n",
              "      <td>2017-04-12</td>\n",
              "      <td>6481</td>\n",
              "      <td>2300.0</td>\n",
              "    </tr>\n",
              "    <tr>\n",
              "      <th>2017-04-27</th>\n",
              "      <td>2017-04-27</td>\n",
              "      <td>7203</td>\n",
              "      <td>1930.0</td>\n",
              "    </tr>\n",
              "    <tr>\n",
              "      <th>2017-04-11</th>\n",
              "      <td>2017-04-11</td>\n",
              "      <td>7289</td>\n",
              "      <td>1930.0</td>\n",
              "    </tr>\n",
              "    <tr>\n",
              "      <th>2017-04-28</th>\n",
              "      <td>2017-04-28</td>\n",
              "      <td>7302</td>\n",
              "      <td>1850.0</td>\n",
              "    </tr>\n",
              "    <tr>\n",
              "      <th>2017-04-15</th>\n",
              "      <td>2017-04-15</td>\n",
              "      <td>7435</td>\n",
              "      <td>2300.0</td>\n",
              "    </tr>\n",
              "    <tr>\n",
              "      <th>2017-04-26</th>\n",
              "      <td>2017-04-26</td>\n",
              "      <td>7492</td>\n",
              "      <td>1850.0</td>\n",
              "    </tr>\n",
              "    <tr>\n",
              "      <th>2017-04-10</th>\n",
              "      <td>2017-04-10</td>\n",
              "      <td>7493</td>\n",
              "      <td>1850.0</td>\n",
              "    </tr>\n",
              "    <tr>\n",
              "      <th>2017-04-16</th>\n",
              "      <td>2017-04-16</td>\n",
              "      <td>7529</td>\n",
              "      <td>2300.0</td>\n",
              "    </tr>\n",
              "    <tr>\n",
              "      <th>2017-04-06</th>\n",
              "      <td>2017-04-06</td>\n",
              "      <td>7593</td>\n",
              "      <td>1800.0</td>\n",
              "    </tr>\n",
              "    <tr>\n",
              "      <th>2017-04-25</th>\n",
              "      <td>2017-04-25</td>\n",
              "      <td>7823</td>\n",
              "      <td>1950.0</td>\n",
              "    </tr>\n",
              "    <tr>\n",
              "      <th>2017-04-17</th>\n",
              "      <td>2017-04-17</td>\n",
              "      <td>8031</td>\n",
              "      <td>1940.0</td>\n",
              "    </tr>\n",
              "    <tr>\n",
              "      <th>2017-04-14</th>\n",
              "      <td>2017-04-14</td>\n",
              "      <td>8043</td>\n",
              "      <td>1940.0</td>\n",
              "    </tr>\n",
              "    <tr>\n",
              "      <th>2017-04-24</th>\n",
              "      <td>2017-04-24</td>\n",
              "      <td>8093</td>\n",
              "      <td>1850.0</td>\n",
              "    </tr>\n",
              "    <tr>\n",
              "      <th>2017-04-19</th>\n",
              "      <td>2017-04-19</td>\n",
              "      <td>8132</td>\n",
              "      <td>1950.0</td>\n",
              "    </tr>\n",
              "    <tr>\n",
              "      <th>2017-04-04</th>\n",
              "      <td>2017-04-04</td>\n",
              "      <td>8209</td>\n",
              "      <td>1850.0</td>\n",
              "    </tr>\n",
              "    <tr>\n",
              "      <th>2017-04-18</th>\n",
              "      <td>2017-04-18</td>\n",
              "      <td>8475</td>\n",
              "      <td>2300.0</td>\n",
              "    </tr>\n",
              "    <tr>\n",
              "      <th>2017-04-07</th>\n",
              "      <td>2017-04-07</td>\n",
              "      <td>9320</td>\n",
              "      <td>1940.0</td>\n",
              "    </tr>\n",
              "    <tr>\n",
              "      <th>2017-04-05</th>\n",
              "      <td>2017-04-05</td>\n",
              "      <td>9434</td>\n",
              "      <td>1930.0</td>\n",
              "    </tr>\n",
              "    <tr>\n",
              "      <th>2017-04-03</th>\n",
              "      <td>2017-04-03</td>\n",
              "      <td>10238</td>\n",
              "      <td>1950.0</td>\n",
              "    </tr>\n",
              "    <tr>\n",
              "      <th>2017-04-13</th>\n",
              "      <td>2017-04-13</td>\n",
              "      <td>10287</td>\n",
              "      <td>1800.0</td>\n",
              "    </tr>\n",
              "    <tr>\n",
              "      <th>2017-04-09</th>\n",
              "      <td>2017-04-09</td>\n",
              "      <td>12045</td>\n",
              "      <td>1950.0</td>\n",
              "    </tr>\n",
              "    <tr>\n",
              "      <th>2017-04-21</th>\n",
              "      <td>2017-04-21</td>\n",
              "      <td>12849</td>\n",
              "      <td>1940.0</td>\n",
              "    </tr>\n",
              "    <tr>\n",
              "      <th>2017-04-20</th>\n",
              "      <td>2017-04-20</td>\n",
              "      <td>15328</td>\n",
              "      <td>1800.0</td>\n",
              "    </tr>\n",
              "  </tbody>\n",
              "</table>\n",
              "</div>"
            ],
            "text/plain": [
              "                    日付     歩数  摂取カロリー\n",
              "date                                 \n",
              "2017-04-02  2017-04-02   2510  2300.0\n",
              "2017-04-23  2017-04-23   3890  1950.0\n",
              "2017-04-22  2017-04-22   4029  2300.0\n",
              "2017-04-30  2017-04-30   4093  1950.0\n",
              "2017-04-08  2017-04-08   4873  2300.0\n",
              "2017-04-01  2017-04-01   5439  2500.0\n",
              "2017-04-29  2017-04-29   6033  2300.0\n",
              "2017-04-12  2017-04-12   6481  2300.0\n",
              "2017-04-27  2017-04-27   7203  1930.0\n",
              "2017-04-11  2017-04-11   7289  1930.0\n",
              "2017-04-28  2017-04-28   7302  1850.0\n",
              "2017-04-15  2017-04-15   7435  2300.0\n",
              "2017-04-26  2017-04-26   7492  1850.0\n",
              "2017-04-10  2017-04-10   7493  1850.0\n",
              "2017-04-16  2017-04-16   7529  2300.0\n",
              "2017-04-06  2017-04-06   7593  1800.0\n",
              "2017-04-25  2017-04-25   7823  1950.0\n",
              "2017-04-17  2017-04-17   8031  1940.0\n",
              "2017-04-14  2017-04-14   8043  1940.0\n",
              "2017-04-24  2017-04-24   8093  1850.0\n",
              "2017-04-19  2017-04-19   8132  1950.0\n",
              "2017-04-04  2017-04-04   8209  1850.0\n",
              "2017-04-18  2017-04-18   8475  2300.0\n",
              "2017-04-07  2017-04-07   9320  1940.0\n",
              "2017-04-05  2017-04-05   9434  1930.0\n",
              "2017-04-03  2017-04-03  10238  1950.0\n",
              "2017-04-13  2017-04-13  10287  1800.0\n",
              "2017-04-09  2017-04-09  12045  1950.0\n",
              "2017-04-21  2017-04-21  12849  1940.0\n",
              "2017-04-20  2017-04-20  15328  1800.0"
            ]
          },
          "metadata": {
            "tags": []
          },
          "execution_count": 43
        }
      ]
    },
    {
      "cell_type": "code",
      "metadata": {
        "colab": {
          "base_uri": "https://localhost:8080/",
          "height": 235
        },
        "id": "Smpoz-J3Uhvp",
        "outputId": "1b05e8ec-a3cc-40f1-885d-006bbd00ec9d"
      },
      "source": [
        "df.sort_values(by=\"歩数\", ascending=False).head()"
      ],
      "execution_count": null,
      "outputs": [
        {
          "output_type": "execute_result",
          "data": {
            "text/html": [
              "<div>\n",
              "<style scoped>\n",
              "    .dataframe tbody tr th:only-of-type {\n",
              "        vertical-align: middle;\n",
              "    }\n",
              "\n",
              "    .dataframe tbody tr th {\n",
              "        vertical-align: top;\n",
              "    }\n",
              "\n",
              "    .dataframe thead th {\n",
              "        text-align: right;\n",
              "    }\n",
              "</style>\n",
              "<table border=\"1\" class=\"dataframe\">\n",
              "  <thead>\n",
              "    <tr style=\"text-align: right;\">\n",
              "      <th></th>\n",
              "      <th>日付</th>\n",
              "      <th>歩数</th>\n",
              "      <th>摂取カロリー</th>\n",
              "    </tr>\n",
              "    <tr>\n",
              "      <th>date</th>\n",
              "      <th></th>\n",
              "      <th></th>\n",
              "      <th></th>\n",
              "    </tr>\n",
              "  </thead>\n",
              "  <tbody>\n",
              "    <tr>\n",
              "      <th>2017-04-20</th>\n",
              "      <td>2017-04-20</td>\n",
              "      <td>15328</td>\n",
              "      <td>1800.0</td>\n",
              "    </tr>\n",
              "    <tr>\n",
              "      <th>2017-04-21</th>\n",
              "      <td>2017-04-21</td>\n",
              "      <td>12849</td>\n",
              "      <td>1940.0</td>\n",
              "    </tr>\n",
              "    <tr>\n",
              "      <th>2017-04-09</th>\n",
              "      <td>2017-04-09</td>\n",
              "      <td>12045</td>\n",
              "      <td>1950.0</td>\n",
              "    </tr>\n",
              "    <tr>\n",
              "      <th>2017-04-13</th>\n",
              "      <td>2017-04-13</td>\n",
              "      <td>10287</td>\n",
              "      <td>1800.0</td>\n",
              "    </tr>\n",
              "    <tr>\n",
              "      <th>2017-04-03</th>\n",
              "      <td>2017-04-03</td>\n",
              "      <td>10238</td>\n",
              "      <td>1950.0</td>\n",
              "    </tr>\n",
              "  </tbody>\n",
              "</table>\n",
              "</div>"
            ],
            "text/plain": [
              "                    日付     歩数  摂取カロリー\n",
              "date                                 \n",
              "2017-04-20  2017-04-20  15328  1800.0\n",
              "2017-04-21  2017-04-21  12849  1940.0\n",
              "2017-04-09  2017-04-09  12045  1950.0\n",
              "2017-04-13  2017-04-13  10287  1800.0\n",
              "2017-04-03  2017-04-03  10238  1950.0"
            ]
          },
          "metadata": {
            "tags": []
          },
          "execution_count": 44
        }
      ]
    },
    {
      "cell_type": "markdown",
      "metadata": {
        "id": "7vnOdCqHVBWi"
      },
      "source": [
        "### ●不要なカラムの削除"
      ]
    },
    {
      "cell_type": "code",
      "metadata": {
        "id": "qpTUlcUqU26c"
      },
      "source": [
        "# drop メソッド\n",
        "\n",
        "df = df.drop(\"日付\", axis=1)"
      ],
      "execution_count": null,
      "outputs": []
    },
    {
      "cell_type": "code",
      "metadata": {
        "colab": {
          "base_uri": "https://localhost:8080/",
          "height": 235
        },
        "id": "m_737OTuVUpm",
        "outputId": "b4a612b1-658e-45f4-81c3-64dc831f58b3"
      },
      "source": [
        "df.tail()"
      ],
      "execution_count": null,
      "outputs": [
        {
          "output_type": "execute_result",
          "data": {
            "text/html": [
              "<div>\n",
              "<style scoped>\n",
              "    .dataframe tbody tr th:only-of-type {\n",
              "        vertical-align: middle;\n",
              "    }\n",
              "\n",
              "    .dataframe tbody tr th {\n",
              "        vertical-align: top;\n",
              "    }\n",
              "\n",
              "    .dataframe thead th {\n",
              "        text-align: right;\n",
              "    }\n",
              "</style>\n",
              "<table border=\"1\" class=\"dataframe\">\n",
              "  <thead>\n",
              "    <tr style=\"text-align: right;\">\n",
              "      <th></th>\n",
              "      <th>歩数</th>\n",
              "      <th>摂取カロリー</th>\n",
              "    </tr>\n",
              "    <tr>\n",
              "      <th>date</th>\n",
              "      <th></th>\n",
              "      <th></th>\n",
              "    </tr>\n",
              "  </thead>\n",
              "  <tbody>\n",
              "    <tr>\n",
              "      <th>2017-04-26</th>\n",
              "      <td>7492</td>\n",
              "      <td>1850.0</td>\n",
              "    </tr>\n",
              "    <tr>\n",
              "      <th>2017-04-27</th>\n",
              "      <td>7203</td>\n",
              "      <td>1930.0</td>\n",
              "    </tr>\n",
              "    <tr>\n",
              "      <th>2017-04-28</th>\n",
              "      <td>7302</td>\n",
              "      <td>1850.0</td>\n",
              "    </tr>\n",
              "    <tr>\n",
              "      <th>2017-04-29</th>\n",
              "      <td>6033</td>\n",
              "      <td>2300.0</td>\n",
              "    </tr>\n",
              "    <tr>\n",
              "      <th>2017-04-30</th>\n",
              "      <td>4093</td>\n",
              "      <td>1950.0</td>\n",
              "    </tr>\n",
              "  </tbody>\n",
              "</table>\n",
              "</div>"
            ],
            "text/plain": [
              "              歩数  摂取カロリー\n",
              "date                    \n",
              "2017-04-26  7492  1850.0\n",
              "2017-04-27  7203  1930.0\n",
              "2017-04-28  7302  1850.0\n",
              "2017-04-29  6033  2300.0\n",
              "2017-04-30  4093  1950.0"
            ]
          },
          "metadata": {
            "tags": []
          },
          "execution_count": 46
        }
      ]
    },
    {
      "cell_type": "markdown",
      "metadata": {
        "id": "s_04mgGOVcsv"
      },
      "source": [
        "### ●組み合わせデータの挿入"
      ]
    },
    {
      "cell_type": "code",
      "metadata": {
        "colab": {
          "base_uri": "https://localhost:8080/",
          "height": 1000
        },
        "id": "gqKsl-s9VXIj",
        "outputId": "e44e2000-d957-4071-a2b3-d9f6dc826cb1"
      },
      "source": [
        "df.loc[:,\"歩数/カロリー\"] = df.loc[:,\"歩数\"] / df.loc[:, \"摂取カロリー\"]\n",
        "df"
      ],
      "execution_count": null,
      "outputs": [
        {
          "output_type": "execute_result",
          "data": {
            "text/html": [
              "<div>\n",
              "<style scoped>\n",
              "    .dataframe tbody tr th:only-of-type {\n",
              "        vertical-align: middle;\n",
              "    }\n",
              "\n",
              "    .dataframe tbody tr th {\n",
              "        vertical-align: top;\n",
              "    }\n",
              "\n",
              "    .dataframe thead th {\n",
              "        text-align: right;\n",
              "    }\n",
              "</style>\n",
              "<table border=\"1\" class=\"dataframe\">\n",
              "  <thead>\n",
              "    <tr style=\"text-align: right;\">\n",
              "      <th></th>\n",
              "      <th>歩数</th>\n",
              "      <th>摂取カロリー</th>\n",
              "      <th>歩数/カロリー</th>\n",
              "    </tr>\n",
              "    <tr>\n",
              "      <th>date</th>\n",
              "      <th></th>\n",
              "      <th></th>\n",
              "      <th></th>\n",
              "    </tr>\n",
              "  </thead>\n",
              "  <tbody>\n",
              "    <tr>\n",
              "      <th>2017-04-01</th>\n",
              "      <td>5439</td>\n",
              "      <td>2500.0</td>\n",
              "      <td>2.175600</td>\n",
              "    </tr>\n",
              "    <tr>\n",
              "      <th>2017-04-02</th>\n",
              "      <td>2510</td>\n",
              "      <td>2300.0</td>\n",
              "      <td>1.091304</td>\n",
              "    </tr>\n",
              "    <tr>\n",
              "      <th>2017-04-03</th>\n",
              "      <td>10238</td>\n",
              "      <td>1950.0</td>\n",
              "      <td>5.250256</td>\n",
              "    </tr>\n",
              "    <tr>\n",
              "      <th>2017-04-04</th>\n",
              "      <td>8209</td>\n",
              "      <td>1850.0</td>\n",
              "      <td>4.437297</td>\n",
              "    </tr>\n",
              "    <tr>\n",
              "      <th>2017-04-05</th>\n",
              "      <td>9434</td>\n",
              "      <td>1930.0</td>\n",
              "      <td>4.888083</td>\n",
              "    </tr>\n",
              "    <tr>\n",
              "      <th>2017-04-06</th>\n",
              "      <td>7593</td>\n",
              "      <td>1800.0</td>\n",
              "      <td>4.218333</td>\n",
              "    </tr>\n",
              "    <tr>\n",
              "      <th>2017-04-07</th>\n",
              "      <td>9320</td>\n",
              "      <td>1940.0</td>\n",
              "      <td>4.804124</td>\n",
              "    </tr>\n",
              "    <tr>\n",
              "      <th>2017-04-08</th>\n",
              "      <td>4873</td>\n",
              "      <td>2300.0</td>\n",
              "      <td>2.118696</td>\n",
              "    </tr>\n",
              "    <tr>\n",
              "      <th>2017-04-09</th>\n",
              "      <td>12045</td>\n",
              "      <td>1950.0</td>\n",
              "      <td>6.176923</td>\n",
              "    </tr>\n",
              "    <tr>\n",
              "      <th>2017-04-10</th>\n",
              "      <td>7493</td>\n",
              "      <td>1850.0</td>\n",
              "      <td>4.050270</td>\n",
              "    </tr>\n",
              "    <tr>\n",
              "      <th>2017-04-11</th>\n",
              "      <td>7289</td>\n",
              "      <td>1930.0</td>\n",
              "      <td>3.776684</td>\n",
              "    </tr>\n",
              "    <tr>\n",
              "      <th>2017-04-12</th>\n",
              "      <td>6481</td>\n",
              "      <td>2300.0</td>\n",
              "      <td>2.817826</td>\n",
              "    </tr>\n",
              "    <tr>\n",
              "      <th>2017-04-13</th>\n",
              "      <td>10287</td>\n",
              "      <td>1800.0</td>\n",
              "      <td>5.715000</td>\n",
              "    </tr>\n",
              "    <tr>\n",
              "      <th>2017-04-14</th>\n",
              "      <td>8043</td>\n",
              "      <td>1940.0</td>\n",
              "      <td>4.145876</td>\n",
              "    </tr>\n",
              "    <tr>\n",
              "      <th>2017-04-15</th>\n",
              "      <td>7435</td>\n",
              "      <td>2300.0</td>\n",
              "      <td>3.232609</td>\n",
              "    </tr>\n",
              "    <tr>\n",
              "      <th>2017-04-16</th>\n",
              "      <td>7529</td>\n",
              "      <td>2300.0</td>\n",
              "      <td>3.273478</td>\n",
              "    </tr>\n",
              "    <tr>\n",
              "      <th>2017-04-17</th>\n",
              "      <td>8031</td>\n",
              "      <td>1940.0</td>\n",
              "      <td>4.139691</td>\n",
              "    </tr>\n",
              "    <tr>\n",
              "      <th>2017-04-18</th>\n",
              "      <td>8475</td>\n",
              "      <td>2300.0</td>\n",
              "      <td>3.684783</td>\n",
              "    </tr>\n",
              "    <tr>\n",
              "      <th>2017-04-19</th>\n",
              "      <td>8132</td>\n",
              "      <td>1950.0</td>\n",
              "      <td>4.170256</td>\n",
              "    </tr>\n",
              "    <tr>\n",
              "      <th>2017-04-20</th>\n",
              "      <td>15328</td>\n",
              "      <td>1800.0</td>\n",
              "      <td>8.515556</td>\n",
              "    </tr>\n",
              "    <tr>\n",
              "      <th>2017-04-21</th>\n",
              "      <td>12849</td>\n",
              "      <td>1940.0</td>\n",
              "      <td>6.623196</td>\n",
              "    </tr>\n",
              "    <tr>\n",
              "      <th>2017-04-22</th>\n",
              "      <td>4029</td>\n",
              "      <td>2300.0</td>\n",
              "      <td>1.751739</td>\n",
              "    </tr>\n",
              "    <tr>\n",
              "      <th>2017-04-23</th>\n",
              "      <td>3890</td>\n",
              "      <td>1950.0</td>\n",
              "      <td>1.994872</td>\n",
              "    </tr>\n",
              "    <tr>\n",
              "      <th>2017-04-24</th>\n",
              "      <td>8093</td>\n",
              "      <td>1850.0</td>\n",
              "      <td>4.374595</td>\n",
              "    </tr>\n",
              "    <tr>\n",
              "      <th>2017-04-25</th>\n",
              "      <td>7823</td>\n",
              "      <td>1950.0</td>\n",
              "      <td>4.011795</td>\n",
              "    </tr>\n",
              "    <tr>\n",
              "      <th>2017-04-26</th>\n",
              "      <td>7492</td>\n",
              "      <td>1850.0</td>\n",
              "      <td>4.049730</td>\n",
              "    </tr>\n",
              "    <tr>\n",
              "      <th>2017-04-27</th>\n",
              "      <td>7203</td>\n",
              "      <td>1930.0</td>\n",
              "      <td>3.732124</td>\n",
              "    </tr>\n",
              "    <tr>\n",
              "      <th>2017-04-28</th>\n",
              "      <td>7302</td>\n",
              "      <td>1850.0</td>\n",
              "      <td>3.947027</td>\n",
              "    </tr>\n",
              "    <tr>\n",
              "      <th>2017-04-29</th>\n",
              "      <td>6033</td>\n",
              "      <td>2300.0</td>\n",
              "      <td>2.623043</td>\n",
              "    </tr>\n",
              "    <tr>\n",
              "      <th>2017-04-30</th>\n",
              "      <td>4093</td>\n",
              "      <td>1950.0</td>\n",
              "      <td>2.098974</td>\n",
              "    </tr>\n",
              "  </tbody>\n",
              "</table>\n",
              "</div>"
            ],
            "text/plain": [
              "               歩数  摂取カロリー   歩数/カロリー\n",
              "date                               \n",
              "2017-04-01   5439  2500.0  2.175600\n",
              "2017-04-02   2510  2300.0  1.091304\n",
              "2017-04-03  10238  1950.0  5.250256\n",
              "2017-04-04   8209  1850.0  4.437297\n",
              "2017-04-05   9434  1930.0  4.888083\n",
              "2017-04-06   7593  1800.0  4.218333\n",
              "2017-04-07   9320  1940.0  4.804124\n",
              "2017-04-08   4873  2300.0  2.118696\n",
              "2017-04-09  12045  1950.0  6.176923\n",
              "2017-04-10   7493  1850.0  4.050270\n",
              "2017-04-11   7289  1930.0  3.776684\n",
              "2017-04-12   6481  2300.0  2.817826\n",
              "2017-04-13  10287  1800.0  5.715000\n",
              "2017-04-14   8043  1940.0  4.145876\n",
              "2017-04-15   7435  2300.0  3.232609\n",
              "2017-04-16   7529  2300.0  3.273478\n",
              "2017-04-17   8031  1940.0  4.139691\n",
              "2017-04-18   8475  2300.0  3.684783\n",
              "2017-04-19   8132  1950.0  4.170256\n",
              "2017-04-20  15328  1800.0  8.515556\n",
              "2017-04-21  12849  1940.0  6.623196\n",
              "2017-04-22   4029  2300.0  1.751739\n",
              "2017-04-23   3890  1950.0  1.994872\n",
              "2017-04-24   8093  1850.0  4.374595\n",
              "2017-04-25   7823  1950.0  4.011795\n",
              "2017-04-26   7492  1850.0  4.049730\n",
              "2017-04-27   7203  1930.0  3.732124\n",
              "2017-04-28   7302  1850.0  3.947027\n",
              "2017-04-29   6033  2300.0  2.623043\n",
              "2017-04-30   4093  1950.0  2.098974"
            ]
          },
          "metadata": {
            "tags": []
          },
          "execution_count": 47
        }
      ]
    },
    {
      "cell_type": "code",
      "metadata": {
        "id": "8I8GhjjJWFtW"
      },
      "source": [
        "def exercise_judge(ex):\n",
        "    if ex <= 3.0:\n",
        "        return \"Low\"\n",
        "    elif 3.0 < ex <= 6.0:\n",
        "        return \"Mid\"\n",
        "    else:\n",
        "        return \"High\"\n"
      ],
      "execution_count": null,
      "outputs": []
    },
    {
      "cell_type": "code",
      "metadata": {
        "colab": {
          "base_uri": "https://localhost:8080/",
          "height": 1000
        },
        "id": "R05lFN3ZXWX1",
        "outputId": "043d3c23-526c-4874-b016-151dc5524e0e"
      },
      "source": [
        "# applyメソッド\n",
        "\n",
        "df.loc[:, \"運動指数\"] = df.loc[:, \"歩数/カロリー\"].apply(exercise_judge)\n",
        "df"
      ],
      "execution_count": null,
      "outputs": [
        {
          "output_type": "execute_result",
          "data": {
            "text/html": [
              "<div>\n",
              "<style scoped>\n",
              "    .dataframe tbody tr th:only-of-type {\n",
              "        vertical-align: middle;\n",
              "    }\n",
              "\n",
              "    .dataframe tbody tr th {\n",
              "        vertical-align: top;\n",
              "    }\n",
              "\n",
              "    .dataframe thead th {\n",
              "        text-align: right;\n",
              "    }\n",
              "</style>\n",
              "<table border=\"1\" class=\"dataframe\">\n",
              "  <thead>\n",
              "    <tr style=\"text-align: right;\">\n",
              "      <th></th>\n",
              "      <th>歩数</th>\n",
              "      <th>摂取カロリー</th>\n",
              "      <th>歩数/カロリー</th>\n",
              "      <th>運動指数</th>\n",
              "    </tr>\n",
              "    <tr>\n",
              "      <th>date</th>\n",
              "      <th></th>\n",
              "      <th></th>\n",
              "      <th></th>\n",
              "      <th></th>\n",
              "    </tr>\n",
              "  </thead>\n",
              "  <tbody>\n",
              "    <tr>\n",
              "      <th>2017-04-01</th>\n",
              "      <td>5439</td>\n",
              "      <td>2500.0</td>\n",
              "      <td>2.175600</td>\n",
              "      <td>Low</td>\n",
              "    </tr>\n",
              "    <tr>\n",
              "      <th>2017-04-02</th>\n",
              "      <td>2510</td>\n",
              "      <td>2300.0</td>\n",
              "      <td>1.091304</td>\n",
              "      <td>Low</td>\n",
              "    </tr>\n",
              "    <tr>\n",
              "      <th>2017-04-03</th>\n",
              "      <td>10238</td>\n",
              "      <td>1950.0</td>\n",
              "      <td>5.250256</td>\n",
              "      <td>Mid</td>\n",
              "    </tr>\n",
              "    <tr>\n",
              "      <th>2017-04-04</th>\n",
              "      <td>8209</td>\n",
              "      <td>1850.0</td>\n",
              "      <td>4.437297</td>\n",
              "      <td>Mid</td>\n",
              "    </tr>\n",
              "    <tr>\n",
              "      <th>2017-04-05</th>\n",
              "      <td>9434</td>\n",
              "      <td>1930.0</td>\n",
              "      <td>4.888083</td>\n",
              "      <td>Mid</td>\n",
              "    </tr>\n",
              "    <tr>\n",
              "      <th>2017-04-06</th>\n",
              "      <td>7593</td>\n",
              "      <td>1800.0</td>\n",
              "      <td>4.218333</td>\n",
              "      <td>Mid</td>\n",
              "    </tr>\n",
              "    <tr>\n",
              "      <th>2017-04-07</th>\n",
              "      <td>9320</td>\n",
              "      <td>1940.0</td>\n",
              "      <td>4.804124</td>\n",
              "      <td>Mid</td>\n",
              "    </tr>\n",
              "    <tr>\n",
              "      <th>2017-04-08</th>\n",
              "      <td>4873</td>\n",
              "      <td>2300.0</td>\n",
              "      <td>2.118696</td>\n",
              "      <td>Low</td>\n",
              "    </tr>\n",
              "    <tr>\n",
              "      <th>2017-04-09</th>\n",
              "      <td>12045</td>\n",
              "      <td>1950.0</td>\n",
              "      <td>6.176923</td>\n",
              "      <td>High</td>\n",
              "    </tr>\n",
              "    <tr>\n",
              "      <th>2017-04-10</th>\n",
              "      <td>7493</td>\n",
              "      <td>1850.0</td>\n",
              "      <td>4.050270</td>\n",
              "      <td>Mid</td>\n",
              "    </tr>\n",
              "    <tr>\n",
              "      <th>2017-04-11</th>\n",
              "      <td>7289</td>\n",
              "      <td>1930.0</td>\n",
              "      <td>3.776684</td>\n",
              "      <td>Mid</td>\n",
              "    </tr>\n",
              "    <tr>\n",
              "      <th>2017-04-12</th>\n",
              "      <td>6481</td>\n",
              "      <td>2300.0</td>\n",
              "      <td>2.817826</td>\n",
              "      <td>Low</td>\n",
              "    </tr>\n",
              "    <tr>\n",
              "      <th>2017-04-13</th>\n",
              "      <td>10287</td>\n",
              "      <td>1800.0</td>\n",
              "      <td>5.715000</td>\n",
              "      <td>Mid</td>\n",
              "    </tr>\n",
              "    <tr>\n",
              "      <th>2017-04-14</th>\n",
              "      <td>8043</td>\n",
              "      <td>1940.0</td>\n",
              "      <td>4.145876</td>\n",
              "      <td>Mid</td>\n",
              "    </tr>\n",
              "    <tr>\n",
              "      <th>2017-04-15</th>\n",
              "      <td>7435</td>\n",
              "      <td>2300.0</td>\n",
              "      <td>3.232609</td>\n",
              "      <td>Mid</td>\n",
              "    </tr>\n",
              "    <tr>\n",
              "      <th>2017-04-16</th>\n",
              "      <td>7529</td>\n",
              "      <td>2300.0</td>\n",
              "      <td>3.273478</td>\n",
              "      <td>Mid</td>\n",
              "    </tr>\n",
              "    <tr>\n",
              "      <th>2017-04-17</th>\n",
              "      <td>8031</td>\n",
              "      <td>1940.0</td>\n",
              "      <td>4.139691</td>\n",
              "      <td>Mid</td>\n",
              "    </tr>\n",
              "    <tr>\n",
              "      <th>2017-04-18</th>\n",
              "      <td>8475</td>\n",
              "      <td>2300.0</td>\n",
              "      <td>3.684783</td>\n",
              "      <td>Mid</td>\n",
              "    </tr>\n",
              "    <tr>\n",
              "      <th>2017-04-19</th>\n",
              "      <td>8132</td>\n",
              "      <td>1950.0</td>\n",
              "      <td>4.170256</td>\n",
              "      <td>Mid</td>\n",
              "    </tr>\n",
              "    <tr>\n",
              "      <th>2017-04-20</th>\n",
              "      <td>15328</td>\n",
              "      <td>1800.0</td>\n",
              "      <td>8.515556</td>\n",
              "      <td>High</td>\n",
              "    </tr>\n",
              "    <tr>\n",
              "      <th>2017-04-21</th>\n",
              "      <td>12849</td>\n",
              "      <td>1940.0</td>\n",
              "      <td>6.623196</td>\n",
              "      <td>High</td>\n",
              "    </tr>\n",
              "    <tr>\n",
              "      <th>2017-04-22</th>\n",
              "      <td>4029</td>\n",
              "      <td>2300.0</td>\n",
              "      <td>1.751739</td>\n",
              "      <td>Low</td>\n",
              "    </tr>\n",
              "    <tr>\n",
              "      <th>2017-04-23</th>\n",
              "      <td>3890</td>\n",
              "      <td>1950.0</td>\n",
              "      <td>1.994872</td>\n",
              "      <td>Low</td>\n",
              "    </tr>\n",
              "    <tr>\n",
              "      <th>2017-04-24</th>\n",
              "      <td>8093</td>\n",
              "      <td>1850.0</td>\n",
              "      <td>4.374595</td>\n",
              "      <td>Mid</td>\n",
              "    </tr>\n",
              "    <tr>\n",
              "      <th>2017-04-25</th>\n",
              "      <td>7823</td>\n",
              "      <td>1950.0</td>\n",
              "      <td>4.011795</td>\n",
              "      <td>Mid</td>\n",
              "    </tr>\n",
              "    <tr>\n",
              "      <th>2017-04-26</th>\n",
              "      <td>7492</td>\n",
              "      <td>1850.0</td>\n",
              "      <td>4.049730</td>\n",
              "      <td>Mid</td>\n",
              "    </tr>\n",
              "    <tr>\n",
              "      <th>2017-04-27</th>\n",
              "      <td>7203</td>\n",
              "      <td>1930.0</td>\n",
              "      <td>3.732124</td>\n",
              "      <td>Mid</td>\n",
              "    </tr>\n",
              "    <tr>\n",
              "      <th>2017-04-28</th>\n",
              "      <td>7302</td>\n",
              "      <td>1850.0</td>\n",
              "      <td>3.947027</td>\n",
              "      <td>Mid</td>\n",
              "    </tr>\n",
              "    <tr>\n",
              "      <th>2017-04-29</th>\n",
              "      <td>6033</td>\n",
              "      <td>2300.0</td>\n",
              "      <td>2.623043</td>\n",
              "      <td>Low</td>\n",
              "    </tr>\n",
              "    <tr>\n",
              "      <th>2017-04-30</th>\n",
              "      <td>4093</td>\n",
              "      <td>1950.0</td>\n",
              "      <td>2.098974</td>\n",
              "      <td>Low</td>\n",
              "    </tr>\n",
              "  </tbody>\n",
              "</table>\n",
              "</div>"
            ],
            "text/plain": [
              "               歩数  摂取カロリー   歩数/カロリー  運動指数\n",
              "date                                     \n",
              "2017-04-01   5439  2500.0  2.175600   Low\n",
              "2017-04-02   2510  2300.0  1.091304   Low\n",
              "2017-04-03  10238  1950.0  5.250256   Mid\n",
              "2017-04-04   8209  1850.0  4.437297   Mid\n",
              "2017-04-05   9434  1930.0  4.888083   Mid\n",
              "2017-04-06   7593  1800.0  4.218333   Mid\n",
              "2017-04-07   9320  1940.0  4.804124   Mid\n",
              "2017-04-08   4873  2300.0  2.118696   Low\n",
              "2017-04-09  12045  1950.0  6.176923  High\n",
              "2017-04-10   7493  1850.0  4.050270   Mid\n",
              "2017-04-11   7289  1930.0  3.776684   Mid\n",
              "2017-04-12   6481  2300.0  2.817826   Low\n",
              "2017-04-13  10287  1800.0  5.715000   Mid\n",
              "2017-04-14   8043  1940.0  4.145876   Mid\n",
              "2017-04-15   7435  2300.0  3.232609   Mid\n",
              "2017-04-16   7529  2300.0  3.273478   Mid\n",
              "2017-04-17   8031  1940.0  4.139691   Mid\n",
              "2017-04-18   8475  2300.0  3.684783   Mid\n",
              "2017-04-19   8132  1950.0  4.170256   Mid\n",
              "2017-04-20  15328  1800.0  8.515556  High\n",
              "2017-04-21  12849  1940.0  6.623196  High\n",
              "2017-04-22   4029  2300.0  1.751739   Low\n",
              "2017-04-23   3890  1950.0  1.994872   Low\n",
              "2017-04-24   8093  1850.0  4.374595   Mid\n",
              "2017-04-25   7823  1950.0  4.011795   Mid\n",
              "2017-04-26   7492  1850.0  4.049730   Mid\n",
              "2017-04-27   7203  1930.0  3.732124   Mid\n",
              "2017-04-28   7302  1850.0  3.947027   Mid\n",
              "2017-04-29   6033  2300.0  2.623043   Low\n",
              "2017-04-30   4093  1950.0  2.098974   Low"
            ]
          },
          "metadata": {
            "tags": []
          },
          "execution_count": 49
        }
      ]
    },
    {
      "cell_type": "code",
      "metadata": {
        "id": "wvaE53ASXq__"
      },
      "source": [
        "df.to_pickle(\"/content/drive/My Drive/Colab Files/df_201704health.pickle\")"
      ],
      "execution_count": null,
      "outputs": []
    },
    {
      "cell_type": "code",
      "metadata": {
        "colab": {
          "base_uri": "https://localhost:8080/",
          "height": 1000
        },
        "id": "YnAoLlquY9JU",
        "outputId": "55e7528e-1111-499c-8161-c40704147fc5"
      },
      "source": [
        "# get_dummies メソッド　prefix引数\n",
        "\n",
        "df_moved = pd.get_dummies(df.loc[:, \"運動指数\"], prefix=\"運動\")\n",
        "df_moved"
      ],
      "execution_count": null,
      "outputs": [
        {
          "output_type": "execute_result",
          "data": {
            "text/html": [
              "<div>\n",
              "<style scoped>\n",
              "    .dataframe tbody tr th:only-of-type {\n",
              "        vertical-align: middle;\n",
              "    }\n",
              "\n",
              "    .dataframe tbody tr th {\n",
              "        vertical-align: top;\n",
              "    }\n",
              "\n",
              "    .dataframe thead th {\n",
              "        text-align: right;\n",
              "    }\n",
              "</style>\n",
              "<table border=\"1\" class=\"dataframe\">\n",
              "  <thead>\n",
              "    <tr style=\"text-align: right;\">\n",
              "      <th></th>\n",
              "      <th>運動_High</th>\n",
              "      <th>運動_Low</th>\n",
              "      <th>運動_Mid</th>\n",
              "    </tr>\n",
              "    <tr>\n",
              "      <th>date</th>\n",
              "      <th></th>\n",
              "      <th></th>\n",
              "      <th></th>\n",
              "    </tr>\n",
              "  </thead>\n",
              "  <tbody>\n",
              "    <tr>\n",
              "      <th>2017-04-01</th>\n",
              "      <td>0</td>\n",
              "      <td>1</td>\n",
              "      <td>0</td>\n",
              "    </tr>\n",
              "    <tr>\n",
              "      <th>2017-04-02</th>\n",
              "      <td>0</td>\n",
              "      <td>1</td>\n",
              "      <td>0</td>\n",
              "    </tr>\n",
              "    <tr>\n",
              "      <th>2017-04-03</th>\n",
              "      <td>0</td>\n",
              "      <td>0</td>\n",
              "      <td>1</td>\n",
              "    </tr>\n",
              "    <tr>\n",
              "      <th>2017-04-04</th>\n",
              "      <td>0</td>\n",
              "      <td>0</td>\n",
              "      <td>1</td>\n",
              "    </tr>\n",
              "    <tr>\n",
              "      <th>2017-04-05</th>\n",
              "      <td>0</td>\n",
              "      <td>0</td>\n",
              "      <td>1</td>\n",
              "    </tr>\n",
              "    <tr>\n",
              "      <th>2017-04-06</th>\n",
              "      <td>0</td>\n",
              "      <td>0</td>\n",
              "      <td>1</td>\n",
              "    </tr>\n",
              "    <tr>\n",
              "      <th>2017-04-07</th>\n",
              "      <td>0</td>\n",
              "      <td>0</td>\n",
              "      <td>1</td>\n",
              "    </tr>\n",
              "    <tr>\n",
              "      <th>2017-04-08</th>\n",
              "      <td>0</td>\n",
              "      <td>1</td>\n",
              "      <td>0</td>\n",
              "    </tr>\n",
              "    <tr>\n",
              "      <th>2017-04-09</th>\n",
              "      <td>1</td>\n",
              "      <td>0</td>\n",
              "      <td>0</td>\n",
              "    </tr>\n",
              "    <tr>\n",
              "      <th>2017-04-10</th>\n",
              "      <td>0</td>\n",
              "      <td>0</td>\n",
              "      <td>1</td>\n",
              "    </tr>\n",
              "    <tr>\n",
              "      <th>2017-04-11</th>\n",
              "      <td>0</td>\n",
              "      <td>0</td>\n",
              "      <td>1</td>\n",
              "    </tr>\n",
              "    <tr>\n",
              "      <th>2017-04-12</th>\n",
              "      <td>0</td>\n",
              "      <td>1</td>\n",
              "      <td>0</td>\n",
              "    </tr>\n",
              "    <tr>\n",
              "      <th>2017-04-13</th>\n",
              "      <td>0</td>\n",
              "      <td>0</td>\n",
              "      <td>1</td>\n",
              "    </tr>\n",
              "    <tr>\n",
              "      <th>2017-04-14</th>\n",
              "      <td>0</td>\n",
              "      <td>0</td>\n",
              "      <td>1</td>\n",
              "    </tr>\n",
              "    <tr>\n",
              "      <th>2017-04-15</th>\n",
              "      <td>0</td>\n",
              "      <td>0</td>\n",
              "      <td>1</td>\n",
              "    </tr>\n",
              "    <tr>\n",
              "      <th>2017-04-16</th>\n",
              "      <td>0</td>\n",
              "      <td>0</td>\n",
              "      <td>1</td>\n",
              "    </tr>\n",
              "    <tr>\n",
              "      <th>2017-04-17</th>\n",
              "      <td>0</td>\n",
              "      <td>0</td>\n",
              "      <td>1</td>\n",
              "    </tr>\n",
              "    <tr>\n",
              "      <th>2017-04-18</th>\n",
              "      <td>0</td>\n",
              "      <td>0</td>\n",
              "      <td>1</td>\n",
              "    </tr>\n",
              "    <tr>\n",
              "      <th>2017-04-19</th>\n",
              "      <td>0</td>\n",
              "      <td>0</td>\n",
              "      <td>1</td>\n",
              "    </tr>\n",
              "    <tr>\n",
              "      <th>2017-04-20</th>\n",
              "      <td>1</td>\n",
              "      <td>0</td>\n",
              "      <td>0</td>\n",
              "    </tr>\n",
              "    <tr>\n",
              "      <th>2017-04-21</th>\n",
              "      <td>1</td>\n",
              "      <td>0</td>\n",
              "      <td>0</td>\n",
              "    </tr>\n",
              "    <tr>\n",
              "      <th>2017-04-22</th>\n",
              "      <td>0</td>\n",
              "      <td>1</td>\n",
              "      <td>0</td>\n",
              "    </tr>\n",
              "    <tr>\n",
              "      <th>2017-04-23</th>\n",
              "      <td>0</td>\n",
              "      <td>1</td>\n",
              "      <td>0</td>\n",
              "    </tr>\n",
              "    <tr>\n",
              "      <th>2017-04-24</th>\n",
              "      <td>0</td>\n",
              "      <td>0</td>\n",
              "      <td>1</td>\n",
              "    </tr>\n",
              "    <tr>\n",
              "      <th>2017-04-25</th>\n",
              "      <td>0</td>\n",
              "      <td>0</td>\n",
              "      <td>1</td>\n",
              "    </tr>\n",
              "    <tr>\n",
              "      <th>2017-04-26</th>\n",
              "      <td>0</td>\n",
              "      <td>0</td>\n",
              "      <td>1</td>\n",
              "    </tr>\n",
              "    <tr>\n",
              "      <th>2017-04-27</th>\n",
              "      <td>0</td>\n",
              "      <td>0</td>\n",
              "      <td>1</td>\n",
              "    </tr>\n",
              "    <tr>\n",
              "      <th>2017-04-28</th>\n",
              "      <td>0</td>\n",
              "      <td>0</td>\n",
              "      <td>1</td>\n",
              "    </tr>\n",
              "    <tr>\n",
              "      <th>2017-04-29</th>\n",
              "      <td>0</td>\n",
              "      <td>1</td>\n",
              "      <td>0</td>\n",
              "    </tr>\n",
              "    <tr>\n",
              "      <th>2017-04-30</th>\n",
              "      <td>0</td>\n",
              "      <td>1</td>\n",
              "      <td>0</td>\n",
              "    </tr>\n",
              "  </tbody>\n",
              "</table>\n",
              "</div>"
            ],
            "text/plain": [
              "            運動_High  運動_Low  運動_Mid\n",
              "date                               \n",
              "2017-04-01        0       1       0\n",
              "2017-04-02        0       1       0\n",
              "2017-04-03        0       0       1\n",
              "2017-04-04        0       0       1\n",
              "2017-04-05        0       0       1\n",
              "2017-04-06        0       0       1\n",
              "2017-04-07        0       0       1\n",
              "2017-04-08        0       1       0\n",
              "2017-04-09        1       0       0\n",
              "2017-04-10        0       0       1\n",
              "2017-04-11        0       0       1\n",
              "2017-04-12        0       1       0\n",
              "2017-04-13        0       0       1\n",
              "2017-04-14        0       0       1\n",
              "2017-04-15        0       0       1\n",
              "2017-04-16        0       0       1\n",
              "2017-04-17        0       0       1\n",
              "2017-04-18        0       0       1\n",
              "2017-04-19        0       0       1\n",
              "2017-04-20        1       0       0\n",
              "2017-04-21        1       0       0\n",
              "2017-04-22        0       1       0\n",
              "2017-04-23        0       1       0\n",
              "2017-04-24        0       0       1\n",
              "2017-04-25        0       0       1\n",
              "2017-04-26        0       0       1\n",
              "2017-04-27        0       0       1\n",
              "2017-04-28        0       0       1\n",
              "2017-04-29        0       1       0\n",
              "2017-04-30        0       1       0"
            ]
          },
          "metadata": {
            "tags": []
          },
          "execution_count": 50
        }
      ]
    },
    {
      "cell_type": "code",
      "metadata": {
        "id": "hOt7cbf_ZfxT"
      },
      "source": [
        "df_moved.to_pickle(\"/content/drive/My Drive/Colab Files/df_201704moved.pickle\")"
      ],
      "execution_count": null,
      "outputs": []
    },
    {
      "cell_type": "markdown",
      "metadata": {
        "id": "WpThy6nKbC32"
      },
      "source": [
        "## ▶︎4.2.4 時系列データ"
      ]
    },
    {
      "cell_type": "markdown",
      "metadata": {
        "id": "oDKtnWvhbMw1"
      },
      "source": [
        "### ●１ヶ月分のデータを作る"
      ]
    },
    {
      "cell_type": "code",
      "metadata": {
        "colab": {
          "base_uri": "https://localhost:8080/"
        },
        "id": "SWF7OLVsa8oc",
        "outputId": "0e435b8e-a5ba-406b-f1a2-7300b04a9d73"
      },
      "source": [
        "# date_range関数\n",
        "# start引数  end引数\n",
        "\n",
        "dates = pd.date_range(start=\"2017-04-01\", end=\"2017-04-30\")\n",
        "dates"
      ],
      "execution_count": null,
      "outputs": [
        {
          "output_type": "execute_result",
          "data": {
            "text/plain": [
              "DatetimeIndex(['2017-04-01', '2017-04-02', '2017-04-03', '2017-04-04',\n",
              "               '2017-04-05', '2017-04-06', '2017-04-07', '2017-04-08',\n",
              "               '2017-04-09', '2017-04-10', '2017-04-11', '2017-04-12',\n",
              "               '2017-04-13', '2017-04-14', '2017-04-15', '2017-04-16',\n",
              "               '2017-04-17', '2017-04-18', '2017-04-19', '2017-04-20',\n",
              "               '2017-04-21', '2017-04-22', '2017-04-23', '2017-04-24',\n",
              "               '2017-04-25', '2017-04-26', '2017-04-27', '2017-04-28',\n",
              "               '2017-04-29', '2017-04-30'],\n",
              "              dtype='datetime64[ns]', freq='D')"
            ]
          },
          "metadata": {
            "tags": []
          },
          "execution_count": 48
        }
      ]
    },
    {
      "cell_type": "code",
      "metadata": {
        "colab": {
          "base_uri": "https://localhost:8080/",
          "height": 979
        },
        "id": "oUazqqhVcHT5",
        "outputId": "073ba31d-4ce5-44c4-a974-90b4698a777c"
      },
      "source": [
        "np.random.seed(123)\n",
        "\n",
        "df = pd.DataFrame(np.random.randint(1, 31, 30), index=dates, columns=[\"乱数\"])\n",
        "df"
      ],
      "execution_count": null,
      "outputs": [
        {
          "output_type": "execute_result",
          "data": {
            "text/html": [
              "<div>\n",
              "<style scoped>\n",
              "    .dataframe tbody tr th:only-of-type {\n",
              "        vertical-align: middle;\n",
              "    }\n",
              "\n",
              "    .dataframe tbody tr th {\n",
              "        vertical-align: top;\n",
              "    }\n",
              "\n",
              "    .dataframe thead th {\n",
              "        text-align: right;\n",
              "    }\n",
              "</style>\n",
              "<table border=\"1\" class=\"dataframe\">\n",
              "  <thead>\n",
              "    <tr style=\"text-align: right;\">\n",
              "      <th></th>\n",
              "      <th>乱数</th>\n",
              "    </tr>\n",
              "  </thead>\n",
              "  <tbody>\n",
              "    <tr>\n",
              "      <th>2017-04-01</th>\n",
              "      <td>14</td>\n",
              "    </tr>\n",
              "    <tr>\n",
              "      <th>2017-04-02</th>\n",
              "      <td>3</td>\n",
              "    </tr>\n",
              "    <tr>\n",
              "      <th>2017-04-03</th>\n",
              "      <td>29</td>\n",
              "    </tr>\n",
              "    <tr>\n",
              "      <th>2017-04-04</th>\n",
              "      <td>3</td>\n",
              "    </tr>\n",
              "    <tr>\n",
              "      <th>2017-04-05</th>\n",
              "      <td>7</td>\n",
              "    </tr>\n",
              "    <tr>\n",
              "      <th>2017-04-06</th>\n",
              "      <td>18</td>\n",
              "    </tr>\n",
              "    <tr>\n",
              "      <th>2017-04-07</th>\n",
              "      <td>20</td>\n",
              "    </tr>\n",
              "    <tr>\n",
              "      <th>2017-04-08</th>\n",
              "      <td>11</td>\n",
              "    </tr>\n",
              "    <tr>\n",
              "      <th>2017-04-09</th>\n",
              "      <td>28</td>\n",
              "    </tr>\n",
              "    <tr>\n",
              "      <th>2017-04-10</th>\n",
              "      <td>26</td>\n",
              "    </tr>\n",
              "    <tr>\n",
              "      <th>2017-04-11</th>\n",
              "      <td>23</td>\n",
              "    </tr>\n",
              "    <tr>\n",
              "      <th>2017-04-12</th>\n",
              "      <td>2</td>\n",
              "    </tr>\n",
              "    <tr>\n",
              "      <th>2017-04-13</th>\n",
              "      <td>1</td>\n",
              "    </tr>\n",
              "    <tr>\n",
              "      <th>2017-04-14</th>\n",
              "      <td>18</td>\n",
              "    </tr>\n",
              "    <tr>\n",
              "      <th>2017-04-15</th>\n",
              "      <td>16</td>\n",
              "    </tr>\n",
              "    <tr>\n",
              "      <th>2017-04-16</th>\n",
              "      <td>10</td>\n",
              "    </tr>\n",
              "    <tr>\n",
              "      <th>2017-04-17</th>\n",
              "      <td>1</td>\n",
              "    </tr>\n",
              "    <tr>\n",
              "      <th>2017-04-18</th>\n",
              "      <td>15</td>\n",
              "    </tr>\n",
              "    <tr>\n",
              "      <th>2017-04-19</th>\n",
              "      <td>1</td>\n",
              "    </tr>\n",
              "    <tr>\n",
              "      <th>2017-04-20</th>\n",
              "      <td>16</td>\n",
              "    </tr>\n",
              "    <tr>\n",
              "      <th>2017-04-21</th>\n",
              "      <td>26</td>\n",
              "    </tr>\n",
              "    <tr>\n",
              "      <th>2017-04-22</th>\n",
              "      <td>20</td>\n",
              "    </tr>\n",
              "    <tr>\n",
              "      <th>2017-04-23</th>\n",
              "      <td>15</td>\n",
              "    </tr>\n",
              "    <tr>\n",
              "      <th>2017-04-24</th>\n",
              "      <td>30</td>\n",
              "    </tr>\n",
              "    <tr>\n",
              "      <th>2017-04-25</th>\n",
              "      <td>5</td>\n",
              "    </tr>\n",
              "    <tr>\n",
              "      <th>2017-04-26</th>\n",
              "      <td>1</td>\n",
              "    </tr>\n",
              "    <tr>\n",
              "      <th>2017-04-27</th>\n",
              "      <td>17</td>\n",
              "    </tr>\n",
              "    <tr>\n",
              "      <th>2017-04-28</th>\n",
              "      <td>5</td>\n",
              "    </tr>\n",
              "    <tr>\n",
              "      <th>2017-04-29</th>\n",
              "      <td>18</td>\n",
              "    </tr>\n",
              "    <tr>\n",
              "      <th>2017-04-30</th>\n",
              "      <td>24</td>\n",
              "    </tr>\n",
              "  </tbody>\n",
              "</table>\n",
              "</div>"
            ],
            "text/plain": [
              "            乱数\n",
              "2017-04-01  14\n",
              "2017-04-02   3\n",
              "2017-04-03  29\n",
              "2017-04-04   3\n",
              "2017-04-05   7\n",
              "2017-04-06  18\n",
              "2017-04-07  20\n",
              "2017-04-08  11\n",
              "2017-04-09  28\n",
              "2017-04-10  26\n",
              "2017-04-11  23\n",
              "2017-04-12   2\n",
              "2017-04-13   1\n",
              "2017-04-14  18\n",
              "2017-04-15  16\n",
              "2017-04-16  10\n",
              "2017-04-17   1\n",
              "2017-04-18  15\n",
              "2017-04-19   1\n",
              "2017-04-20  16\n",
              "2017-04-21  26\n",
              "2017-04-22  20\n",
              "2017-04-23  15\n",
              "2017-04-24  30\n",
              "2017-04-25   5\n",
              "2017-04-26   1\n",
              "2017-04-27  17\n",
              "2017-04-28   5\n",
              "2017-04-29  18\n",
              "2017-04-30  24"
            ]
          },
          "metadata": {
            "tags": []
          },
          "execution_count": 49
        }
      ]
    },
    {
      "cell_type": "markdown",
      "metadata": {
        "id": "j0zaLfPsdOde"
      },
      "source": [
        "### ●１年分３６５日のデータを作る"
      ]
    },
    {
      "cell_type": "code",
      "metadata": {
        "colab": {
          "base_uri": "https://localhost:8080/"
        },
        "id": "QVxtDW9CdJup",
        "outputId": "e8df4cca-2333-4700-9d00-42cc3d19821d"
      },
      "source": [
        "# date_range関数\n",
        "# start引数 periods引数\n",
        "\n",
        "dates = pd.date_range(start=\"2017-01-01\", periods=365)\n",
        "dates"
      ],
      "execution_count": null,
      "outputs": [
        {
          "output_type": "execute_result",
          "data": {
            "text/plain": [
              "DatetimeIndex(['2017-01-01', '2017-01-02', '2017-01-03', '2017-01-04',\n",
              "               '2017-01-05', '2017-01-06', '2017-01-07', '2017-01-08',\n",
              "               '2017-01-09', '2017-01-10',\n",
              "               ...\n",
              "               '2017-12-22', '2017-12-23', '2017-12-24', '2017-12-25',\n",
              "               '2017-12-26', '2017-12-27', '2017-12-28', '2017-12-29',\n",
              "               '2017-12-30', '2017-12-31'],\n",
              "              dtype='datetime64[ns]', length=365, freq='D')"
            ]
          },
          "metadata": {
            "tags": []
          },
          "execution_count": 53
        }
      ]
    },
    {
      "cell_type": "code",
      "metadata": {
        "colab": {
          "base_uri": "https://localhost:8080/",
          "height": 419
        },
        "id": "4NkIq86OdwJs",
        "outputId": "7cd9ad18-7d18-44e9-c910-1c1c43ba81c0"
      },
      "source": [
        "np.random.seed(123)\n",
        "\n",
        "df = pd.DataFrame(np.random.randint(1,31,365), index=dates, columns=[\"乱数\"])\n",
        "df"
      ],
      "execution_count": null,
      "outputs": [
        {
          "output_type": "execute_result",
          "data": {
            "text/html": [
              "<div>\n",
              "<style scoped>\n",
              "    .dataframe tbody tr th:only-of-type {\n",
              "        vertical-align: middle;\n",
              "    }\n",
              "\n",
              "    .dataframe tbody tr th {\n",
              "        vertical-align: top;\n",
              "    }\n",
              "\n",
              "    .dataframe thead th {\n",
              "        text-align: right;\n",
              "    }\n",
              "</style>\n",
              "<table border=\"1\" class=\"dataframe\">\n",
              "  <thead>\n",
              "    <tr style=\"text-align: right;\">\n",
              "      <th></th>\n",
              "      <th>乱数</th>\n",
              "    </tr>\n",
              "  </thead>\n",
              "  <tbody>\n",
              "    <tr>\n",
              "      <th>2017-01-01</th>\n",
              "      <td>14</td>\n",
              "    </tr>\n",
              "    <tr>\n",
              "      <th>2017-01-02</th>\n",
              "      <td>3</td>\n",
              "    </tr>\n",
              "    <tr>\n",
              "      <th>2017-01-03</th>\n",
              "      <td>29</td>\n",
              "    </tr>\n",
              "    <tr>\n",
              "      <th>2017-01-04</th>\n",
              "      <td>3</td>\n",
              "    </tr>\n",
              "    <tr>\n",
              "      <th>2017-01-05</th>\n",
              "      <td>7</td>\n",
              "    </tr>\n",
              "    <tr>\n",
              "      <th>...</th>\n",
              "      <td>...</td>\n",
              "    </tr>\n",
              "    <tr>\n",
              "      <th>2017-12-27</th>\n",
              "      <td>22</td>\n",
              "    </tr>\n",
              "    <tr>\n",
              "      <th>2017-12-28</th>\n",
              "      <td>5</td>\n",
              "    </tr>\n",
              "    <tr>\n",
              "      <th>2017-12-29</th>\n",
              "      <td>22</td>\n",
              "    </tr>\n",
              "    <tr>\n",
              "      <th>2017-12-30</th>\n",
              "      <td>1</td>\n",
              "    </tr>\n",
              "    <tr>\n",
              "      <th>2017-12-31</th>\n",
              "      <td>8</td>\n",
              "    </tr>\n",
              "  </tbody>\n",
              "</table>\n",
              "<p>365 rows × 1 columns</p>\n",
              "</div>"
            ],
            "text/plain": [
              "            乱数\n",
              "2017-01-01  14\n",
              "2017-01-02   3\n",
              "2017-01-03  29\n",
              "2017-01-04   3\n",
              "2017-01-05   7\n",
              "...         ..\n",
              "2017-12-27  22\n",
              "2017-12-28   5\n",
              "2017-12-29  22\n",
              "2017-12-30   1\n",
              "2017-12-31   8\n",
              "\n",
              "[365 rows x 1 columns]"
            ]
          },
          "metadata": {
            "tags": []
          },
          "execution_count": 54
        }
      ]
    },
    {
      "cell_type": "markdown",
      "metadata": {
        "id": "JnHU8OfAeUDp"
      },
      "source": [
        "### ●月平均のデータにする"
      ]
    },
    {
      "cell_type": "code",
      "metadata": {
        "colab": {
          "base_uri": "https://localhost:8080/",
          "height": 421
        },
        "id": "BEWtW6hfePmt",
        "outputId": "7a398b61-d5b9-4254-e003-550ca797b074"
      },
      "source": [
        "# groupbyメソッド\n",
        "# 引数　freq='M'　月ごと\n",
        "# Grouper 周期的なグルーピング\n",
        "\n",
        "df.groupby(pd.Grouper(freq='M')).mean()"
      ],
      "execution_count": null,
      "outputs": [
        {
          "output_type": "execute_result",
          "data": {
            "text/html": [
              "<div>\n",
              "<style scoped>\n",
              "    .dataframe tbody tr th:only-of-type {\n",
              "        vertical-align: middle;\n",
              "    }\n",
              "\n",
              "    .dataframe tbody tr th {\n",
              "        vertical-align: top;\n",
              "    }\n",
              "\n",
              "    .dataframe thead th {\n",
              "        text-align: right;\n",
              "    }\n",
              "</style>\n",
              "<table border=\"1\" class=\"dataframe\">\n",
              "  <thead>\n",
              "    <tr style=\"text-align: right;\">\n",
              "      <th></th>\n",
              "      <th>乱数</th>\n",
              "    </tr>\n",
              "  </thead>\n",
              "  <tbody>\n",
              "    <tr>\n",
              "      <th>2017-01-31</th>\n",
              "      <td>13.774194</td>\n",
              "    </tr>\n",
              "    <tr>\n",
              "      <th>2017-02-28</th>\n",
              "      <td>13.428571</td>\n",
              "    </tr>\n",
              "    <tr>\n",
              "      <th>2017-03-31</th>\n",
              "      <td>15.612903</td>\n",
              "    </tr>\n",
              "    <tr>\n",
              "      <th>2017-04-30</th>\n",
              "      <td>15.533333</td>\n",
              "    </tr>\n",
              "    <tr>\n",
              "      <th>2017-05-31</th>\n",
              "      <td>15.322581</td>\n",
              "    </tr>\n",
              "    <tr>\n",
              "      <th>2017-06-30</th>\n",
              "      <td>14.300000</td>\n",
              "    </tr>\n",
              "    <tr>\n",
              "      <th>2017-07-31</th>\n",
              "      <td>15.258065</td>\n",
              "    </tr>\n",
              "    <tr>\n",
              "      <th>2017-08-31</th>\n",
              "      <td>16.129032</td>\n",
              "    </tr>\n",
              "    <tr>\n",
              "      <th>2017-09-30</th>\n",
              "      <td>18.433333</td>\n",
              "    </tr>\n",
              "    <tr>\n",
              "      <th>2017-10-31</th>\n",
              "      <td>14.580645</td>\n",
              "    </tr>\n",
              "    <tr>\n",
              "      <th>2017-11-30</th>\n",
              "      <td>12.633333</td>\n",
              "    </tr>\n",
              "    <tr>\n",
              "      <th>2017-12-31</th>\n",
              "      <td>17.483871</td>\n",
              "    </tr>\n",
              "  </tbody>\n",
              "</table>\n",
              "</div>"
            ],
            "text/plain": [
              "                   乱数\n",
              "2017-01-31  13.774194\n",
              "2017-02-28  13.428571\n",
              "2017-03-31  15.612903\n",
              "2017-04-30  15.533333\n",
              "2017-05-31  15.322581\n",
              "2017-06-30  14.300000\n",
              "2017-07-31  15.258065\n",
              "2017-08-31  16.129032\n",
              "2017-09-30  18.433333\n",
              "2017-10-31  14.580645\n",
              "2017-11-30  12.633333\n",
              "2017-12-31  17.483871"
            ]
          },
          "metadata": {
            "tags": []
          },
          "execution_count": 55
        }
      ]
    },
    {
      "cell_type": "code",
      "metadata": {
        "colab": {
          "base_uri": "https://localhost:8080/"
        },
        "id": "bu9re2fnen9w",
        "outputId": "e9e3ecdd-6c0a-497d-80e3-5b8341f275b7"
      },
      "source": [
        "# resampleメソッド\n",
        "# 毎月の平均値\n",
        "# カラム固定したので、Series出力\n",
        "\n",
        "df.loc[:, \"乱数\"].resample('M').mean()"
      ],
      "execution_count": null,
      "outputs": [
        {
          "output_type": "execute_result",
          "data": {
            "text/plain": [
              "2017-01-31    13.774194\n",
              "2017-02-28    13.428571\n",
              "2017-03-31    15.612903\n",
              "2017-04-30    15.533333\n",
              "2017-05-31    15.322581\n",
              "2017-06-30    14.300000\n",
              "2017-07-31    15.258065\n",
              "2017-08-31    16.129032\n",
              "2017-09-30    18.433333\n",
              "2017-10-31    14.580645\n",
              "2017-11-30    12.633333\n",
              "2017-12-31    17.483871\n",
              "Freq: M, Name: 乱数, dtype: float64"
            ]
          },
          "metadata": {
            "tags": []
          },
          "execution_count": 56
        }
      ]
    },
    {
      "cell_type": "markdown",
      "metadata": {
        "id": "qcGVgPi8fwDk"
      },
      "source": [
        "### ●複雑な条件のインデックス"
      ]
    },
    {
      "cell_type": "code",
      "metadata": {
        "colab": {
          "base_uri": "https://localhost:8080/"
        },
        "id": "x_RNp1sPff1R",
        "outputId": "2fdebbfc-bc0d-4f2f-a681-94b97c0a5060"
      },
      "source": [
        "# １年分の土曜日の日付データ\n",
        "# 引数　freq=\"W-SAT\"\n",
        "\n",
        "pd.date_range(start='2017-01-01', end=\"2017-12-31\", freq=\"W-SAT\")"
      ],
      "execution_count": null,
      "outputs": [
        {
          "output_type": "execute_result",
          "data": {
            "text/plain": [
              "DatetimeIndex(['2017-01-07', '2017-01-14', '2017-01-21', '2017-01-28',\n",
              "               '2017-02-04', '2017-02-11', '2017-02-18', '2017-02-25',\n",
              "               '2017-03-04', '2017-03-11', '2017-03-18', '2017-03-25',\n",
              "               '2017-04-01', '2017-04-08', '2017-04-15', '2017-04-22',\n",
              "               '2017-04-29', '2017-05-06', '2017-05-13', '2017-05-20',\n",
              "               '2017-05-27', '2017-06-03', '2017-06-10', '2017-06-17',\n",
              "               '2017-06-24', '2017-07-01', '2017-07-08', '2017-07-15',\n",
              "               '2017-07-22', '2017-07-29', '2017-08-05', '2017-08-12',\n",
              "               '2017-08-19', '2017-08-26', '2017-09-02', '2017-09-09',\n",
              "               '2017-09-16', '2017-09-23', '2017-09-30', '2017-10-07',\n",
              "               '2017-10-14', '2017-10-21', '2017-10-28', '2017-11-04',\n",
              "               '2017-11-11', '2017-11-18', '2017-11-25', '2017-12-02',\n",
              "               '2017-12-09', '2017-12-16', '2017-12-23', '2017-12-30'],\n",
              "              dtype='datetime64[ns]', freq='W-SAT')"
            ]
          },
          "metadata": {
            "tags": []
          },
          "execution_count": 57
        }
      ]
    },
    {
      "cell_type": "code",
      "metadata": {
        "colab": {
          "base_uri": "https://localhost:8080/",
          "height": 1000
        },
        "id": "SCqUlA1RgU1u",
        "outputId": "05b4a4d5-dca4-4284-f104-b92cde364a54"
      },
      "source": [
        "df_year = pd.DataFrame(df.groupby(pd.Grouper(freq='W-SAT')).sum(), columns=[\"乱数\"])\n",
        "# df_year = pd.DataFrame(df.groupby(pd.Grouper(freq='W-SAT')).sum())\n",
        "\n",
        "df_year"
      ],
      "execution_count": null,
      "outputs": [
        {
          "output_type": "execute_result",
          "data": {
            "text/html": [
              "<div>\n",
              "<style scoped>\n",
              "    .dataframe tbody tr th:only-of-type {\n",
              "        vertical-align: middle;\n",
              "    }\n",
              "\n",
              "    .dataframe tbody tr th {\n",
              "        vertical-align: top;\n",
              "    }\n",
              "\n",
              "    .dataframe thead th {\n",
              "        text-align: right;\n",
              "    }\n",
              "</style>\n",
              "<table border=\"1\" class=\"dataframe\">\n",
              "  <thead>\n",
              "    <tr style=\"text-align: right;\">\n",
              "      <th></th>\n",
              "      <th>乱数</th>\n",
              "    </tr>\n",
              "  </thead>\n",
              "  <tbody>\n",
              "    <tr>\n",
              "      <th>2017-01-07</th>\n",
              "      <td>94</td>\n",
              "    </tr>\n",
              "    <tr>\n",
              "      <th>2017-01-14</th>\n",
              "      <td>109</td>\n",
              "    </tr>\n",
              "    <tr>\n",
              "      <th>2017-01-21</th>\n",
              "      <td>85</td>\n",
              "    </tr>\n",
              "    <tr>\n",
              "      <th>2017-01-28</th>\n",
              "      <td>93</td>\n",
              "    </tr>\n",
              "    <tr>\n",
              "      <th>2017-02-04</th>\n",
              "      <td>81</td>\n",
              "    </tr>\n",
              "    <tr>\n",
              "      <th>2017-02-11</th>\n",
              "      <td>127</td>\n",
              "    </tr>\n",
              "    <tr>\n",
              "      <th>2017-02-18</th>\n",
              "      <td>114</td>\n",
              "    </tr>\n",
              "    <tr>\n",
              "      <th>2017-02-25</th>\n",
              "      <td>82</td>\n",
              "    </tr>\n",
              "    <tr>\n",
              "      <th>2017-03-04</th>\n",
              "      <td>71</td>\n",
              "    </tr>\n",
              "    <tr>\n",
              "      <th>2017-03-11</th>\n",
              "      <td>117</td>\n",
              "    </tr>\n",
              "    <tr>\n",
              "      <th>2017-03-18</th>\n",
              "      <td>132</td>\n",
              "    </tr>\n",
              "    <tr>\n",
              "      <th>2017-03-25</th>\n",
              "      <td>103</td>\n",
              "    </tr>\n",
              "    <tr>\n",
              "      <th>2017-04-01</th>\n",
              "      <td>105</td>\n",
              "    </tr>\n",
              "    <tr>\n",
              "      <th>2017-04-08</th>\n",
              "      <td>133</td>\n",
              "    </tr>\n",
              "    <tr>\n",
              "      <th>2017-04-15</th>\n",
              "      <td>109</td>\n",
              "    </tr>\n",
              "    <tr>\n",
              "      <th>2017-04-22</th>\n",
              "      <td>111</td>\n",
              "    </tr>\n",
              "    <tr>\n",
              "      <th>2017-04-29</th>\n",
              "      <td>67</td>\n",
              "    </tr>\n",
              "    <tr>\n",
              "      <th>2017-05-06</th>\n",
              "      <td>108</td>\n",
              "    </tr>\n",
              "    <tr>\n",
              "      <th>2017-05-13</th>\n",
              "      <td>124</td>\n",
              "    </tr>\n",
              "    <tr>\n",
              "      <th>2017-05-20</th>\n",
              "      <td>103</td>\n",
              "    </tr>\n",
              "    <tr>\n",
              "      <th>2017-05-27</th>\n",
              "      <td>78</td>\n",
              "    </tr>\n",
              "    <tr>\n",
              "      <th>2017-06-03</th>\n",
              "      <td>131</td>\n",
              "    </tr>\n",
              "    <tr>\n",
              "      <th>2017-06-10</th>\n",
              "      <td>80</td>\n",
              "    </tr>\n",
              "    <tr>\n",
              "      <th>2017-06-17</th>\n",
              "      <td>110</td>\n",
              "    </tr>\n",
              "    <tr>\n",
              "      <th>2017-06-24</th>\n",
              "      <td>84</td>\n",
              "    </tr>\n",
              "    <tr>\n",
              "      <th>2017-07-01</th>\n",
              "      <td>123</td>\n",
              "    </tr>\n",
              "    <tr>\n",
              "      <th>2017-07-08</th>\n",
              "      <td>136</td>\n",
              "    </tr>\n",
              "    <tr>\n",
              "      <th>2017-07-15</th>\n",
              "      <td>68</td>\n",
              "    </tr>\n",
              "    <tr>\n",
              "      <th>2017-07-22</th>\n",
              "      <td>107</td>\n",
              "    </tr>\n",
              "    <tr>\n",
              "      <th>2017-07-29</th>\n",
              "      <td>111</td>\n",
              "    </tr>\n",
              "    <tr>\n",
              "      <th>2017-08-05</th>\n",
              "      <td>104</td>\n",
              "    </tr>\n",
              "    <tr>\n",
              "      <th>2017-08-12</th>\n",
              "      <td>109</td>\n",
              "    </tr>\n",
              "    <tr>\n",
              "      <th>2017-08-19</th>\n",
              "      <td>87</td>\n",
              "    </tr>\n",
              "    <tr>\n",
              "      <th>2017-08-26</th>\n",
              "      <td>137</td>\n",
              "    </tr>\n",
              "    <tr>\n",
              "      <th>2017-09-02</th>\n",
              "      <td>120</td>\n",
              "    </tr>\n",
              "    <tr>\n",
              "      <th>2017-09-09</th>\n",
              "      <td>150</td>\n",
              "    </tr>\n",
              "    <tr>\n",
              "      <th>2017-09-16</th>\n",
              "      <td>120</td>\n",
              "    </tr>\n",
              "    <tr>\n",
              "      <th>2017-09-23</th>\n",
              "      <td>163</td>\n",
              "    </tr>\n",
              "    <tr>\n",
              "      <th>2017-09-30</th>\n",
              "      <td>97</td>\n",
              "    </tr>\n",
              "    <tr>\n",
              "      <th>2017-10-07</th>\n",
              "      <td>72</td>\n",
              "    </tr>\n",
              "    <tr>\n",
              "      <th>2017-10-14</th>\n",
              "      <td>97</td>\n",
              "    </tr>\n",
              "    <tr>\n",
              "      <th>2017-10-21</th>\n",
              "      <td>107</td>\n",
              "    </tr>\n",
              "    <tr>\n",
              "      <th>2017-10-28</th>\n",
              "      <td>134</td>\n",
              "    </tr>\n",
              "    <tr>\n",
              "      <th>2017-11-04</th>\n",
              "      <td>77</td>\n",
              "    </tr>\n",
              "    <tr>\n",
              "      <th>2017-11-11</th>\n",
              "      <td>51</td>\n",
              "    </tr>\n",
              "    <tr>\n",
              "      <th>2017-11-18</th>\n",
              "      <td>90</td>\n",
              "    </tr>\n",
              "    <tr>\n",
              "      <th>2017-11-25</th>\n",
              "      <td>132</td>\n",
              "    </tr>\n",
              "    <tr>\n",
              "      <th>2017-12-02</th>\n",
              "      <td>97</td>\n",
              "    </tr>\n",
              "    <tr>\n",
              "      <th>2017-12-09</th>\n",
              "      <td>137</td>\n",
              "    </tr>\n",
              "    <tr>\n",
              "      <th>2017-12-16</th>\n",
              "      <td>139</td>\n",
              "    </tr>\n",
              "    <tr>\n",
              "      <th>2017-12-23</th>\n",
              "      <td>127</td>\n",
              "    </tr>\n",
              "    <tr>\n",
              "      <th>2017-12-30</th>\n",
              "      <td>105</td>\n",
              "    </tr>\n",
              "    <tr>\n",
              "      <th>2018-01-06</th>\n",
              "      <td>8</td>\n",
              "    </tr>\n",
              "  </tbody>\n",
              "</table>\n",
              "</div>"
            ],
            "text/plain": [
              "             乱数\n",
              "2017-01-07   94\n",
              "2017-01-14  109\n",
              "2017-01-21   85\n",
              "2017-01-28   93\n",
              "2017-02-04   81\n",
              "2017-02-11  127\n",
              "2017-02-18  114\n",
              "2017-02-25   82\n",
              "2017-03-04   71\n",
              "2017-03-11  117\n",
              "2017-03-18  132\n",
              "2017-03-25  103\n",
              "2017-04-01  105\n",
              "2017-04-08  133\n",
              "2017-04-15  109\n",
              "2017-04-22  111\n",
              "2017-04-29   67\n",
              "2017-05-06  108\n",
              "2017-05-13  124\n",
              "2017-05-20  103\n",
              "2017-05-27   78\n",
              "2017-06-03  131\n",
              "2017-06-10   80\n",
              "2017-06-17  110\n",
              "2017-06-24   84\n",
              "2017-07-01  123\n",
              "2017-07-08  136\n",
              "2017-07-15   68\n",
              "2017-07-22  107\n",
              "2017-07-29  111\n",
              "2017-08-05  104\n",
              "2017-08-12  109\n",
              "2017-08-19   87\n",
              "2017-08-26  137\n",
              "2017-09-02  120\n",
              "2017-09-09  150\n",
              "2017-09-16  120\n",
              "2017-09-23  163\n",
              "2017-09-30   97\n",
              "2017-10-07   72\n",
              "2017-10-14   97\n",
              "2017-10-21  107\n",
              "2017-10-28  134\n",
              "2017-11-04   77\n",
              "2017-11-11   51\n",
              "2017-11-18   90\n",
              "2017-11-25  132\n",
              "2017-12-02   97\n",
              "2017-12-09  137\n",
              "2017-12-16  139\n",
              "2017-12-23  127\n",
              "2017-12-30  105\n",
              "2018-01-06    8"
            ]
          },
          "metadata": {
            "tags": []
          },
          "execution_count": 60
        }
      ]
    },
    {
      "cell_type": "markdown",
      "metadata": {
        "id": "8-q06VLDhWQi"
      },
      "source": [
        "## ▶︎4.2.5 欠損値処理"
      ]
    },
    {
      "cell_type": "code",
      "metadata": {
        "colab": {
          "base_uri": "https://localhost:8080/"
        },
        "id": "mnrk2UWfAk59",
        "outputId": "2c8dc129-006a-4c20-ecaa-8b2912f1bc17"
      },
      "source": [
        "from google.colab import drive\n",
        "drive.mount('/content/drive')"
      ],
      "execution_count": null,
      "outputs": [
        {
          "output_type": "stream",
          "text": [
            "Drive already mounted at /content/drive; to attempt to forcibly remount, call drive.mount(\"/content/drive\", force_remount=True).\n"
          ],
          "name": "stdout"
        }
      ]
    },
    {
      "cell_type": "code",
      "metadata": {
        "colab": {
          "base_uri": "https://localhost:8080/",
          "height": 359
        },
        "id": "Hw-TF9cnhLP8",
        "outputId": "0c404801-b22d-41e4-da70-b4703b5a2467"
      },
      "source": [
        "# parse_date=True\n",
        "# parse_date=[0]\n",
        "\n",
        "import pandas as pd\n",
        "\n",
        "df_201705 = pd.read_csv(\"/content/drive/My Drive/Colab Files/201705health.csv\",\n",
        "                        encoding=\"utf-8\",\n",
        "                        index_col=\"日付\",\n",
        "                        parse_dates=True)\n",
        "df_201705"
      ],
      "execution_count": null,
      "outputs": [
        {
          "output_type": "execute_result",
          "data": {
            "text/html": [
              "<div>\n",
              "<style scoped>\n",
              "    .dataframe tbody tr th:only-of-type {\n",
              "        vertical-align: middle;\n",
              "    }\n",
              "\n",
              "    .dataframe tbody tr th {\n",
              "        vertical-align: top;\n",
              "    }\n",
              "\n",
              "    .dataframe thead th {\n",
              "        text-align: right;\n",
              "    }\n",
              "</style>\n",
              "<table border=\"1\" class=\"dataframe\">\n",
              "  <thead>\n",
              "    <tr style=\"text-align: right;\">\n",
              "      <th></th>\n",
              "      <th>歩数</th>\n",
              "      <th>摂取カロリー</th>\n",
              "    </tr>\n",
              "    <tr>\n",
              "      <th>日付</th>\n",
              "      <th></th>\n",
              "      <th></th>\n",
              "    </tr>\n",
              "  </thead>\n",
              "  <tbody>\n",
              "    <tr>\n",
              "      <th>2017-05-01</th>\n",
              "      <td>1439.0</td>\n",
              "      <td>4500.0</td>\n",
              "    </tr>\n",
              "    <tr>\n",
              "      <th>2017-05-02</th>\n",
              "      <td>8120.0</td>\n",
              "      <td>2420.0</td>\n",
              "    </tr>\n",
              "    <tr>\n",
              "      <th>2017-05-03</th>\n",
              "      <td>NaN</td>\n",
              "      <td>NaN</td>\n",
              "    </tr>\n",
              "    <tr>\n",
              "      <th>2017-05-04</th>\n",
              "      <td>2329.0</td>\n",
              "      <td>1500.0</td>\n",
              "    </tr>\n",
              "    <tr>\n",
              "      <th>2017-05-05</th>\n",
              "      <td>NaN</td>\n",
              "      <td>NaN</td>\n",
              "    </tr>\n",
              "    <tr>\n",
              "      <th>2017-05-06</th>\n",
              "      <td>3233.0</td>\n",
              "      <td>1800.0</td>\n",
              "    </tr>\n",
              "    <tr>\n",
              "      <th>2017-05-07</th>\n",
              "      <td>9593.0</td>\n",
              "      <td>2200.0</td>\n",
              "    </tr>\n",
              "    <tr>\n",
              "      <th>2017-05-08</th>\n",
              "      <td>9213.0</td>\n",
              "      <td>1800.0</td>\n",
              "    </tr>\n",
              "    <tr>\n",
              "      <th>2017-05-09</th>\n",
              "      <td>5593.0</td>\n",
              "      <td>2500.0</td>\n",
              "    </tr>\n",
              "  </tbody>\n",
              "</table>\n",
              "</div>"
            ],
            "text/plain": [
              "                歩数  摂取カロリー\n",
              "日付                        \n",
              "2017-05-01  1439.0  4500.0\n",
              "2017-05-02  8120.0  2420.0\n",
              "2017-05-03     NaN     NaN\n",
              "2017-05-04  2329.0  1500.0\n",
              "2017-05-05     NaN     NaN\n",
              "2017-05-06  3233.0  1800.0\n",
              "2017-05-07  9593.0  2200.0\n",
              "2017-05-08  9213.0  1800.0\n",
              "2017-05-09  5593.0  2500.0"
            ]
          },
          "metadata": {
            "tags": []
          },
          "execution_count": 62
        }
      ]
    },
    {
      "cell_type": "code",
      "metadata": {
        "colab": {
          "base_uri": "https://localhost:8080/",
          "height": 297
        },
        "id": "1PUhI3m7_93P",
        "outputId": "726097ed-6bf7-4cb1-e37e-b0852676ba84"
      },
      "source": [
        "# dropnaメソッド\n",
        "# 欠損値行を削除\n",
        "\n",
        "df_201705_drop = df_201705.dropna()\n",
        "df_201705_drop"
      ],
      "execution_count": null,
      "outputs": [
        {
          "output_type": "execute_result",
          "data": {
            "text/html": [
              "<div>\n",
              "<style scoped>\n",
              "    .dataframe tbody tr th:only-of-type {\n",
              "        vertical-align: middle;\n",
              "    }\n",
              "\n",
              "    .dataframe tbody tr th {\n",
              "        vertical-align: top;\n",
              "    }\n",
              "\n",
              "    .dataframe thead th {\n",
              "        text-align: right;\n",
              "    }\n",
              "</style>\n",
              "<table border=\"1\" class=\"dataframe\">\n",
              "  <thead>\n",
              "    <tr style=\"text-align: right;\">\n",
              "      <th></th>\n",
              "      <th>歩数</th>\n",
              "      <th>摂取カロリー</th>\n",
              "    </tr>\n",
              "    <tr>\n",
              "      <th>日付</th>\n",
              "      <th></th>\n",
              "      <th></th>\n",
              "    </tr>\n",
              "  </thead>\n",
              "  <tbody>\n",
              "    <tr>\n",
              "      <th>2017-05-01</th>\n",
              "      <td>1439.0</td>\n",
              "      <td>4500.0</td>\n",
              "    </tr>\n",
              "    <tr>\n",
              "      <th>2017-05-02</th>\n",
              "      <td>8120.0</td>\n",
              "      <td>2420.0</td>\n",
              "    </tr>\n",
              "    <tr>\n",
              "      <th>2017-05-04</th>\n",
              "      <td>2329.0</td>\n",
              "      <td>1500.0</td>\n",
              "    </tr>\n",
              "    <tr>\n",
              "      <th>2017-05-06</th>\n",
              "      <td>3233.0</td>\n",
              "      <td>1800.0</td>\n",
              "    </tr>\n",
              "    <tr>\n",
              "      <th>2017-05-07</th>\n",
              "      <td>9593.0</td>\n",
              "      <td>2200.0</td>\n",
              "    </tr>\n",
              "    <tr>\n",
              "      <th>2017-05-08</th>\n",
              "      <td>9213.0</td>\n",
              "      <td>1800.0</td>\n",
              "    </tr>\n",
              "    <tr>\n",
              "      <th>2017-05-09</th>\n",
              "      <td>5593.0</td>\n",
              "      <td>2500.0</td>\n",
              "    </tr>\n",
              "  </tbody>\n",
              "</table>\n",
              "</div>"
            ],
            "text/plain": [
              "                歩数  摂取カロリー\n",
              "日付                        \n",
              "2017-05-01  1439.0  4500.0\n",
              "2017-05-02  8120.0  2420.0\n",
              "2017-05-04  2329.0  1500.0\n",
              "2017-05-06  3233.0  1800.0\n",
              "2017-05-07  9593.0  2200.0\n",
              "2017-05-08  9213.0  1800.0\n",
              "2017-05-09  5593.0  2500.0"
            ]
          },
          "metadata": {
            "tags": []
          },
          "execution_count": 4
        }
      ]
    },
    {
      "cell_type": "code",
      "metadata": {
        "colab": {
          "base_uri": "https://localhost:8080/",
          "height": 359
        },
        "id": "M1fxjW30BGFf",
        "outputId": "76b6e8f3-9f11-4486-a1b0-19b58341b5c7"
      },
      "source": [
        "# fillnaメソッド 0\n",
        "\n",
        "df_201705_fillna = df_201705.fillna(0)\n",
        "df_201705_fillna"
      ],
      "execution_count": null,
      "outputs": [
        {
          "output_type": "execute_result",
          "data": {
            "text/html": [
              "<div>\n",
              "<style scoped>\n",
              "    .dataframe tbody tr th:only-of-type {\n",
              "        vertical-align: middle;\n",
              "    }\n",
              "\n",
              "    .dataframe tbody tr th {\n",
              "        vertical-align: top;\n",
              "    }\n",
              "\n",
              "    .dataframe thead th {\n",
              "        text-align: right;\n",
              "    }\n",
              "</style>\n",
              "<table border=\"1\" class=\"dataframe\">\n",
              "  <thead>\n",
              "    <tr style=\"text-align: right;\">\n",
              "      <th></th>\n",
              "      <th>歩数</th>\n",
              "      <th>摂取カロリー</th>\n",
              "    </tr>\n",
              "    <tr>\n",
              "      <th>日付</th>\n",
              "      <th></th>\n",
              "      <th></th>\n",
              "    </tr>\n",
              "  </thead>\n",
              "  <tbody>\n",
              "    <tr>\n",
              "      <th>2017-05-01</th>\n",
              "      <td>1439.0</td>\n",
              "      <td>4500.0</td>\n",
              "    </tr>\n",
              "    <tr>\n",
              "      <th>2017-05-02</th>\n",
              "      <td>8120.0</td>\n",
              "      <td>2420.0</td>\n",
              "    </tr>\n",
              "    <tr>\n",
              "      <th>2017-05-03</th>\n",
              "      <td>0.0</td>\n",
              "      <td>0.0</td>\n",
              "    </tr>\n",
              "    <tr>\n",
              "      <th>2017-05-04</th>\n",
              "      <td>2329.0</td>\n",
              "      <td>1500.0</td>\n",
              "    </tr>\n",
              "    <tr>\n",
              "      <th>2017-05-05</th>\n",
              "      <td>0.0</td>\n",
              "      <td>0.0</td>\n",
              "    </tr>\n",
              "    <tr>\n",
              "      <th>2017-05-06</th>\n",
              "      <td>3233.0</td>\n",
              "      <td>1800.0</td>\n",
              "    </tr>\n",
              "    <tr>\n",
              "      <th>2017-05-07</th>\n",
              "      <td>9593.0</td>\n",
              "      <td>2200.0</td>\n",
              "    </tr>\n",
              "    <tr>\n",
              "      <th>2017-05-08</th>\n",
              "      <td>9213.0</td>\n",
              "      <td>1800.0</td>\n",
              "    </tr>\n",
              "    <tr>\n",
              "      <th>2017-05-09</th>\n",
              "      <td>5593.0</td>\n",
              "      <td>2500.0</td>\n",
              "    </tr>\n",
              "  </tbody>\n",
              "</table>\n",
              "</div>"
            ],
            "text/plain": [
              "                歩数  摂取カロリー\n",
              "日付                        \n",
              "2017-05-01  1439.0  4500.0\n",
              "2017-05-02  8120.0  2420.0\n",
              "2017-05-03     0.0     0.0\n",
              "2017-05-04  2329.0  1500.0\n",
              "2017-05-05     0.0     0.0\n",
              "2017-05-06  3233.0  1800.0\n",
              "2017-05-07  9593.0  2200.0\n",
              "2017-05-08  9213.0  1800.0\n",
              "2017-05-09  5593.0  2500.0"
            ]
          },
          "metadata": {
            "tags": []
          },
          "execution_count": 5
        }
      ]
    },
    {
      "cell_type": "code",
      "metadata": {
        "colab": {
          "base_uri": "https://localhost:8080/",
          "height": 359
        },
        "id": "hBjSAPnZBqIi",
        "outputId": "fc4e362c-669b-4230-9d15-bf2102489454"
      },
      "source": [
        "# fillnaメソッド\n",
        "# method='ffill'\n",
        "# １つ手前の値で補完\n",
        "\n",
        "df_201705_fill = df_201705.fillna(method='ffill')\n",
        "df_201705_fill"
      ],
      "execution_count": null,
      "outputs": [
        {
          "output_type": "execute_result",
          "data": {
            "text/html": [
              "<div>\n",
              "<style scoped>\n",
              "    .dataframe tbody tr th:only-of-type {\n",
              "        vertical-align: middle;\n",
              "    }\n",
              "\n",
              "    .dataframe tbody tr th {\n",
              "        vertical-align: top;\n",
              "    }\n",
              "\n",
              "    .dataframe thead th {\n",
              "        text-align: right;\n",
              "    }\n",
              "</style>\n",
              "<table border=\"1\" class=\"dataframe\">\n",
              "  <thead>\n",
              "    <tr style=\"text-align: right;\">\n",
              "      <th></th>\n",
              "      <th>歩数</th>\n",
              "      <th>摂取カロリー</th>\n",
              "    </tr>\n",
              "    <tr>\n",
              "      <th>日付</th>\n",
              "      <th></th>\n",
              "      <th></th>\n",
              "    </tr>\n",
              "  </thead>\n",
              "  <tbody>\n",
              "    <tr>\n",
              "      <th>2017-05-01</th>\n",
              "      <td>1439.0</td>\n",
              "      <td>4500.0</td>\n",
              "    </tr>\n",
              "    <tr>\n",
              "      <th>2017-05-02</th>\n",
              "      <td>8120.0</td>\n",
              "      <td>2420.0</td>\n",
              "    </tr>\n",
              "    <tr>\n",
              "      <th>2017-05-03</th>\n",
              "      <td>8120.0</td>\n",
              "      <td>2420.0</td>\n",
              "    </tr>\n",
              "    <tr>\n",
              "      <th>2017-05-04</th>\n",
              "      <td>2329.0</td>\n",
              "      <td>1500.0</td>\n",
              "    </tr>\n",
              "    <tr>\n",
              "      <th>2017-05-05</th>\n",
              "      <td>2329.0</td>\n",
              "      <td>1500.0</td>\n",
              "    </tr>\n",
              "    <tr>\n",
              "      <th>2017-05-06</th>\n",
              "      <td>3233.0</td>\n",
              "      <td>1800.0</td>\n",
              "    </tr>\n",
              "    <tr>\n",
              "      <th>2017-05-07</th>\n",
              "      <td>9593.0</td>\n",
              "      <td>2200.0</td>\n",
              "    </tr>\n",
              "    <tr>\n",
              "      <th>2017-05-08</th>\n",
              "      <td>9213.0</td>\n",
              "      <td>1800.0</td>\n",
              "    </tr>\n",
              "    <tr>\n",
              "      <th>2017-05-09</th>\n",
              "      <td>5593.0</td>\n",
              "      <td>2500.0</td>\n",
              "    </tr>\n",
              "  </tbody>\n",
              "</table>\n",
              "</div>"
            ],
            "text/plain": [
              "                歩数  摂取カロリー\n",
              "日付                        \n",
              "2017-05-01  1439.0  4500.0\n",
              "2017-05-02  8120.0  2420.0\n",
              "2017-05-03  8120.0  2420.0\n",
              "2017-05-04  2329.0  1500.0\n",
              "2017-05-05  2329.0  1500.0\n",
              "2017-05-06  3233.0  1800.0\n",
              "2017-05-07  9593.0  2200.0\n",
              "2017-05-08  9213.0  1800.0\n",
              "2017-05-09  5593.0  2500.0"
            ]
          },
          "metadata": {
            "tags": []
          },
          "execution_count": 7
        }
      ]
    },
    {
      "cell_type": "code",
      "metadata": {
        "colab": {
          "base_uri": "https://localhost:8080/",
          "height": 359
        },
        "id": "3w-lqchUCX9Q",
        "outputId": "b32f88b9-d382-4b36-e68c-402306797f8c"
      },
      "source": [
        "# fillnaメソッド\n",
        "# 平均\n",
        "# df_201705.mean()\n",
        "\n",
        "df_201705_fillmean = df_201705.fillna(df_201705.mean())\n",
        "df_201705_fillmean"
      ],
      "execution_count": null,
      "outputs": [
        {
          "output_type": "execute_result",
          "data": {
            "text/html": [
              "<div>\n",
              "<style scoped>\n",
              "    .dataframe tbody tr th:only-of-type {\n",
              "        vertical-align: middle;\n",
              "    }\n",
              "\n",
              "    .dataframe tbody tr th {\n",
              "        vertical-align: top;\n",
              "    }\n",
              "\n",
              "    .dataframe thead th {\n",
              "        text-align: right;\n",
              "    }\n",
              "</style>\n",
              "<table border=\"1\" class=\"dataframe\">\n",
              "  <thead>\n",
              "    <tr style=\"text-align: right;\">\n",
              "      <th></th>\n",
              "      <th>歩数</th>\n",
              "      <th>摂取カロリー</th>\n",
              "    </tr>\n",
              "    <tr>\n",
              "      <th>日付</th>\n",
              "      <th></th>\n",
              "      <th></th>\n",
              "    </tr>\n",
              "  </thead>\n",
              "  <tbody>\n",
              "    <tr>\n",
              "      <th>2017-05-01</th>\n",
              "      <td>1439.000000</td>\n",
              "      <td>4500.000000</td>\n",
              "    </tr>\n",
              "    <tr>\n",
              "      <th>2017-05-02</th>\n",
              "      <td>8120.000000</td>\n",
              "      <td>2420.000000</td>\n",
              "    </tr>\n",
              "    <tr>\n",
              "      <th>2017-05-03</th>\n",
              "      <td>5645.714286</td>\n",
              "      <td>2388.571429</td>\n",
              "    </tr>\n",
              "    <tr>\n",
              "      <th>2017-05-04</th>\n",
              "      <td>2329.000000</td>\n",
              "      <td>1500.000000</td>\n",
              "    </tr>\n",
              "    <tr>\n",
              "      <th>2017-05-05</th>\n",
              "      <td>5645.714286</td>\n",
              "      <td>2388.571429</td>\n",
              "    </tr>\n",
              "    <tr>\n",
              "      <th>2017-05-06</th>\n",
              "      <td>3233.000000</td>\n",
              "      <td>1800.000000</td>\n",
              "    </tr>\n",
              "    <tr>\n",
              "      <th>2017-05-07</th>\n",
              "      <td>9593.000000</td>\n",
              "      <td>2200.000000</td>\n",
              "    </tr>\n",
              "    <tr>\n",
              "      <th>2017-05-08</th>\n",
              "      <td>9213.000000</td>\n",
              "      <td>1800.000000</td>\n",
              "    </tr>\n",
              "    <tr>\n",
              "      <th>2017-05-09</th>\n",
              "      <td>5593.000000</td>\n",
              "      <td>2500.000000</td>\n",
              "    </tr>\n",
              "  </tbody>\n",
              "</table>\n",
              "</div>"
            ],
            "text/plain": [
              "                     歩数       摂取カロリー\n",
              "日付                                  \n",
              "2017-05-01  1439.000000  4500.000000\n",
              "2017-05-02  8120.000000  2420.000000\n",
              "2017-05-03  5645.714286  2388.571429\n",
              "2017-05-04  2329.000000  1500.000000\n",
              "2017-05-05  5645.714286  2388.571429\n",
              "2017-05-06  3233.000000  1800.000000\n",
              "2017-05-07  9593.000000  2200.000000\n",
              "2017-05-08  9213.000000  1800.000000\n",
              "2017-05-09  5593.000000  2500.000000"
            ]
          },
          "metadata": {
            "tags": []
          },
          "execution_count": 8
        }
      ]
    },
    {
      "cell_type": "markdown",
      "metadata": {
        "id": "uHcOuj4MD3o_"
      },
      "source": [
        "## ▶︎4.2.6 データ連結"
      ]
    },
    {
      "cell_type": "markdown",
      "metadata": {
        "id": "qcCH4DLYEStJ"
      },
      "source": [
        "### ●保存したデータを読み込み"
      ]
    },
    {
      "cell_type": "code",
      "metadata": {
        "id": "c5Ob8a2hDSXY"
      },
      "source": [
        "from google.colab import drive\n",
        "drive.mount('/content/drive')"
      ],
      "execution_count": null,
      "outputs": []
    },
    {
      "cell_type": "code",
      "metadata": {
        "colab": {
          "base_uri": "https://localhost:8080/",
          "height": 1000
        },
        "id": "w5TZAFM7ENbm",
        "outputId": "fc790051-e7dc-4d30-e3e1-cf111d00a01e"
      },
      "source": [
        "df = pd.read_pickle(\"/content/drive/My Drive/Colab Files/df_201704health.pickle\")\n",
        "df"
      ],
      "execution_count": null,
      "outputs": [
        {
          "output_type": "execute_result",
          "data": {
            "text/html": [
              "<div>\n",
              "<style scoped>\n",
              "    .dataframe tbody tr th:only-of-type {\n",
              "        vertical-align: middle;\n",
              "    }\n",
              "\n",
              "    .dataframe tbody tr th {\n",
              "        vertical-align: top;\n",
              "    }\n",
              "\n",
              "    .dataframe thead th {\n",
              "        text-align: right;\n",
              "    }\n",
              "</style>\n",
              "<table border=\"1\" class=\"dataframe\">\n",
              "  <thead>\n",
              "    <tr style=\"text-align: right;\">\n",
              "      <th></th>\n",
              "      <th>歩数</th>\n",
              "      <th>摂取カロリー</th>\n",
              "      <th>歩数/カロリー</th>\n",
              "      <th>運動指数</th>\n",
              "    </tr>\n",
              "    <tr>\n",
              "      <th>date</th>\n",
              "      <th></th>\n",
              "      <th></th>\n",
              "      <th></th>\n",
              "      <th></th>\n",
              "    </tr>\n",
              "  </thead>\n",
              "  <tbody>\n",
              "    <tr>\n",
              "      <th>2017-04-01</th>\n",
              "      <td>5439</td>\n",
              "      <td>2500.0</td>\n",
              "      <td>2.175600</td>\n",
              "      <td>Low</td>\n",
              "    </tr>\n",
              "    <tr>\n",
              "      <th>2017-04-02</th>\n",
              "      <td>2510</td>\n",
              "      <td>2300.0</td>\n",
              "      <td>1.091304</td>\n",
              "      <td>Low</td>\n",
              "    </tr>\n",
              "    <tr>\n",
              "      <th>2017-04-03</th>\n",
              "      <td>10238</td>\n",
              "      <td>1950.0</td>\n",
              "      <td>5.250256</td>\n",
              "      <td>Mid</td>\n",
              "    </tr>\n",
              "    <tr>\n",
              "      <th>2017-04-04</th>\n",
              "      <td>8209</td>\n",
              "      <td>1850.0</td>\n",
              "      <td>4.437297</td>\n",
              "      <td>Mid</td>\n",
              "    </tr>\n",
              "    <tr>\n",
              "      <th>2017-04-05</th>\n",
              "      <td>9434</td>\n",
              "      <td>1930.0</td>\n",
              "      <td>4.888083</td>\n",
              "      <td>Mid</td>\n",
              "    </tr>\n",
              "    <tr>\n",
              "      <th>2017-04-06</th>\n",
              "      <td>7593</td>\n",
              "      <td>1800.0</td>\n",
              "      <td>4.218333</td>\n",
              "      <td>Mid</td>\n",
              "    </tr>\n",
              "    <tr>\n",
              "      <th>2017-04-07</th>\n",
              "      <td>9320</td>\n",
              "      <td>1940.0</td>\n",
              "      <td>4.804124</td>\n",
              "      <td>Mid</td>\n",
              "    </tr>\n",
              "    <tr>\n",
              "      <th>2017-04-08</th>\n",
              "      <td>4873</td>\n",
              "      <td>2300.0</td>\n",
              "      <td>2.118696</td>\n",
              "      <td>Low</td>\n",
              "    </tr>\n",
              "    <tr>\n",
              "      <th>2017-04-09</th>\n",
              "      <td>12045</td>\n",
              "      <td>1950.0</td>\n",
              "      <td>6.176923</td>\n",
              "      <td>High</td>\n",
              "    </tr>\n",
              "    <tr>\n",
              "      <th>2017-04-10</th>\n",
              "      <td>7493</td>\n",
              "      <td>1850.0</td>\n",
              "      <td>4.050270</td>\n",
              "      <td>Mid</td>\n",
              "    </tr>\n",
              "    <tr>\n",
              "      <th>2017-04-11</th>\n",
              "      <td>7289</td>\n",
              "      <td>1930.0</td>\n",
              "      <td>3.776684</td>\n",
              "      <td>Mid</td>\n",
              "    </tr>\n",
              "    <tr>\n",
              "      <th>2017-04-12</th>\n",
              "      <td>6481</td>\n",
              "      <td>2300.0</td>\n",
              "      <td>2.817826</td>\n",
              "      <td>Low</td>\n",
              "    </tr>\n",
              "    <tr>\n",
              "      <th>2017-04-13</th>\n",
              "      <td>10287</td>\n",
              "      <td>1800.0</td>\n",
              "      <td>5.715000</td>\n",
              "      <td>Mid</td>\n",
              "    </tr>\n",
              "    <tr>\n",
              "      <th>2017-04-14</th>\n",
              "      <td>8043</td>\n",
              "      <td>1940.0</td>\n",
              "      <td>4.145876</td>\n",
              "      <td>Mid</td>\n",
              "    </tr>\n",
              "    <tr>\n",
              "      <th>2017-04-15</th>\n",
              "      <td>7435</td>\n",
              "      <td>2300.0</td>\n",
              "      <td>3.232609</td>\n",
              "      <td>Mid</td>\n",
              "    </tr>\n",
              "    <tr>\n",
              "      <th>2017-04-16</th>\n",
              "      <td>7529</td>\n",
              "      <td>2300.0</td>\n",
              "      <td>3.273478</td>\n",
              "      <td>Mid</td>\n",
              "    </tr>\n",
              "    <tr>\n",
              "      <th>2017-04-17</th>\n",
              "      <td>8031</td>\n",
              "      <td>1940.0</td>\n",
              "      <td>4.139691</td>\n",
              "      <td>Mid</td>\n",
              "    </tr>\n",
              "    <tr>\n",
              "      <th>2017-04-18</th>\n",
              "      <td>8475</td>\n",
              "      <td>2300.0</td>\n",
              "      <td>3.684783</td>\n",
              "      <td>Mid</td>\n",
              "    </tr>\n",
              "    <tr>\n",
              "      <th>2017-04-19</th>\n",
              "      <td>8132</td>\n",
              "      <td>1950.0</td>\n",
              "      <td>4.170256</td>\n",
              "      <td>Mid</td>\n",
              "    </tr>\n",
              "    <tr>\n",
              "      <th>2017-04-20</th>\n",
              "      <td>15328</td>\n",
              "      <td>1800.0</td>\n",
              "      <td>8.515556</td>\n",
              "      <td>High</td>\n",
              "    </tr>\n",
              "    <tr>\n",
              "      <th>2017-04-21</th>\n",
              "      <td>12849</td>\n",
              "      <td>1940.0</td>\n",
              "      <td>6.623196</td>\n",
              "      <td>High</td>\n",
              "    </tr>\n",
              "    <tr>\n",
              "      <th>2017-04-22</th>\n",
              "      <td>4029</td>\n",
              "      <td>2300.0</td>\n",
              "      <td>1.751739</td>\n",
              "      <td>Low</td>\n",
              "    </tr>\n",
              "    <tr>\n",
              "      <th>2017-04-23</th>\n",
              "      <td>3890</td>\n",
              "      <td>1950.0</td>\n",
              "      <td>1.994872</td>\n",
              "      <td>Low</td>\n",
              "    </tr>\n",
              "    <tr>\n",
              "      <th>2017-04-24</th>\n",
              "      <td>8093</td>\n",
              "      <td>1850.0</td>\n",
              "      <td>4.374595</td>\n",
              "      <td>Mid</td>\n",
              "    </tr>\n",
              "    <tr>\n",
              "      <th>2017-04-25</th>\n",
              "      <td>7823</td>\n",
              "      <td>1950.0</td>\n",
              "      <td>4.011795</td>\n",
              "      <td>Mid</td>\n",
              "    </tr>\n",
              "    <tr>\n",
              "      <th>2017-04-26</th>\n",
              "      <td>7492</td>\n",
              "      <td>1850.0</td>\n",
              "      <td>4.049730</td>\n",
              "      <td>Mid</td>\n",
              "    </tr>\n",
              "    <tr>\n",
              "      <th>2017-04-27</th>\n",
              "      <td>7203</td>\n",
              "      <td>1930.0</td>\n",
              "      <td>3.732124</td>\n",
              "      <td>Mid</td>\n",
              "    </tr>\n",
              "    <tr>\n",
              "      <th>2017-04-28</th>\n",
              "      <td>7302</td>\n",
              "      <td>1850.0</td>\n",
              "      <td>3.947027</td>\n",
              "      <td>Mid</td>\n",
              "    </tr>\n",
              "    <tr>\n",
              "      <th>2017-04-29</th>\n",
              "      <td>6033</td>\n",
              "      <td>2300.0</td>\n",
              "      <td>2.623043</td>\n",
              "      <td>Low</td>\n",
              "    </tr>\n",
              "    <tr>\n",
              "      <th>2017-04-30</th>\n",
              "      <td>4093</td>\n",
              "      <td>1950.0</td>\n",
              "      <td>2.098974</td>\n",
              "      <td>Low</td>\n",
              "    </tr>\n",
              "  </tbody>\n",
              "</table>\n",
              "</div>"
            ],
            "text/plain": [
              "               歩数  摂取カロリー   歩数/カロリー  運動指数\n",
              "date                                     \n",
              "2017-04-01   5439  2500.0  2.175600   Low\n",
              "2017-04-02   2510  2300.0  1.091304   Low\n",
              "2017-04-03  10238  1950.0  5.250256   Mid\n",
              "2017-04-04   8209  1850.0  4.437297   Mid\n",
              "2017-04-05   9434  1930.0  4.888083   Mid\n",
              "2017-04-06   7593  1800.0  4.218333   Mid\n",
              "2017-04-07   9320  1940.0  4.804124   Mid\n",
              "2017-04-08   4873  2300.0  2.118696   Low\n",
              "2017-04-09  12045  1950.0  6.176923  High\n",
              "2017-04-10   7493  1850.0  4.050270   Mid\n",
              "2017-04-11   7289  1930.0  3.776684   Mid\n",
              "2017-04-12   6481  2300.0  2.817826   Low\n",
              "2017-04-13  10287  1800.0  5.715000   Mid\n",
              "2017-04-14   8043  1940.0  4.145876   Mid\n",
              "2017-04-15   7435  2300.0  3.232609   Mid\n",
              "2017-04-16   7529  2300.0  3.273478   Mid\n",
              "2017-04-17   8031  1940.0  4.139691   Mid\n",
              "2017-04-18   8475  2300.0  3.684783   Mid\n",
              "2017-04-19   8132  1950.0  4.170256   Mid\n",
              "2017-04-20  15328  1800.0  8.515556  High\n",
              "2017-04-21  12849  1940.0  6.623196  High\n",
              "2017-04-22   4029  2300.0  1.751739   Low\n",
              "2017-04-23   3890  1950.0  1.994872   Low\n",
              "2017-04-24   8093  1850.0  4.374595   Mid\n",
              "2017-04-25   7823  1950.0  4.011795   Mid\n",
              "2017-04-26   7492  1850.0  4.049730   Mid\n",
              "2017-04-27   7203  1930.0  3.732124   Mid\n",
              "2017-04-28   7302  1850.0  3.947027   Mid\n",
              "2017-04-29   6033  2300.0  2.623043   Low\n",
              "2017-04-30   4093  1950.0  2.098974   Low"
            ]
          },
          "metadata": {
            "tags": []
          },
          "execution_count": 63
        }
      ]
    },
    {
      "cell_type": "code",
      "metadata": {
        "colab": {
          "base_uri": "https://localhost:8080/",
          "height": 1000
        },
        "id": "T_dGX499Euqr",
        "outputId": "5faf9d74-0983-433f-db18-d74f9b6b0033"
      },
      "source": [
        "df_moved = pd.read_pickle(\"/content/drive/My Drive/Colab Files/df_201704moved.pickle\")\n",
        "df_moved"
      ],
      "execution_count": null,
      "outputs": [
        {
          "output_type": "execute_result",
          "data": {
            "text/html": [
              "<div>\n",
              "<style scoped>\n",
              "    .dataframe tbody tr th:only-of-type {\n",
              "        vertical-align: middle;\n",
              "    }\n",
              "\n",
              "    .dataframe tbody tr th {\n",
              "        vertical-align: top;\n",
              "    }\n",
              "\n",
              "    .dataframe thead th {\n",
              "        text-align: right;\n",
              "    }\n",
              "</style>\n",
              "<table border=\"1\" class=\"dataframe\">\n",
              "  <thead>\n",
              "    <tr style=\"text-align: right;\">\n",
              "      <th></th>\n",
              "      <th>運動_High</th>\n",
              "      <th>運動_Low</th>\n",
              "      <th>運動_Mid</th>\n",
              "    </tr>\n",
              "    <tr>\n",
              "      <th>date</th>\n",
              "      <th></th>\n",
              "      <th></th>\n",
              "      <th></th>\n",
              "    </tr>\n",
              "  </thead>\n",
              "  <tbody>\n",
              "    <tr>\n",
              "      <th>2017-04-01</th>\n",
              "      <td>0</td>\n",
              "      <td>1</td>\n",
              "      <td>0</td>\n",
              "    </tr>\n",
              "    <tr>\n",
              "      <th>2017-04-02</th>\n",
              "      <td>0</td>\n",
              "      <td>1</td>\n",
              "      <td>0</td>\n",
              "    </tr>\n",
              "    <tr>\n",
              "      <th>2017-04-03</th>\n",
              "      <td>0</td>\n",
              "      <td>0</td>\n",
              "      <td>1</td>\n",
              "    </tr>\n",
              "    <tr>\n",
              "      <th>2017-04-04</th>\n",
              "      <td>0</td>\n",
              "      <td>0</td>\n",
              "      <td>1</td>\n",
              "    </tr>\n",
              "    <tr>\n",
              "      <th>2017-04-05</th>\n",
              "      <td>0</td>\n",
              "      <td>0</td>\n",
              "      <td>1</td>\n",
              "    </tr>\n",
              "    <tr>\n",
              "      <th>2017-04-06</th>\n",
              "      <td>0</td>\n",
              "      <td>0</td>\n",
              "      <td>1</td>\n",
              "    </tr>\n",
              "    <tr>\n",
              "      <th>2017-04-07</th>\n",
              "      <td>0</td>\n",
              "      <td>0</td>\n",
              "      <td>1</td>\n",
              "    </tr>\n",
              "    <tr>\n",
              "      <th>2017-04-08</th>\n",
              "      <td>0</td>\n",
              "      <td>1</td>\n",
              "      <td>0</td>\n",
              "    </tr>\n",
              "    <tr>\n",
              "      <th>2017-04-09</th>\n",
              "      <td>1</td>\n",
              "      <td>0</td>\n",
              "      <td>0</td>\n",
              "    </tr>\n",
              "    <tr>\n",
              "      <th>2017-04-10</th>\n",
              "      <td>0</td>\n",
              "      <td>0</td>\n",
              "      <td>1</td>\n",
              "    </tr>\n",
              "    <tr>\n",
              "      <th>2017-04-11</th>\n",
              "      <td>0</td>\n",
              "      <td>0</td>\n",
              "      <td>1</td>\n",
              "    </tr>\n",
              "    <tr>\n",
              "      <th>2017-04-12</th>\n",
              "      <td>0</td>\n",
              "      <td>1</td>\n",
              "      <td>0</td>\n",
              "    </tr>\n",
              "    <tr>\n",
              "      <th>2017-04-13</th>\n",
              "      <td>0</td>\n",
              "      <td>0</td>\n",
              "      <td>1</td>\n",
              "    </tr>\n",
              "    <tr>\n",
              "      <th>2017-04-14</th>\n",
              "      <td>0</td>\n",
              "      <td>0</td>\n",
              "      <td>1</td>\n",
              "    </tr>\n",
              "    <tr>\n",
              "      <th>2017-04-15</th>\n",
              "      <td>0</td>\n",
              "      <td>0</td>\n",
              "      <td>1</td>\n",
              "    </tr>\n",
              "    <tr>\n",
              "      <th>2017-04-16</th>\n",
              "      <td>0</td>\n",
              "      <td>0</td>\n",
              "      <td>1</td>\n",
              "    </tr>\n",
              "    <tr>\n",
              "      <th>2017-04-17</th>\n",
              "      <td>0</td>\n",
              "      <td>0</td>\n",
              "      <td>1</td>\n",
              "    </tr>\n",
              "    <tr>\n",
              "      <th>2017-04-18</th>\n",
              "      <td>0</td>\n",
              "      <td>0</td>\n",
              "      <td>1</td>\n",
              "    </tr>\n",
              "    <tr>\n",
              "      <th>2017-04-19</th>\n",
              "      <td>0</td>\n",
              "      <td>0</td>\n",
              "      <td>1</td>\n",
              "    </tr>\n",
              "    <tr>\n",
              "      <th>2017-04-20</th>\n",
              "      <td>1</td>\n",
              "      <td>0</td>\n",
              "      <td>0</td>\n",
              "    </tr>\n",
              "    <tr>\n",
              "      <th>2017-04-21</th>\n",
              "      <td>1</td>\n",
              "      <td>0</td>\n",
              "      <td>0</td>\n",
              "    </tr>\n",
              "    <tr>\n",
              "      <th>2017-04-22</th>\n",
              "      <td>0</td>\n",
              "      <td>1</td>\n",
              "      <td>0</td>\n",
              "    </tr>\n",
              "    <tr>\n",
              "      <th>2017-04-23</th>\n",
              "      <td>0</td>\n",
              "      <td>1</td>\n",
              "      <td>0</td>\n",
              "    </tr>\n",
              "    <tr>\n",
              "      <th>2017-04-24</th>\n",
              "      <td>0</td>\n",
              "      <td>0</td>\n",
              "      <td>1</td>\n",
              "    </tr>\n",
              "    <tr>\n",
              "      <th>2017-04-25</th>\n",
              "      <td>0</td>\n",
              "      <td>0</td>\n",
              "      <td>1</td>\n",
              "    </tr>\n",
              "    <tr>\n",
              "      <th>2017-04-26</th>\n",
              "      <td>0</td>\n",
              "      <td>0</td>\n",
              "      <td>1</td>\n",
              "    </tr>\n",
              "    <tr>\n",
              "      <th>2017-04-27</th>\n",
              "      <td>0</td>\n",
              "      <td>0</td>\n",
              "      <td>1</td>\n",
              "    </tr>\n",
              "    <tr>\n",
              "      <th>2017-04-28</th>\n",
              "      <td>0</td>\n",
              "      <td>0</td>\n",
              "      <td>1</td>\n",
              "    </tr>\n",
              "    <tr>\n",
              "      <th>2017-04-29</th>\n",
              "      <td>0</td>\n",
              "      <td>1</td>\n",
              "      <td>0</td>\n",
              "    </tr>\n",
              "    <tr>\n",
              "      <th>2017-04-30</th>\n",
              "      <td>0</td>\n",
              "      <td>1</td>\n",
              "      <td>0</td>\n",
              "    </tr>\n",
              "  </tbody>\n",
              "</table>\n",
              "</div>"
            ],
            "text/plain": [
              "            運動_High  運動_Low  運動_Mid\n",
              "date                               \n",
              "2017-04-01        0       1       0\n",
              "2017-04-02        0       1       0\n",
              "2017-04-03        0       0       1\n",
              "2017-04-04        0       0       1\n",
              "2017-04-05        0       0       1\n",
              "2017-04-06        0       0       1\n",
              "2017-04-07        0       0       1\n",
              "2017-04-08        0       1       0\n",
              "2017-04-09        1       0       0\n",
              "2017-04-10        0       0       1\n",
              "2017-04-11        0       0       1\n",
              "2017-04-12        0       1       0\n",
              "2017-04-13        0       0       1\n",
              "2017-04-14        0       0       1\n",
              "2017-04-15        0       0       1\n",
              "2017-04-16        0       0       1\n",
              "2017-04-17        0       0       1\n",
              "2017-04-18        0       0       1\n",
              "2017-04-19        0       0       1\n",
              "2017-04-20        1       0       0\n",
              "2017-04-21        1       0       0\n",
              "2017-04-22        0       1       0\n",
              "2017-04-23        0       1       0\n",
              "2017-04-24        0       0       1\n",
              "2017-04-25        0       0       1\n",
              "2017-04-26        0       0       1\n",
              "2017-04-27        0       0       1\n",
              "2017-04-28        0       0       1\n",
              "2017-04-29        0       1       0\n",
              "2017-04-30        0       1       0"
            ]
          },
          "metadata": {
            "tags": []
          },
          "execution_count": 64
        }
      ]
    },
    {
      "cell_type": "markdown",
      "metadata": {
        "id": "9qgDnCmDFQED"
      },
      "source": [
        "### ●列方向のデータ連結"
      ]
    },
    {
      "cell_type": "code",
      "metadata": {
        "colab": {
          "base_uri": "https://localhost:8080/",
          "height": 1000
        },
        "id": "it7IbUdHFMJd",
        "outputId": "f2159d79-05bd-4652-fa9c-5ed373aa275b"
      },
      "source": [
        "# DataFrameを列方向に連結\n",
        "# concat関数\n",
        "# 引数　DataFrameのリスト、axis=1\n",
        "\n",
        "df_merged = pd.concat([df, df_moved], axis=1)\n",
        "df_merged"
      ],
      "execution_count": null,
      "outputs": [
        {
          "output_type": "execute_result",
          "data": {
            "text/html": [
              "<div>\n",
              "<style scoped>\n",
              "    .dataframe tbody tr th:only-of-type {\n",
              "        vertical-align: middle;\n",
              "    }\n",
              "\n",
              "    .dataframe tbody tr th {\n",
              "        vertical-align: top;\n",
              "    }\n",
              "\n",
              "    .dataframe thead th {\n",
              "        text-align: right;\n",
              "    }\n",
              "</style>\n",
              "<table border=\"1\" class=\"dataframe\">\n",
              "  <thead>\n",
              "    <tr style=\"text-align: right;\">\n",
              "      <th></th>\n",
              "      <th>歩数</th>\n",
              "      <th>摂取カロリー</th>\n",
              "      <th>歩数/カロリー</th>\n",
              "      <th>運動指数</th>\n",
              "      <th>運動_High</th>\n",
              "      <th>運動_Low</th>\n",
              "      <th>運動_Mid</th>\n",
              "    </tr>\n",
              "    <tr>\n",
              "      <th>date</th>\n",
              "      <th></th>\n",
              "      <th></th>\n",
              "      <th></th>\n",
              "      <th></th>\n",
              "      <th></th>\n",
              "      <th></th>\n",
              "      <th></th>\n",
              "    </tr>\n",
              "  </thead>\n",
              "  <tbody>\n",
              "    <tr>\n",
              "      <th>2017-04-01</th>\n",
              "      <td>5439</td>\n",
              "      <td>2500.0</td>\n",
              "      <td>2.175600</td>\n",
              "      <td>Low</td>\n",
              "      <td>0</td>\n",
              "      <td>1</td>\n",
              "      <td>0</td>\n",
              "    </tr>\n",
              "    <tr>\n",
              "      <th>2017-04-02</th>\n",
              "      <td>2510</td>\n",
              "      <td>2300.0</td>\n",
              "      <td>1.091304</td>\n",
              "      <td>Low</td>\n",
              "      <td>0</td>\n",
              "      <td>1</td>\n",
              "      <td>0</td>\n",
              "    </tr>\n",
              "    <tr>\n",
              "      <th>2017-04-03</th>\n",
              "      <td>10238</td>\n",
              "      <td>1950.0</td>\n",
              "      <td>5.250256</td>\n",
              "      <td>Mid</td>\n",
              "      <td>0</td>\n",
              "      <td>0</td>\n",
              "      <td>1</td>\n",
              "    </tr>\n",
              "    <tr>\n",
              "      <th>2017-04-04</th>\n",
              "      <td>8209</td>\n",
              "      <td>1850.0</td>\n",
              "      <td>4.437297</td>\n",
              "      <td>Mid</td>\n",
              "      <td>0</td>\n",
              "      <td>0</td>\n",
              "      <td>1</td>\n",
              "    </tr>\n",
              "    <tr>\n",
              "      <th>2017-04-05</th>\n",
              "      <td>9434</td>\n",
              "      <td>1930.0</td>\n",
              "      <td>4.888083</td>\n",
              "      <td>Mid</td>\n",
              "      <td>0</td>\n",
              "      <td>0</td>\n",
              "      <td>1</td>\n",
              "    </tr>\n",
              "    <tr>\n",
              "      <th>2017-04-06</th>\n",
              "      <td>7593</td>\n",
              "      <td>1800.0</td>\n",
              "      <td>4.218333</td>\n",
              "      <td>Mid</td>\n",
              "      <td>0</td>\n",
              "      <td>0</td>\n",
              "      <td>1</td>\n",
              "    </tr>\n",
              "    <tr>\n",
              "      <th>2017-04-07</th>\n",
              "      <td>9320</td>\n",
              "      <td>1940.0</td>\n",
              "      <td>4.804124</td>\n",
              "      <td>Mid</td>\n",
              "      <td>0</td>\n",
              "      <td>0</td>\n",
              "      <td>1</td>\n",
              "    </tr>\n",
              "    <tr>\n",
              "      <th>2017-04-08</th>\n",
              "      <td>4873</td>\n",
              "      <td>2300.0</td>\n",
              "      <td>2.118696</td>\n",
              "      <td>Low</td>\n",
              "      <td>0</td>\n",
              "      <td>1</td>\n",
              "      <td>0</td>\n",
              "    </tr>\n",
              "    <tr>\n",
              "      <th>2017-04-09</th>\n",
              "      <td>12045</td>\n",
              "      <td>1950.0</td>\n",
              "      <td>6.176923</td>\n",
              "      <td>High</td>\n",
              "      <td>1</td>\n",
              "      <td>0</td>\n",
              "      <td>0</td>\n",
              "    </tr>\n",
              "    <tr>\n",
              "      <th>2017-04-10</th>\n",
              "      <td>7493</td>\n",
              "      <td>1850.0</td>\n",
              "      <td>4.050270</td>\n",
              "      <td>Mid</td>\n",
              "      <td>0</td>\n",
              "      <td>0</td>\n",
              "      <td>1</td>\n",
              "    </tr>\n",
              "    <tr>\n",
              "      <th>2017-04-11</th>\n",
              "      <td>7289</td>\n",
              "      <td>1930.0</td>\n",
              "      <td>3.776684</td>\n",
              "      <td>Mid</td>\n",
              "      <td>0</td>\n",
              "      <td>0</td>\n",
              "      <td>1</td>\n",
              "    </tr>\n",
              "    <tr>\n",
              "      <th>2017-04-12</th>\n",
              "      <td>6481</td>\n",
              "      <td>2300.0</td>\n",
              "      <td>2.817826</td>\n",
              "      <td>Low</td>\n",
              "      <td>0</td>\n",
              "      <td>1</td>\n",
              "      <td>0</td>\n",
              "    </tr>\n",
              "    <tr>\n",
              "      <th>2017-04-13</th>\n",
              "      <td>10287</td>\n",
              "      <td>1800.0</td>\n",
              "      <td>5.715000</td>\n",
              "      <td>Mid</td>\n",
              "      <td>0</td>\n",
              "      <td>0</td>\n",
              "      <td>1</td>\n",
              "    </tr>\n",
              "    <tr>\n",
              "      <th>2017-04-14</th>\n",
              "      <td>8043</td>\n",
              "      <td>1940.0</td>\n",
              "      <td>4.145876</td>\n",
              "      <td>Mid</td>\n",
              "      <td>0</td>\n",
              "      <td>0</td>\n",
              "      <td>1</td>\n",
              "    </tr>\n",
              "    <tr>\n",
              "      <th>2017-04-15</th>\n",
              "      <td>7435</td>\n",
              "      <td>2300.0</td>\n",
              "      <td>3.232609</td>\n",
              "      <td>Mid</td>\n",
              "      <td>0</td>\n",
              "      <td>0</td>\n",
              "      <td>1</td>\n",
              "    </tr>\n",
              "    <tr>\n",
              "      <th>2017-04-16</th>\n",
              "      <td>7529</td>\n",
              "      <td>2300.0</td>\n",
              "      <td>3.273478</td>\n",
              "      <td>Mid</td>\n",
              "      <td>0</td>\n",
              "      <td>0</td>\n",
              "      <td>1</td>\n",
              "    </tr>\n",
              "    <tr>\n",
              "      <th>2017-04-17</th>\n",
              "      <td>8031</td>\n",
              "      <td>1940.0</td>\n",
              "      <td>4.139691</td>\n",
              "      <td>Mid</td>\n",
              "      <td>0</td>\n",
              "      <td>0</td>\n",
              "      <td>1</td>\n",
              "    </tr>\n",
              "    <tr>\n",
              "      <th>2017-04-18</th>\n",
              "      <td>8475</td>\n",
              "      <td>2300.0</td>\n",
              "      <td>3.684783</td>\n",
              "      <td>Mid</td>\n",
              "      <td>0</td>\n",
              "      <td>0</td>\n",
              "      <td>1</td>\n",
              "    </tr>\n",
              "    <tr>\n",
              "      <th>2017-04-19</th>\n",
              "      <td>8132</td>\n",
              "      <td>1950.0</td>\n",
              "      <td>4.170256</td>\n",
              "      <td>Mid</td>\n",
              "      <td>0</td>\n",
              "      <td>0</td>\n",
              "      <td>1</td>\n",
              "    </tr>\n",
              "    <tr>\n",
              "      <th>2017-04-20</th>\n",
              "      <td>15328</td>\n",
              "      <td>1800.0</td>\n",
              "      <td>8.515556</td>\n",
              "      <td>High</td>\n",
              "      <td>1</td>\n",
              "      <td>0</td>\n",
              "      <td>0</td>\n",
              "    </tr>\n",
              "    <tr>\n",
              "      <th>2017-04-21</th>\n",
              "      <td>12849</td>\n",
              "      <td>1940.0</td>\n",
              "      <td>6.623196</td>\n",
              "      <td>High</td>\n",
              "      <td>1</td>\n",
              "      <td>0</td>\n",
              "      <td>0</td>\n",
              "    </tr>\n",
              "    <tr>\n",
              "      <th>2017-04-22</th>\n",
              "      <td>4029</td>\n",
              "      <td>2300.0</td>\n",
              "      <td>1.751739</td>\n",
              "      <td>Low</td>\n",
              "      <td>0</td>\n",
              "      <td>1</td>\n",
              "      <td>0</td>\n",
              "    </tr>\n",
              "    <tr>\n",
              "      <th>2017-04-23</th>\n",
              "      <td>3890</td>\n",
              "      <td>1950.0</td>\n",
              "      <td>1.994872</td>\n",
              "      <td>Low</td>\n",
              "      <td>0</td>\n",
              "      <td>1</td>\n",
              "      <td>0</td>\n",
              "    </tr>\n",
              "    <tr>\n",
              "      <th>2017-04-24</th>\n",
              "      <td>8093</td>\n",
              "      <td>1850.0</td>\n",
              "      <td>4.374595</td>\n",
              "      <td>Mid</td>\n",
              "      <td>0</td>\n",
              "      <td>0</td>\n",
              "      <td>1</td>\n",
              "    </tr>\n",
              "    <tr>\n",
              "      <th>2017-04-25</th>\n",
              "      <td>7823</td>\n",
              "      <td>1950.0</td>\n",
              "      <td>4.011795</td>\n",
              "      <td>Mid</td>\n",
              "      <td>0</td>\n",
              "      <td>0</td>\n",
              "      <td>1</td>\n",
              "    </tr>\n",
              "    <tr>\n",
              "      <th>2017-04-26</th>\n",
              "      <td>7492</td>\n",
              "      <td>1850.0</td>\n",
              "      <td>4.049730</td>\n",
              "      <td>Mid</td>\n",
              "      <td>0</td>\n",
              "      <td>0</td>\n",
              "      <td>1</td>\n",
              "    </tr>\n",
              "    <tr>\n",
              "      <th>2017-04-27</th>\n",
              "      <td>7203</td>\n",
              "      <td>1930.0</td>\n",
              "      <td>3.732124</td>\n",
              "      <td>Mid</td>\n",
              "      <td>0</td>\n",
              "      <td>0</td>\n",
              "      <td>1</td>\n",
              "    </tr>\n",
              "    <tr>\n",
              "      <th>2017-04-28</th>\n",
              "      <td>7302</td>\n",
              "      <td>1850.0</td>\n",
              "      <td>3.947027</td>\n",
              "      <td>Mid</td>\n",
              "      <td>0</td>\n",
              "      <td>0</td>\n",
              "      <td>1</td>\n",
              "    </tr>\n",
              "    <tr>\n",
              "      <th>2017-04-29</th>\n",
              "      <td>6033</td>\n",
              "      <td>2300.0</td>\n",
              "      <td>2.623043</td>\n",
              "      <td>Low</td>\n",
              "      <td>0</td>\n",
              "      <td>1</td>\n",
              "      <td>0</td>\n",
              "    </tr>\n",
              "    <tr>\n",
              "      <th>2017-04-30</th>\n",
              "      <td>4093</td>\n",
              "      <td>1950.0</td>\n",
              "      <td>2.098974</td>\n",
              "      <td>Low</td>\n",
              "      <td>0</td>\n",
              "      <td>1</td>\n",
              "      <td>0</td>\n",
              "    </tr>\n",
              "  </tbody>\n",
              "</table>\n",
              "</div>"
            ],
            "text/plain": [
              "               歩数  摂取カロリー   歩数/カロリー  運動指数  運動_High  運動_Low  運動_Mid\n",
              "date                                                              \n",
              "2017-04-01   5439  2500.0  2.175600   Low        0       1       0\n",
              "2017-04-02   2510  2300.0  1.091304   Low        0       1       0\n",
              "2017-04-03  10238  1950.0  5.250256   Mid        0       0       1\n",
              "2017-04-04   8209  1850.0  4.437297   Mid        0       0       1\n",
              "2017-04-05   9434  1930.0  4.888083   Mid        0       0       1\n",
              "2017-04-06   7593  1800.0  4.218333   Mid        0       0       1\n",
              "2017-04-07   9320  1940.0  4.804124   Mid        0       0       1\n",
              "2017-04-08   4873  2300.0  2.118696   Low        0       1       0\n",
              "2017-04-09  12045  1950.0  6.176923  High        1       0       0\n",
              "2017-04-10   7493  1850.0  4.050270   Mid        0       0       1\n",
              "2017-04-11   7289  1930.0  3.776684   Mid        0       0       1\n",
              "2017-04-12   6481  2300.0  2.817826   Low        0       1       0\n",
              "2017-04-13  10287  1800.0  5.715000   Mid        0       0       1\n",
              "2017-04-14   8043  1940.0  4.145876   Mid        0       0       1\n",
              "2017-04-15   7435  2300.0  3.232609   Mid        0       0       1\n",
              "2017-04-16   7529  2300.0  3.273478   Mid        0       0       1\n",
              "2017-04-17   8031  1940.0  4.139691   Mid        0       0       1\n",
              "2017-04-18   8475  2300.0  3.684783   Mid        0       0       1\n",
              "2017-04-19   8132  1950.0  4.170256   Mid        0       0       1\n",
              "2017-04-20  15328  1800.0  8.515556  High        1       0       0\n",
              "2017-04-21  12849  1940.0  6.623196  High        1       0       0\n",
              "2017-04-22   4029  2300.0  1.751739   Low        0       1       0\n",
              "2017-04-23   3890  1950.0  1.994872   Low        0       1       0\n",
              "2017-04-24   8093  1850.0  4.374595   Mid        0       0       1\n",
              "2017-04-25   7823  1950.0  4.011795   Mid        0       0       1\n",
              "2017-04-26   7492  1850.0  4.049730   Mid        0       0       1\n",
              "2017-04-27   7203  1930.0  3.732124   Mid        0       0       1\n",
              "2017-04-28   7302  1850.0  3.947027   Mid        0       0       1\n",
              "2017-04-29   6033  2300.0  2.623043   Low        0       1       0\n",
              "2017-04-30   4093  1950.0  2.098974   Low        0       1       0"
            ]
          },
          "metadata": {
            "tags": []
          },
          "execution_count": 12
        }
      ]
    },
    {
      "cell_type": "markdown",
      "metadata": {
        "id": "20gWoSYGhGS8"
      },
      "source": [
        "### ●行方向のデータの連結"
      ]
    },
    {
      "cell_type": "code",
      "metadata": {
        "colab": {
          "base_uri": "https://localhost:8080/",
          "height": 1000
        },
        "id": "vtJNt9aAFywa",
        "outputId": "c7c968a6-dece-43de-ed04-142c814564d5"
      },
      "source": [
        "# DataFrameを行方向に連結\n",
        "# concat関数\n",
        "# 引数　DataFrameのリスト、axis=０\n",
        "\n",
        "df_merged_0405 = pd.concat([df_merged, df_201705_fill], axis=0, sort=True)\n",
        "df_merged_0405"
      ],
      "execution_count": null,
      "outputs": [
        {
          "output_type": "execute_result",
          "data": {
            "text/html": [
              "<div>\n",
              "<style scoped>\n",
              "    .dataframe tbody tr th:only-of-type {\n",
              "        vertical-align: middle;\n",
              "    }\n",
              "\n",
              "    .dataframe tbody tr th {\n",
              "        vertical-align: top;\n",
              "    }\n",
              "\n",
              "    .dataframe thead th {\n",
              "        text-align: right;\n",
              "    }\n",
              "</style>\n",
              "<table border=\"1\" class=\"dataframe\">\n",
              "  <thead>\n",
              "    <tr style=\"text-align: right;\">\n",
              "      <th></th>\n",
              "      <th>摂取カロリー</th>\n",
              "      <th>歩数</th>\n",
              "      <th>歩数/カロリー</th>\n",
              "      <th>運動_High</th>\n",
              "      <th>運動_Low</th>\n",
              "      <th>運動_Mid</th>\n",
              "      <th>運動指数</th>\n",
              "    </tr>\n",
              "  </thead>\n",
              "  <tbody>\n",
              "    <tr>\n",
              "      <th>2017-04-01</th>\n",
              "      <td>2500.0</td>\n",
              "      <td>5439.0</td>\n",
              "      <td>2.175600</td>\n",
              "      <td>0.0</td>\n",
              "      <td>1.0</td>\n",
              "      <td>0.0</td>\n",
              "      <td>Low</td>\n",
              "    </tr>\n",
              "    <tr>\n",
              "      <th>2017-04-02</th>\n",
              "      <td>2300.0</td>\n",
              "      <td>2510.0</td>\n",
              "      <td>1.091304</td>\n",
              "      <td>0.0</td>\n",
              "      <td>1.0</td>\n",
              "      <td>0.0</td>\n",
              "      <td>Low</td>\n",
              "    </tr>\n",
              "    <tr>\n",
              "      <th>2017-04-03</th>\n",
              "      <td>1950.0</td>\n",
              "      <td>10238.0</td>\n",
              "      <td>5.250256</td>\n",
              "      <td>0.0</td>\n",
              "      <td>0.0</td>\n",
              "      <td>1.0</td>\n",
              "      <td>Mid</td>\n",
              "    </tr>\n",
              "    <tr>\n",
              "      <th>2017-04-04</th>\n",
              "      <td>1850.0</td>\n",
              "      <td>8209.0</td>\n",
              "      <td>4.437297</td>\n",
              "      <td>0.0</td>\n",
              "      <td>0.0</td>\n",
              "      <td>1.0</td>\n",
              "      <td>Mid</td>\n",
              "    </tr>\n",
              "    <tr>\n",
              "      <th>2017-04-05</th>\n",
              "      <td>1930.0</td>\n",
              "      <td>9434.0</td>\n",
              "      <td>4.888083</td>\n",
              "      <td>0.0</td>\n",
              "      <td>0.0</td>\n",
              "      <td>1.0</td>\n",
              "      <td>Mid</td>\n",
              "    </tr>\n",
              "    <tr>\n",
              "      <th>2017-04-06</th>\n",
              "      <td>1800.0</td>\n",
              "      <td>7593.0</td>\n",
              "      <td>4.218333</td>\n",
              "      <td>0.0</td>\n",
              "      <td>0.0</td>\n",
              "      <td>1.0</td>\n",
              "      <td>Mid</td>\n",
              "    </tr>\n",
              "    <tr>\n",
              "      <th>2017-04-07</th>\n",
              "      <td>1940.0</td>\n",
              "      <td>9320.0</td>\n",
              "      <td>4.804124</td>\n",
              "      <td>0.0</td>\n",
              "      <td>0.0</td>\n",
              "      <td>1.0</td>\n",
              "      <td>Mid</td>\n",
              "    </tr>\n",
              "    <tr>\n",
              "      <th>2017-04-08</th>\n",
              "      <td>2300.0</td>\n",
              "      <td>4873.0</td>\n",
              "      <td>2.118696</td>\n",
              "      <td>0.0</td>\n",
              "      <td>1.0</td>\n",
              "      <td>0.0</td>\n",
              "      <td>Low</td>\n",
              "    </tr>\n",
              "    <tr>\n",
              "      <th>2017-04-09</th>\n",
              "      <td>1950.0</td>\n",
              "      <td>12045.0</td>\n",
              "      <td>6.176923</td>\n",
              "      <td>1.0</td>\n",
              "      <td>0.0</td>\n",
              "      <td>0.0</td>\n",
              "      <td>High</td>\n",
              "    </tr>\n",
              "    <tr>\n",
              "      <th>2017-04-10</th>\n",
              "      <td>1850.0</td>\n",
              "      <td>7493.0</td>\n",
              "      <td>4.050270</td>\n",
              "      <td>0.0</td>\n",
              "      <td>0.0</td>\n",
              "      <td>1.0</td>\n",
              "      <td>Mid</td>\n",
              "    </tr>\n",
              "    <tr>\n",
              "      <th>2017-04-11</th>\n",
              "      <td>1930.0</td>\n",
              "      <td>7289.0</td>\n",
              "      <td>3.776684</td>\n",
              "      <td>0.0</td>\n",
              "      <td>0.0</td>\n",
              "      <td>1.0</td>\n",
              "      <td>Mid</td>\n",
              "    </tr>\n",
              "    <tr>\n",
              "      <th>2017-04-12</th>\n",
              "      <td>2300.0</td>\n",
              "      <td>6481.0</td>\n",
              "      <td>2.817826</td>\n",
              "      <td>0.0</td>\n",
              "      <td>1.0</td>\n",
              "      <td>0.0</td>\n",
              "      <td>Low</td>\n",
              "    </tr>\n",
              "    <tr>\n",
              "      <th>2017-04-13</th>\n",
              "      <td>1800.0</td>\n",
              "      <td>10287.0</td>\n",
              "      <td>5.715000</td>\n",
              "      <td>0.0</td>\n",
              "      <td>0.0</td>\n",
              "      <td>1.0</td>\n",
              "      <td>Mid</td>\n",
              "    </tr>\n",
              "    <tr>\n",
              "      <th>2017-04-14</th>\n",
              "      <td>1940.0</td>\n",
              "      <td>8043.0</td>\n",
              "      <td>4.145876</td>\n",
              "      <td>0.0</td>\n",
              "      <td>0.0</td>\n",
              "      <td>1.0</td>\n",
              "      <td>Mid</td>\n",
              "    </tr>\n",
              "    <tr>\n",
              "      <th>2017-04-15</th>\n",
              "      <td>2300.0</td>\n",
              "      <td>7435.0</td>\n",
              "      <td>3.232609</td>\n",
              "      <td>0.0</td>\n",
              "      <td>0.0</td>\n",
              "      <td>1.0</td>\n",
              "      <td>Mid</td>\n",
              "    </tr>\n",
              "    <tr>\n",
              "      <th>2017-04-16</th>\n",
              "      <td>2300.0</td>\n",
              "      <td>7529.0</td>\n",
              "      <td>3.273478</td>\n",
              "      <td>0.0</td>\n",
              "      <td>0.0</td>\n",
              "      <td>1.0</td>\n",
              "      <td>Mid</td>\n",
              "    </tr>\n",
              "    <tr>\n",
              "      <th>2017-04-17</th>\n",
              "      <td>1940.0</td>\n",
              "      <td>8031.0</td>\n",
              "      <td>4.139691</td>\n",
              "      <td>0.0</td>\n",
              "      <td>0.0</td>\n",
              "      <td>1.0</td>\n",
              "      <td>Mid</td>\n",
              "    </tr>\n",
              "    <tr>\n",
              "      <th>2017-04-18</th>\n",
              "      <td>2300.0</td>\n",
              "      <td>8475.0</td>\n",
              "      <td>3.684783</td>\n",
              "      <td>0.0</td>\n",
              "      <td>0.0</td>\n",
              "      <td>1.0</td>\n",
              "      <td>Mid</td>\n",
              "    </tr>\n",
              "    <tr>\n",
              "      <th>2017-04-19</th>\n",
              "      <td>1950.0</td>\n",
              "      <td>8132.0</td>\n",
              "      <td>4.170256</td>\n",
              "      <td>0.0</td>\n",
              "      <td>0.0</td>\n",
              "      <td>1.0</td>\n",
              "      <td>Mid</td>\n",
              "    </tr>\n",
              "    <tr>\n",
              "      <th>2017-04-20</th>\n",
              "      <td>1800.0</td>\n",
              "      <td>15328.0</td>\n",
              "      <td>8.515556</td>\n",
              "      <td>1.0</td>\n",
              "      <td>0.0</td>\n",
              "      <td>0.0</td>\n",
              "      <td>High</td>\n",
              "    </tr>\n",
              "    <tr>\n",
              "      <th>2017-04-21</th>\n",
              "      <td>1940.0</td>\n",
              "      <td>12849.0</td>\n",
              "      <td>6.623196</td>\n",
              "      <td>1.0</td>\n",
              "      <td>0.0</td>\n",
              "      <td>0.0</td>\n",
              "      <td>High</td>\n",
              "    </tr>\n",
              "    <tr>\n",
              "      <th>2017-04-22</th>\n",
              "      <td>2300.0</td>\n",
              "      <td>4029.0</td>\n",
              "      <td>1.751739</td>\n",
              "      <td>0.0</td>\n",
              "      <td>1.0</td>\n",
              "      <td>0.0</td>\n",
              "      <td>Low</td>\n",
              "    </tr>\n",
              "    <tr>\n",
              "      <th>2017-04-23</th>\n",
              "      <td>1950.0</td>\n",
              "      <td>3890.0</td>\n",
              "      <td>1.994872</td>\n",
              "      <td>0.0</td>\n",
              "      <td>1.0</td>\n",
              "      <td>0.0</td>\n",
              "      <td>Low</td>\n",
              "    </tr>\n",
              "    <tr>\n",
              "      <th>2017-04-24</th>\n",
              "      <td>1850.0</td>\n",
              "      <td>8093.0</td>\n",
              "      <td>4.374595</td>\n",
              "      <td>0.0</td>\n",
              "      <td>0.0</td>\n",
              "      <td>1.0</td>\n",
              "      <td>Mid</td>\n",
              "    </tr>\n",
              "    <tr>\n",
              "      <th>2017-04-25</th>\n",
              "      <td>1950.0</td>\n",
              "      <td>7823.0</td>\n",
              "      <td>4.011795</td>\n",
              "      <td>0.0</td>\n",
              "      <td>0.0</td>\n",
              "      <td>1.0</td>\n",
              "      <td>Mid</td>\n",
              "    </tr>\n",
              "    <tr>\n",
              "      <th>2017-04-26</th>\n",
              "      <td>1850.0</td>\n",
              "      <td>7492.0</td>\n",
              "      <td>4.049730</td>\n",
              "      <td>0.0</td>\n",
              "      <td>0.0</td>\n",
              "      <td>1.0</td>\n",
              "      <td>Mid</td>\n",
              "    </tr>\n",
              "    <tr>\n",
              "      <th>2017-04-27</th>\n",
              "      <td>1930.0</td>\n",
              "      <td>7203.0</td>\n",
              "      <td>3.732124</td>\n",
              "      <td>0.0</td>\n",
              "      <td>0.0</td>\n",
              "      <td>1.0</td>\n",
              "      <td>Mid</td>\n",
              "    </tr>\n",
              "    <tr>\n",
              "      <th>2017-04-28</th>\n",
              "      <td>1850.0</td>\n",
              "      <td>7302.0</td>\n",
              "      <td>3.947027</td>\n",
              "      <td>0.0</td>\n",
              "      <td>0.0</td>\n",
              "      <td>1.0</td>\n",
              "      <td>Mid</td>\n",
              "    </tr>\n",
              "    <tr>\n",
              "      <th>2017-04-29</th>\n",
              "      <td>2300.0</td>\n",
              "      <td>6033.0</td>\n",
              "      <td>2.623043</td>\n",
              "      <td>0.0</td>\n",
              "      <td>1.0</td>\n",
              "      <td>0.0</td>\n",
              "      <td>Low</td>\n",
              "    </tr>\n",
              "    <tr>\n",
              "      <th>2017-04-30</th>\n",
              "      <td>1950.0</td>\n",
              "      <td>4093.0</td>\n",
              "      <td>2.098974</td>\n",
              "      <td>0.0</td>\n",
              "      <td>1.0</td>\n",
              "      <td>0.0</td>\n",
              "      <td>Low</td>\n",
              "    </tr>\n",
              "    <tr>\n",
              "      <th>2017-05-01</th>\n",
              "      <td>4500.0</td>\n",
              "      <td>1439.0</td>\n",
              "      <td>NaN</td>\n",
              "      <td>NaN</td>\n",
              "      <td>NaN</td>\n",
              "      <td>NaN</td>\n",
              "      <td>NaN</td>\n",
              "    </tr>\n",
              "    <tr>\n",
              "      <th>2017-05-02</th>\n",
              "      <td>2420.0</td>\n",
              "      <td>8120.0</td>\n",
              "      <td>NaN</td>\n",
              "      <td>NaN</td>\n",
              "      <td>NaN</td>\n",
              "      <td>NaN</td>\n",
              "      <td>NaN</td>\n",
              "    </tr>\n",
              "    <tr>\n",
              "      <th>2017-05-03</th>\n",
              "      <td>2420.0</td>\n",
              "      <td>8120.0</td>\n",
              "      <td>NaN</td>\n",
              "      <td>NaN</td>\n",
              "      <td>NaN</td>\n",
              "      <td>NaN</td>\n",
              "      <td>NaN</td>\n",
              "    </tr>\n",
              "    <tr>\n",
              "      <th>2017-05-04</th>\n",
              "      <td>1500.0</td>\n",
              "      <td>2329.0</td>\n",
              "      <td>NaN</td>\n",
              "      <td>NaN</td>\n",
              "      <td>NaN</td>\n",
              "      <td>NaN</td>\n",
              "      <td>NaN</td>\n",
              "    </tr>\n",
              "    <tr>\n",
              "      <th>2017-05-05</th>\n",
              "      <td>1500.0</td>\n",
              "      <td>2329.0</td>\n",
              "      <td>NaN</td>\n",
              "      <td>NaN</td>\n",
              "      <td>NaN</td>\n",
              "      <td>NaN</td>\n",
              "      <td>NaN</td>\n",
              "    </tr>\n",
              "    <tr>\n",
              "      <th>2017-05-06</th>\n",
              "      <td>1800.0</td>\n",
              "      <td>3233.0</td>\n",
              "      <td>NaN</td>\n",
              "      <td>NaN</td>\n",
              "      <td>NaN</td>\n",
              "      <td>NaN</td>\n",
              "      <td>NaN</td>\n",
              "    </tr>\n",
              "    <tr>\n",
              "      <th>2017-05-07</th>\n",
              "      <td>2200.0</td>\n",
              "      <td>9593.0</td>\n",
              "      <td>NaN</td>\n",
              "      <td>NaN</td>\n",
              "      <td>NaN</td>\n",
              "      <td>NaN</td>\n",
              "      <td>NaN</td>\n",
              "    </tr>\n",
              "    <tr>\n",
              "      <th>2017-05-08</th>\n",
              "      <td>1800.0</td>\n",
              "      <td>9213.0</td>\n",
              "      <td>NaN</td>\n",
              "      <td>NaN</td>\n",
              "      <td>NaN</td>\n",
              "      <td>NaN</td>\n",
              "      <td>NaN</td>\n",
              "    </tr>\n",
              "    <tr>\n",
              "      <th>2017-05-09</th>\n",
              "      <td>2500.0</td>\n",
              "      <td>5593.0</td>\n",
              "      <td>NaN</td>\n",
              "      <td>NaN</td>\n",
              "      <td>NaN</td>\n",
              "      <td>NaN</td>\n",
              "      <td>NaN</td>\n",
              "    </tr>\n",
              "  </tbody>\n",
              "</table>\n",
              "</div>"
            ],
            "text/plain": [
              "            摂取カロリー       歩数   歩数/カロリー  運動_High  運動_Low  運動_Mid  運動指数\n",
              "2017-04-01  2500.0   5439.0  2.175600      0.0     1.0     0.0   Low\n",
              "2017-04-02  2300.0   2510.0  1.091304      0.0     1.0     0.0   Low\n",
              "2017-04-03  1950.0  10238.0  5.250256      0.0     0.0     1.0   Mid\n",
              "2017-04-04  1850.0   8209.0  4.437297      0.0     0.0     1.0   Mid\n",
              "2017-04-05  1930.0   9434.0  4.888083      0.0     0.0     1.0   Mid\n",
              "2017-04-06  1800.0   7593.0  4.218333      0.0     0.0     1.0   Mid\n",
              "2017-04-07  1940.0   9320.0  4.804124      0.0     0.0     1.0   Mid\n",
              "2017-04-08  2300.0   4873.0  2.118696      0.0     1.0     0.0   Low\n",
              "2017-04-09  1950.0  12045.0  6.176923      1.0     0.0     0.0  High\n",
              "2017-04-10  1850.0   7493.0  4.050270      0.0     0.0     1.0   Mid\n",
              "2017-04-11  1930.0   7289.0  3.776684      0.0     0.0     1.0   Mid\n",
              "2017-04-12  2300.0   6481.0  2.817826      0.0     1.0     0.0   Low\n",
              "2017-04-13  1800.0  10287.0  5.715000      0.0     0.0     1.0   Mid\n",
              "2017-04-14  1940.0   8043.0  4.145876      0.0     0.0     1.0   Mid\n",
              "2017-04-15  2300.0   7435.0  3.232609      0.0     0.0     1.0   Mid\n",
              "2017-04-16  2300.0   7529.0  3.273478      0.0     0.0     1.0   Mid\n",
              "2017-04-17  1940.0   8031.0  4.139691      0.0     0.0     1.0   Mid\n",
              "2017-04-18  2300.0   8475.0  3.684783      0.0     0.0     1.0   Mid\n",
              "2017-04-19  1950.0   8132.0  4.170256      0.0     0.0     1.0   Mid\n",
              "2017-04-20  1800.0  15328.0  8.515556      1.0     0.0     0.0  High\n",
              "2017-04-21  1940.0  12849.0  6.623196      1.0     0.0     0.0  High\n",
              "2017-04-22  2300.0   4029.0  1.751739      0.0     1.0     0.0   Low\n",
              "2017-04-23  1950.0   3890.0  1.994872      0.0     1.0     0.0   Low\n",
              "2017-04-24  1850.0   8093.0  4.374595      0.0     0.0     1.0   Mid\n",
              "2017-04-25  1950.0   7823.0  4.011795      0.0     0.0     1.0   Mid\n",
              "2017-04-26  1850.0   7492.0  4.049730      0.0     0.0     1.0   Mid\n",
              "2017-04-27  1930.0   7203.0  3.732124      0.0     0.0     1.0   Mid\n",
              "2017-04-28  1850.0   7302.0  3.947027      0.0     0.0     1.0   Mid\n",
              "2017-04-29  2300.0   6033.0  2.623043      0.0     1.0     0.0   Low\n",
              "2017-04-30  1950.0   4093.0  2.098974      0.0     1.0     0.0   Low\n",
              "2017-05-01  4500.0   1439.0       NaN      NaN     NaN     NaN   NaN\n",
              "2017-05-02  2420.0   8120.0       NaN      NaN     NaN     NaN   NaN\n",
              "2017-05-03  2420.0   8120.0       NaN      NaN     NaN     NaN   NaN\n",
              "2017-05-04  1500.0   2329.0       NaN      NaN     NaN     NaN   NaN\n",
              "2017-05-05  1500.0   2329.0       NaN      NaN     NaN     NaN   NaN\n",
              "2017-05-06  1800.0   3233.0       NaN      NaN     NaN     NaN   NaN\n",
              "2017-05-07  2200.0   9593.0       NaN      NaN     NaN     NaN   NaN\n",
              "2017-05-08  1800.0   9213.0       NaN      NaN     NaN     NaN   NaN\n",
              "2017-05-09  2500.0   5593.0       NaN      NaN     NaN     NaN   NaN"
            ]
          },
          "metadata": {
            "tags": []
          },
          "execution_count": 13
        }
      ]
    },
    {
      "cell_type": "markdown",
      "metadata": {
        "id": "atjplcxkG5iv"
      },
      "source": [
        "## ▶︎4.2.7 統計データの扱い"
      ]
    },
    {
      "cell_type": "markdown",
      "metadata": {
        "id": "rjls-sgGHB_G"
      },
      "source": [
        "### ●保存したデータの読み込み"
      ]
    },
    {
      "cell_type": "code",
      "metadata": {
        "id": "YAsO9GFvGxl7"
      },
      "source": [
        "from google.colab import drive\n",
        "drive.mount('/content/drive')"
      ],
      "execution_count": null,
      "outputs": []
    },
    {
      "cell_type": "code",
      "metadata": {
        "colab": {
          "base_uri": "https://localhost:8080/",
          "height": 235
        },
        "id": "9fRu8UqCHPKm",
        "outputId": "c1292b0a-7e58-4637-8753-696ee38774fc"
      },
      "source": [
        "import pandas as pd\n",
        "\n",
        "df = pd.read_pickle(\"/content/drive/My Drive/Colab Files/df_201704health.pickle\")\n",
        "df.head()"
      ],
      "execution_count": null,
      "outputs": [
        {
          "output_type": "execute_result",
          "data": {
            "text/html": [
              "<div>\n",
              "<style scoped>\n",
              "    .dataframe tbody tr th:only-of-type {\n",
              "        vertical-align: middle;\n",
              "    }\n",
              "\n",
              "    .dataframe tbody tr th {\n",
              "        vertical-align: top;\n",
              "    }\n",
              "\n",
              "    .dataframe thead th {\n",
              "        text-align: right;\n",
              "    }\n",
              "</style>\n",
              "<table border=\"1\" class=\"dataframe\">\n",
              "  <thead>\n",
              "    <tr style=\"text-align: right;\">\n",
              "      <th></th>\n",
              "      <th>歩数</th>\n",
              "      <th>摂取カロリー</th>\n",
              "      <th>歩数/カロリー</th>\n",
              "      <th>運動指数</th>\n",
              "    </tr>\n",
              "    <tr>\n",
              "      <th>date</th>\n",
              "      <th></th>\n",
              "      <th></th>\n",
              "      <th></th>\n",
              "      <th></th>\n",
              "    </tr>\n",
              "  </thead>\n",
              "  <tbody>\n",
              "    <tr>\n",
              "      <th>2017-04-01</th>\n",
              "      <td>5439</td>\n",
              "      <td>2500.0</td>\n",
              "      <td>2.175600</td>\n",
              "      <td>Low</td>\n",
              "    </tr>\n",
              "    <tr>\n",
              "      <th>2017-04-02</th>\n",
              "      <td>2510</td>\n",
              "      <td>2300.0</td>\n",
              "      <td>1.091304</td>\n",
              "      <td>Low</td>\n",
              "    </tr>\n",
              "    <tr>\n",
              "      <th>2017-04-03</th>\n",
              "      <td>10238</td>\n",
              "      <td>1950.0</td>\n",
              "      <td>5.250256</td>\n",
              "      <td>Mid</td>\n",
              "    </tr>\n",
              "    <tr>\n",
              "      <th>2017-04-04</th>\n",
              "      <td>8209</td>\n",
              "      <td>1850.0</td>\n",
              "      <td>4.437297</td>\n",
              "      <td>Mid</td>\n",
              "    </tr>\n",
              "    <tr>\n",
              "      <th>2017-04-05</th>\n",
              "      <td>9434</td>\n",
              "      <td>1930.0</td>\n",
              "      <td>4.888083</td>\n",
              "      <td>Mid</td>\n",
              "    </tr>\n",
              "  </tbody>\n",
              "</table>\n",
              "</div>"
            ],
            "text/plain": [
              "               歩数  摂取カロリー   歩数/カロリー 運動指数\n",
              "date                                    \n",
              "2017-04-01   5439  2500.0  2.175600  Low\n",
              "2017-04-02   2510  2300.0  1.091304  Low\n",
              "2017-04-03  10238  1950.0  5.250256  Mid\n",
              "2017-04-04   8209  1850.0  4.437297  Mid\n",
              "2017-04-05   9434  1930.0  4.888083  Mid"
            ]
          },
          "metadata": {
            "tags": []
          },
          "execution_count": 68
        }
      ]
    },
    {
      "cell_type": "markdown",
      "metadata": {
        "id": "h20FGZyXH4bq"
      },
      "source": [
        "### ●基本統計量"
      ]
    },
    {
      "cell_type": "code",
      "metadata": {
        "colab": {
          "base_uri": "https://localhost:8080/"
        },
        "id": "qqolFkrqH0Hz",
        "outputId": "2b6f29cb-d258-4087-cbdb-09f19c1136e3"
      },
      "source": [
        "# maxメソッド\n",
        "\n",
        "df.loc[:,\"摂取カロリー\"].max()"
      ],
      "execution_count": null,
      "outputs": [
        {
          "output_type": "execute_result",
          "data": {
            "text/plain": [
              "2500.0"
            ]
          },
          "metadata": {
            "tags": []
          },
          "execution_count": 16
        }
      ]
    },
    {
      "cell_type": "code",
      "metadata": {
        "colab": {
          "base_uri": "https://localhost:8080/"
        },
        "id": "54yJMO15IIyZ",
        "outputId": "21c75497-bd9c-441b-c706-1470c90af97f"
      },
      "source": [
        "# minメソッド\n",
        "\n",
        "df.loc[:,\"摂取カロリー\"].min()"
      ],
      "execution_count": null,
      "outputs": [
        {
          "output_type": "execute_result",
          "data": {
            "text/plain": [
              "1800.0"
            ]
          },
          "metadata": {
            "tags": []
          },
          "execution_count": 18
        }
      ]
    },
    {
      "cell_type": "code",
      "metadata": {
        "colab": {
          "base_uri": "https://localhost:8080/"
        },
        "id": "BRAYtB6FIYAw",
        "outputId": "5e285473-eb5e-4e71-90ab-938bf44634ff"
      },
      "source": [
        "# modeメソッド　最頻値\n",
        "\n",
        "df.loc[:,\"摂取カロリー\"].mode()"
      ],
      "execution_count": null,
      "outputs": [
        {
          "output_type": "execute_result",
          "data": {
            "text/plain": [
              "0    2300.0\n",
              "dtype: float32"
            ]
          },
          "metadata": {
            "tags": []
          },
          "execution_count": 19
        }
      ]
    },
    {
      "cell_type": "code",
      "metadata": {
        "colab": {
          "base_uri": "https://localhost:8080/"
        },
        "id": "0QcWOAS3IszS",
        "outputId": "7739e9a7-2e8f-4105-d9af-60ea62bddf45"
      },
      "source": [
        "# meanメソッド　算術平均\n",
        "\n",
        "df.loc[:,\"摂取カロリー\"].mean()"
      ],
      "execution_count": null,
      "outputs": [
        {
          "output_type": "execute_result",
          "data": {
            "text/plain": [
              "2026.6666259765625"
            ]
          },
          "metadata": {
            "tags": []
          },
          "execution_count": 20
        }
      ]
    },
    {
      "cell_type": "code",
      "metadata": {
        "colab": {
          "base_uri": "https://localhost:8080/"
        },
        "id": "8ylddlr6I9KS",
        "outputId": "039f5023-fc80-4210-b7df-5e7e0bb3fca1"
      },
      "source": [
        "# medianメソッド　中央値\n",
        "\n",
        "df.loc[:,\"摂取カロリー\"].median()"
      ],
      "execution_count": null,
      "outputs": [
        {
          "output_type": "execute_result",
          "data": {
            "text/plain": [
              "1945.0"
            ]
          },
          "metadata": {
            "tags": []
          },
          "execution_count": 21
        }
      ]
    },
    {
      "cell_type": "code",
      "metadata": {
        "colab": {
          "base_uri": "https://localhost:8080/"
        },
        "id": "XMyvF3psJReU",
        "outputId": "d5d996e4-56ea-4f28-da03-7dbeaf63660b"
      },
      "source": [
        "# stdメソッド　標準偏差\n",
        "# 標本標準偏差\n",
        "\n",
        "df.loc[:,\"摂取カロリー\"].std()"
      ],
      "execution_count": null,
      "outputs": [
        {
          "output_type": "execute_result",
          "data": {
            "text/plain": [
              "205.5494384765625"
            ]
          },
          "metadata": {
            "tags": []
          },
          "execution_count": 22
        }
      ]
    },
    {
      "cell_type": "code",
      "metadata": {
        "colab": {
          "base_uri": "https://localhost:8080/"
        },
        "id": "JMs_GUzyJtp_",
        "outputId": "3da06011-25b0-4300-e66a-9d7e8b2607d9"
      },
      "source": [
        "# stdメソッド　標準偏差\n",
        "# 母集団の標準偏差\n",
        "# ddof=0 (デフォルトはddof=1)\n",
        "\n",
        "df.loc[:,\"摂取カロリー\"].std(ddof=0)"
      ],
      "execution_count": null,
      "outputs": [
        {
          "output_type": "execute_result",
          "data": {
            "text/plain": [
              "202.09457397460938"
            ]
          },
          "metadata": {
            "tags": []
          },
          "execution_count": 23
        }
      ]
    },
    {
      "cell_type": "code",
      "metadata": {
        "colab": {
          "base_uri": "https://localhost:8080/"
        },
        "id": "aZPLPdjRKPwh",
        "outputId": "a8a441f6-9ddd-4b87-dcbe-615dbd407259"
      },
      "source": [
        "# countメソッド\n",
        "\n",
        "df[df.loc[:,\"摂取カロリー\"]==2300].count()"
      ],
      "execution_count": null,
      "outputs": [
        {
          "output_type": "execute_result",
          "data": {
            "text/plain": [
              "歩数         8\n",
              "摂取カロリー     8\n",
              "歩数/カロリー    8\n",
              "運動指数       8\n",
              "dtype: int64"
            ]
          },
          "metadata": {
            "tags": []
          },
          "execution_count": 24
        }
      ]
    },
    {
      "cell_type": "code",
      "metadata": {
        "colab": {
          "base_uri": "https://localhost:8080/"
        },
        "id": "CC5ZbmvmKsMp",
        "outputId": "becaf9bf-cabd-42dc-ec6e-908294ad01b4"
      },
      "source": [
        "# ↑\n",
        "\n",
        "df.loc[:,\"摂取カロリー\"]==2300"
      ],
      "execution_count": null,
      "outputs": [
        {
          "output_type": "execute_result",
          "data": {
            "text/plain": [
              "date\n",
              "2017-04-01    False\n",
              "2017-04-02     True\n",
              "2017-04-03    False\n",
              "2017-04-04    False\n",
              "2017-04-05    False\n",
              "2017-04-06    False\n",
              "2017-04-07    False\n",
              "2017-04-08     True\n",
              "2017-04-09    False\n",
              "2017-04-10    False\n",
              "2017-04-11    False\n",
              "2017-04-12     True\n",
              "2017-04-13    False\n",
              "2017-04-14    False\n",
              "2017-04-15     True\n",
              "2017-04-16     True\n",
              "2017-04-17    False\n",
              "2017-04-18     True\n",
              "2017-04-19    False\n",
              "2017-04-20    False\n",
              "2017-04-21    False\n",
              "2017-04-22     True\n",
              "2017-04-23    False\n",
              "2017-04-24    False\n",
              "2017-04-25    False\n",
              "2017-04-26    False\n",
              "2017-04-27    False\n",
              "2017-04-28    False\n",
              "2017-04-29     True\n",
              "2017-04-30    False\n",
              "Name: 摂取カロリー, dtype: bool"
            ]
          },
          "metadata": {
            "tags": []
          },
          "execution_count": 25
        }
      ]
    },
    {
      "cell_type": "markdown",
      "metadata": {
        "id": "DrnkhmukLqgt"
      },
      "source": [
        "### ●要約"
      ]
    },
    {
      "cell_type": "code",
      "metadata": {
        "colab": {
          "base_uri": "https://localhost:8080/",
          "height": 297
        },
        "id": "ifch7bW4LdVD",
        "outputId": "de05bd7d-6b95-4a07-f8fd-a6392b533377"
      },
      "source": [
        "# describeメソッド\n",
        "\n",
        "df.describe()"
      ],
      "execution_count": null,
      "outputs": [
        {
          "output_type": "execute_result",
          "data": {
            "text/html": [
              "<div>\n",
              "<style scoped>\n",
              "    .dataframe tbody tr th:only-of-type {\n",
              "        vertical-align: middle;\n",
              "    }\n",
              "\n",
              "    .dataframe tbody tr th {\n",
              "        vertical-align: top;\n",
              "    }\n",
              "\n",
              "    .dataframe thead th {\n",
              "        text-align: right;\n",
              "    }\n",
              "</style>\n",
              "<table border=\"1\" class=\"dataframe\">\n",
              "  <thead>\n",
              "    <tr style=\"text-align: right;\">\n",
              "      <th></th>\n",
              "      <th>歩数</th>\n",
              "      <th>摂取カロリー</th>\n",
              "      <th>歩数/カロリー</th>\n",
              "    </tr>\n",
              "  </thead>\n",
              "  <tbody>\n",
              "    <tr>\n",
              "      <th>count</th>\n",
              "      <td>30.000000</td>\n",
              "      <td>30.000000</td>\n",
              "      <td>30.000000</td>\n",
              "    </tr>\n",
              "    <tr>\n",
              "      <th>mean</th>\n",
              "      <td>7766.366667</td>\n",
              "      <td>2026.666626</td>\n",
              "      <td>3.929658</td>\n",
              "    </tr>\n",
              "    <tr>\n",
              "      <th>std</th>\n",
              "      <td>2689.269308</td>\n",
              "      <td>205.549438</td>\n",
              "      <td>1.563674</td>\n",
              "    </tr>\n",
              "    <tr>\n",
              "      <th>min</th>\n",
              "      <td>2510.000000</td>\n",
              "      <td>1800.000000</td>\n",
              "      <td>1.091304</td>\n",
              "    </tr>\n",
              "    <tr>\n",
              "      <th>25%</th>\n",
              "      <td>6661.500000</td>\n",
              "      <td>1870.000000</td>\n",
              "      <td>2.921522</td>\n",
              "    </tr>\n",
              "    <tr>\n",
              "      <th>50%</th>\n",
              "      <td>7561.000000</td>\n",
              "      <td>1945.000000</td>\n",
              "      <td>4.030762</td>\n",
              "    </tr>\n",
              "    <tr>\n",
              "      <th>75%</th>\n",
              "      <td>8408.500000</td>\n",
              "      <td>2300.000000</td>\n",
              "      <td>4.421622</td>\n",
              "    </tr>\n",
              "    <tr>\n",
              "      <th>max</th>\n",
              "      <td>15328.000000</td>\n",
              "      <td>2500.000000</td>\n",
              "      <td>8.515556</td>\n",
              "    </tr>\n",
              "  </tbody>\n",
              "</table>\n",
              "</div>"
            ],
            "text/plain": [
              "                 歩数       摂取カロリー    歩数/カロリー\n",
              "count     30.000000    30.000000  30.000000\n",
              "mean    7766.366667  2026.666626   3.929658\n",
              "std     2689.269308   205.549438   1.563674\n",
              "min     2510.000000  1800.000000   1.091304\n",
              "25%     6661.500000  1870.000000   2.921522\n",
              "50%     7561.000000  1945.000000   4.030762\n",
              "75%     8408.500000  2300.000000   4.421622\n",
              "max    15328.000000  2500.000000   8.515556"
            ]
          },
          "metadata": {
            "tags": []
          },
          "execution_count": 26
        }
      ]
    },
    {
      "cell_type": "markdown",
      "metadata": {
        "id": "Ny7T9bEwMDg_"
      },
      "source": [
        "### ●相関係数"
      ]
    },
    {
      "cell_type": "code",
      "metadata": {
        "colab": {
          "base_uri": "https://localhost:8080/",
          "height": 142
        },
        "id": "d_iLHvKWL4mN",
        "outputId": "1b50945e-4f82-4d81-aa8e-18d39735afea"
      },
      "source": [
        "# corrメソッド\n",
        "# カラム間のデータの関係\n",
        "\n",
        "df.corr()"
      ],
      "execution_count": null,
      "outputs": [
        {
          "output_type": "execute_result",
          "data": {
            "text/html": [
              "<div>\n",
              "<style scoped>\n",
              "    .dataframe tbody tr th:only-of-type {\n",
              "        vertical-align: middle;\n",
              "    }\n",
              "\n",
              "    .dataframe tbody tr th {\n",
              "        vertical-align: top;\n",
              "    }\n",
              "\n",
              "    .dataframe thead th {\n",
              "        text-align: right;\n",
              "    }\n",
              "</style>\n",
              "<table border=\"1\" class=\"dataframe\">\n",
              "  <thead>\n",
              "    <tr style=\"text-align: right;\">\n",
              "      <th></th>\n",
              "      <th>歩数</th>\n",
              "      <th>摂取カロリー</th>\n",
              "      <th>歩数/カロリー</th>\n",
              "    </tr>\n",
              "  </thead>\n",
              "  <tbody>\n",
              "    <tr>\n",
              "      <th>歩数</th>\n",
              "      <td>1.000000</td>\n",
              "      <td>-0.498703</td>\n",
              "      <td>0.982828</td>\n",
              "    </tr>\n",
              "    <tr>\n",
              "      <th>摂取カロリー</th>\n",
              "      <td>-0.498703</td>\n",
              "      <td>1.000000</td>\n",
              "      <td>-0.636438</td>\n",
              "    </tr>\n",
              "    <tr>\n",
              "      <th>歩数/カロリー</th>\n",
              "      <td>0.982828</td>\n",
              "      <td>-0.636438</td>\n",
              "      <td>1.000000</td>\n",
              "    </tr>\n",
              "  </tbody>\n",
              "</table>\n",
              "</div>"
            ],
            "text/plain": [
              "               歩数    摂取カロリー   歩数/カロリー\n",
              "歩数       1.000000 -0.498703  0.982828\n",
              "摂取カロリー  -0.498703  1.000000 -0.636438\n",
              "歩数/カロリー  0.982828 -0.636438  1.000000"
            ]
          },
          "metadata": {
            "tags": []
          },
          "execution_count": 69
        }
      ]
    },
    {
      "cell_type": "markdown",
      "metadata": {
        "id": "em8vGM6NMfkF"
      },
      "source": [
        "### ●散布図行列"
      ]
    },
    {
      "cell_type": "code",
      "metadata": {
        "id": "7TBosYwhMQLV"
      },
      "source": [
        "# マジックコマンド\n",
        "# グラフ表示\n",
        "\n",
        "%matplotlib inline"
      ],
      "execution_count": null,
      "outputs": []
    },
    {
      "cell_type": "code",
      "metadata": {
        "id": "CZVSev76M0lR"
      },
      "source": [
        "# 散布図行列を出力する関数\n",
        "\n",
        "from pandas.plotting import scatter_matrix"
      ],
      "execution_count": null,
      "outputs": []
    },
    {
      "cell_type": "code",
      "metadata": {
        "colab": {
          "base_uri": "https://localhost:8080/",
          "height": 858
        },
        "id": "UffC81G-NKYs",
        "outputId": "a71f3316-875d-4f6e-df6a-57f63a9dbdb2"
      },
      "source": [
        "_ = scatter_matrix(df)"
      ],
      "execution_count": null,
      "outputs": [
        {
          "output_type": "stream",
          "text": [
            "/usr/local/lib/python3.6/dist-packages/matplotlib/backends/backend_agg.py:214: RuntimeWarning: Glyph 27497 missing from current font.\n",
            "  font.set_text(s, 0.0, flags=flags)\n",
            "/usr/local/lib/python3.6/dist-packages/matplotlib/backends/backend_agg.py:214: RuntimeWarning: Glyph 25968 missing from current font.\n",
            "  font.set_text(s, 0.0, flags=flags)\n",
            "/usr/local/lib/python3.6/dist-packages/matplotlib/backends/backend_agg.py:183: RuntimeWarning: Glyph 27497 missing from current font.\n",
            "  font.set_text(s, 0, flags=flags)\n",
            "/usr/local/lib/python3.6/dist-packages/matplotlib/backends/backend_agg.py:183: RuntimeWarning: Glyph 25968 missing from current font.\n",
            "  font.set_text(s, 0, flags=flags)\n",
            "/usr/local/lib/python3.6/dist-packages/matplotlib/backends/backend_agg.py:214: RuntimeWarning: Glyph 25666 missing from current font.\n",
            "  font.set_text(s, 0.0, flags=flags)\n",
            "/usr/local/lib/python3.6/dist-packages/matplotlib/backends/backend_agg.py:214: RuntimeWarning: Glyph 21462 missing from current font.\n",
            "  font.set_text(s, 0.0, flags=flags)\n",
            "/usr/local/lib/python3.6/dist-packages/matplotlib/backends/backend_agg.py:214: RuntimeWarning: Glyph 12459 missing from current font.\n",
            "  font.set_text(s, 0.0, flags=flags)\n",
            "/usr/local/lib/python3.6/dist-packages/matplotlib/backends/backend_agg.py:214: RuntimeWarning: Glyph 12525 missing from current font.\n",
            "  font.set_text(s, 0.0, flags=flags)\n",
            "/usr/local/lib/python3.6/dist-packages/matplotlib/backends/backend_agg.py:214: RuntimeWarning: Glyph 12522 missing from current font.\n",
            "  font.set_text(s, 0.0, flags=flags)\n",
            "/usr/local/lib/python3.6/dist-packages/matplotlib/backends/backend_agg.py:214: RuntimeWarning: Glyph 12540 missing from current font.\n",
            "  font.set_text(s, 0.0, flags=flags)\n",
            "/usr/local/lib/python3.6/dist-packages/matplotlib/backends/backend_agg.py:183: RuntimeWarning: Glyph 25666 missing from current font.\n",
            "  font.set_text(s, 0, flags=flags)\n",
            "/usr/local/lib/python3.6/dist-packages/matplotlib/backends/backend_agg.py:183: RuntimeWarning: Glyph 21462 missing from current font.\n",
            "  font.set_text(s, 0, flags=flags)\n",
            "/usr/local/lib/python3.6/dist-packages/matplotlib/backends/backend_agg.py:183: RuntimeWarning: Glyph 12459 missing from current font.\n",
            "  font.set_text(s, 0, flags=flags)\n",
            "/usr/local/lib/python3.6/dist-packages/matplotlib/backends/backend_agg.py:183: RuntimeWarning: Glyph 12525 missing from current font.\n",
            "  font.set_text(s, 0, flags=flags)\n",
            "/usr/local/lib/python3.6/dist-packages/matplotlib/backends/backend_agg.py:183: RuntimeWarning: Glyph 12522 missing from current font.\n",
            "  font.set_text(s, 0, flags=flags)\n",
            "/usr/local/lib/python3.6/dist-packages/matplotlib/backends/backend_agg.py:183: RuntimeWarning: Glyph 12540 missing from current font.\n",
            "  font.set_text(s, 0, flags=flags)\n"
          ],
          "name": "stderr"
        },
        {
          "output_type": "display_data",
          "data": {
            "image/png": "[encoded data removed]",
            "text/plain": [
              "<Figure size 432x288 with 9 Axes>"
            ]
          },
          "metadata": {
            "tags": [],
            "needs_background": "light"
          }
        }
      ]
    },
    {
      "cell_type": "markdown",
      "metadata": {
        "id": "XxPo-q--N4TV"
      },
      "source": [
        "### ●データ変換"
      ]
    },
    {
      "cell_type": "code",
      "metadata": {
        "colab": {
          "base_uri": "https://localhost:8080/",
          "height": 1000
        },
        "id": "clw9kuELNWwF",
        "outputId": "fa1f39f5-58d3-4610-c4f0-62c21ad8851a"
      },
      "source": [
        "# DataFramとndarrayのデータ変換\n",
        "\n",
        "df.loc[:,[\"歩数\",\"摂取カロリー\"]]"
      ],
      "execution_count": null,
      "outputs": [
        {
          "output_type": "execute_result",
          "data": {
            "text/html": [
              "<div>\n",
              "<style scoped>\n",
              "    .dataframe tbody tr th:only-of-type {\n",
              "        vertical-align: middle;\n",
              "    }\n",
              "\n",
              "    .dataframe tbody tr th {\n",
              "        vertical-align: top;\n",
              "    }\n",
              "\n",
              "    .dataframe thead th {\n",
              "        text-align: right;\n",
              "    }\n",
              "</style>\n",
              "<table border=\"1\" class=\"dataframe\">\n",
              "  <thead>\n",
              "    <tr style=\"text-align: right;\">\n",
              "      <th></th>\n",
              "      <th>歩数</th>\n",
              "      <th>摂取カロリー</th>\n",
              "    </tr>\n",
              "    <tr>\n",
              "      <th>date</th>\n",
              "      <th></th>\n",
              "      <th></th>\n",
              "    </tr>\n",
              "  </thead>\n",
              "  <tbody>\n",
              "    <tr>\n",
              "      <th>2017-04-01</th>\n",
              "      <td>5439</td>\n",
              "      <td>2500.0</td>\n",
              "    </tr>\n",
              "    <tr>\n",
              "      <th>2017-04-02</th>\n",
              "      <td>2510</td>\n",
              "      <td>2300.0</td>\n",
              "    </tr>\n",
              "    <tr>\n",
              "      <th>2017-04-03</th>\n",
              "      <td>10238</td>\n",
              "      <td>1950.0</td>\n",
              "    </tr>\n",
              "    <tr>\n",
              "      <th>2017-04-04</th>\n",
              "      <td>8209</td>\n",
              "      <td>1850.0</td>\n",
              "    </tr>\n",
              "    <tr>\n",
              "      <th>2017-04-05</th>\n",
              "      <td>9434</td>\n",
              "      <td>1930.0</td>\n",
              "    </tr>\n",
              "    <tr>\n",
              "      <th>2017-04-06</th>\n",
              "      <td>7593</td>\n",
              "      <td>1800.0</td>\n",
              "    </tr>\n",
              "    <tr>\n",
              "      <th>2017-04-07</th>\n",
              "      <td>9320</td>\n",
              "      <td>1940.0</td>\n",
              "    </tr>\n",
              "    <tr>\n",
              "      <th>2017-04-08</th>\n",
              "      <td>4873</td>\n",
              "      <td>2300.0</td>\n",
              "    </tr>\n",
              "    <tr>\n",
              "      <th>2017-04-09</th>\n",
              "      <td>12045</td>\n",
              "      <td>1950.0</td>\n",
              "    </tr>\n",
              "    <tr>\n",
              "      <th>2017-04-10</th>\n",
              "      <td>7493</td>\n",
              "      <td>1850.0</td>\n",
              "    </tr>\n",
              "    <tr>\n",
              "      <th>2017-04-11</th>\n",
              "      <td>7289</td>\n",
              "      <td>1930.0</td>\n",
              "    </tr>\n",
              "    <tr>\n",
              "      <th>2017-04-12</th>\n",
              "      <td>6481</td>\n",
              "      <td>2300.0</td>\n",
              "    </tr>\n",
              "    <tr>\n",
              "      <th>2017-04-13</th>\n",
              "      <td>10287</td>\n",
              "      <td>1800.0</td>\n",
              "    </tr>\n",
              "    <tr>\n",
              "      <th>2017-04-14</th>\n",
              "      <td>8043</td>\n",
              "      <td>1940.0</td>\n",
              "    </tr>\n",
              "    <tr>\n",
              "      <th>2017-04-15</th>\n",
              "      <td>7435</td>\n",
              "      <td>2300.0</td>\n",
              "    </tr>\n",
              "    <tr>\n",
              "      <th>2017-04-16</th>\n",
              "      <td>7529</td>\n",
              "      <td>2300.0</td>\n",
              "    </tr>\n",
              "    <tr>\n",
              "      <th>2017-04-17</th>\n",
              "      <td>8031</td>\n",
              "      <td>1940.0</td>\n",
              "    </tr>\n",
              "    <tr>\n",
              "      <th>2017-04-18</th>\n",
              "      <td>8475</td>\n",
              "      <td>2300.0</td>\n",
              "    </tr>\n",
              "    <tr>\n",
              "      <th>2017-04-19</th>\n",
              "      <td>8132</td>\n",
              "      <td>1950.0</td>\n",
              "    </tr>\n",
              "    <tr>\n",
              "      <th>2017-04-20</th>\n",
              "      <td>15328</td>\n",
              "      <td>1800.0</td>\n",
              "    </tr>\n",
              "    <tr>\n",
              "      <th>2017-04-21</th>\n",
              "      <td>12849</td>\n",
              "      <td>1940.0</td>\n",
              "    </tr>\n",
              "    <tr>\n",
              "      <th>2017-04-22</th>\n",
              "      <td>4029</td>\n",
              "      <td>2300.0</td>\n",
              "    </tr>\n",
              "    <tr>\n",
              "      <th>2017-04-23</th>\n",
              "      <td>3890</td>\n",
              "      <td>1950.0</td>\n",
              "    </tr>\n",
              "    <tr>\n",
              "      <th>2017-04-24</th>\n",
              "      <td>8093</td>\n",
              "      <td>1850.0</td>\n",
              "    </tr>\n",
              "    <tr>\n",
              "      <th>2017-04-25</th>\n",
              "      <td>7823</td>\n",
              "      <td>1950.0</td>\n",
              "    </tr>\n",
              "    <tr>\n",
              "      <th>2017-04-26</th>\n",
              "      <td>7492</td>\n",
              "      <td>1850.0</td>\n",
              "    </tr>\n",
              "    <tr>\n",
              "      <th>2017-04-27</th>\n",
              "      <td>7203</td>\n",
              "      <td>1930.0</td>\n",
              "    </tr>\n",
              "    <tr>\n",
              "      <th>2017-04-28</th>\n",
              "      <td>7302</td>\n",
              "      <td>1850.0</td>\n",
              "    </tr>\n",
              "    <tr>\n",
              "      <th>2017-04-29</th>\n",
              "      <td>6033</td>\n",
              "      <td>2300.0</td>\n",
              "    </tr>\n",
              "    <tr>\n",
              "      <th>2017-04-30</th>\n",
              "      <td>4093</td>\n",
              "      <td>1950.0</td>\n",
              "    </tr>\n",
              "  </tbody>\n",
              "</table>\n",
              "</div>"
            ],
            "text/plain": [
              "               歩数  摂取カロリー\n",
              "date                     \n",
              "2017-04-01   5439  2500.0\n",
              "2017-04-02   2510  2300.0\n",
              "2017-04-03  10238  1950.0\n",
              "2017-04-04   8209  1850.0\n",
              "2017-04-05   9434  1930.0\n",
              "2017-04-06   7593  1800.0\n",
              "2017-04-07   9320  1940.0\n",
              "2017-04-08   4873  2300.0\n",
              "2017-04-09  12045  1950.0\n",
              "2017-04-10   7493  1850.0\n",
              "2017-04-11   7289  1930.0\n",
              "2017-04-12   6481  2300.0\n",
              "2017-04-13  10287  1800.0\n",
              "2017-04-14   8043  1940.0\n",
              "2017-04-15   7435  2300.0\n",
              "2017-04-16   7529  2300.0\n",
              "2017-04-17   8031  1940.0\n",
              "2017-04-18   8475  2300.0\n",
              "2017-04-19   8132  1950.0\n",
              "2017-04-20  15328  1800.0\n",
              "2017-04-21  12849  1940.0\n",
              "2017-04-22   4029  2300.0\n",
              "2017-04-23   3890  1950.0\n",
              "2017-04-24   8093  1850.0\n",
              "2017-04-25   7823  1950.0\n",
              "2017-04-26   7492  1850.0\n",
              "2017-04-27   7203  1930.0\n",
              "2017-04-28   7302  1850.0\n",
              "2017-04-29   6033  2300.0\n",
              "2017-04-30   4093  1950.0"
            ]
          },
          "metadata": {
            "tags": []
          },
          "execution_count": 71
        }
      ]
    },
    {
      "cell_type": "code",
      "metadata": {
        "colab": {
          "base_uri": "https://localhost:8080/"
        },
        "id": "e3MPsZC1OejN",
        "outputId": "b5b78ea4-edb3-419a-82d6-867e417768d2"
      },
      "source": [
        "# DataFrame → ndarray\n",
        "\n",
        "# df.loc[:, [\"歩数\",\"摂取カロリー\"]].values\n",
        "df.loc[:, :].values"
      ],
      "execution_count": null,
      "outputs": [
        {
          "output_type": "execute_result",
          "data": {
            "text/plain": [
              "array([[5439, 2500.0, 2.1756, 'Low'],\n",
              "       [2510, 2300.0, 1.0913043478260869, 'Low'],\n",
              "       [10238, 1950.0, 5.25025641025641, 'Mid'],\n",
              "       [8209, 1850.0, 4.437297297297297, 'Mid'],\n",
              "       [9434, 1930.0, 4.888082901554404, 'Mid'],\n",
              "       [7593, 1800.0, 4.218333333333334, 'Mid'],\n",
              "       [9320, 1940.0, 4.804123711340206, 'Mid'],\n",
              "       [4873, 2300.0, 2.118695652173913, 'Low'],\n",
              "       [12045, 1950.0, 6.176923076923077, 'High'],\n",
              "       [7493, 1850.0, 4.05027027027027, 'Mid'],\n",
              "       [7289, 1930.0, 3.7766839378238344, 'Mid'],\n",
              "       [6481, 2300.0, 2.8178260869565217, 'Low'],\n",
              "       [10287, 1800.0, 5.715, 'Mid'],\n",
              "       [8043, 1940.0, 4.145876288659794, 'Mid'],\n",
              "       [7435, 2300.0, 3.232608695652174, 'Mid'],\n",
              "       [7529, 2300.0, 3.2734782608695654, 'Mid'],\n",
              "       [8031, 1940.0, 4.139690721649485, 'Mid'],\n",
              "       [8475, 2300.0, 3.6847826086956523, 'Mid'],\n",
              "       [8132, 1950.0, 4.17025641025641, 'Mid'],\n",
              "       [15328, 1800.0, 8.515555555555556, 'High'],\n",
              "       [12849, 1940.0, 6.623195876288659, 'High'],\n",
              "       [4029, 2300.0, 1.7517391304347827, 'Low'],\n",
              "       [3890, 1950.0, 1.994871794871795, 'Low'],\n",
              "       [8093, 1850.0, 4.374594594594595, 'Mid'],\n",
              "       [7823, 1950.0, 4.011794871794872, 'Mid'],\n",
              "       [7492, 1850.0, 4.04972972972973, 'Mid'],\n",
              "       [7203, 1930.0, 3.7321243523316063, 'Mid'],\n",
              "       [7302, 1850.0, 3.947027027027027, 'Mid'],\n",
              "       [6033, 2300.0, 2.6230434782608696, 'Low'],\n",
              "       [4093, 1950.0, 2.098974358974359, 'Low']], dtype=object)"
            ]
          },
          "metadata": {
            "tags": []
          },
          "execution_count": 84
        }
      ]
    },
    {
      "cell_type": "code",
      "metadata": {
        "id": "WybDYWtvO6h6",
        "colab": {
          "base_uri": "https://localhost:8080/",
          "height": 979
        },
        "outputId": "bb0dc9b3-8b11-43e9-dcd5-b05feb089188"
      },
      "source": [
        "#  ndarray → DataFrame\n",
        "\n",
        "nd_arr = df.loc[:, [\"歩数\",\"摂取カロリー\"]].values\n",
        "df_2 = pd.DataFrame(nd_arr, columns=[\"歩数\",\"摂取カロリー\"])\n",
        "df_2"
      ],
      "execution_count": null,
      "outputs": [
        {
          "output_type": "execute_result",
          "data": {
            "text/html": [
              "<div>\n",
              "<style scoped>\n",
              "    .dataframe tbody tr th:only-of-type {\n",
              "        vertical-align: middle;\n",
              "    }\n",
              "\n",
              "    .dataframe tbody tr th {\n",
              "        vertical-align: top;\n",
              "    }\n",
              "\n",
              "    .dataframe thead th {\n",
              "        text-align: right;\n",
              "    }\n",
              "</style>\n",
              "<table border=\"1\" class=\"dataframe\">\n",
              "  <thead>\n",
              "    <tr style=\"text-align: right;\">\n",
              "      <th></th>\n",
              "      <th>歩数</th>\n",
              "      <th>摂取カロリー</th>\n",
              "    </tr>\n",
              "  </thead>\n",
              "  <tbody>\n",
              "    <tr>\n",
              "      <th>0</th>\n",
              "      <td>5439.0</td>\n",
              "      <td>2500.0</td>\n",
              "    </tr>\n",
              "    <tr>\n",
              "      <th>1</th>\n",
              "      <td>2510.0</td>\n",
              "      <td>2300.0</td>\n",
              "    </tr>\n",
              "    <tr>\n",
              "      <th>2</th>\n",
              "      <td>10238.0</td>\n",
              "      <td>1950.0</td>\n",
              "    </tr>\n",
              "    <tr>\n",
              "      <th>3</th>\n",
              "      <td>8209.0</td>\n",
              "      <td>1850.0</td>\n",
              "    </tr>\n",
              "    <tr>\n",
              "      <th>4</th>\n",
              "      <td>9434.0</td>\n",
              "      <td>1930.0</td>\n",
              "    </tr>\n",
              "    <tr>\n",
              "      <th>5</th>\n",
              "      <td>7593.0</td>\n",
              "      <td>1800.0</td>\n",
              "    </tr>\n",
              "    <tr>\n",
              "      <th>6</th>\n",
              "      <td>9320.0</td>\n",
              "      <td>1940.0</td>\n",
              "    </tr>\n",
              "    <tr>\n",
              "      <th>7</th>\n",
              "      <td>4873.0</td>\n",
              "      <td>2300.0</td>\n",
              "    </tr>\n",
              "    <tr>\n",
              "      <th>8</th>\n",
              "      <td>12045.0</td>\n",
              "      <td>1950.0</td>\n",
              "    </tr>\n",
              "    <tr>\n",
              "      <th>9</th>\n",
              "      <td>7493.0</td>\n",
              "      <td>1850.0</td>\n",
              "    </tr>\n",
              "    <tr>\n",
              "      <th>10</th>\n",
              "      <td>7289.0</td>\n",
              "      <td>1930.0</td>\n",
              "    </tr>\n",
              "    <tr>\n",
              "      <th>11</th>\n",
              "      <td>6481.0</td>\n",
              "      <td>2300.0</td>\n",
              "    </tr>\n",
              "    <tr>\n",
              "      <th>12</th>\n",
              "      <td>10287.0</td>\n",
              "      <td>1800.0</td>\n",
              "    </tr>\n",
              "    <tr>\n",
              "      <th>13</th>\n",
              "      <td>8043.0</td>\n",
              "      <td>1940.0</td>\n",
              "    </tr>\n",
              "    <tr>\n",
              "      <th>14</th>\n",
              "      <td>7435.0</td>\n",
              "      <td>2300.0</td>\n",
              "    </tr>\n",
              "    <tr>\n",
              "      <th>15</th>\n",
              "      <td>7529.0</td>\n",
              "      <td>2300.0</td>\n",
              "    </tr>\n",
              "    <tr>\n",
              "      <th>16</th>\n",
              "      <td>8031.0</td>\n",
              "      <td>1940.0</td>\n",
              "    </tr>\n",
              "    <tr>\n",
              "      <th>17</th>\n",
              "      <td>8475.0</td>\n",
              "      <td>2300.0</td>\n",
              "    </tr>\n",
              "    <tr>\n",
              "      <th>18</th>\n",
              "      <td>8132.0</td>\n",
              "      <td>1950.0</td>\n",
              "    </tr>\n",
              "    <tr>\n",
              "      <th>19</th>\n",
              "      <td>15328.0</td>\n",
              "      <td>1800.0</td>\n",
              "    </tr>\n",
              "    <tr>\n",
              "      <th>20</th>\n",
              "      <td>12849.0</td>\n",
              "      <td>1940.0</td>\n",
              "    </tr>\n",
              "    <tr>\n",
              "      <th>21</th>\n",
              "      <td>4029.0</td>\n",
              "      <td>2300.0</td>\n",
              "    </tr>\n",
              "    <tr>\n",
              "      <th>22</th>\n",
              "      <td>3890.0</td>\n",
              "      <td>1950.0</td>\n",
              "    </tr>\n",
              "    <tr>\n",
              "      <th>23</th>\n",
              "      <td>8093.0</td>\n",
              "      <td>1850.0</td>\n",
              "    </tr>\n",
              "    <tr>\n",
              "      <th>24</th>\n",
              "      <td>7823.0</td>\n",
              "      <td>1950.0</td>\n",
              "    </tr>\n",
              "    <tr>\n",
              "      <th>25</th>\n",
              "      <td>7492.0</td>\n",
              "      <td>1850.0</td>\n",
              "    </tr>\n",
              "    <tr>\n",
              "      <th>26</th>\n",
              "      <td>7203.0</td>\n",
              "      <td>1930.0</td>\n",
              "    </tr>\n",
              "    <tr>\n",
              "      <th>27</th>\n",
              "      <td>7302.0</td>\n",
              "      <td>1850.0</td>\n",
              "    </tr>\n",
              "    <tr>\n",
              "      <th>28</th>\n",
              "      <td>6033.0</td>\n",
              "      <td>2300.0</td>\n",
              "    </tr>\n",
              "    <tr>\n",
              "      <th>29</th>\n",
              "      <td>4093.0</td>\n",
              "      <td>1950.0</td>\n",
              "    </tr>\n",
              "  </tbody>\n",
              "</table>\n",
              "</div>"
            ],
            "text/plain": [
              "         歩数  摂取カロリー\n",
              "0    5439.0  2500.0\n",
              "1    2510.0  2300.0\n",
              "2   10238.0  1950.0\n",
              "3    8209.0  1850.0\n",
              "4    9434.0  1930.0\n",
              "5    7593.0  1800.0\n",
              "6    9320.0  1940.0\n",
              "7    4873.0  2300.0\n",
              "8   12045.0  1950.0\n",
              "9    7493.0  1850.0\n",
              "10   7289.0  1930.0\n",
              "11   6481.0  2300.0\n",
              "12  10287.0  1800.0\n",
              "13   8043.0  1940.0\n",
              "14   7435.0  2300.0\n",
              "15   7529.0  2300.0\n",
              "16   8031.0  1940.0\n",
              "17   8475.0  2300.0\n",
              "18   8132.0  1950.0\n",
              "19  15328.0  1800.0\n",
              "20  12849.0  1940.0\n",
              "21   4029.0  2300.0\n",
              "22   3890.0  1950.0\n",
              "23   8093.0  1850.0\n",
              "24   7823.0  1950.0\n",
              "25   7492.0  1850.0\n",
              "26   7203.0  1930.0\n",
              "27   7302.0  1850.0\n",
              "28   6033.0  2300.0\n",
              "29   4093.0  1950.0"
            ]
          },
          "metadata": {
            "tags": []
          },
          "execution_count": 76
        }
      ]
    },
    {
      "cell_type": "code",
      "metadata": {
        "id": "BRLjPvK-GvwG"
      },
      "source": [],
      "execution_count": null,
      "outputs": []
    }
  ]
}