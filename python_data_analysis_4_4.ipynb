{
  "nbformat": 4,
  "nbformat_minor": 0,
  "metadata": {
    "colab": {
      "provenance": [],
      "toc_visible": true,
      "authorship_tag": "ABX9TyO4zwe/CAciJ3RAt/0Bct0z",
      "include_colab_link": true
    },
    "kernelspec": {
      "name": "python3",
      "display_name": "Python 3"
    }
  },
  "cells": [
    {
      "cell_type": "markdown",
      "metadata": {
        "id": "view-in-github",
        "colab_type": "text"
      },
      "source": [
        "<a href=\"https://colab.research.google.com/github/treefield00/PythonNewText4DA/blob/main/python_data_analysis_4_4.ipynb\" target=\"_parent\"><img src=\"https://colab.research.google.com/assets/colab-badge.svg\" alt=\"Open In Colab\"/></a>"
      ]
    },
    {
      "cell_type": "markdown",
      "metadata": {
        "id": "QyILx2uFeZBZ"
      },
      "source": [
        "# ▶︎4.4 scikit-learn"
      ]
    },
    {
      "cell_type": "markdown",
      "metadata": {
        "id": "lUfcPAT3eiXj"
      },
      "source": [
        "## ▶︎4.4.1 前処理"
      ]
    },
    {
      "cell_type": "markdown",
      "metadata": {
        "id": "HjteHEkU3Cyq"
      },
      "source": [
        "### ●欠損値への対応"
      ]
    },
    {
      "cell_type": "code",
      "metadata": {
        "id": "zebKVMloeUPY",
        "colab": {
          "base_uri": "https://localhost:8080/",
          "height": 204
        },
        "outputId": "63a87883-7216-4062-a96b-63bda3075c30"
      },
      "source": [
        "# サンプルDataFrame\n",
        "import numpy as np\n",
        "import pandas as pd\n",
        "\n",
        "df = pd.DataFrame(\n",
        "    {\n",
        "        'A':[1, np.nan, 3, 4, 5],\n",
        "        'B':[6 ,7, 8, np.nan, 10],\n",
        "        'C':[11, 12, 13, 14, 15]     \n",
        "    }\n",
        ")\n",
        "df"
      ],
      "execution_count": null,
      "outputs": [
        {
          "output_type": "execute_result",
          "data": {
            "text/html": [
              "<div>\n",
              "<style scoped>\n",
              "    .dataframe tbody tr th:only-of-type {\n",
              "        vertical-align: middle;\n",
              "    }\n",
              "\n",
              "    .dataframe tbody tr th {\n",
              "        vertical-align: top;\n",
              "    }\n",
              "\n",
              "    .dataframe thead th {\n",
              "        text-align: right;\n",
              "    }\n",
              "</style>\n",
              "<table border=\"1\" class=\"dataframe\">\n",
              "  <thead>\n",
              "    <tr style=\"text-align: right;\">\n",
              "      <th></th>\n",
              "      <th>A</th>\n",
              "      <th>B</th>\n",
              "      <th>C</th>\n",
              "    </tr>\n",
              "  </thead>\n",
              "  <tbody>\n",
              "    <tr>\n",
              "      <th>0</th>\n",
              "      <td>1.0</td>\n",
              "      <td>6.0</td>\n",
              "      <td>11</td>\n",
              "    </tr>\n",
              "    <tr>\n",
              "      <th>1</th>\n",
              "      <td>NaN</td>\n",
              "      <td>7.0</td>\n",
              "      <td>12</td>\n",
              "    </tr>\n",
              "    <tr>\n",
              "      <th>2</th>\n",
              "      <td>3.0</td>\n",
              "      <td>8.0</td>\n",
              "      <td>13</td>\n",
              "    </tr>\n",
              "    <tr>\n",
              "      <th>3</th>\n",
              "      <td>4.0</td>\n",
              "      <td>NaN</td>\n",
              "      <td>14</td>\n",
              "    </tr>\n",
              "    <tr>\n",
              "      <th>4</th>\n",
              "      <td>5.0</td>\n",
              "      <td>10.0</td>\n",
              "      <td>15</td>\n",
              "    </tr>\n",
              "  </tbody>\n",
              "</table>\n",
              "</div>"
            ],
            "text/plain": [
              "     A     B   C\n",
              "0  1.0   6.0  11\n",
              "1  NaN   7.0  12\n",
              "2  3.0   8.0  13\n",
              "3  4.0   NaN  14\n",
              "4  5.0  10.0  15"
            ]
          },
          "metadata": {
            "tags": []
          },
          "execution_count": 1
        }
      ]
    },
    {
      "cell_type": "markdown",
      "metadata": {
        "id": "97Z6p9NX4dhR"
      },
      "source": [
        "■ 欠損値の除去"
      ]
    },
    {
      "cell_type": "code",
      "metadata": {
        "colab": {
          "base_uri": "https://localhost:8080/",
          "height": 204
        },
        "id": "aY2m9hwK40dV",
        "outputId": "2ec45c8c-c866-42aa-9dca-c2354968632e"
      },
      "source": [
        "# isnullメソッド\n",
        "# 欠損値の確認\n",
        "\n",
        "df.isnull()"
      ],
      "execution_count": null,
      "outputs": [
        {
          "output_type": "execute_result",
          "data": {
            "text/html": [
              "<div>\n",
              "<style scoped>\n",
              "    .dataframe tbody tr th:only-of-type {\n",
              "        vertical-align: middle;\n",
              "    }\n",
              "\n",
              "    .dataframe tbody tr th {\n",
              "        vertical-align: top;\n",
              "    }\n",
              "\n",
              "    .dataframe thead th {\n",
              "        text-align: right;\n",
              "    }\n",
              "</style>\n",
              "<table border=\"1\" class=\"dataframe\">\n",
              "  <thead>\n",
              "    <tr style=\"text-align: right;\">\n",
              "      <th></th>\n",
              "      <th>A</th>\n",
              "      <th>B</th>\n",
              "      <th>C</th>\n",
              "    </tr>\n",
              "  </thead>\n",
              "  <tbody>\n",
              "    <tr>\n",
              "      <th>0</th>\n",
              "      <td>False</td>\n",
              "      <td>False</td>\n",
              "      <td>False</td>\n",
              "    </tr>\n",
              "    <tr>\n",
              "      <th>1</th>\n",
              "      <td>True</td>\n",
              "      <td>False</td>\n",
              "      <td>False</td>\n",
              "    </tr>\n",
              "    <tr>\n",
              "      <th>2</th>\n",
              "      <td>False</td>\n",
              "      <td>False</td>\n",
              "      <td>False</td>\n",
              "    </tr>\n",
              "    <tr>\n",
              "      <th>3</th>\n",
              "      <td>False</td>\n",
              "      <td>True</td>\n",
              "      <td>False</td>\n",
              "    </tr>\n",
              "    <tr>\n",
              "      <th>4</th>\n",
              "      <td>False</td>\n",
              "      <td>False</td>\n",
              "      <td>False</td>\n",
              "    </tr>\n",
              "  </tbody>\n",
              "</table>\n",
              "</div>"
            ],
            "text/plain": [
              "       A      B      C\n",
              "0  False  False  False\n",
              "1   True  False  False\n",
              "2  False  False  False\n",
              "3  False   True  False\n",
              "4  False  False  False"
            ]
          },
          "metadata": {
            "tags": []
          },
          "execution_count": 2
        }
      ]
    },
    {
      "cell_type": "markdown",
      "metadata": {
        "id": "6fr19oMY5HxL"
      },
      "source": [
        "欠損値の存在する行または列を除去するには、DataFrameのdropnaメソッドを使う  \n",
        "→第４章２節　欠損値処理"
      ]
    },
    {
      "cell_type": "markdown",
      "metadata": {
        "id": "siSVe35H5vFD"
      },
      "source": [
        "■欠損値の補完"
      ]
    },
    {
      "cell_type": "markdown",
      "metadata": {
        "id": "-P7_TQLQ6Cxz"
      },
      "source": [
        "　pandasのDataFrameのfillnaメソッド  \n",
        "　→第４章２節　欠損値処理  \n",
        "　scikit-learnのimputeモジュールのSimpleImputerクラス  \n",
        "　↓　"
      ]
    },
    {
      "cell_type": "code",
      "metadata": {
        "colab": {
          "base_uri": "https://localhost:8080/"
        },
        "id": "RFpQZ5lv5BL8",
        "outputId": "5620ded5-1588-4ba2-d828-644b7f3a902d"
      },
      "source": [
        "# scikit-learnのimputeモジュールのSimpleImputerクラス\n",
        "from sklearn.impute import SimpleImputer\n",
        "\n",
        "# 平均値で欠損値を補完するインスタンスを作成\n",
        "imp = SimpleImputer(strategy='mean')\n",
        "# 欠損値を補完\n",
        "imp.fit(df)\n",
        "imp.transform(df)\n",
        "\n",
        "# 引数にはDataFrameを渡すが、\n",
        "# 戻り値はnumpy配列\n",
        "# strategy mean;平均　median;中央値　most_frequent:最頻値"
      ],
      "execution_count": null,
      "outputs": [
        {
          "output_type": "execute_result",
          "data": {
            "text/plain": [
              "array([[ 1.  ,  6.  , 11.  ],\n",
              "       [ 3.25,  7.  , 12.  ],\n",
              "       [ 3.  ,  8.  , 13.  ],\n",
              "       [ 4.  ,  7.75, 14.  ],\n",
              "       [ 5.  , 10.  , 15.  ]])"
            ]
          },
          "metadata": {
            "tags": []
          },
          "execution_count": 7
        }
      ]
    },
    {
      "cell_type": "markdown",
      "metadata": {
        "id": "cy52mgqHeXPP"
      },
      "source": [
        "### ●カテゴリ変数のエンコーディング"
      ]
    },
    {
      "cell_type": "code",
      "metadata": {
        "colab": {
          "base_uri": "https://localhost:8080/",
          "height": 204
        },
        "id": "DlWOwcLD_aD4",
        "outputId": "c39c84b8-f732-420a-a4be-832ab3b60db9"
      },
      "source": [
        "import pandas as pd\n",
        "df = pd.DataFrame(\n",
        "    {\n",
        "        'A':[1,2,3,4,5],\n",
        "        'B':['a','b','a','b','c']\n",
        "    }\n",
        ")\n",
        "df"
      ],
      "execution_count": null,
      "outputs": [
        {
          "output_type": "execute_result",
          "data": {
            "text/html": [
              "<div>\n",
              "<style scoped>\n",
              "    .dataframe tbody tr th:only-of-type {\n",
              "        vertical-align: middle;\n",
              "    }\n",
              "\n",
              "    .dataframe tbody tr th {\n",
              "        vertical-align: top;\n",
              "    }\n",
              "\n",
              "    .dataframe thead th {\n",
              "        text-align: right;\n",
              "    }\n",
              "</style>\n",
              "<table border=\"1\" class=\"dataframe\">\n",
              "  <thead>\n",
              "    <tr style=\"text-align: right;\">\n",
              "      <th></th>\n",
              "      <th>A</th>\n",
              "      <th>B</th>\n",
              "    </tr>\n",
              "  </thead>\n",
              "  <tbody>\n",
              "    <tr>\n",
              "      <th>0</th>\n",
              "      <td>1</td>\n",
              "      <td>a</td>\n",
              "    </tr>\n",
              "    <tr>\n",
              "      <th>1</th>\n",
              "      <td>2</td>\n",
              "      <td>b</td>\n",
              "    </tr>\n",
              "    <tr>\n",
              "      <th>2</th>\n",
              "      <td>3</td>\n",
              "      <td>a</td>\n",
              "    </tr>\n",
              "    <tr>\n",
              "      <th>3</th>\n",
              "      <td>4</td>\n",
              "      <td>b</td>\n",
              "    </tr>\n",
              "    <tr>\n",
              "      <th>4</th>\n",
              "      <td>5</td>\n",
              "      <td>c</td>\n",
              "    </tr>\n",
              "  </tbody>\n",
              "</table>\n",
              "</div>"
            ],
            "text/plain": [
              "   A  B\n",
              "0  1  a\n",
              "1  2  b\n",
              "2  3  a\n",
              "3  4  b\n",
              "4  5  c"
            ]
          },
          "metadata": {
            "tags": []
          },
          "execution_count": 8
        }
      ]
    },
    {
      "cell_type": "markdown",
      "metadata": {
        "id": "WyNwYjNpAAj2"
      },
      "source": [
        "■カテゴリ変数のエンコーディング"
      ]
    },
    {
      "cell_type": "code",
      "metadata": {
        "colab": {
          "base_uri": "https://localhost:8080/"
        },
        "id": "ZJmGm7Ct_10-",
        "outputId": "2b90dffd-d51d-47c1-d842-ecac6a76bce9"
      },
      "source": [
        "# scikit-learn preprocessingモジュールのLabelEncoderクラス\n",
        "from sklearn.preprocessing import LabelEncoder\n",
        "\n",
        "# ラベルエンコーダーのインスタンス作成\n",
        "le = LabelEncoder()\n",
        "\n",
        "# ラベルのエンコーディング\n",
        "le.fit(df['B'])\n",
        "le.transform(df['B'])"
      ],
      "execution_count": null,
      "outputs": [
        {
          "output_type": "execute_result",
          "data": {
            "text/plain": [
              "array([0, 1, 0, 1, 2])"
            ]
          },
          "metadata": {
            "tags": []
          },
          "execution_count": 10
        }
      ]
    },
    {
      "cell_type": "code",
      "metadata": {
        "colab": {
          "base_uri": "https://localhost:8080/"
        },
        "id": "EDX_My0HBWt_",
        "outputId": "efa7efe8-8334-48b6-fd2b-5328bb116772"
      },
      "source": [
        "# 元の値を確認\n",
        "\n",
        "le.classes_"
      ],
      "execution_count": null,
      "outputs": [
        {
          "output_type": "execute_result",
          "data": {
            "text/plain": [
              "array(['a', 'b', 'c'], dtype=object)"
            ]
          },
          "metadata": {
            "tags": []
          },
          "execution_count": 11
        }
      ]
    },
    {
      "cell_type": "markdown",
      "metadata": {
        "id": "txSD5kM3CGA2"
      },
      "source": [
        "■One-hotエンコーディング"
      ]
    },
    {
      "cell_type": "markdown",
      "metadata": {
        "id": "LXnUENJKEG5X"
      },
      "source": [
        "　pandas get_dummies関数  \n",
        "　→第４章２節　組み合わせデータ挿入  \n",
        "　scikit-learn preprocessingモジュール　OneHotEncoderクラス  \n",
        "　↓"
      ]
    },
    {
      "cell_type": "code",
      "metadata": {
        "colab": {
          "base_uri": "https://localhost:8080/",
          "height": 232
        },
        "id": "8rNUb6mDCCZv",
        "outputId": "4b6e25c9-7dcc-4c35-e72c-57e2e7fb45ab"
      },
      "source": [
        "# >>>>廃止<<<<<\n",
        "\n",
        "# ダミー変数化\n",
        "from sklearn.preprocessing import LabelEncoder, OneHotEncoder\n",
        "\n",
        "# DataFrameをコピー\n",
        "df_ohe = df.copy()\n",
        "# ラベルエンコーダのインスタンス化\n",
        "le = LabelEncoder()\n",
        "# 英語のa,b,cを1,2,3に変換\n",
        "df_ohe['B'] = le.fit_transform(df_ohe['B'])\n",
        "# One-hotエンコーダのインスタンスか\n",
        "ohe = OneHotEncoder(categorical_features=[1])\n",
        "# One-hotエンコーディング\n",
        "ohe.fit_transform(df_ohe).toarray()\n",
        "\n",
        "# 「categorical_featuresキーワードは0.20で廃止予定となっていて、0.22で削除されます。ColumnTransformerを使用してください」"
      ],
      "execution_count": null,
      "outputs": [
        {
          "output_type": "error",
          "ename": "TypeError",
          "evalue": "ignored",
          "traceback": [
            "\u001b[0;31m---------------------------------------------------------------------------\u001b[0m",
            "\u001b[0;31mTypeError\u001b[0m                                 Traceback (most recent call last)",
            "\u001b[0;32m<ipython-input-12-55629c3741b3>\u001b[0m in \u001b[0;36m<module>\u001b[0;34m()\u001b[0m\n\u001b[1;32m      9\u001b[0m \u001b[0mdf_ohe\u001b[0m\u001b[0;34m[\u001b[0m\u001b[0;34m'B'\u001b[0m\u001b[0;34m]\u001b[0m \u001b[0;34m=\u001b[0m \u001b[0mle\u001b[0m\u001b[0;34m.\u001b[0m\u001b[0mfit_transform\u001b[0m\u001b[0;34m(\u001b[0m\u001b[0mdf_ohe\u001b[0m\u001b[0;34m[\u001b[0m\u001b[0;34m'B'\u001b[0m\u001b[0;34m]\u001b[0m\u001b[0;34m)\u001b[0m\u001b[0;34m\u001b[0m\u001b[0;34m\u001b[0m\u001b[0m\n\u001b[1;32m     10\u001b[0m \u001b[0;31m# One-hotエンコーダのインスタンスか\u001b[0m\u001b[0;34m\u001b[0m\u001b[0;34m\u001b[0m\u001b[0;34m\u001b[0m\u001b[0m\n\u001b[0;32m---> 11\u001b[0;31m \u001b[0mohe\u001b[0m \u001b[0;34m=\u001b[0m \u001b[0mOneHotEncoder\u001b[0m\u001b[0;34m(\u001b[0m\u001b[0mcategorical_features\u001b[0m\u001b[0;34m=\u001b[0m\u001b[0;34m[\u001b[0m\u001b[0;36m1\u001b[0m\u001b[0;34m]\u001b[0m\u001b[0;34m)\u001b[0m\u001b[0;34m\u001b[0m\u001b[0;34m\u001b[0m\u001b[0m\n\u001b[0m\u001b[1;32m     12\u001b[0m \u001b[0;31m# One-hotエンコーディング\u001b[0m\u001b[0;34m\u001b[0m\u001b[0;34m\u001b[0m\u001b[0;34m\u001b[0m\u001b[0m\n\u001b[1;32m     13\u001b[0m \u001b[0mohe\u001b[0m\u001b[0;34m.\u001b[0m\u001b[0mfit_transform\u001b[0m\u001b[0;34m(\u001b[0m\u001b[0mdf_ohe\u001b[0m\u001b[0;34m)\u001b[0m\u001b[0;34m.\u001b[0m\u001b[0mtoarray\u001b[0m\u001b[0;34m(\u001b[0m\u001b[0;34m)\u001b[0m\u001b[0;34m\u001b[0m\u001b[0;34m\u001b[0m\u001b[0m\n",
            "\u001b[0;31mTypeError\u001b[0m: __init__() got an unexpected keyword argument 'categorical_features'"
          ]
        }
      ]
    },
    {
      "cell_type": "code",
      "metadata": {
        "colab": {
          "base_uri": "https://localhost:8080/"
        },
        "id": "vtQ04mJ-HStq",
        "outputId": "a885eb95-0b90-4110-a75e-eadd91b3664f"
      },
      "source": [
        "# >>>>新<<<<<\n",
        "\n",
        "from sklearn.compose import ColumnTransformer\n",
        "from sklearn.preprocessing import OneHotEncoder\n",
        "\n",
        "df_ohe = df.copy()\n",
        "print(df_ohe)\n",
        "# ColumnTransformerのインスタンス化\n",
        "# 変換する列番号１\n",
        "ct = ColumnTransformer(transformers=[('categorical', OneHotEncoder(),[1])],\n",
        "                        remainder= 'passthrough')\n",
        "ct.fit_transform(df_ohe)"
      ],
      "execution_count": null,
      "outputs": [
        {
          "output_type": "stream",
          "text": [
            "   A  B\n",
            "0  1  a\n",
            "1  2  b\n",
            "2  3  a\n",
            "3  4  b\n",
            "4  5  c\n"
          ],
          "name": "stdout"
        },
        {
          "output_type": "execute_result",
          "data": {
            "text/plain": [
              "array([[1., 0., 0., 1.],\n",
              "       [0., 1., 0., 2.],\n",
              "       [1., 0., 0., 3.],\n",
              "       [0., 1., 0., 4.],\n",
              "       [0., 0., 1., 5.]])"
            ]
          },
          "metadata": {
            "tags": []
          },
          "execution_count": 19
        }
      ]
    },
    {
      "cell_type": "markdown",
      "metadata": {
        "id": "rWzAd62CODwW"
      },
      "source": [
        "### ●特徴量の正規化"
      ]
    },
    {
      "cell_type": "markdown",
      "metadata": {
        "id": "RkdJBGxVkA9A"
      },
      "source": [
        "■分散正規化"
      ]
    },
    {
      "cell_type": "markdown",
      "metadata": {
        "id": "AIWRkzS3kJ2i"
      },
      "source": [
        "　特徴量の平均が０、標準偏差が１となるように変換  \n",
        "　標準化、z変換"
      ]
    },
    {
      "cell_type": "markdown",
      "metadata": {
        "id": "mPKRSYsVkyTs"
      },
      "source": [
        "　x' = (x - μ) / σ  \n",
        "　μ：特徴量の平均、σ：標準偏差"
      ]
    },
    {
      "cell_type": "code",
      "metadata": {
        "colab": {
          "base_uri": "https://localhost:8080/",
          "height": 204
        },
        "id": "xyE0S3G7K_RQ",
        "outputId": "f78e6362-292d-46a8-8b49-c45dd9c2b0f7"
      },
      "source": [
        "import pandas as pd\n",
        "\n",
        "df = pd.DataFrame(\n",
        "    {\n",
        "        'A':[1,2,3,4,5],\n",
        "        'B':[100,200,400,500,800]\n",
        "    }\n",
        ")\n",
        "df"
      ],
      "execution_count": null,
      "outputs": [
        {
          "output_type": "execute_result",
          "data": {
            "text/html": [
              "<div>\n",
              "<style scoped>\n",
              "    .dataframe tbody tr th:only-of-type {\n",
              "        vertical-align: middle;\n",
              "    }\n",
              "\n",
              "    .dataframe tbody tr th {\n",
              "        vertical-align: top;\n",
              "    }\n",
              "\n",
              "    .dataframe thead th {\n",
              "        text-align: right;\n",
              "    }\n",
              "</style>\n",
              "<table border=\"1\" class=\"dataframe\">\n",
              "  <thead>\n",
              "    <tr style=\"text-align: right;\">\n",
              "      <th></th>\n",
              "      <th>A</th>\n",
              "      <th>B</th>\n",
              "    </tr>\n",
              "  </thead>\n",
              "  <tbody>\n",
              "    <tr>\n",
              "      <th>0</th>\n",
              "      <td>1</td>\n",
              "      <td>100</td>\n",
              "    </tr>\n",
              "    <tr>\n",
              "      <th>1</th>\n",
              "      <td>2</td>\n",
              "      <td>200</td>\n",
              "    </tr>\n",
              "    <tr>\n",
              "      <th>2</th>\n",
              "      <td>3</td>\n",
              "      <td>400</td>\n",
              "    </tr>\n",
              "    <tr>\n",
              "      <th>3</th>\n",
              "      <td>4</td>\n",
              "      <td>500</td>\n",
              "    </tr>\n",
              "    <tr>\n",
              "      <th>4</th>\n",
              "      <td>5</td>\n",
              "      <td>800</td>\n",
              "    </tr>\n",
              "  </tbody>\n",
              "</table>\n",
              "</div>"
            ],
            "text/plain": [
              "   A    B\n",
              "0  1  100\n",
              "1  2  200\n",
              "2  3  400\n",
              "3  4  500\n",
              "4  5  800"
            ]
          },
          "metadata": {
            "tags": []
          },
          "execution_count": 20
        }
      ]
    },
    {
      "cell_type": "code",
      "metadata": {
        "colab": {
          "base_uri": "https://localhost:8080/"
        },
        "id": "iqYuE0Fmltp7",
        "outputId": "deb8bab3-74a8-48d8-90b4-e3e365409dcc"
      },
      "source": [
        "# scikit-learn preprocessingモジュール　StandardScalerクラス\n",
        "# fitメソッド　各列の平均と標準偏差を求め\n",
        "# transformメソッドにDataFrameを渡して、分散正規化を実行\n",
        "\n",
        "from sklearn.preprocessing import StandardScaler\n",
        "\n",
        "stdsc = StandardScaler()\n",
        "\n",
        "stdsc.fit(df)\n",
        "stdsc.transform(df)"
      ],
      "execution_count": null,
      "outputs": [
        {
          "output_type": "execute_result",
          "data": {
            "text/plain": [
              "array([[-1.41421356, -1.22474487],\n",
              "       [-0.70710678, -0.81649658],\n",
              "       [ 0.        ,  0.        ],\n",
              "       [ 0.70710678,  0.40824829],\n",
              "       [ 1.41421356,  1.63299316]])"
            ]
          },
          "metadata": {
            "tags": []
          },
          "execution_count": 24
        }
      ]
    },
    {
      "cell_type": "markdown",
      "metadata": {
        "id": "oF2_tVEkn5Ga"
      },
      "source": [
        "■最小最大正規化"
      ]
    },
    {
      "cell_type": "markdown",
      "metadata": {
        "id": "wYq7Fm14JHze"
      },
      "source": [
        "特徴量の最小値が０、最大値が１となるように特徴量を正規化する"
      ]
    },
    {
      "cell_type": "markdown",
      "metadata": {
        "id": "shP71MV0JboT"
      },
      "source": [
        "x' = (x - x_min) / (x_max - x_min)"
      ]
    },
    {
      "cell_type": "code",
      "metadata": {
        "colab": {
          "base_uri": "https://localhost:8080/"
        },
        "id": "0DOuCmcknb8r",
        "outputId": "032bc051-4fe3-4196-b86e-d28c7e271cae"
      },
      "source": [
        "# preprocessingモジュール　MinMaxScalerクラス\n",
        "\n",
        "from sklearn.preprocessing import MinMaxScaler\n",
        "\n",
        "mmsc = MinMaxScaler()\n",
        "\n",
        "mmsc.fit(df)\n",
        "mmsc.transform(df)"
      ],
      "execution_count": null,
      "outputs": [
        {
          "output_type": "execute_result",
          "data": {
            "text/plain": [
              "array([[0.        , 0.        ],\n",
              "       [0.25      , 0.14285714],\n",
              "       [0.5       , 0.42857143],\n",
              "       [0.75      , 0.57142857],\n",
              "       [1.        , 1.        ]])"
            ]
          },
          "metadata": {
            "tags": []
          },
          "execution_count": 25
        }
      ]
    },
    {
      "cell_type": "markdown",
      "metadata": {
        "id": "jFypxfUhSG69"
      },
      "source": [
        "## ▶︎4.4.2 分類"
      ]
    },
    {
      "cell_type": "markdown",
      "metadata": {
        "id": "7v6_p2uzSwIi"
      },
      "source": [
        "　教師あり学習  \n",
        "　・サポートベクタマシン  \n",
        "　・決定木  \n",
        "　・ランダムフォレスト"
      ]
    },
    {
      "cell_type": "markdown",
      "metadata": {
        "id": "AOUZNGKdTXeu"
      },
      "source": [
        "### ●分類モデル構築の流れ"
      ]
    },
    {
      "cell_type": "markdown",
      "metadata": {
        "id": "Yt6VNFoxz7MK"
      },
      "source": [
        "学習データセットとテストデータセットの準備"
      ]
    },
    {
      "cell_type": "code",
      "metadata": {
        "colab": {
          "base_uri": "https://localhost:8080/"
        },
        "id": "rmfSQ2SnOzT5",
        "outputId": "b15666c8-cb0d-421b-b477-a14b2e232559"
      },
      "source": [
        "from sklearn.datasets import load_iris\n",
        "\n",
        "iris = load_iris()\n",
        "X, y = iris.data, iris.target\n",
        "\n",
        "print('X:')\n",
        "print(X[:5,:])\n",
        "print('y:')\n",
        "print(y[:5])"
      ],
      "execution_count": null,
      "outputs": [
        {
          "output_type": "stream",
          "text": [
            "X:\n",
            "[[5.1 3.5 1.4 0.2]\n",
            " [4.9 3.  1.4 0.2]\n",
            " [4.7 3.2 1.3 0.2]\n",
            " [4.6 3.1 1.5 0.2]\n",
            " [5.  3.6 1.4 0.2]]\n",
            "y:\n",
            "[0 0 0 0 0]\n"
          ],
          "name": "stdout"
        }
      ]
    },
    {
      "cell_type": "markdown",
      "metadata": {
        "id": "dIWT1oTp1nAP"
      },
      "source": [
        "irisデータセット  \n",
        "X  \n",
        "1 Sepal Length がくの長さ  \n",
        "2 Sepal Width がくの幅  \n",
        "3 Petal Length 花びらの長さ  \n",
        "4 Petal Width  花びらの幅\n",
        "  \n",
        "y:  Species  \n",
        "0 Setosa  \n",
        "1 Versicolor  \n",
        "2 Virginica"
      ]
    },
    {
      "cell_type": "code",
      "metadata": {
        "colab": {
          "base_uri": "https://localhost:8080/"
        },
        "id": "2w5anj3I1GDs",
        "outputId": "e1eebd5a-612d-4bda-b781-90a77b9b1e29"
      },
      "source": [
        "# model_selectionモジュール\n",
        "# train_test_split関数\n",
        "# 第１引数　説明変数（特徴量）　NumPy配列やDataFrame\n",
        "# 第２引数　目的変数　Numpy配列\n",
        "# 第３引数　テストデータの割合\n",
        "# 第４引数　シード値　＞＞不要\n",
        "from sklearn.model_selection import train_test_split\n",
        "\n",
        "X_train, X_test, y_train, y_test = train_test_split(X, y, test_size=0.3, random_state=123)\n",
        "print(X_train.shape)\n",
        "print(X_test.shape)\n",
        "print(y_train.shape)\n",
        "print(y_test.shape)\n"
      ],
      "execution_count": null,
      "outputs": [
        {
          "output_type": "stream",
          "text": [
            "(105, 4)\n",
            "(45, 4)\n",
            "(105,)\n",
            "(45,)\n"
          ],
          "name": "stdout"
        }
      ]
    },
    {
      "cell_type": "markdown",
      "metadata": {
        "id": "6wffTd-96yLl"
      },
      "source": [
        "### ●サポートベクタマシン"
      ]
    },
    {
      "cell_type": "markdown",
      "metadata": {
        "id": "UdsasgOz68eK"
      },
      "source": [
        "　分類、回帰、外れ値検出に利用できる  \n",
        "　決定境界  \n",
        "　サポートベクタ　各クラスのデータ  \n",
        "　マージン　クラス間のサポートベクタの距離  \n",
        "  \n",
        "　マージンを最大にすることにより決定境界を求める  \n",
        "　マージンを最大にするのは、決定境界がサポートベクタから遠くなり、多少データが変わっても誤った分類をする可能性を減らせる。  \n",
        "　未知のデータに対する汎化能力を持たせる"
      ]
    },
    {
      "cell_type": "code",
      "metadata": {
        "colab": {
          "base_uri": "https://localhost:8080/",
          "height": 279
        },
        "id": "KtsnyTB_5mj_",
        "outputId": "756b8aba-fbb9-4d91-be81-dca58f16a75f"
      },
      "source": [
        "\n",
        "import numpy as np\n",
        "import matplotlib.pyplot as plt\n",
        "np.random.seed(123)\n",
        "\n",
        "# uniform関数　一様乱数生成　一様分布からデータをサンプリング\n",
        "# デフォルト　low=0 high=1\n",
        "# repeat関数　第１引数の値を第２引数回繰り返した、NumPy配列を返す\n",
        "X0 = np.random.uniform(size=(100, 2))\n",
        "y0 = np.repeat(0, 100)\n",
        "\n",
        "X1 = np.random.uniform(-1.0, 0.0, size=(100, 2))\n",
        "y1 = np.repeat(1, 100)\n",
        "\n",
        "#散布図\n",
        "fig, ax = plt.subplots()\n",
        "ax.scatter(X0[:,0], X0[:,1], marker='o', label='class0')\n",
        "ax.scatter(X1[:,0], X1[:,1], marker='x', label='class1')\n",
        "ax.set_xlabel('x')\n",
        "ax.set_ylabel('y')\n",
        "ax.legend()\n",
        "plt.show()"
      ],
      "execution_count": null,
      "outputs": [
        {
          "output_type": "display_data",
          "data": {
            "image/png": "[encoded data removed]",
            "text/plain": [
              "<Figure size 432x288 with 1 Axes>"
            ]
          },
          "metadata": {
            "tags": [],
            "needs_background": "light"
          }
        }
      ]
    },
    {
      "cell_type": "code",
      "metadata": {
        "colab": {
          "base_uri": "https://localhost:8080/"
        },
        "id": "a22R1HH-J8hU",
        "outputId": "e5a708fb-d0c8-4e18-b97c-d90aa5dc1b7c"
      },
      "source": [
        "print(X0)\n",
        "print(y0)"
      ],
      "execution_count": null,
      "outputs": [
        {
          "output_type": "stream",
          "text": [
            "[[0.69646919 0.28613933]\n",
            " [0.22685145 0.55131477]\n",
            " [0.71946897 0.42310646]\n",
            " [0.9807642  0.68482974]\n",
            " [0.4809319  0.39211752]\n",
            " [0.34317802 0.72904971]\n",
            " [0.43857224 0.0596779 ]\n",
            " [0.39804426 0.73799541]\n",
            " [0.18249173 0.17545176]\n",
            " [0.53155137 0.53182759]\n",
            " [0.63440096 0.84943179]\n",
            " [0.72445532 0.61102351]\n",
            " [0.72244338 0.32295891]\n",
            " [0.36178866 0.22826323]\n",
            " [0.29371405 0.63097612]\n",
            " [0.09210494 0.43370117]\n",
            " [0.43086276 0.4936851 ]\n",
            " [0.42583029 0.31226122]\n",
            " [0.42635131 0.89338916]\n",
            " [0.94416002 0.50183668]\n",
            " [0.62395295 0.1156184 ]\n",
            " [0.31728548 0.41482621]\n",
            " [0.86630916 0.25045537]\n",
            " [0.48303426 0.98555979]\n",
            " [0.51948512 0.61289453]\n",
            " [0.12062867 0.8263408 ]\n",
            " [0.60306013 0.54506801]\n",
            " [0.34276383 0.30412079]\n",
            " [0.41702221 0.68130077]\n",
            " [0.87545684 0.51042234]\n",
            " [0.66931378 0.58593655]\n",
            " [0.6249035  0.67468905]\n",
            " [0.84234244 0.08319499]\n",
            " [0.76368284 0.24366637]\n",
            " [0.19422296 0.57245696]\n",
            " [0.09571252 0.88532683]\n",
            " [0.62724897 0.72341636]\n",
            " [0.01612921 0.59443188]\n",
            " [0.55678519 0.15895964]\n",
            " [0.15307052 0.69552953]\n",
            " [0.31876643 0.6919703 ]\n",
            " [0.55438325 0.38895057]\n",
            " [0.92513249 0.84167   ]\n",
            " [0.35739757 0.04359146]\n",
            " [0.30476807 0.39818568]\n",
            " [0.70495883 0.99535848]\n",
            " [0.35591487 0.76254781]\n",
            " [0.59317692 0.6917018 ]\n",
            " [0.15112745 0.39887629]\n",
            " [0.2408559  0.34345601]\n",
            " [0.51312815 0.66662455]\n",
            " [0.10590849 0.13089495]\n",
            " [0.32198061 0.66156434]\n",
            " [0.84650623 0.55325734]\n",
            " [0.85445249 0.38483781]\n",
            " [0.3167879  0.35426468]\n",
            " [0.17108183 0.82911263]\n",
            " [0.33867085 0.55237008]\n",
            " [0.57855147 0.52153306]\n",
            " [0.00268806 0.98834542]\n",
            " [0.90534158 0.20763586]\n",
            " [0.29248941 0.52001015]\n",
            " [0.90191137 0.98363088]\n",
            " [0.25754206 0.56435904]\n",
            " [0.80696868 0.39437005]\n",
            " [0.73107304 0.16106901]\n",
            " [0.60069857 0.86586446]\n",
            " [0.98352161 0.07936579]\n",
            " [0.42834727 0.20454286]\n",
            " [0.45063649 0.54776357]\n",
            " [0.09332671 0.29686078]\n",
            " [0.92758424 0.56900373]\n",
            " [0.457412   0.75352599]\n",
            " [0.74186215 0.04857903]\n",
            " [0.7086974  0.83924335]\n",
            " [0.16593788 0.78099794]\n",
            " [0.28653662 0.30646975]\n",
            " [0.66526147 0.11139217]\n",
            " [0.66487245 0.88785679]\n",
            " [0.69631127 0.44032788]\n",
            " [0.43821438 0.7650961 ]\n",
            " [0.565642   0.08490416]\n",
            " [0.58267109 0.8148437 ]\n",
            " [0.33706638 0.92757658]\n",
            " [0.750717   0.57406383]\n",
            " [0.75164399 0.07914896]\n",
            " [0.85938908 0.82150411]\n",
            " [0.90987166 0.1286312 ]\n",
            " [0.08178009 0.13841557]\n",
            " [0.39937871 0.42430686]\n",
            " [0.56221838 0.12224355]\n",
            " [0.2013995  0.81164435]\n",
            " [0.46798757 0.80793821]\n",
            " [0.00742638 0.55159273]\n",
            " [0.93193215 0.58217546]\n",
            " [0.20609573 0.71775756]\n",
            " [0.37898585 0.66838395]\n",
            " [0.02931972 0.63590036]\n",
            " [0.03219793 0.74478066]\n",
            " [0.472913   0.12175436]]\n",
            "[0 0 0 0 0 0 0 0 0 0 0 0 0 0 0 0 0 0 0 0 0 0 0 0 0 0 0 0 0 0 0 0 0 0 0 0 0\n",
            " 0 0 0 0 0 0 0 0 0 0 0 0 0 0 0 0 0 0 0 0 0 0 0 0 0 0 0 0 0 0 0 0 0 0 0 0 0\n",
            " 0 0 0 0 0 0 0 0 0 0 0 0 0 0 0 0 0 0 0 0 0 0 0 0 0 0]\n"
          ],
          "name": "stdout"
        }
      ]
    },
    {
      "cell_type": "code",
      "metadata": {
        "id": "7TPgwAAJD6E7"
      },
      "source": [
        "# 学習し、決定境界、マージン、サポートベクタを可視化する関数\n",
        "from sklearn.svm import SVC\n",
        "\n",
        "def plot_boundary_margin_sv(X0, y0, X1, y1, kernel, C, xmin=-1, xmax=1, ymin=-1,ymax=1):\n",
        "    # サポートベクタマシンのインスタンス化\n",
        "    svc = SVC(kernel=kernel, C=C)\n",
        "    # 学習\n",
        "    svc.fit(np.vstack((X0, X1)), np.hstack((y0, y1)))\n",
        "\n",
        "    fig, ax = plt.subplots()\n",
        "    ax.scatter(X0[:,0], X0[:,1], marker='o', label='class0')\n",
        "    ax.scatter(X1[:,0], X1[:,1], marker='x', label='class1')\n",
        "\n",
        "    # 決定境界とマージンをプロット\n",
        "    xx, yy = np.meshgrid(np.linspace(xmin, xmax, 100), np.linspace(ymin, ymax, 100))\n",
        "    xy = np.vstack([xx.ravel(), yy.ravel()]).T\n",
        "\n",
        "    print('xx')\n",
        "    print(xx.shape)\n",
        "    print(xx)\n",
        "    print('yy')\n",
        "    print(yy.shape)\n",
        "    print(yy)\n",
        "    print('xy')\n",
        "    print(xy.shape)\n",
        "    print(xy)\n",
        "\n",
        "    # decision_function 引数で与えられたベクトルXの分離超平面からの距離を返す\n",
        "    p = svc.decision_function(xy).reshape((100, 100))\n",
        "    print('p')\n",
        "    print(p.shape)\n",
        "    print(p)\n",
        "\n",
        "    # 登高線\n",
        "    ax.contour(xx, yy, p,\n",
        "               colors='k',\n",
        "               levels=[-1, 0, 1],\n",
        "               alpha=0.5,\n",
        "               linestyles=['--', '-', '--']\n",
        "    )\n",
        "    \n",
        "    # print('svc.support_vectors_[:,0]')\n",
        "    # print(svc.support_vectors_[:,0])\n",
        "\n",
        "    # サポートベクタをプロット\n",
        "    ax.scatter(svc.support_vectors_[:,0],\n",
        "               svc.support_vectors_[:,1],\n",
        "               s=250,\n",
        "               facecolors='none',\n",
        "               edgecolors='black')\n",
        "    \n",
        "    ax.set_xlabel('x')\n",
        "    ax.set_ylabel('y')\n",
        "    ax.legend(loc='best')\n",
        "    plt.show()\n"
      ],
      "execution_count": null,
      "outputs": []
    },
    {
      "cell_type": "code",
      "metadata": {
        "colab": {
          "base_uri": "https://localhost:8080/",
          "height": 1000
        },
        "id": "KMizpfVGIo4m",
        "outputId": "919f43ba-793c-478f-fef4-ad238305c047"
      },
      "source": [
        "plot_boundary_margin_sv(X0, y0, X1, y1, kernel='linear', C=1e6)"
      ],
      "execution_count": null,
      "outputs": [
        {
          "output_type": "stream",
          "text": [
            "xx\n",
            "(100, 100)\n",
            "[[-1.         -0.97979798 -0.95959596 ...  0.95959596  0.97979798\n",
            "   1.        ]\n",
            " [-1.         -0.97979798 -0.95959596 ...  0.95959596  0.97979798\n",
            "   1.        ]\n",
            " [-1.         -0.97979798 -0.95959596 ...  0.95959596  0.97979798\n",
            "   1.        ]\n",
            " ...\n",
            " [-1.         -0.97979798 -0.95959596 ...  0.95959596  0.97979798\n",
            "   1.        ]\n",
            " [-1.         -0.97979798 -0.95959596 ...  0.95959596  0.97979798\n",
            "   1.        ]\n",
            " [-1.         -0.97979798 -0.95959596 ...  0.95959596  0.97979798\n",
            "   1.        ]]\n",
            "yy\n",
            "(100, 100)\n",
            "[[-1.         -1.         -1.         ... -1.         -1.\n",
            "  -1.        ]\n",
            " [-0.97979798 -0.97979798 -0.97979798 ... -0.97979798 -0.97979798\n",
            "  -0.97979798]\n",
            " [-0.95959596 -0.95959596 -0.95959596 ... -0.95959596 -0.95959596\n",
            "  -0.95959596]\n",
            " ...\n",
            " [ 0.95959596  0.95959596  0.95959596 ...  0.95959596  0.95959596\n",
            "   0.95959596]\n",
            " [ 0.97979798  0.97979798  0.97979798 ...  0.97979798  0.97979798\n",
            "   0.97979798]\n",
            " [ 1.          1.          1.         ...  1.          1.\n",
            "   1.        ]]\n",
            "xy\n",
            "(10000, 2)\n",
            "[[-1.         -1.        ]\n",
            " [-0.97979798 -1.        ]\n",
            " [-0.95959596 -1.        ]\n",
            " ...\n",
            " [ 0.95959596  1.        ]\n",
            " [ 0.97979798  1.        ]\n",
            " [ 1.          1.        ]]\n",
            "p\n",
            "(100, 100)\n",
            "[[10.32479987 10.24595968 10.16711949 ...  2.6773018   2.59846161\n",
            "   2.51962142]\n",
            " [10.19875091 10.11991073 10.04107054 ...  2.55125284  2.47241266\n",
            "   2.39357247]\n",
            " [10.07270196  9.99386177  9.91502159 ...  2.42520389  2.3463637\n",
            "   2.26752352]\n",
            " ...\n",
            " [-1.90194866 -1.98078884 -2.05962903 ... -9.54944673 -9.62828691\n",
            "  -9.7071271 ]\n",
            " [-2.02799761 -2.1068378  -2.18567798 ... -9.67549568 -9.75433587\n",
            "  -9.83317605]\n",
            " [-2.15404656 -2.23288675 -2.31172694 ... -9.80154464 -9.88038482\n",
            "  -9.95922501]]\n",
            "svc.support_vectors_[:,0]\n",
            "[ 0.08178009 -0.06233164]\n"
          ],
          "name": "stdout"
        },
        {
          "output_type": "display_data",
          "data": {
            "image/png": "[encoded data removed]",
            "text/plain": [
              "<Figure size 432x288 with 1 Axes>"
            ]
          },
          "metadata": {
            "tags": [],
            "needs_background": "light"
          }
        }
      ]
    },
    {
      "cell_type": "code",
      "metadata": {
        "colab": {
          "base_uri": "https://localhost:8080/",
          "height": 1000
        },
        "id": "QmnEFdPrJBTL",
        "outputId": "cafc080f-1e66-463a-daae-7e91acea51b7"
      },
      "source": [
        "# Cが大きいほどマージンは狭く、小さいほどマージンは広くなる。\n",
        "# Cは誤分類を許容する指標\n",
        "# Cが小さいと誤分類を許容する、大きいと許容しない\n",
        "# Cが大きい場合は複雑に分類している。\n",
        "# C複雑に分類すると、学習データはきれいに分類できるが、\n",
        "# 汎化性能は下がる、テストデータの分類性のは下がる\n",
        "\n",
        "# ▶︎▶︎ Cを小さくして、誤りをある程度許容すると汎化性能があがる\n",
        "# 汎化性能はあがるが、コストを下げ過ぎると分類性能が悪くなる\n",
        "\n",
        "plot_boundary_margin_sv(X0, y0, X1, y1, kernel='linear', C=0.1)"
      ],
      "execution_count": null,
      "outputs": [
        {
          "output_type": "stream",
          "text": [
            "xx\n",
            "(100, 100)\n",
            "[[-1.         -0.97979798 -0.95959596 ...  0.95959596  0.97979798\n",
            "   1.        ]\n",
            " [-1.         -0.97979798 -0.95959596 ...  0.95959596  0.97979798\n",
            "   1.        ]\n",
            " [-1.         -0.97979798 -0.95959596 ...  0.95959596  0.97979798\n",
            "   1.        ]\n",
            " ...\n",
            " [-1.         -0.97979798 -0.95959596 ...  0.95959596  0.97979798\n",
            "   1.        ]\n",
            " [-1.         -0.97979798 -0.95959596 ...  0.95959596  0.97979798\n",
            "   1.        ]\n",
            " [-1.         -0.97979798 -0.95959596 ...  0.95959596  0.97979798\n",
            "   1.        ]]\n",
            "yy\n",
            "(100, 100)\n",
            "[[-1.         -1.         -1.         ... -1.         -1.\n",
            "  -1.        ]\n",
            " [-0.97979798 -0.97979798 -0.97979798 ... -0.97979798 -0.97979798\n",
            "  -0.97979798]\n",
            " [-0.95959596 -0.95959596 -0.95959596 ... -0.95959596 -0.95959596\n",
            "  -0.95959596]\n",
            " ...\n",
            " [ 0.95959596  0.95959596  0.95959596 ...  0.95959596  0.95959596\n",
            "   0.95959596]\n",
            " [ 0.97979798  0.97979798  0.97979798 ...  0.97979798  0.97979798\n",
            "   0.97979798]\n",
            " [ 1.          1.          1.         ...  1.          1.\n",
            "   1.        ]]\n",
            "xy\n",
            "(10000, 2)\n",
            "[[-1.         -1.        ]\n",
            " [-0.97979798 -1.        ]\n",
            " [-0.95959596 -1.        ]\n",
            " ...\n",
            " [ 0.95959596  1.        ]\n",
            " [ 0.97979798  1.        ]\n",
            " [ 1.          1.        ]]\n",
            "p\n",
            "(100, 100)\n",
            "[[ 2.70522275  2.67722224  2.64922172 ... -0.01082685 -0.03882736\n",
            "  -0.06682787]\n",
            " [ 2.67888702  2.65088651  2.622886   ... -0.03716257 -0.06516308\n",
            "  -0.0931636 ]\n",
            " [ 2.6525513   2.62455079  2.59655028 ... -0.0634983  -0.09149881\n",
            "  -0.11949932]\n",
            " ...\n",
            " [ 0.15065762  0.12265711  0.0946566  ... -2.56539198 -2.59339249\n",
            "  -2.621393  ]\n",
            " [ 0.1243219   0.09632139  0.06832088 ... -2.5917277  -2.61972821\n",
            "  -2.64772872]\n",
            " [ 0.09798618  0.06998566  0.04198515 ... -2.61806342 -2.64606393\n",
            "  -2.67406444]]\n",
            "svc.support_vectors_[:,0]\n",
            "[ 0.43857224  0.18249173  0.36178866  0.09210494  0.42583029  0.62395295\n",
            "  0.31728548  0.34276383  0.19422296  0.01612921  0.55678519  0.35739757\n",
            "  0.30476807  0.15112745  0.2408559   0.10590849  0.3167879   0.42834727\n",
            "  0.09332671  0.28653662  0.565642    0.08178009  0.56221838  0.00742638\n",
            "  0.02931972  0.03219793  0.472913   -0.34663513 -0.23060266 -0.2077007\n",
            " -0.58270894 -0.01167147 -0.03699553 -0.20107727 -0.34924963 -0.02895386\n",
            " -0.28983835 -0.57018666 -0.64404233 -0.1672838  -0.54691108 -0.41250625\n",
            " -0.319097   -0.39247093 -0.06233164 -0.1177239  -0.29037677 -0.08786788\n",
            " -0.17942578 -0.34218493 -0.52931125 -0.05563446]\n"
          ],
          "name": "stdout"
        },
        {
          "output_type": "display_data",
          "data": {
            "image/png": "[encoded data removed]",
            "text/plain": [
              "<Figure size 432x288 with 1 Axes>"
            ]
          },
          "metadata": {
            "tags": [],
            "needs_background": "light"
          }
        }
      ]
    },
    {
      "cell_type": "code",
      "metadata": {
        "colab": {
          "base_uri": "https://localhost:8080/",
          "height": 265
        },
        "id": "0bn8yUvQM4eX",
        "outputId": "d8e21085-b3be-49aa-9ca4-12075a4fff9d"
      },
      "source": [
        "# 直線で分離できない場合\n",
        "# y > 2(x - 0.5)**2 + 0.5 :クラス１\n",
        "# y <= 2(x - 0.5)**2 + 0.5 :クラス0\n",
        "\n",
        "np.random.seed(123)\n",
        "X = np.random.random(size=(100,2))\n",
        "y = (X[:, 1] > 2*(X[:, 0] - 0.5)**2 + 0.5).astype(int)\n",
        "\n",
        "fig, ax = plt.subplots()\n",
        "ax.scatter(X[y == 0, 0], X[y == 0, 1], marker='x', label='class0')\n",
        "ax.scatter(X[y == 1, 0], X[y == 1, 1], marker='o', label='class1')\n",
        "ax.legend()\n",
        "plt.show()"
      ],
      "execution_count": null,
      "outputs": [
        {
          "output_type": "display_data",
          "data": {
            "image/png": "[encoded data removed]",
            "text/plain": [
              "<Figure size 432x288 with 1 Axes>"
            ]
          },
          "metadata": {
            "tags": [],
            "needs_background": "light"
          }
        }
      ]
    },
    {
      "cell_type": "code",
      "metadata": {
        "colab": {
          "base_uri": "https://localhost:8080/",
          "height": 997
        },
        "id": "kVNxFiLkS9mC",
        "outputId": "af39abb4-88c7-4c31-b337-53755e7bd688"
      },
      "source": [
        "# SVCクラスの引数　kernel='rbf'\n",
        "# 動径基底関数　radial basis function\n",
        "\n",
        "X0, X1 = X[y == 0, :], X[y == 1, :]\n",
        "y0, y1 = y[y == 0], y[y == 1]\n",
        "plot_boundary_margin_sv(X0, y0, X1, y1, kernel='rbf', C=1e3, xmin=0, ymin=0)\n"
      ],
      "execution_count": null,
      "outputs": [
        {
          "output_type": "stream",
          "text": [
            "xx\n",
            "(100, 100)\n",
            "[[0.         0.01010101 0.02020202 ... 0.97979798 0.98989899 1.        ]\n",
            " [0.         0.01010101 0.02020202 ... 0.97979798 0.98989899 1.        ]\n",
            " [0.         0.01010101 0.02020202 ... 0.97979798 0.98989899 1.        ]\n",
            " ...\n",
            " [0.         0.01010101 0.02020202 ... 0.97979798 0.98989899 1.        ]\n",
            " [0.         0.01010101 0.02020202 ... 0.97979798 0.98989899 1.        ]\n",
            " [0.         0.01010101 0.02020202 ... 0.97979798 0.98989899 1.        ]]\n",
            "yy\n",
            "(100, 100)\n",
            "[[0.         0.         0.         ... 0.         0.         0.        ]\n",
            " [0.01010101 0.01010101 0.01010101 ... 0.01010101 0.01010101 0.01010101]\n",
            " [0.02020202 0.02020202 0.02020202 ... 0.02020202 0.02020202 0.02020202]\n",
            " ...\n",
            " [0.97979798 0.97979798 0.97979798 ... 0.97979798 0.97979798 0.97979798]\n",
            " [0.98989899 0.98989899 0.98989899 ... 0.98989899 0.98989899 0.98989899]\n",
            " [1.         1.         1.         ... 1.         1.         1.        ]]\n",
            "xy\n",
            "(10000, 2)\n",
            "[[0.         0.        ]\n",
            " [0.01010101 0.        ]\n",
            " [0.02020202 0.        ]\n",
            " ...\n",
            " [0.97979798 1.        ]\n",
            " [0.98989899 1.        ]\n",
            " [1.         1.        ]]\n",
            "p\n",
            "(100, 100)\n",
            "[[-4.45691027 -4.52810107 -4.60270759 ... -4.04651433 -4.02084281\n",
            "  -3.99624675]\n",
            " [-4.5286077  -4.60305522 -4.68106409 ... -4.1057702  -4.07881804\n",
            "  -4.05294705]\n",
            " [-4.60309621 -4.68078698 -4.76218124 ... -4.16835385 -4.14011335\n",
            "  -4.11295296]\n",
            " ...\n",
            " [-1.11923883 -0.84018586 -0.55302115 ... -0.91862269 -1.14162111\n",
            "  -1.35750794]\n",
            " [-1.06474355 -0.79026679 -0.50817808 ... -0.86476386 -1.08349321\n",
            "  -1.29552659]\n",
            " [-1.02466432 -0.75502448 -0.47824928 ... -0.81989791 -1.0341263\n",
            "  -1.24206283]]\n"
          ],
          "name": "stdout"
        },
        {
          "output_type": "display_data",
          "data": {
            "image/png": "[encoded data removed]",
            "text/plain": [
              "<Figure size 432x288 with 1 Axes>"
            ]
          },
          "metadata": {
            "tags": [],
            "needs_background": "light"
          }
        }
      ]
    },
    {
      "cell_type": "markdown",
      "metadata": {
        "id": "D1ggb_bAVYYy"
      },
      "source": [
        "### ●決定木"
      ]
    },
    {
      "cell_type": "markdown",
      "metadata": {
        "id": "67axGAk1b7U-"
      },
      "source": [
        "情報利得　＝　親ノードでの不純度　ー　子ノードでの不純度の合計  \n",
        "ジニ不純度、エントロピー、分類誤差  \n",
        "  \n",
        "ジニ不純度 各ノードに間違ったクラスが振り分けられる確率  \n",
        "あるノードにクラス０が振り分けられる確率0.６、クラス１が振り分けられる確率0.4  \n",
        "クラス０が１に  \n",
        "0.4×0.6=0.24  \n",
        "クラス１が０に  \n",
        "0.6×0.4=0.24  \n",
        "  \n",
        " P(0)(1-P(0))+P(1)(1-P(1))  \n",
        "=(P(0)+P(1))-(P(0)^2+P(1)^2)\n",
        "=1-(P(0)^2+P(1)^2)  \n",
        "=1-ΣP(c)^2  \n",
        "\n",
        "親ノードのジニ不純度：0.18 左子ノード：0.255 右子ノード0.04875  \n",
        "情報利得：0.18 - (600/1000)*0.255 - (400/1000)*0.04875 = 0.0075"
      ]
    },
    {
      "cell_type": "code",
      "metadata": {
        "colab": {
          "base_uri": "https://localhost:8080/"
        },
        "id": "MlEhAnouUHtN",
        "outputId": "f5649df7-0d66-4d27-b7e6-597c32ee3e7f"
      },
      "source": [
        "# treeモジュール　DecisionTreeCkassifierクラス\n",
        "# fitメソッド、predictメソッド\n",
        "# max_depth=3 木の最大深さ３\n",
        "from sklearn.datasets import load_iris\n",
        "from sklearn.model_selection import train_test_split\n",
        "from sklearn.tree import DecisionTreeClassifier\n",
        "\n",
        "iris = load_iris()\n",
        "X, y = iris.data, iris.target\n",
        "\n",
        "X_train, X_test, y_train, y_test = train_test_split(X, y, test_size=0.3, random_state=123)\n",
        "\n",
        "# 決定木のインスタンス化\n",
        "tree = DecisionTreeClassifier(max_depth=3)\n",
        "# 学習\n",
        "tree.fit(X_train, y_train)"
      ],
      "execution_count": null,
      "outputs": [
        {
          "output_type": "execute_result",
          "data": {
            "text/plain": [
              "DecisionTreeClassifier(ccp_alpha=0.0, class_weight=None, criterion='gini',\n",
              "                       max_depth=3, max_features=None, max_leaf_nodes=None,\n",
              "                       min_impurity_decrease=0.0, min_impurity_split=None,\n",
              "                       min_samples_leaf=1, min_samples_split=2,\n",
              "                       min_weight_fraction_leaf=0.0, presort='deprecated',\n",
              "                       random_state=None, splitter='best')"
            ]
          },
          "metadata": {
            "tags": []
          },
          "execution_count": 1
        }
      ]
    },
    {
      "cell_type": "code",
      "metadata": {
        "colab": {
          "base_uri": "https://localhost:8080/"
        },
        "id": "U5urA8BYhKWl",
        "outputId": "dd0d27c5-a702-457e-d559-67f67372b92b"
      },
      "source": [
        "# Google drive\n",
        "# \"/content/drive/My Drive/Colab Files/201704health.csv\"\n",
        "\n",
        "from google.colab import drive\n",
        "drive.mount('/content/drive')\n"
      ],
      "execution_count": null,
      "outputs": [
        {
          "output_type": "stream",
          "text": [
            "Mounted at /content/drive\n"
          ],
          "name": "stdout"
        }
      ]
    },
    {
      "cell_type": "code",
      "metadata": {
        "colab": {
          "base_uri": "https://localhost:8080/"
        },
        "id": "byh1PBMjeLZI",
        "outputId": "dc363ca5-aa7c-4865-9228-e5631163abfb"
      },
      "source": [
        "from pydotplus import graph_from_dot_data\n",
        "from sklearn.tree import export_graphviz\n",
        "\n",
        "# scikit-learnで、dot形式のデータを抽出\n",
        "dot_data = export_graphviz(tree, \n",
        "                           filled=True,\n",
        "                           rounded=True,\n",
        "                           class_names=['Setosa', 'Versicolor', 'Virginica'],\n",
        "                           feature_names=['Sepal Length',\n",
        "                                          'Sepal Width',\n",
        "                                          'Petal Length',\n",
        "                                          'Petal Width'],\n",
        "                           out_file=None)\n",
        "\n",
        "# pydotplusで、決定木のプロットを出力\n",
        "graph = graph_from_dot_data(dot_data)\n",
        "graph.write_png('/content/drive/My Drive/Colab Files/tree.png')"
      ],
      "execution_count": null,
      "outputs": [
        {
          "output_type": "execute_result",
          "data": {
            "text/plain": [
              "True"
            ]
          },
          "metadata": {
            "tags": []
          },
          "execution_count": 5
        }
      ]
    },
    {
      "cell_type": "code",
      "metadata": {
        "colab": {
          "base_uri": "https://localhost:8080/"
        },
        "id": "z_aHUigvfoAN",
        "outputId": "d74a80de-1db6-4990-945a-bafe27175423"
      },
      "source": [
        "# 予測\n",
        "y_pred = tree.predict(X_test)\n",
        "y_pred"
      ],
      "execution_count": null,
      "outputs": [
        {
          "output_type": "execute_result",
          "data": {
            "text/plain": [
              "array([1, 2, 2, 1, 0, 1, 1, 0, 0, 1, 2, 0, 1, 2, 2, 2, 0, 0, 1, 0, 0, 1,\n",
              "       0, 2, 0, 0, 0, 2, 2, 0, 2, 1, 0, 0, 1, 1, 2, 0, 0, 1, 1, 0, 2, 2,\n",
              "       2])"
            ]
          },
          "metadata": {
            "tags": []
          },
          "execution_count": 6
        }
      ]
    },
    {
      "cell_type": "markdown",
      "metadata": {
        "id": "VJqdCopyj2c0"
      },
      "source": [
        "### ●ランダムフォレスト"
      ]
    },
    {
      "cell_type": "markdown",
      "metadata": {
        "id": "oXaswaWIkPyO"
      },
      "source": [
        "　データサンプルの特徴量をランダムに選んで決定木を構築する処理を複数回繰り返し、各木の推定結果の多数決や平均値により分類・回帰を行う  \n",
        "  ブートストラップデータ：ランダムに選択されたサンプルと特徴量のデータ  \n",
        "  アンサンブル学習"
      ]
    },
    {
      "cell_type": "code",
      "metadata": {
        "colab": {
          "base_uri": "https://localhost:8080/"
        },
        "id": "m63EujVOjygT",
        "outputId": "f62a6303-9828-4eea-8f65-0f533d26a220"
      },
      "source": [
        "# ensembleモジュール　RandomForestClassifier\n",
        "# fit predict\n",
        "# n_estimators=100 決定木の個数\n",
        "\n",
        "from sklearn.ensemble import RandomForestClassifier\n",
        "\n",
        "forest = RandomForestClassifier(n_estimators=100, random_state=123)\n",
        "\n",
        "forest.fit(X_train, y_train)\n",
        "\n",
        "y_pred = forest.predict(X_test)\n",
        "y_pred"
      ],
      "execution_count": null,
      "outputs": [
        {
          "output_type": "execute_result",
          "data": {
            "text/plain": [
              "array([1, 2, 2, 1, 0, 1, 1, 0, 0, 1, 2, 0, 1, 2, 2, 2, 0, 0, 1, 0, 0, 1,\n",
              "       0, 2, 0, 0, 0, 2, 2, 0, 2, 1, 0, 0, 1, 1, 2, 0, 0, 1, 1, 0, 2, 2,\n",
              "       2])"
            ]
          },
          "metadata": {
            "tags": []
          },
          "execution_count": 7
        }
      ]
    },
    {
      "cell_type": "markdown",
      "metadata": {
        "id": "CjRHDFG8N1Jj"
      },
      "source": [
        "## ▶︎4.4.3 回帰"
      ]
    },
    {
      "cell_type": "markdown",
      "metadata": {
        "id": "vCreU9MeQHvW"
      },
      "source": [
        "回帰とは、ある目的変数を別の単一または複数の説明変数、特徴量で説明するタスク  \n",
        "単回帰→　説明変数（単一）：理科の点数　　　　　　目的変数：数学の点数  \n",
        "重回帰→　説明変数（複数）：物件の広さ、居住地域　目的変数：家賃  \n",
        "線形回帰　目的変数が、それぞれの説明変数の値の一次式の和で表される  \n",
        " y = a_0 + a_1x_1 + ... +a_px_p  \n",
        " で、係数a_0,a_1,...,a_pを求める"
      ]
    },
    {
      "cell_type": "code",
      "metadata": {
        "colab": {
          "base_uri": "https://localhost:8080/"
        },
        "id": "bYLqiQMimqxr",
        "outputId": "15892190-0021-499a-e1ba-a594ed8cbd4f"
      },
      "source": [
        "# linear_modelモジュールの　LinearRegressionクラス\n",
        "# Bostonデータセット\n",
        "from sklearn.linear_model import LinearRegression\n",
        "from sklearn.datasets import load_boston\n",
        "from sklearn.model_selection import train_test_split\n",
        "\n",
        "boston = load_boston()\n",
        "X, y = boston.data, boston.target\n",
        "\n",
        "X_train, X_test, y_train, y_test = train_test_split(X, y, test_size=0.3, random_state=123)\n",
        "\n",
        "lr = LinearRegression()\n",
        "\n",
        "lr.fit(X_train, y_train)\n"
      ],
      "execution_count": null,
      "outputs": [
        {
          "output_type": "execute_result",
          "data": {
            "text/plain": [
              "LinearRegression(copy_X=True, fit_intercept=True, n_jobs=None, normalize=False)"
            ]
          },
          "metadata": {
            "tags": []
          },
          "execution_count": 3
        }
      ]
    },
    {
      "cell_type": "code",
      "metadata": {
        "colab": {
          "base_uri": "https://localhost:8080/"
        },
        "id": "Gkr8MiZbKhWa",
        "outputId": "b14b84b2-ebcd-4b1b-d9e9-c78475d6513c"
      },
      "source": [
        "print(X_train)\n",
        "print(y_train)"
      ],
      "execution_count": null,
      "outputs": [
        {
          "output_type": "stream",
          "text": [
            "[[2.21880e-01 2.00000e+01 6.96000e+00 ... 1.86000e+01 3.90770e+02\n",
            "  6.58000e+00]\n",
            " [5.36000e-02 2.10000e+01 5.64000e+00 ... 1.68000e+01 3.96900e+02\n",
            "  5.28000e+00]\n",
            " [6.88800e-02 0.00000e+00 2.46000e+00 ... 1.78000e+01 3.96900e+02\n",
            "  9.45000e+00]\n",
            " ...\n",
            " [3.51140e-01 0.00000e+00 7.38000e+00 ... 1.96000e+01 3.96900e+02\n",
            "  7.70000e+00]\n",
            " [9.18702e+00 0.00000e+00 1.81000e+01 ... 2.02000e+01 3.96900e+02\n",
            "  2.36000e+01]\n",
            " [4.55587e+00 0.00000e+00 1.81000e+01 ... 2.02000e+01 3.54700e+02\n",
            "  7.12000e+00]]\n",
            "[35.2 25.  36.2 16.1 10.9 36.4 25.  20.1 16.8 23.7 42.3 17.9 12.7 50.\n",
            " 18.4 33.4 22.9 14.6 29.9 22.6 22.5 29.  50.  37.9 21.4 29.4 20.3 23.\n",
            " 30.1 21.7 36.5 25.  24.5 37.3 33.8 24.7 32.7 23.1 25.1 21.7 13.4 24.8\n",
            " 12.7 11.8  8.3 20.2 41.3 23.2 23.1 24.3 19.3 10.8 18.6 29.  23.9 19.5\n",
            " 13.1 31.7 21.  18.2 21.  21.2 14.1 33.2 13.8 19.9 21.7 20.6 21.2 13.6\n",
            " 18.9 18.  24.1 28.7 23.4 15.2 23.6 13.8 11.7 16.3 50.  13.5 50.  31.5\n",
            " 22.6 12.1 21.7 14.1 22.4 13.4 33.1 20.6  8.3 36.2  6.3 21.5 23.3 24.\n",
            " 19.1 29.6 27.9 16.2  9.5 24.6 15.6  8.1 15.3 19.  22.  28.  19.2 14.5\n",
            "  9.7 30.7 20.6 16.  19.8 17.8 21.2 28.7 41.7  7.2 13.4 17.7 26.7 23.8\n",
            " 21.8 27.1 18.3  5.  10.4 18.5 17.4 28.6 50.  14.2 31.2  8.4 23.  35.1\n",
            " 23.9 20.3 46.7 15.  18.4 17.8 22.5 18.8 20.9 50.  29.1 17.1 10.5 18.8\n",
            " 27.5 19.5 22.   5.  21.7 50.  35.4 32.  20.5 16.8 22.9  8.5 50.  22.2\n",
            " 15.2 22.6  7.  19.3 26.4 12.8 19.2 19.7 38.7 30.3 25.  23.7 11.7 17.5\n",
            "  5.6 25.  14.9 22.3 20.5 50.  24.8 20.7 23.2 19.7 19.4 29.8 34.9 11.\n",
            " 12.5 23.5 24.4 16.5 20.8 23.3 24.4 19.3 19.6 21.  14.4 23.6 21.4 28.2\n",
            " 24.8 18.5 21.9 23.1 18.7 26.6 25.  44.  22.  27.1 16.2  8.4 20.  22.5\n",
            " 19.4 25.  18.4 23.1 33.1 31.1 19.5 21.2 20.6 19.8 21.9 21.7 14.8 14.\n",
            " 34.6 13.3 18.2 22.2 22.8 48.8 27.5 23.7 30.1 13.1 11.9 18.2 19.3 15.4\n",
            " 17.8 22.  33.4 16.5 24.7 36.1 48.3 13.8 20.5 21.6 20.2 43.5 13.3 19.4\n",
            " 13.9 32.5 21.7 50.  24.7 14.3 22.6 17.6 20.9 21.1 15.1 12.  17.  50.\n",
            " 11.9 24.2 20.  24.3 23.  17.8 25.2 15.6 22.6 29.1 12.7 23.8  8.8 17.1\n",
            " 33.  24.6 18.3  7.4 23.8 20.  28.5 17.2 22.9 20.4 28.1 30.1 22.7 39.8\n",
            " 24.5 10.4 33.2 19.9 18.1 23.2 11.8  7.  23.9 23.9 30.8 18.7 34.7 15.2\n",
            " 22.1 28.4 17.4 24.4 20.1 16.7 42.8 20.7 19.  27.5 22.8 44.8 14.5 13.2\n",
            " 23.4 16.6 15.7 18.7 21.4 50.  23.7 31.6 17.3 19.5 22.9 17.5 24.3 43.8\n",
            " 16.7 20.4 11.3 27.5]\n"
          ],
          "name": "stdout"
        }
      ]
    },
    {
      "cell_type": "code",
      "metadata": {
        "id": "Ijhez9UwWwag"
      },
      "source": [
        "# 予測\n",
        "y_pred = lr.predict(X_test)"
      ],
      "execution_count": null,
      "outputs": []
    },
    {
      "cell_type": "code",
      "metadata": {
        "colab": {
          "base_uri": "https://localhost:8080/",
          "height": 279
        },
        "id": "_pwygPXXXNUE",
        "outputId": "5d530291-95a2-48ea-e0b9-c8bd4f6fbeca"
      },
      "source": [
        "# 検証\n",
        "import matplotlib.pyplot as plt\n",
        "\n",
        "fig, ax = plt.subplots()\n",
        "ax.scatter(y_pred, y_test)\n",
        "ax.plot((0,50),(0,50), linestyle='dashed', color='red')\n",
        "ax.set_xlabel('predicted value')\n",
        "ax.set_ylabel('actual value')\n",
        "plt.show()"
      ],
      "execution_count": null,
      "outputs": [
        {
          "output_type": "display_data",
          "data": {
            "image/png": "[encoded data removed]",
            "text/plain": [
              "<Figure size 432x288 with 1 Axes>"
            ]
          },
          "metadata": {
            "tags": [],
            "needs_background": "light"
          }
        }
      ]
    },
    {
      "cell_type": "markdown",
      "metadata": {
        "id": "9UAhHq5iYMiE"
      },
      "source": [
        "## ▶︎4.4.4 次元削減"
      ]
    },
    {
      "cell_type": "markdown",
      "metadata": {
        "id": "O1kF9mwcYm9C"
      },
      "source": [
        "### ●主成分分析"
      ]
    },
    {
      "cell_type": "markdown",
      "metadata": {
        "id": "C53zH4jPaPAT"
      },
      "source": [
        "PCA Principal Component Analysis "
      ]
    },
    {
      "cell_type": "code",
      "metadata": {
        "colab": {
          "base_uri": "https://localhost:8080/",
          "height": 574
        },
        "id": "D-1vZDEQX7Gu",
        "outputId": "42a5fb32-15ea-4f6e-ea56-7ad98da70274"
      },
      "source": [
        "# x軸　０位上１未満の一様乱数\n",
        "# y軸　xの２倍＋（０位上１未満の一様乱数を0.５倍）\n",
        "\n",
        "import numpy as np\n",
        "import matplotlib.pyplot as plt\n",
        "\n",
        "np.random.seed(123)\n",
        "\n",
        "X = np.random.random(size=50)\n",
        "\n",
        "Y = 2*X + 0.5*np.random.rand(50)\n",
        "\n",
        "fig, ax = plt.subplots()\n",
        "ax.scatter(X, Y)\n",
        "plt.show()\n",
        "\n",
        "print(X)\n",
        "print(Y)\n"
      ],
      "execution_count": null,
      "outputs": [
        {
          "output_type": "display_data",
          "data": {
            "image/png": "[encoded data removed]",
            "text/plain": [
              "<Figure size 432x288 with 1 Axes>"
            ]
          },
          "metadata": {
            "tags": [],
            "needs_background": "light"
          }
        },
        {
          "output_type": "stream",
          "text": [
            "[0.69646919 0.28613933 0.22685145 0.55131477 0.71946897 0.42310646\n",
            " 0.9807642  0.68482974 0.4809319  0.39211752 0.34317802 0.72904971\n",
            " 0.43857224 0.0596779  0.39804426 0.73799541 0.18249173 0.17545176\n",
            " 0.53155137 0.53182759 0.63440096 0.84943179 0.72445532 0.61102351\n",
            " 0.72244338 0.32295891 0.36178866 0.22826323 0.29371405 0.63097612\n",
            " 0.09210494 0.43370117 0.43086276 0.4936851  0.42583029 0.31226122\n",
            " 0.42635131 0.89338916 0.94416002 0.50183668 0.62395295 0.1156184\n",
            " 0.31728548 0.41482621 0.86630916 0.25045537 0.48303426 0.98555979\n",
            " 0.51948512 0.61289453]\n",
            "[1.4532527  0.98544907 0.75523297 1.37516354 1.61031986 0.99827331\n",
            " 2.1700395  1.71030986 1.39959222 1.03944621 1.02101292 1.75106769\n",
            " 1.18959624 0.45670032 1.21725973 1.51758831 0.74682488 0.4727367\n",
            " 1.16021423 1.34988365 1.31665818 2.141527   1.76253514 1.5837552\n",
            " 1.45295137 0.94313377 1.00196991 0.53600628 0.66396335 1.60971701\n",
            " 0.34359309 1.21338749 1.13891715 1.18184548 1.31422683 1.04535744\n",
            " 1.0314014  1.80857406 2.04070407 1.20276619 1.60038532 0.72891603\n",
            " 0.8125284  1.21092633 2.02920677 0.84676163 1.04163225 2.17055772\n",
            " 1.15939819 1.39751706]\n"
          ],
          "name": "stdout"
        }
      ]
    },
    {
      "cell_type": "code",
      "metadata": {
        "colab": {
          "base_uri": "https://localhost:8080/"
        },
        "id": "obtqyV2MblHq",
        "outputId": "10b5bf0c-dd0e-44da-a86b-2aad2e3821b0"
      },
      "source": [
        "# PCAクラスのfit_transformメソッド\n",
        "# 引数　NumPy配列　行がデータのサンプル　列が各次元\n",
        "# 50×2\n",
        "# PCAクラスのインスタンス化引数　n_components=2 \n",
        "# 主成分分析により、新たな２変数に変換する\n",
        "from sklearn.decomposition import PCA\n",
        "\n",
        "pca = PCA(n_components=2)\n",
        "# 主成分分析を実行\n",
        "X_pca = pca.fit_transform(np.hstack((X[:, np.newaxis], Y[:, np.newaxis])))\n",
        "\n",
        "print(np.hstack((X[:, np.newaxis], Y[:, np.newaxis])))\n"
      ],
      "execution_count": null,
      "outputs": [
        {
          "output_type": "stream",
          "text": [
            "[[0.69646919 1.4532527 ]\n",
            " [0.28613933 0.98544907]\n",
            " [0.22685145 0.75523297]\n",
            " [0.55131477 1.37516354]\n",
            " [0.71946897 1.61031986]\n",
            " [0.42310646 0.99827331]\n",
            " [0.9807642  2.1700395 ]\n",
            " [0.68482974 1.71030986]\n",
            " [0.4809319  1.39959222]\n",
            " [0.39211752 1.03944621]\n",
            " [0.34317802 1.02101292]\n",
            " [0.72904971 1.75106769]\n",
            " [0.43857224 1.18959624]\n",
            " [0.0596779  0.45670032]\n",
            " [0.39804426 1.21725973]\n",
            " [0.73799541 1.51758831]\n",
            " [0.18249173 0.74682488]\n",
            " [0.17545176 0.4727367 ]\n",
            " [0.53155137 1.16021423]\n",
            " [0.53182759 1.34988365]\n",
            " [0.63440096 1.31665818]\n",
            " [0.84943179 2.141527  ]\n",
            " [0.72445532 1.76253514]\n",
            " [0.61102351 1.5837552 ]\n",
            " [0.72244338 1.45295137]\n",
            " [0.32295891 0.94313377]\n",
            " [0.36178866 1.00196991]\n",
            " [0.22826323 0.53600628]\n",
            " [0.29371405 0.66396335]\n",
            " [0.63097612 1.60971701]\n",
            " [0.09210494 0.34359309]\n",
            " [0.43370117 1.21338749]\n",
            " [0.43086276 1.13891715]\n",
            " [0.4936851  1.18184548]\n",
            " [0.42583029 1.31422683]\n",
            " [0.31226122 1.04535744]\n",
            " [0.42635131 1.0314014 ]\n",
            " [0.89338916 1.80857406]\n",
            " [0.94416002 2.04070407]\n",
            " [0.50183668 1.20276619]\n",
            " [0.62395295 1.60038532]\n",
            " [0.1156184  0.72891603]\n",
            " [0.31728548 0.8125284 ]\n",
            " [0.41482621 1.21092633]\n",
            " [0.86630916 2.02920677]\n",
            " [0.25045537 0.84676163]\n",
            " [0.48303426 1.04163225]\n",
            " [0.98555979 2.17055772]\n",
            " [0.51948512 1.15939819]\n",
            " [0.61289453 1.39751706]]\n"
          ],
          "name": "stdout"
        }
      ]
    },
    {
      "cell_type": "code",
      "metadata": {
        "colab": {
          "base_uri": "https://localhost:8080/",
          "height": 1000
        },
        "id": "1px41kzC_Jp7",
        "outputId": "5775963a-dc0e-41be-cc75-79ca4cdfd06a"
      },
      "source": [
        "\n",
        "fig, ax = plt.subplots()\n",
        "ax.scatter(X_pca[:, 0], X_pca[:, 1])\n",
        "ax.set_xlabel('PC1')\n",
        "ax.set_ylabel('PC2')\n",
        "ax.set_xlim((-1.1, 1.1))\n",
        "ax.set_ylim((-1.1, 1.1))\n",
        "plt.show()\n",
        "\n",
        "print(X_pca)"
      ],
      "execution_count": null,
      "outputs": [
        {
          "output_type": "display_data",
          "data": {
            "image/png": "[encoded data removed]",
            "text/plain": [
              "<Figure size 432x288 with 1 Axes>"
            ]
          },
          "metadata": {
            "tags": [],
            "needs_background": "light"
          }
        },
        {
          "output_type": "stream",
          "text": [
            "[[ 2.65453143e-01 -8.38088940e-02]\n",
            " [-3.37202083e-01  7.11669243e-02]\n",
            " [-5.69391130e-01  2.01497553e-02]\n",
            " [ 1.30249181e-01  1.04652303e-02]\n",
            " [ 4.15989354e-01 -3.34310249e-02]\n",
            " [-2.63931026e-01 -4.52624826e-02]\n",
            " [ 1.03338789e+00 -1.39290318e-02]\n",
            " [ 4.89575970e-01  4.26142718e-02]\n",
            " [ 1.20276126e-01  8.42964348e-02]\n",
            " [-2.41180266e-01  9.75211441e-04]\n",
            " [-2.79720201e-01  3.63239619e-02]\n",
            " [ 5.45906096e-01  2.15542788e-02]\n",
            " [-8.62286343e-02  2.73013679e-02]\n",
            " [-9.11240534e-01  3.45625230e-02]\n",
            " [-7.98385481e-02  7.59527126e-02]\n",
            " [ 3.41606184e-01 -9.18220640e-02]\n",
            " [-5.96918059e-01  5.59373115e-02]\n",
            " [-8.44669988e-01 -6.15057574e-02]\n",
            " [-7.04754473e-02 -6.89288676e-02]\n",
            " [ 9.88948353e-02  1.64425236e-02]\n",
            " [ 1.15549322e-01 -9.00837969e-02]\n",
            " [ 9.48661450e-01  9.03906391e-02]\n",
            " [ 5.54064782e-01  3.08304029e-02]\n",
            " [ 3.43332312e-01  5.13454623e-02]\n",
            " [ 2.76909157e-01 -1.07122184e-01]\n",
            " [-3.58340256e-01  1.92107516e-02]\n",
            " [-2.88311694e-01  1.11212117e-02]\n",
            " [-7.64373946e-01 -8.00701788e-02]\n",
            " [-6.20650575e-01 -8.07126231e-02]\n",
            " [ 3.75505249e-01  4.52606800e-02]\n",
            " [-9.97530488e-01 -4.54299858e-02]\n",
            " [-6.71980814e-02  4.23874244e-02]\n",
            " [-1.34930643e-01  1.13038531e-02]\n",
            " [-6.82665251e-02 -2.53756048e-02]\n",
            " [ 1.92297918e-02  9.49302114e-02]\n",
            " [-2.71953144e-01  7.49008541e-02]\n",
            " [-2.32905472e-01 -3.32037149e-02]\n",
            " [ 6.71403879e-01 -9.91302086e-02]\n",
            " [ 9.01456115e-01 -3.96491841e-02]\n",
            " [-4.59189124e-02 -2.32056834e-02]\n",
            " [ 3.64008103e-01  4.73152090e-02]\n",
            " [-6.43085469e-01  1.07525490e-01]\n",
            " [-4.77442907e-01 -3.46827484e-02]\n",
            " [-7.79144879e-02  5.81189245e-02]\n",
            " [ 8.56054535e-01  2.46286577e-02]\n",
            " [-4.77063444e-01  4.04040997e-02]\n",
            " [-1.98189275e-01 -7.91647173e-02]\n",
            " [ 1.03601506e+00 -1.79742992e-02]\n",
            " [-7.66503919e-02 -5.85302869e-02]\n",
            " [ 1.77993099e-01 -3.43930405e-02]]\n"
          ],
          "name": "stdout"
        }
      ]
    },
    {
      "cell_type": "markdown",
      "metadata": {
        "id": "BD8xs6ZhBmI2"
      },
      "source": [
        "## ▶︎4.4.5 モデルの評価"
      ]
    },
    {
      "cell_type": "markdown",
      "metadata": {
        "id": "-XdYTXOVJHR4"
      },
      "source": [
        "・カテゴリの分類精度  \n",
        "・予測確率の正確さ"
      ]
    },
    {
      "cell_type": "markdown",
      "metadata": {
        "id": "w4x7ey6KI9gy"
      },
      "source": [
        "### ●カテゴリの分類精度"
      ]
    },
    {
      "cell_type": "markdown",
      "metadata": {
        "id": "c0KnloXmJWEI"
      },
      "source": [
        "・適合率　precision  \n",
        "・再現率　recall  \n",
        "・F値　F-value  \n",
        "・正解率　accuracy  \n",
        "混同行列　confusion matrix"
      ]
    },
    {
      "cell_type": "markdown",
      "metadata": {
        "id": "f3vRpmdGLJKL"
      },
      "source": [
        "tp True Positive 真陽性  \n",
        "fp False Positive 偽陽性  \n",
        "fn False Nagative 偽陰性  \n",
        "tn True Negative 真陰性"
      ]
    },
    {
      "cell_type": "markdown",
      "metadata": {
        "id": "zCTk2gEyMXV3"
      },
      "source": [
        "・適合率　正例と予測したデータのうち、実際に正例の割合   \n",
        "　予測するクラスをできるだけ間違えたくない時に重視  \n",
        "　= tp / (tp + fp)  \n",
        "・再現率　実際の正例のうち、正例と予測したものの割合  \n",
        "　= tp / (tp + fn)  \n",
        "・F値　F-value　適合率と再現率の調和平均  \n",
        "　一般的に適合率と再現率はトレードオフ  \n",
        "　F値は両方の指標がバランス良い値になることを目指す  \n",
        "　= 2 / (1 / 適合率 + 1 / 再現率)  \n",
        "　= 2 * 適合率 * 再現率 / (適合率 + 再現率)   \n",
        "・正解率　accuracy  予測と実績が一致したデータの割合  \n",
        "　= (tp + tn) / (tp + fp + fn + tn)"
      ]
    },
    {
      "cell_type": "code",
      "metadata": {
        "id": "_ik1Wb_7BQZs"
      },
      "source": [
        "from sklearn.datasets import load_iris\n",
        "from sklearn.svm import SVC\n",
        "from sklearn.model_selection import train_test_split\n",
        "\n",
        "iris = load_iris()\n",
        "X, y = iris.data[:100, :], iris.target[:100]\n",
        "# 分割\n",
        "X_train, X_test, y_train, y_test = train_test_split(X, y, test_size=0.3, random_state=123)\n",
        "# SVMインスタンス化\n",
        "svc = SVC()\n",
        "# SVMで学習\n",
        "svc.fit(X_train, y_train)\n",
        "# テストデータセットの予測\n",
        "y_pred = svc.predict(X_test) "
      ],
      "execution_count": null,
      "outputs": []
    },
    {
      "cell_type": "code",
      "metadata": {
        "colab": {
          "base_uri": "https://localhost:8080/"
        },
        "id": "50kWh94ISqlg",
        "outputId": "ac3a3028-9f53-4ce3-c98c-69b27dccb649"
      },
      "source": [
        "from sklearn.metrics import classification_report\n",
        "# 適合率、再現率、F値を出力\n",
        "print(classification_report(y_test, y_pred))"
      ],
      "execution_count": null,
      "outputs": [
        {
          "output_type": "stream",
          "text": [
            "              precision    recall  f1-score   support\n",
            "\n",
            "           0       1.00      1.00      1.00        15\n",
            "           1       1.00      1.00      1.00        15\n",
            "\n",
            "    accuracy                           1.00        30\n",
            "   macro avg       1.00      1.00      1.00        30\n",
            "weighted avg       1.00      1.00      1.00        30\n",
            "\n"
          ],
          "name": "stdout"
        }
      ]
    },
    {
      "cell_type": "markdown",
      "metadata": {
        "id": "L5hu_uMTT7L5"
      },
      "source": [
        "交差検証　cross validation"
      ]
    },
    {
      "cell_type": "markdown",
      "metadata": {
        "id": "S4PR27Y7UjH2"
      },
      "source": [
        "　k分割交差検証  \n",
        "　１０分割交差検証　10-fold cross validation  \n",
        "　層化k分割交差検証　stratified k-fold cross validation  \n",
        "　　→目的変数（クラスラベル）の割合が一定となるk分割交差検証"
      ]
    },
    {
      "cell_type": "code",
      "metadata": {
        "colab": {
          "base_uri": "https://localhost:8080/"
        },
        "id": "eBNfZ3o7TLhP",
        "outputId": "f60dbac0-6925-4508-fcf0-8e6b58e8c2d6"
      },
      "source": [
        "# model_selectionモジュールの　cross_val_score関数\n",
        "# は層化k分割交差検証を行う\n",
        "# cv引数に分割数、scoring引数に評価指標　precision, recall, f1-score, accracy\n",
        "from sklearn.svm import SVC\n",
        "from sklearn.model_selection import cross_val_score\n",
        "\n",
        "svc = SVC()\n",
        "\n",
        "cross_val_score(svc, X, y, cv=10, scoring='precision')\n",
        "\n",
        "# ↓結果は適合率が１０回とも１となる"
      ],
      "execution_count": null,
      "outputs": [
        {
          "output_type": "execute_result",
          "data": {
            "text/plain": [
              "array([1., 1., 1., 1., 1., 1., 1., 1., 1., 1.])"
            ]
          },
          "metadata": {
            "tags": []
          },
          "execution_count": 9
        }
      ]
    },
    {
      "cell_type": "markdown",
      "metadata": {
        "id": "EaqpjnicXqQu"
      },
      "source": [
        "### ●予測確率の正確さ"
      ]
    },
    {
      "cell_type": "markdown",
      "metadata": {
        "id": "gWCOKg4ZXyZR"
      },
      "source": [
        "・ROC曲線　Reciever Operating Charactaristic  \n",
        "・AUC　Area Under the Curve"
      ]
    },
    {
      "cell_type": "markdown",
      "metadata": {
        "id": "P9_U1PK3Zg_-"
      },
      "source": [
        "　　ROC曲線　予測確率の高い順に並べた時、上から順にそこまでは正例と予測したとして、真陽性率、偽陽性率を計算  \n",
        "　　表４.6を参照  \n",
        "　　横軸に偽陽性率、縦軸に真陽性率をプロット"
      ]
    },
    {
      "cell_type": "code",
      "metadata": {
        "colab": {
          "base_uri": "https://localhost:8080/",
          "height": 279
        },
        "id": "KedDGzuMXWPS",
        "outputId": "75eb5176-bcef-4ab2-a1c4-3966358aea50"
      },
      "source": [
        "import numpy as np\n",
        "import matplotlib.pyplot as plt\n",
        "# 偽陽性率と真陽性率を算出\n",
        "fpr = np.array([0,0,0,1,1,2,3,3,3,3,4,5,5,6,7,8,8,8,9,10,10,11,11,11,13,14]) / 14\n",
        "tpr = np.array([0,1,2,2,3,3,3,4,5,6,6,6,7,7,7,7,8,9,9,9,10,10,10,11,11,11]) / 11\n",
        "# ROC曲線をプロット\n",
        "fig, ax = plt.subplots()\n",
        "ax.step(fpr,tpr)\n",
        "ax.set_xlabel('false positive rate')\n",
        "ax.set_ylabel('true positive rate')\n",
        "plt.show()"
      ],
      "execution_count": null,
      "outputs": [
        {
          "output_type": "display_data",
          "data": {
            "image/png": "[encoded data removed]",
            "text/plain": [
              "<Figure size 432x288 with 1 Axes>"
            ]
          },
          "metadata": {
            "tags": [],
            "needs_background": "light"
          }
        }
      ]
    },
    {
      "cell_type": "markdown",
      "metadata": {
        "id": "naQ8KPWyeJER"
      },
      "source": [
        "・AUCの値が１に近づくほど確率が相対的に高いサンプルが正例、相対的低サンプルが負例となる傾向が高まる。この時確率の大きさによって正例負例を区別できる。  \n",
        "　　→このようなモデルはクラスを分類する能力が高い  \n",
        "・AUCの値が0.5に近づくと、確率の大きさによって正例と負例を区別することができず、正例と負礼がランダムに混じっていることを示す"
      ]
    },
    {
      "cell_type": "code",
      "metadata": {
        "colab": {
          "base_uri": "https://localhost:8080/"
        },
        "id": "ws4ag76gcGMZ",
        "outputId": "d1cb6beb-f54e-4663-b8f3-1ae5317e2912"
      },
      "source": [
        "# ROC曲線の元となる真陽性率、偽陽性率の計算\n",
        "# metoricsモジュールの　roc_curve関数\n",
        "from sklearn.metrics import roc_curve\n",
        "\n",
        "# 各ユーザが退会したかどうかのラベル\n",
        "labels = np.array([1,1,0,1,0,0,1,1,1,0,0,1,0,0,0,1,1,0,0,1,0,0,1,0,0])\n",
        "\n",
        "# 各ユーザの予測退会率\n",
        "probs = np.array([0.98,0.95,0.9,0.87,0.85,\n",
        "                 0.8,0.75,0.71,0.63,0.55,\n",
        "                 0.51,0.47,0.43,0.38,0.35,\n",
        "                 0.31,0.28,0.24,0.22,0.19,\n",
        "                 0.15,0.12,0.08,0.04,0.01])\n",
        "\n",
        "# 偽陽性率、真陽性率、閾値を産出\n",
        "fpr, tpr, threshold = roc_curve(labels, probs)\n",
        "print('偽陽性率', fpr)\n",
        "print('真陽性率', tpr)"
      ],
      "execution_count": null,
      "outputs": [
        {
          "output_type": "stream",
          "text": [
            "偽陽性率 [0.         0.         0.         0.07142857 0.07142857 0.21428571\n",
            " 0.21428571 0.35714286 0.35714286 0.57142857 0.57142857 0.71428571\n",
            " 0.71428571 0.85714286 0.85714286 1.        ]\n",
            "真陽性率 [0.         0.09090909 0.18181818 0.18181818 0.27272727 0.27272727\n",
            " 0.54545455 0.54545455 0.63636364 0.63636364 0.81818182 0.81818182\n",
            " 0.90909091 0.90909091 1.         1.        ]\n"
          ],
          "name": "stdout"
        }
      ]
    },
    {
      "cell_type": "code",
      "metadata": {
        "colab": {
          "base_uri": "https://localhost:8080/",
          "height": 279
        },
        "id": "zfF8VGmWkJBN",
        "outputId": "e6f93ef5-83f4-420a-edd1-361f06d3f072"
      },
      "source": [
        "import numpy as np\n",
        "import matplotlib.pyplot as plt\n",
        "\n",
        "# ROC曲線をプロット\n",
        "fig, ax = plt.subplots()\n",
        "\n",
        "ax.step(fpr,tpr)\n",
        "ax.set_xlabel('false positive rate')\n",
        "ax.set_ylabel('true positive rate')\n",
        "plt.show()"
      ],
      "execution_count": null,
      "outputs": [
        {
          "output_type": "display_data",
          "data": {
            "image/png": "[encoded data removed]",
            "text/plain": [
              "<Figure size 432x288 with 1 Axes>"
            ]
          },
          "metadata": {
            "tags": [],
            "needs_background": "light"
          }
        }
      ]
    },
    {
      "cell_type": "code",
      "metadata": {
        "colab": {
          "base_uri": "https://localhost:8080/"
        },
        "id": "UWw0IFoKlT-m",
        "outputId": "bbb2b00a-22ce-45dc-9d98-8f4e4783179b"
      },
      "source": [
        "# AUC\n",
        "# metricsモジュール　ros_auc_score関数\n",
        "# 第１引数：クラスラベル　第２引数：確率\n",
        "from sklearn.metrics import roc_auc_score\n",
        "\n",
        "roc_auc_score(labels, probs)\n",
        "\n"
      ],
      "execution_count": null,
      "outputs": [
        {
          "output_type": "execute_result",
          "data": {
            "text/plain": [
              "0.6558441558441558"
            ]
          },
          "metadata": {
            "tags": []
          },
          "execution_count": 13
        }
      ]
    },
    {
      "cell_type": "markdown",
      "metadata": {
        "id": "wGRQt_xPmYVD"
      },
      "source": [
        "## ▶︎4.4.6 ハイパーパラメータの最適化"
      ]
    },
    {
      "cell_type": "markdown",
      "metadata": {
        "id": "HqRJX0o53uV-"
      },
      "source": [
        "・グリッドサーチ  \n",
        "・ランダムサーチ  \n",
        "グリッドサーチと交差検証の組み合わせ"
      ]
    },
    {
      "cell_type": "code",
      "metadata": {
        "colab": {
          "base_uri": "https://localhost:8080/"
        },
        "id": "lq9IZkk1mUfA",
        "outputId": "c3c73340-9e03-4895-e5bf-ef47e6bad249"
      },
      "source": [
        "# GridSearchCVクラス\n",
        "# １０分割の交差検証、決定ボックの深さの最適値\n",
        "# param_grid引数に、引数名と値のリストを辞書で渡す\n",
        "# cv引数 StratifiedKFoldクラスやKFoldクラスのインスタンスを明示的に指定しなければ、実行結果は毎回変わる\n",
        "\n",
        "from sklearn.datasets import load_iris\n",
        "from sklearn.model_selection import GridSearchCV\n",
        "from sklearn.tree import DecisionTreeClassifier\n",
        "from sklearn.model_selection import train_test_split\n",
        "\n",
        "iris = load_iris()\n",
        "X, y = iris.data, iris.target\n",
        "\n",
        "X_train, X_test, y_train, y_test = train_test_split(X, y, test_size=0.3, random_state=123)\n",
        "\n",
        "clf = DecisionTreeClassifier()\n",
        "param_grid = {'max_depth':[3,4,5]}\n",
        "\n",
        "cv = GridSearchCV(clf,param_grid=param_grid, cv=10)\n",
        "cv.fit(X_train, y_train)"
      ],
      "execution_count": null,
      "outputs": [
        {
          "output_type": "execute_result",
          "data": {
            "text/plain": [
              "GridSearchCV(cv=10, error_score=nan,\n",
              "             estimator=DecisionTreeClassifier(ccp_alpha=0.0, class_weight=None,\n",
              "                                              criterion='gini', max_depth=None,\n",
              "                                              max_features=None,\n",
              "                                              max_leaf_nodes=None,\n",
              "                                              min_impurity_decrease=0.0,\n",
              "                                              min_impurity_split=None,\n",
              "                                              min_samples_leaf=1,\n",
              "                                              min_samples_split=2,\n",
              "                                              min_weight_fraction_leaf=0.0,\n",
              "                                              presort='deprecated',\n",
              "                                              random_state=None,\n",
              "                                              splitter='best'),\n",
              "             iid='deprecated', n_jobs=None, param_grid={'max_depth': [3, 4, 5]},\n",
              "             pre_dispatch='2*n_jobs', refit=True, return_train_score=False,\n",
              "             scoring=None, verbose=0)"
            ]
          },
          "metadata": {
            "tags": []
          },
          "execution_count": 17
        }
      ]
    },
    {
      "cell_type": "code",
      "metadata": {
        "colab": {
          "base_uri": "https://localhost:8080/"
        },
        "id": "LRrEA3QA95op",
        "outputId": "0bfcd3dd-bdee-4f76-a23e-73ffd8b55d39"
      },
      "source": [
        "# 最適な深さを確認する\n",
        "cv.best_params_"
      ],
      "execution_count": null,
      "outputs": [
        {
          "output_type": "execute_result",
          "data": {
            "text/plain": [
              "{'max_depth': 3}"
            ]
          },
          "metadata": {
            "tags": []
          },
          "execution_count": 18
        }
      ]
    },
    {
      "cell_type": "code",
      "metadata": {
        "colab": {
          "base_uri": "https://localhost:8080/"
        },
        "id": "RrNUI_ox-ojZ",
        "outputId": "0f8e6620-112e-45ba-85ef-36e6eb2e358b"
      },
      "source": [
        "# 最適なモデルを確認する\n",
        "cv.best_estimator_"
      ],
      "execution_count": null,
      "outputs": [
        {
          "output_type": "execute_result",
          "data": {
            "text/plain": [
              "DecisionTreeClassifier(ccp_alpha=0.0, class_weight=None, criterion='gini',\n",
              "                       max_depth=3, max_features=None, max_leaf_nodes=None,\n",
              "                       min_impurity_decrease=0.0, min_impurity_split=None,\n",
              "                       min_samples_leaf=1, min_samples_split=2,\n",
              "                       min_weight_fraction_leaf=0.0, presort='deprecated',\n",
              "                       random_state=None, splitter='best')"
            ]
          },
          "metadata": {
            "tags": []
          },
          "execution_count": 19
        }
      ]
    },
    {
      "cell_type": "code",
      "metadata": {
        "colab": {
          "base_uri": "https://localhost:8080/"
        },
        "id": "21p5YomF-yOl",
        "outputId": "9cfdd5e8-6258-4fac-f5ca-c67f3afb7528"
      },
      "source": [
        "# 推定された最適なモデルで予測を行う\n",
        "y_pred = cv.predict(X_test)\n",
        "y_pred"
      ],
      "execution_count": null,
      "outputs": [
        {
          "output_type": "execute_result",
          "data": {
            "text/plain": [
              "array([1, 2, 2, 1, 0, 1, 1, 0, 0, 1, 2, 0, 1, 2, 2, 2, 0, 0, 1, 0, 0, 1,\n",
              "       0, 2, 0, 0, 0, 2, 2, 0, 2, 1, 0, 0, 1, 1, 2, 0, 0, 1, 1, 0, 2, 2,\n",
              "       2])"
            ]
          },
          "metadata": {
            "tags": []
          },
          "execution_count": 20
        }
      ]
    },
    {
      "cell_type": "markdown",
      "metadata": {
        "id": "a9icHyZQ_VWC"
      },
      "source": [
        "## ▶︎4.4.7 クラスタリング"
      ]
    },
    {
      "cell_type": "markdown",
      "metadata": {
        "id": "CmDWPYtoUwmt"
      },
      "source": [
        "教師なし学習  \n",
        "・k-means  \n",
        "・階層的クラスタリング"
      ]
    },
    {
      "cell_type": "markdown",
      "metadata": {
        "id": "XhLfdO1Ml9y_"
      },
      "source": [
        "### ●k-means"
      ]
    },
    {
      "cell_type": "code",
      "metadata": {
        "id": "-JU6ll5J_Rrr",
        "colab": {
          "base_uri": "https://localhost:8080/"
        },
        "outputId": "2b6bd25a-a4fb-46c6-8dd3-8ea6a99db6d4"
      },
      "source": [
        "from sklearn.datasets import load_iris\n",
        "\n",
        "iris = load_iris()\n",
        "data = iris.data\n",
        "# 1,3行目を抽出\n",
        "X = data[:100, [0,2]]\n",
        "\n",
        "type(iris.data)"
      ],
      "execution_count": null,
      "outputs": [
        {
          "output_type": "execute_result",
          "data": {
            "text/plain": [
              "numpy.ndarray"
            ]
          },
          "metadata": {
            "tags": []
          },
          "execution_count": 5
        }
      ]
    },
    {
      "cell_type": "code",
      "metadata": {
        "colab": {
          "base_uri": "https://localhost:8080/",
          "height": 279
        },
        "id": "OAgiN-RAYOMw",
        "outputId": "85d865c1-15e5-4f70-b718-a6b4dd07876d"
      },
      "source": [
        "import matplotlib.pyplot as plt\n",
        "\n",
        "fig, ax = plt.subplots()\n",
        "ax.scatter(X[:, 0], X[:, 1])\n",
        "ax.set_xlabel('Sepal Width')\n",
        "ax.set_ylabel('Petal Width')\n",
        "plt.show()"
      ],
      "execution_count": null,
      "outputs": [
        {
          "output_type": "display_data",
          "data": {
            "image/png": "[encoded data removed]",
            "text/plain": [
              "<Figure size 432x288 with 1 Axes>"
            ]
          },
          "metadata": {
            "tags": [],
            "needs_background": "light"
          }
        }
      ]
    },
    {
      "cell_type": "code",
      "metadata": {
        "id": "AwK7Vat-YyxY"
      },
      "source": [
        "# clusterモジュールの　KMeansクラス\n",
        "# インスタンス化の引数\n",
        "#　n_cluster:クラスタ数\n",
        "# init:random,k-means++(初期のクラスタ中心が離れた位置に)\n",
        "# n_init:k-meansを実行する回数、,\n",
        "# max_iter:k-meansで反復する最大回数\n",
        "# tol:k-meansの収束を判定する許容誤差\n",
        "# random_state:乱数のシード固定指定用整数\n",
        "# fit_predictメソッド\n",
        "from sklearn.cluster import KMeans\n",
        "\n",
        "km = KMeans(n_clusters=3, init='random', n_init=10, random_state=123)\n",
        "\n",
        "y_km = km.fit_predict(X)"
      ],
      "execution_count": null,
      "outputs": []
    },
    {
      "cell_type": "code",
      "metadata": {
        "colab": {
          "base_uri": "https://localhost:8080/",
          "height": 279
        },
        "id": "2mbxr_qzceLq",
        "outputId": "c0b15e96-637e-43e6-b12d-33a0a36eb951"
      },
      "source": [
        "import numpy as np\n",
        "\n",
        "fid, ax = plt.subplots()\n",
        "\n",
        "# 散布図　クラスタ１\n",
        "ax.scatter(X[y_km == 0, 0], X[y_km == 0, 1], s=50, \n",
        "           edgecolor='black', marker='s', label='cluster 1')\n",
        "# クラスタ中心　クラスタ１\n",
        "ax.plot(np.mean(X[y_km == 0, 0]), np.mean(X[y_km == 0, 1]),\n",
        "        marker='x', markersize=10, color='red')\n",
        "\n",
        "# 散布図　クラスタ２\n",
        "ax.scatter(X[y_km == 1, 0], X[y_km == 1, 1], s=50, \n",
        "           edgecolor='black', marker='o', label='cluster 2')\n",
        "# クラスタ中心　クラスタ２\n",
        "ax.plot(np.mean(X[y_km == 1, 0]), np.mean(X[y_km == 1, 1]),\n",
        "        marker='x', markersize=10, color='red')\n",
        "\n",
        "# 散布図　クラスタ３\n",
        "ax.scatter(X[y_km == 2, 0], X[y_km == 2, 1], s=50, \n",
        "           edgecolor='black', marker='v', label='cluster 3')\n",
        "# クラスタ中心　クラスタ３\n",
        "ax.plot(np.mean(X[y_km == 2, 0]), np.mean(X[y_km == 2, 1]),\n",
        "        marker='x', markersize=10, color='red')\n",
        "\n",
        "ax.set_xlabel('Sepal Width')\n",
        "ax.set_ylabel('Petal Width')\n",
        "ax.legend()\n",
        "plt.show()"
      ],
      "execution_count": null,
      "outputs": [
        {
          "output_type": "display_data",
          "data": {
            "image/png": "[encoded data removed]",
            "text/plain": [
              "<Figure size 432x288 with 1 Axes>"
            ]
          },
          "metadata": {
            "tags": [],
            "needs_background": "light"
          }
        }
      ]
    },
    {
      "cell_type": "markdown",
      "metadata": {
        "id": "aVnfco9DfSNv"
      },
      "source": [
        "### ●階層的クラスタリング"
      ]
    },
    {
      "cell_type": "markdown",
      "metadata": {
        "id": "P6r2FoE8gC4m"
      },
      "source": [
        "・凝集型　似ているデータで小さなクラスタ→最終的に１つのクラスタ  \n",
        "・分割型　最初に全てのデータが１つのクラスタ→順次クラスタを分割していく"
      ]
    },
    {
      "cell_type": "code",
      "metadata": {
        "colab": {
          "base_uri": "https://localhost:8080/"
        },
        "id": "0jfDy_-we0Ot",
        "outputId": "3575e1b8-1912-4760-c6f5-1fdb358c92f4"
      },
      "source": [
        "# clusterモジュール　Agglomerativeクラス\n",
        "# ユークリッド距離\n",
        "# 最長距離法　２つのクラスタをまとめるときに、各クラスタに属するデータのうち最も遠い距離をクラスタ間の距離とする\n",
        "# 最終的にクラスタ数３の場合を抽出\n",
        "\n",
        "from sklearn.cluster import AgglomerativeClustering\n",
        "\n",
        "ac = AgglomerativeClustering(n_clusters=3, affinity='euclidean', linkage='complete')\n",
        "\n",
        "labels = ac.fit_predict(X)\n",
        "labels"
      ],
      "execution_count": null,
      "outputs": [
        {
          "output_type": "execute_result",
          "data": {
            "text/plain": [
              "array([1, 1, 1, 1, 1, 1, 1, 1, 1, 1, 1, 1, 1, 1, 1, 1, 1, 1, 1, 1, 1, 1,\n",
              "       1, 1, 1, 1, 1, 1, 1, 1, 1, 1, 1, 1, 1, 1, 1, 1, 1, 1, 1, 1, 1, 1,\n",
              "       1, 1, 1, 1, 1, 1, 2, 2, 2, 0, 2, 0, 2, 0, 2, 0, 0, 0, 0, 2, 0, 2,\n",
              "       0, 0, 2, 0, 2, 0, 2, 2, 2, 2, 2, 2, 2, 0, 0, 0, 0, 2, 0, 2, 2, 2,\n",
              "       0, 0, 0, 2, 0, 0, 0, 0, 0, 2, 0, 0])"
            ]
          },
          "metadata": {
            "tags": []
          },
          "execution_count": 9
        }
      ]
    },
    {
      "cell_type": "code",
      "metadata": {
        "id": "xl7N-RFpid9t"
      },
      "source": [],
      "execution_count": null,
      "outputs": []
    },
    {
      "cell_type": "markdown",
      "metadata": {
        "id": "Hpfvk9i5illk"
      },
      "source": [
        "樹形図（デンドログラム）"
      ]
    },
    {
      "cell_type": "code",
      "metadata": {
        "colab": {
          "base_uri": "https://localhost:8080/",
          "height": 1000
        },
        "id": "VfmGlybPixfH",
        "outputId": "8532eac1-9127-4a57-e1ef-9719a54d3010"
      },
      "source": [
        "import numpy as np\n",
        "from scipy.cluster.hierarchy import dendrogram\n",
        "\n",
        "# 子クラスタとの関係を抽出\n",
        "children = ac.children_\n",
        "# クラスタ間の距離を抽出\n",
        "distance = np.arange(children.shape[0])\n",
        "# 各データの観測番号\n",
        "no_of_observations = np.arange(2, children.shape[0]+2)\n",
        "# 子クラスタ、クラスタ間の距離、観測番号を列方向に結合\n",
        "linkage_matrix = np.hstack((children,\n",
        "                            distance[:, np.newaxis],\n",
        "                            no_of_observations[:, np.newaxis])).astype(float)\n",
        "# 樹形図をプロット\n",
        "fig, ax = plt.subplots(figsize=(15,3), dpi=300)\n",
        "dendrogram(linkage_matrix, labels=np.arange(100), leaf_font_size=8, color_threshold=np.inf)\n",
        "plt.show()\n",
        "\n",
        "print(children)\n",
        "print(distance)\n",
        "print(no_of_observations)\n",
        "print(linkage_matrix)\n"
      ],
      "execution_count": null,
      "outputs": [
        {
          "output_type": "display_data",
          "data": {
            "image/png": "[encoded data removed]",
            "text/plain": [
              "<Figure size 4500x900 with 1 Axes>"
            ]
          },
          "metadata": {
            "tags": [],
            "needs_background": "light"
          }
        },
        {
          "output_type": "stream",
          "text": [
            "[[  0  17]\n",
            " [  1  37]\n",
            " [ 12  45]\n",
            " [  4  49]\n",
            " [  6  47]\n",
            " [  5  20]\n",
            " [  9  34]\n",
            " [ 19  21]\n",
            " [ 39 107]\n",
            " [ 38  42]\n",
            " [ 10  31]\n",
            " [ 11  30]\n",
            " [ 27  32]\n",
            " [ 25  26]\n",
            " [ 43 113]\n",
            " [ 53  89]\n",
            " [ 95  96]\n",
            " [ 78  85]\n",
            " [ 63  73]\n",
            " [101 103]\n",
            " [  7 106]\n",
            " [ 41 109]\n",
            " [ 16  36]\n",
            " [ 48 112]\n",
            " [ 46 114]\n",
            " [ 29 111]\n",
            " [ 57  93]\n",
            " [ 80  81]\n",
            " [ 67  99]\n",
            " [ 62  71]\n",
            " [ 54  58]\n",
            " [  3 104]\n",
            " [100 108]\n",
            " [ 35  40]\n",
            " [ 82  92]\n",
            " [ 88  94]\n",
            " [ 55  66]\n",
            " [ 91 118]\n",
            " [ 65  75]\n",
            " [ 84  90]\n",
            " [ 68  87]\n",
            " [ 76  86]\n",
            " [  2 102]\n",
            " [  8 121]\n",
            " [ 33 122]\n",
            " [ 23 124]\n",
            " [ 28 123]\n",
            " [119 120]\n",
            " [ 69 115]\n",
            " [116 128]\n",
            " [ 64  79]\n",
            " [ 15  18]\n",
            " [105 110]\n",
            " [ 74  97]\n",
            " [ 51 140]\n",
            " [ 56  72]\n",
            " [132 147]\n",
            " [ 60 126]\n",
            " [117 137]\n",
            " [ 50  52]\n",
            " [131 142]\n",
            " [ 61 149]\n",
            " [130 138]\n",
            " [153 154]\n",
            " [ 24  44]\n",
            " [127 148]\n",
            " [136 139]\n",
            " [141 159]\n",
            " [ 70 158]\n",
            " [ 13  22]\n",
            " [125 160]\n",
            " [133 156]\n",
            " [129 134]\n",
            " [145 146]\n",
            " [135 161]\n",
            " [151 152]\n",
            " [ 59 165]\n",
            " [ 14 144]\n",
            " [ 77 167]\n",
            " [143 169]\n",
            " [ 83 155]\n",
            " [171 173]\n",
            " [ 98 157]\n",
            " [162 163]\n",
            " [172 174]\n",
            " [168 180]\n",
            " [175 177]\n",
            " [150 176]\n",
            " [170 179]\n",
            " [164 181]\n",
            " [166 184]\n",
            " [178 183]\n",
            " [187 190]\n",
            " [185 191]\n",
            " [188 189]\n",
            " [186 194]\n",
            " [182 192]\n",
            " [193 196]\n",
            " [195 197]]\n",
            "[ 0  1  2  3  4  5  6  7  8  9 10 11 12 13 14 15 16 17 18 19 20 21 22 23\n",
            " 24 25 26 27 28 29 30 31 32 33 34 35 36 37 38 39 40 41 42 43 44 45 46 47\n",
            " 48 49 50 51 52 53 54 55 56 57 58 59 60 61 62 63 64 65 66 67 68 69 70 71\n",
            " 72 73 74 75 76 77 78 79 80 81 82 83 84 85 86 87 88 89 90 91 92 93 94 95\n",
            " 96 97 98]\n",
            "[  2   3   4   5   6   7   8   9  10  11  12  13  14  15  16  17  18  19\n",
            "  20  21  22  23  24  25  26  27  28  29  30  31  32  33  34  35  36  37\n",
            "  38  39  40  41  42  43  44  45  46  47  48  49  50  51  52  53  54  55\n",
            "  56  57  58  59  60  61  62  63  64  65  66  67  68  69  70  71  72  73\n",
            "  74  75  76  77  78  79  80  81  82  83  84  85  86  87  88  89  90  91\n",
            "  92  93  94  95  96  97  98  99 100]\n",
            "[[  0.  17.   0.   2.]\n",
            " [  1.  37.   1.   3.]\n",
            " [ 12.  45.   2.   4.]\n",
            " [  4.  49.   3.   5.]\n",
            " [  6.  47.   4.   6.]\n",
            " [  5.  20.   5.   7.]\n",
            " [  9.  34.   6.   8.]\n",
            " [ 19.  21.   7.   9.]\n",
            " [ 39. 107.   8.  10.]\n",
            " [ 38.  42.   9.  11.]\n",
            " [ 10.  31.  10.  12.]\n",
            " [ 11.  30.  11.  13.]\n",
            " [ 27.  32.  12.  14.]\n",
            " [ 25.  26.  13.  15.]\n",
            " [ 43. 113.  14.  16.]\n",
            " [ 53.  89.  15.  17.]\n",
            " [ 95.  96.  16.  18.]\n",
            " [ 78.  85.  17.  19.]\n",
            " [ 63.  73.  18.  20.]\n",
            " [101. 103.  19.  21.]\n",
            " [  7. 106.  20.  22.]\n",
            " [ 41. 109.  21.  23.]\n",
            " [ 16.  36.  22.  24.]\n",
            " [ 48. 112.  23.  25.]\n",
            " [ 46. 114.  24.  26.]\n",
            " [ 29. 111.  25.  27.]\n",
            " [ 57.  93.  26.  28.]\n",
            " [ 80.  81.  27.  29.]\n",
            " [ 67.  99.  28.  30.]\n",
            " [ 62.  71.  29.  31.]\n",
            " [ 54.  58.  30.  32.]\n",
            " [  3. 104.  31.  33.]\n",
            " [100. 108.  32.  34.]\n",
            " [ 35.  40.  33.  35.]\n",
            " [ 82.  92.  34.  36.]\n",
            " [ 88.  94.  35.  37.]\n",
            " [ 55.  66.  36.  38.]\n",
            " [ 91. 118.  37.  39.]\n",
            " [ 65.  75.  38.  40.]\n",
            " [ 84.  90.  39.  41.]\n",
            " [ 68.  87.  40.  42.]\n",
            " [ 76.  86.  41.  43.]\n",
            " [  2. 102.  42.  44.]\n",
            " [  8. 121.  43.  45.]\n",
            " [ 33. 122.  44.  46.]\n",
            " [ 23. 124.  45.  47.]\n",
            " [ 28. 123.  46.  48.]\n",
            " [119. 120.  47.  49.]\n",
            " [ 69. 115.  48.  50.]\n",
            " [116. 128.  49.  51.]\n",
            " [ 64.  79.  50.  52.]\n",
            " [ 15.  18.  51.  53.]\n",
            " [105. 110.  52.  54.]\n",
            " [ 74.  97.  53.  55.]\n",
            " [ 51. 140.  54.  56.]\n",
            " [ 56.  72.  55.  57.]\n",
            " [132. 147.  56.  58.]\n",
            " [ 60. 126.  57.  59.]\n",
            " [117. 137.  58.  60.]\n",
            " [ 50.  52.  59.  61.]\n",
            " [131. 142.  60.  62.]\n",
            " [ 61. 149.  61.  63.]\n",
            " [130. 138.  62.  64.]\n",
            " [153. 154.  63.  65.]\n",
            " [ 24.  44.  64.  66.]\n",
            " [127. 148.  65.  67.]\n",
            " [136. 139.  66.  68.]\n",
            " [141. 159.  67.  69.]\n",
            " [ 70. 158.  68.  70.]\n",
            " [ 13.  22.  69.  71.]\n",
            " [125. 160.  70.  72.]\n",
            " [133. 156.  71.  73.]\n",
            " [129. 134.  72.  74.]\n",
            " [145. 146.  73.  75.]\n",
            " [135. 161.  74.  76.]\n",
            " [151. 152.  75.  77.]\n",
            " [ 59. 165.  76.  78.]\n",
            " [ 14. 144.  77.  79.]\n",
            " [ 77. 167.  78.  80.]\n",
            " [143. 169.  79.  81.]\n",
            " [ 83. 155.  80.  82.]\n",
            " [171. 173.  81.  83.]\n",
            " [ 98. 157.  82.  84.]\n",
            " [162. 163.  83.  85.]\n",
            " [172. 174.  84.  86.]\n",
            " [168. 180.  85.  87.]\n",
            " [175. 177.  86.  88.]\n",
            " [150. 176.  87.  89.]\n",
            " [170. 179.  88.  90.]\n",
            " [164. 181.  89.  91.]\n",
            " [166. 184.  90.  92.]\n",
            " [178. 183.  91.  93.]\n",
            " [187. 190.  92.  94.]\n",
            " [185. 191.  93.  95.]\n",
            " [188. 189.  94.  96.]\n",
            " [186. 194.  95.  97.]\n",
            " [182. 192.  96.  98.]\n",
            " [193. 196.  97.  99.]\n",
            " [195. 197.  98. 100.]]\n"
          ],
          "name": "stdout"
        }
      ]
    },
    {
      "cell_type": "code",
      "metadata": {
        "id": "97pq89KXkx3y"
      },
      "source": [],
      "execution_count": null,
      "outputs": []
    }
  ]
}